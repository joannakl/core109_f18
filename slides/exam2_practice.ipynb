{
 "cells": [
  {
   "cell_type": "code",
   "execution_count": 15,
   "metadata": {},
   "outputs": [
    {
     "name": "stdout",
     "output_type": "stream",
     "text": [
      "[28, 32, 35, 49, 50, 51, 54, 65, 72, 87, 98]\n",
      "51\n"
     ]
    }
   ],
   "source": [
    "# calculate the median of this list \n",
    "nums = [35, 28, 65, 51, 49, 72,50, 98, 87, 54, 32]\n",
    "\n",
    "# sort the list \n",
    "nums.sort() \n",
    "print(nums)\n",
    "\n",
    "if len(nums) % 2 == 1 : \n",
    "# for odd length lists \n",
    "    median = nums [ len(nums)//2  ]\n",
    "else : \n",
    "# for even length lists \n",
    "    med1 = len(nums)//2\n",
    "    med2 = len(nums)//2 -1 \n",
    "    median = (nums[med1] + nums[med2])/2 \n",
    "\n",
    "print (median)"
   ]
  },
  {
   "cell_type": "code",
   "execution_count": 20,
   "metadata": {},
   "outputs": [
    {
     "name": "stdout",
     "output_type": "stream",
     "text": [
      "Enter a positive number 28\n",
      "perfect\n"
     ]
    }
   ],
   "source": [
    "#perfect number test \n",
    "\n",
    "sum = 0\n",
    "num = int(input(\"Enter a positive number \"))\n",
    "\n",
    "while num < 0 : \n",
    "    num = int (input(\"Not positive, try again: \"))\n",
    "\n",
    "for i in range (1,num//2+1) :\n",
    "    if num%i == 0:  #test if i is a divisor of num \n",
    "        sum = sum + i\n",
    "    \n",
    "if sum == num : \n",
    "    print(\"perfect\")\n",
    "else:\n",
    "    print (\"not perfect \")\n"
   ]
  },
  {
   "cell_type": "code",
   "execution_count": 3,
   "metadata": {},
   "outputs": [
    {
     "name": "stdout",
     "output_type": "stream",
     "text": [
      "9.910712498212337\n"
     ]
    }
   ],
   "source": [
    "#standard deviation \n",
    "\n",
    "grades=[65, 70, 75, 80, 85, 90, 69, 95, 88]\n",
    "\n",
    "# find the average\n",
    "ave = sum(grades)/ len(grades)\n",
    "sum_sq = 0\n",
    "# for each value calculate the difference between average and the value \n",
    "# then the difference is squared and the squares added together \n",
    "for grade in grades: \n",
    "    sum_sq = sum_sq + ( grade - ave)**2 \n",
    "    \n",
    "\n",
    "\n",
    "# take the square root of the sum and divide by the number of values \n",
    "std = (sum_sq / len(grades))**(0.5)\n",
    "\n",
    "print (std)"
   ]
  },
  {
   "cell_type": "code",
   "execution_count": 8,
   "metadata": {},
   "outputs": [
    {
     "name": "stdout",
     "output_type": "stream",
     "text": [
      "it takes  11 years\n"
     ]
    }
   ],
   "source": [
    "interestA = 0.02\n",
    "interestB = 0.01\n",
    "bonus = 100\n",
    "initial = 1000 \n",
    "\n",
    "balanceA = initial \n",
    "balanceB = initial + bonus \n",
    "year = 1\n",
    "\n",
    "while balanceA < balanceB : \n",
    "    balanceA = initial * (1+interestA)** year\n",
    "    balanceB = (initial+bonus) * (1+interestB)** year \n",
    "    year = year+1\n",
    "    \n",
    "print(\"it takes \" , year, \"years\")    \n",
    "    \n",
    "    "
   ]
  },
  {
   "cell_type": "code",
   "execution_count": 7,
   "metadata": {},
   "outputs": [
    {
     "name": "stdout",
     "output_type": "stream",
     "text": [
      "A - 4\n",
      "B - 5\n",
      "C - 2\n",
      "D - 1\n",
      "F - 1\n"
     ]
    }
   ],
   "source": [
    "grades = [97, 89, 76, 58, 87, 79, 82, 91, 95, 69, 88, 90, 80 ]\n",
    "\n",
    "\n",
    "countA = 0\n",
    "countB = 0\n",
    "\n",
    "for grade in grades: \n",
    "    if grade >= 90 :\n",
    "        countA = countA + 1 \n",
    "    elif grade >= 80 :\n",
    "        countB = countB + 1 \n",
    "print(\"A -\", countA)\n",
    "print(\"B -\", countB)\n",
    "        \n",
    "        \n",
    "        \n",
    "        "
   ]
  },
  {
   "cell_type": "code",
   "execution_count": null,
   "metadata": {},
   "outputs": [],
   "source": []
  }
 ],
 "metadata": {
  "kernelspec": {
   "display_name": "Python 3",
   "language": "python",
   "name": "python3"
  },
  "language_info": {
   "codemirror_mode": {
    "name": "ipython",
    "version": 3
   },
   "file_extension": ".py",
   "mimetype": "text/x-python",
   "name": "python",
   "nbconvert_exporter": "python",
   "pygments_lexer": "ipython3",
   "version": "3.6.5"
  }
 },
 "nbformat": 4,
 "nbformat_minor": 2
}
