{
 "cells": [
  {
   "cell_type": "markdown",
   "metadata": {
    "slideshow": {
     "slide_type": "slide"
    }
   },
   "source": [
    "# For Loops (or count controlled repetition)\n",
    "\n",
    "\n",
    "## CORE-UA 109.01, Joanna Klukowska  <br>\n",
    "adapted from slides for CSCI-UA.002 by D. Engle, C. Kapp and J. Versoza"
   ]
  },
  {
   "cell_type": "markdown",
   "metadata": {
    "slideshow": {
     "slide_type": "slide"
    }
   },
   "source": [
    "Before we look at loops, let's go back to if statements for a minute "
   ]
  },
  {
   "cell_type": "code",
   "execution_count": null,
   "metadata": {
    "slideshow": {
     "slide_type": "fragment"
    }
   },
   "outputs": [],
   "source": [
    "num1 = 5\n",
    "num2 = 17\n",
    "num3 = 8\n",
    "\n",
    "if num1 < num2  < num3 :\n",
    "    print (num1, \"is the smallest\") "
   ]
  },
  {
   "cell_type": "markdown",
   "metadata": {
    "slideshow": {
     "slide_type": "slide"
    }
   },
   "source": [
    "# let's start with an example\n",
    "\n",
    "Write a program that prints numbers from 0 to 9, each on a new line."
   ]
  },
  {
   "cell_type": "code",
   "execution_count": null,
   "metadata": {
    "slideshow": {
     "slide_type": "fragment"
    }
   },
   "outputs": [],
   "source": [
    "print(\"0\")\n",
    "print(\"1\")\n",
    "print(\"2\")\n",
    "print(\"3\")\n",
    "print(\"4\")\n",
    "print(\"5\")\n",
    "print(\"6\")\n",
    "print(\"7\")\n",
    "print(\"8\")\n",
    "print(\"9\")"
   ]
  },
  {
   "cell_type": "code",
   "execution_count": null,
   "metadata": {
    "slideshow": {
     "slide_type": "fragment"
    }
   },
   "outputs": [],
   "source": [
    "for i in range(0,10,1):\n",
    "    print(i) "
   ]
  },
  {
   "cell_type": "markdown",
   "metadata": {
    "slideshow": {
     "slide_type": "fragment"
    }
   },
   "source": [
    "- which of the two programs do you prefer?\n",
    "\n",
    "- which of them is easier to write?\n",
    "\n",
    "- would your answer be the same if you needed to write a program\n",
    "that printed values from 0 to 1000?"
   ]
  },
  {
   "cell_type": "markdown",
   "metadata": {
    "slideshow": {
     "slide_type": "slide"
    }
   },
   "source": [
    "# `for` loop statement"
   ]
  },
  {
   "cell_type": "markdown",
   "metadata": {
    "slideshow": {
     "slide_type": "subslide"
    }
   },
   "source": [
    "# examples of `for` loops"
   ]
  },
  {
   "cell_type": "code",
   "execution_count": null,
   "metadata": {
    "slideshow": {
     "slide_type": "fragment"
    }
   },
   "outputs": [],
   "source": [
    "for num in [1,2,3,4,5]:\n",
    "    print (\"This will print 5 times\")"
   ]
  },
  {
   "cell_type": "code",
   "execution_count": null,
   "metadata": {
    "slideshow": {
     "slide_type": "fragment"
    }
   },
   "outputs": [],
   "source": [
    "primes = [2,3,5,7,11,13,17,19,23,29]\n",
    "num = 4\n",
    "for prime in primes:\n",
    "    #print (prime)\n",
    "    print (num, \"*\", prime, \"=\", num*prime)"
   ]
  },
  {
   "cell_type": "code",
   "execution_count": null,
   "metadata": {},
   "outputs": [],
   "source": [
    "names = [\"Jason\", \"Joe\", \"Joanna\", \"Jane\", \"Jake\"]\n",
    "\n",
    "\n",
    "for name in names:\n",
    "    print (\"Hello \", name, \"!\", sep=\"\") "
   ]
  },
  {
   "cell_type": "code",
   "execution_count": null,
   "metadata": {},
   "outputs": [],
   "source": []
  },
  {
   "cell_type": "markdown",
   "metadata": {
    "slideshow": {
     "slide_type": "subslide"
    }
   },
   "source": [
    "# examples of `for` loops"
   ]
  },
  {
   "cell_type": "code",
   "execution_count": null,
   "metadata": {
    "slideshow": {
     "slide_type": "fragment"
    }
   },
   "outputs": [],
   "source": [
    "available_toppings = ['mushrooms', 'olives', 'green peppers',\n",
    "        'pepperoni', 'pinapple', 'extra cheese']\n",
    "\n",
    "requested_toppings = ['mushrooms', 'sausage', 'Olives']\n",
    "\n",
    "for topping in requested_toppings:\n",
    "    if topping in available_toppings :\n",
    "        print ('Adding', topping, '.')\n",
    "    else:\n",
    "        print (\"Sorry, we don't have\", topping, \".\")\n",
    "\n",
    "print(\"\\nFinished making your pizza.\\nEnjoy!\")"
   ]
  },
  {
   "cell_type": "markdown",
   "metadata": {
    "slideshow": {
     "slide_type": "subslide"
    }
   },
   "source": [
    "<img src=\"https://cs.nyu.edu/~joannakl/core109_f18/slides/week3/img/for_loop.png\" width=80% alt=\"for loop syntax\">\n",
    "\n",
    "\n",
    "- the statements in the loop run multiple times\n",
    "\n",
    "- each time the `variable` takes on a different value from the list\n",
    "`[value1, value2, etc]`\n",
    "\n",
    "- on the first iteration `variable` is equal to `value1`\n",
    "\n",
    "- on the second iteration `variable` is equal to `value2`\n",
    "\n",
    "- on the third iteration `variable` is equal to `etc`\n"
   ]
  },
  {
   "cell_type": "markdown",
   "metadata": {
    "slideshow": {
     "slide_type": "subslide"
    }
   },
   "source": [
    "# lists in Python\n",
    "\n",
    "__Lists__ in Python are defined by the square bracket characters `[` and `]`.\n",
    "Items in a list are separated by a comma.\n",
    "\n",
    "There are several ways of creating a __list__ in Python.\n",
    "\n",
    "- __enumeration__: simply enumerate values for the list\n",
    "inside square brackets; the values are separated by commans\n",
    "\n",
    "    - `grades = ['a', 'b', 'c', 'd', 'f']`\n",
    "    - `primes  = [2,3,5,7,11,13,17,19,23,29]`\n",
    "    - `friends = ['Alice', 'John', 'Mary'] `\n",
    "    - `random_things = [3.14, 'quiz3', 45, 'long weekend', 6.7]`\n",
    "\n",
    "\n",
    "\n",
    "- __return value from a function__: many functions return a list\n",
    "when called; one such example is the `range()` function\n",
    "\n",
    "    - `range(0,10,1)` returns `[0, 1, 2, 3, 4, 5, 6, 7, 8, 8]`\n",
    "    - `range(0,20,2)` returns `[0, 2, 4, 6, 8]`\n",
    "    - `range(10)` returns `[0, 1, 2, 3, 4, 5, 6, 7, 8, 8]`\n",
    "    - `range(-10, 11, 5)` returns `[-10, -5, 0, 5, 10]`"
   ]
  },
  {
   "cell_type": "markdown",
   "metadata": {
    "slideshow": {
     "slide_type": "fragment"
    }
   },
   "source": [
    "__What do you think the rules for this `range()` function are?__"
   ]
  },
  {
   "cell_type": "markdown",
   "metadata": {
    "slideshow": {
     "slide_type": "subslide"
    }
   },
   "source": [
    "# `range()` function\n",
    "\n",
    "- the __`range()`__ function lets you dynamically generate lists based on\n",
    "criteria that you define\n",
    "\n",
    "- well, technically `range()` function returns an iterable\n",
    "not a list (but for now, we can treat them as equivalent)\n",
    "\n",
    "\n"
   ]
  },
  {
   "cell_type": "markdown",
   "metadata": {
    "slideshow": {
     "slide_type": "subslide"
    }
   },
   "source": [
    "# `range()` function\n",
    "\n",
    "- when __called with one argument `range( n )`__ it returns a list that\n",
    "contains all the numbers starting from `0` up to (but not including) `n`\n",
    "    - `range(5)` returns `[0, 1, 2, 3, 4]`\n",
    "    - `range(-5)` returns `[]` - an empty list"
   ]
  },
  {
   "cell_type": "markdown",
   "metadata": {
    "slideshow": {
     "slide_type": "fragment"
    }
   },
   "source": [
    "- when __called with two argumets `range( n1, n2 )`__ it returns\n",
    "a list that contains all the numbers starting from `n1` up to\n",
    "(but not including) `n2`\n",
    "    - `range(2,7)` returns `[2, 3, 4, 5, 6]`\n",
    "    - `range(-99, -95)` returns `[-99, -98, -97, -96]`"
   ]
  },
  {
   "cell_type": "markdown",
   "metadata": {
    "slideshow": {
     "slide_type": "fragment"
    }
   },
   "source": [
    "- when __called with three arguments `range(n1, n2, diff)`__ it returns\n",
    "a list that contains all the numbers starting from `n1` up to\n",
    "(but not including) `n2` in increments of `diff`\n",
    "    - `range(-10, 11, 5)` returns `[-10, -5, 0, 5, 10]`\n",
    "    - `range(0, 10, 3)` returns `[0, 3, 6, 9]`\n",
    "    - `range(1,1000,100)` returns `[1, 101, 201, 301, 401, 501, 601, 701, 801, 901]`\n",
    "    - `range(0, -10, -2)` returns `[0, -2, -4, -6, -8]`"
   ]
  },
  {
   "cell_type": "markdown",
   "metadata": {
    "slideshow": {
     "slide_type": "fragment"
    }
   },
   "source": [
    "- when __called with four arguments__ ...\n",
    "    - it produces an error message: <br>\n",
    "    `TypeError: range expected at most 3 arguments, got 4 `\n",
    "    "
   ]
  },
  {
   "cell_type": "markdown",
   "metadata": {
    "slideshow": {
     "slide_type": "subslide"
    }
   },
   "source": [
    "# try it yourself\n",
    "\n",
    "\n",
    "\n",
    "<span>\n",
    "- write a program that calculates the squares of the numbers between 1\n",
    "and 10\n",
    "- the output of this program should be\n",
    "\n",
    "```\n",
    "num     num^2\n",
    "=============\n",
    "1        1\n",
    "2        4\n",
    "3        9\n",
    "4        16\n",
    "5        25\n",
    "6        36\n",
    "7        49\n",
    "8        64\n",
    "9        81\n",
    "10       100\n",
    "```\n",
    "</span>\n",
    "\n",
    "\n",
    "<span >\n",
    "\n",
    "- write a program that calculates the cubes of the even numbers starting\n",
    "at 20 and going down to 0\n",
    "- the output of this program should be\n",
    "\n",
    "```\n",
    "num      num^3\n",
    "==============\n",
    "20       8000\n",
    "18       5832\n",
    "16       4096\n",
    "14       2744\n",
    "12       1728\n",
    "10       1000\n",
    "8        512\n",
    "6        216\n",
    "4        64\n",
    "2        8\n",
    "0        0\n",
    "```\n",
    "</span> "
   ]
  },
  {
   "cell_type": "markdown",
   "metadata": {
    "slideshow": {
     "slide_type": "subslide"
    }
   },
   "source": [
    "# mixing loops and conditionals\n",
    "\n",
    "- what will the following program produce?"
   ]
  },
  {
   "cell_type": "code",
   "execution_count": 2,
   "metadata": {
    "slideshow": {
     "slide_type": "fragment"
    }
   },
   "outputs": [
    {
     "name": "stdout",
     "output_type": "stream",
     "text": [
      "1 is odd\n",
      "2 is odd\n",
      "3 is odd\n",
      "4 is odd\n",
      "5 is odd\n",
      "6 is odd\n",
      "7 is odd\n",
      "8 is odd\n",
      "9 is odd\n",
      "10 is odd\n"
     ]
    }
   ],
   "source": [
    "for num in range(1,11,1):\n",
    "    if num % 2 == 0 :\n",
    "        print (num, \"is even\")\n",
    "    else :\n",
    "        print (num, \"is odd\")"
   ]
  },
  {
   "cell_type": "markdown",
   "metadata": {
    "slideshow": {
     "slide_type": "subslide"
    }
   },
   "source": [
    "# nesting loops\n",
    "\n",
    "__nested loops__ are loops that are inside other loops\n",
    "\n",
    "- what will the following program produce?\n"
   ]
  },
  {
   "cell_type": "code",
   "execution_count": 11,
   "metadata": {
    "slideshow": {
     "slide_type": "fragment"
    }
   },
   "outputs": [
    {
     "name": "stdout",
     "output_type": "stream",
     "text": [
      "    |\t   0\t  10\t  20\t  30\t  40\t  50\t  60\t  70\t  80\t  90\t 100\t\n",
      "-----------------------------------------------------------------------------------------------\n",
      "  1 |\t   0\t  10\t  20\t  30\t  40\t  50\t  60\t  70\t  80\t  90\t 100\t\n",
      "  2 |\t   0\t  20\t  40\t  60\t  80\t 100\t 120\t 140\t 160\t 180\t 200\t\n",
      "  3 |\t   0\t  30\t  60\t  90\t 120\t 150\t 180\t 210\t 240\t 270\t 300\t\n",
      "  4 |\t   0\t  40\t  80\t 120\t 160\t 200\t 240\t 280\t 320\t 360\t 400\t\n",
      "  5 |\t   0\t  50\t 100\t 150\t 200\t 250\t 300\t 350\t 400\t 450\t 500\t\n",
      "  6 |\t   0\t  60\t 120\t 180\t 240\t 300\t 360\t 420\t 480\t 540\t 600\t\n",
      "  7 |\t   0\t  70\t 140\t 210\t 280\t 350\t 420\t 490\t 560\t 630\t 700\t\n",
      "  8 |\t   0\t  80\t 160\t 240\t 320\t 400\t 480\t 560\t 640\t 720\t 800\t\n",
      "  9 |\t   0\t  90\t 180\t 270\t 360\t 450\t 540\t 630\t 720\t 810\t 900\t\n",
      " 10 |\t   0\t 100\t 200\t 300\t 400\t 500\t 600\t 700\t 800\t 900\t1000\t\n"
     ]
    }
   ],
   "source": [
    "#horizontal heading \n",
    "print (\"    |\\t\", end=\"\")\n",
    "for num2 in range (0,101,10):\n",
    "        print (    format(num2,'4d')     ,end=\"\\t\")\n",
    "print()\n",
    "print ('-'*95)\n",
    "\n",
    "for num1 in range(1,11,1):\n",
    "    print (format(num1,'3d'), \"|\\t\", end=\"\") \n",
    "    for num2 in range (0,101,10):\n",
    "        print ( format(num1*num2,'4d'),end=\"\\t\")\n",
    "    print()"
   ]
  },
  {
   "cell_type": "markdown",
   "metadata": {
    "slideshow": {
     "slide_type": "fragment"
    }
   },
   "source": [
    "\n",
    "- it's a multiplication table (although the labels for rows\n",
    "    and columns are missing)\n",
    "- __challenge:__ modify the program to add labels to each row and column"
   ]
  },
  {
   "cell_type": "code",
   "execution_count": 19,
   "metadata": {
    "slideshow": {
     "slide_type": "slide"
    }
   },
   "outputs": [
    {
     "name": "stdout",
     "output_type": "stream",
     "text": [
      "      1782\n",
      "     1,782\n",
      "1782      \n",
      "0000001782\n"
     ]
    }
   ],
   "source": [
    "num = 1782\n",
    "different_formats = [ format (num, '10d'), \n",
    "                      format(num, '10,d'), \n",
    "                      format(num, '<10d'), \n",
    "                      format(num,'010d') \n",
    "                    ]\n",
    "\n",
    "for str in different_formats: \n",
    "    print(str)\n"
   ]
  },
  {
   "cell_type": "code",
   "execution_count": 26,
   "metadata": {
    "slideshow": {
     "slide_type": "slide"
    }
   },
   "outputs": [
    {
     "name": "stdout",
     "output_type": "stream",
     "text": [
      "$34.99\n"
     ]
    }
   ],
   "source": [
    "num = 34.989\n",
    "\n",
    "print(  \"$\", format( num , '.2f'), sep=\"\")\n"
   ]
  },
  {
   "cell_type": "markdown",
   "metadata": {
    "slideshow": {
     "slide_type": "subslide"
    }
   },
   "source": [
    "# using loops to _accumulate_ values\n",
    "\n",
    "What do you think this program does?"
   ]
  },
  {
   "cell_type": "code",
   "execution_count": 40,
   "metadata": {
    "slideshow": {
     "slide_type": "fragment"
    }
   },
   "outputs": [
    {
     "name": "stdout",
     "output_type": "stream",
     "text": [
      "2550\n"
     ]
    }
   ],
   "source": [
    "sum_of_values = 0\n",
    "\n",
    "for num in range(0,101,2):\n",
    "    sum_of_values = sum_of_values + num\n",
    "\n",
    "print(sum_of_values)\n",
    "    "
   ]
  },
  {
   "cell_type": "markdown",
   "metadata": {
    "slideshow": {
     "slide_type": "fragment"
    }
   },
   "source": [
    "- The program computes the sum of all the numbers from 1 to 100.\n",
    "\n",
    "- We will often talk about variable like `sum` as an _accumulator_\n",
    "because we _accumulate_ all the values from 1 to 100 in `sum`"
   ]
  },
  {
   "cell_type": "markdown",
   "metadata": {
    "slideshow": {
     "slide_type": "subslide"
    }
   },
   "source": [
    "# user provided number of repeats\n",
    "\n",
    "- the user can determine the number of times some task is repeated"
   ]
  },
  {
   "cell_type": "code",
   "execution_count": 47,
   "metadata": {
    "slideshow": {
     "slide_type": "fragment"
    }
   },
   "outputs": [
    {
     "name": "stdout",
     "output_type": "stream",
     "text": [
      "How tall do you want this ladder to be?1\n",
      "========\n",
      "|      |\n"
     ]
    }
   ],
   "source": [
    "height = int(input('How tall do you want this ladder to be?'))\n",
    "\n",
    "for i in range(height):\n",
    "\tprint('========\\n|      |')"
   ]
  },
  {
   "cell_type": "markdown",
   "metadata": {
    "slideshow": {
     "slide_type": "fragment"
    }
   },
   "source": [
    "- the loop is repeated a different number of time\n",
    "dending on the user's response\n",
    "\n",
    "\n",
    "- Can you think of how we could write a program that performs the same task without using a loop?\n",
    "\n"
   ]
  },
  {
   "cell_type": "markdown",
   "metadata": {
    "slideshow": {
     "slide_type": "slide"
    }
   },
   "source": [
    "# programming challenges"
   ]
  },
  {
   "cell_type": "markdown",
   "metadata": {
    "slideshow": {
     "slide_type": "subslide"
    }
   },
   "source": [
    "# prime numbers?\n",
    "\n",
    "Write a program that prompts the user for a positive number.\n",
    "The program should determine if the number is a prime.\n",
    "\n",
    "__Prime__ numbers are the numbers that are divisible only by 1 and\n",
    "itself. For example 7 is prime since the only numbers that divide it\n",
    "(without a remainder) are 1 and 7:\n",
    "\n",
    "```\n",
    "7 / 1 = 7.0             <===  no remainder\n",
    "7 / 2 = 3.5\n",
    "7 / 3 = 2.33333333333\n",
    "7 / 4 = 1.75\n",
    "7 / 5 = 1.4\n",
    "7 / 6 = 1.16666666666\n",
    "7 / 7 = 1.0             <===  no remainder\n",
    "```"
   ]
  },
  {
   "cell_type": "markdown",
   "metadata": {
    "slideshow": {
     "slide_type": "subslide"
    }
   },
   "source": [
    "# average scores\n",
    "\n",
    "Write a program that allows you to calculate average of your\n",
    "quiz grades.\n",
    "The program should prompt the user for 5 grades and then compute\n",
    "their average (add all grades together and divide by 5).\n",
    "Assume that the scores are always between 0 and 10.\n",
    "\n",
    "__Version 2__: add verification of the user input, i.e., check if the user\n",
    "entered a score between zero and 10, and if not, print an error message\n",
    "\n",
    "__Varsion 3__: ask the user how many grades there are and then prompt them for specified number of grades. Calculate the average by adding all of the grades together and dividing by the user specified number of grades "
   ]
  },
  {
   "cell_type": "markdown",
   "metadata": {
    "slideshow": {
     "slide_type": "subslide"
    }
   },
   "source": [
    "# stair steps\n",
    "\n",
    "- Write a program that prints out the following pattern of characters:\n",
    "\n",
    "```\n",
    "    ++\n",
    "    ++++\n",
    "    ++++++\n",
    "    ++++++++\n",
    "    ++++++++++\n",
    "    ++++++++++++\n",
    "```\n",
    "\n",
    "- Write a program that prints out the following pattern of characters:\n",
    "\n",
    "```\n",
    "              ++\n",
    "            ++++\n",
    "          ++++++\n",
    "        ++++++++\n",
    "      ++++++++++\n",
    "    ++++++++++++\n",
    "```\n",
    "\n",
    "- Rewrite the above programs to take the number of rows in the pattern\n",
    "from the user."
   ]
  },
  {
   "cell_type": "markdown",
   "metadata": {
    "slideshow": {
     "slide_type": "subslide"
    }
   },
   "source": [
    "# divisibility testing\n",
    "\n",
    "\n",
    "Write a program that asks the user to enter an integer.\n",
    "\n",
    "The program should then find all numbers between 1 and 10,000 that are\n",
    "evenly divisible by that number.\n",
    "\n",
    "# perfect number \n",
    "\n",
    "A __perfect__ number is a numbers that is a sum of all of its divisors (other than itself). For example, 6 is perfect, because 6 = 1 + 2 + 3 and there are no other numbers that divide 6 evenly. 8 is not a perfect number, because 8 is not equal to  1 + 2 + 4."
   ]
  },
  {
   "cell_type": "markdown",
   "metadata": {
    "slideshow": {
     "slide_type": "subslide"
    }
   },
   "source": [
    "# fizz buzz\n",
    "\n",
    "Write a program that prints out numbers 1 to 100 with the following exceptions:\n",
    "- for multiples of three, print out \"Fizz\" instead of the number\n",
    "- for multiples of five, print out \"Buzz\" instead of the number\n",
    "- for multiples of both three and five print “FizzBuzz”\n",
    "\n",
    "Example output on the next slide."
   ]
  },
  {
   "cell_type": "code",
   "execution_count": 52,
   "metadata": {},
   "outputs": [
    {
     "name": "stdout",
     "output_type": "stream",
     "text": [
      "1\n",
      "2\n",
      "Fizz\n",
      "4\n",
      "Buzz\n",
      "Fizz\n",
      "7\n",
      "8\n",
      "Fizz\n",
      "Buzz\n",
      "11\n",
      "Fizz\n",
      "13\n",
      "14\n",
      "FizzBuzz\n",
      "16\n",
      "17\n",
      "Fizz\n",
      "19\n",
      "Buzz\n",
      "Fizz\n",
      "22\n",
      "23\n",
      "Fizz\n",
      "Buzz\n",
      "26\n",
      "Fizz\n",
      "28\n",
      "29\n",
      "FizzBuzz\n",
      "31\n",
      "32\n",
      "Fizz\n",
      "34\n",
      "Buzz\n",
      "Fizz\n",
      "37\n",
      "38\n",
      "Fizz\n",
      "Buzz\n",
      "41\n",
      "Fizz\n",
      "43\n",
      "44\n",
      "FizzBuzz\n",
      "46\n",
      "47\n",
      "Fizz\n",
      "49\n",
      "Buzz\n",
      "Fizz\n",
      "52\n",
      "53\n",
      "Fizz\n",
      "Buzz\n",
      "56\n",
      "Fizz\n",
      "58\n",
      "59\n",
      "FizzBuzz\n",
      "61\n",
      "62\n",
      "Fizz\n",
      "64\n",
      "Buzz\n",
      "Fizz\n",
      "67\n",
      "68\n",
      "Fizz\n",
      "Buzz\n",
      "71\n",
      "Fizz\n",
      "73\n",
      "74\n",
      "FizzBuzz\n",
      "76\n",
      "77\n",
      "Fizz\n",
      "79\n",
      "Buzz\n",
      "Fizz\n",
      "82\n",
      "83\n",
      "Fizz\n",
      "Buzz\n",
      "86\n",
      "Fizz\n",
      "88\n",
      "89\n",
      "FizzBuzz\n",
      "91\n",
      "92\n",
      "Fizz\n",
      "94\n",
      "Buzz\n",
      "Fizz\n",
      "97\n",
      "98\n",
      "Fizz\n",
      "Buzz\n"
     ]
    }
   ],
   "source": [
    "for num in range (1, 101):\n",
    "   \n",
    "    if num % 3 == 0 and num % 5 == 0 :\n",
    "        print (\"FizzBuzz\")\n",
    "    elif num % 5 == 0 :\n",
    "        print (\"Buzz\")\n",
    "    elif num % 3 == 0 :\n",
    "        print (\"Fizz\")\n",
    "    else :\n",
    "        print(num)"
   ]
  },
  {
   "cell_type": "markdown",
   "metadata": {
    "slideshow": {
     "slide_type": "subslide"
    }
   },
   "source": [
    "# fizz buzz - output\n",
    "\n",
    "        1\n",
    "        2\n",
    "        Fizz\n",
    "        4\n",
    "        Buzz\n",
    "        Fizz\n",
    "        7\n",
    "        8\n",
    "        Fizz\n",
    "        Buzz\n",
    "        11\n",
    "        Fizz\n",
    "        13\n",
    "        14\n",
    "        FizzBuzz\n",
    "        16\n",
    "        ...\n",
    "        88\n",
    "        89\n",
    "        FizzBuzz\n",
    "        91\n",
    "        92\n",
    "        Fizz\n",
    "        94\n",
    "        Buzz\n",
    "        Fizz\n",
    "        97\n",
    "        98\n",
    "        Fizz\n",
    "        Buzz"
   ]
  }
 ],
 "metadata": {
  "celltoolbar": "Slideshow",
  "kernelspec": {
   "display_name": "Python 3",
   "language": "python",
   "name": "python3"
  },
  "language_info": {
   "codemirror_mode": {
    "name": "ipython",
    "version": 3
   },
   "file_extension": ".py",
   "mimetype": "text/x-python",
   "name": "python",
   "nbconvert_exporter": "python",
   "pygments_lexer": "ipython3",
   "version": "3.6.5"
  }
 },
 "nbformat": 4,
 "nbformat_minor": 2
}
