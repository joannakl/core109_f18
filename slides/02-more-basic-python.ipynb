{
 "cells": [
  {
   "cell_type": "markdown",
   "metadata": {
    "slideshow": {
     "slide_type": "slide"
    }
   },
   "source": [
    "# More on basic Python\n",
    "\n",
    "## CORE-UA 109.01, Joanna Klukowska \n",
    "(adapted from slides for CSCI-UA.002 by D. Engle, C. Kapp and J. Versoza)\n",
    "\n",
    "---"
   ]
  },
  {
   "cell_type": "markdown",
   "metadata": {
    "slideshow": {
     "slide_type": "slide"
    }
   },
   "source": [
    "# Quick Review "
   ]
  },
  {
   "cell_type": "markdown",
   "metadata": {
    "slideshow": {
     "slide_type": "subslide"
    }
   },
   "source": [
    "# Line endings and separators :\n",
    "\n",
    "-  the use of `end` and `sep` in `print()` function\n",
    "    - `end` changes what is printed at the end of the string \n",
    "    - `sep` changes what is printed in between different arguments \n",
    "    - can be used in the same call to the `print()` function\n",
    "    - can contain one or more characters in single or double quotes \n",
    "    \n",
    "__example__: what is printed by the following code? "
   ]
  },
  {
   "cell_type": "code",
   "execution_count": null,
   "metadata": {
    "slideshow": {
     "slide_type": "fragment"
    }
   },
   "outputs": [],
   "source": [
    "print(\"word1\", 'word2', \"word3\", sep=\" *** \", end='\\n?\\n')\n",
    "print(\"abcd\", \"efgh\", \"ijkl\", sep=' : ', end=\" END \")"
   ]
  },
  {
   "cell_type": "markdown",
   "metadata": {
    "slideshow": {
     "slide_type": "subslide"
    }
   },
   "source": [
    "# Escape sequences:\n",
    "\n",
    "- escape characters allow us to have strings containing special characters \n",
    "(i.e., characters that have normally a different meaning in Python)\n",
    "    - escape sequence starts with a backslash `\\` \n",
    "    - '\\n' - new line character \n",
    "    - '\\t' - tab character\n",
    "    - '\\\\' - backslash character\n",
    "    - '\\\"' - double quote character\n",
    "    - '\\'' - single quote character\n",
    "    - there are others, but these should be enough for a while \n",
    "    "
   ]
  },
  {
   "cell_type": "markdown",
   "metadata": {
    "slideshow": {
     "slide_type": "subslide"
    }
   },
   "source": [
    "__example__: what is printed by the following code? "
   ]
  },
  {
   "cell_type": "code",
   "execution_count": null,
   "metadata": {
    "slideshow": {
     "slide_type": "fragment"
    }
   },
   "outputs": [],
   "source": [
    "print('   /\\\\ ')\n",
    "print('   \"\"  ')\n",
    "print('  /\"\"\\\\ ')\n",
    "print('  \"\"\"\" ')\n",
    "print(' /\"\"\"\"\\\\ ')\n",
    "print(' \"\"\"\"\"\" ')\n",
    "print('   ||  ')"
   ]
  },
  {
   "cell_type": "code",
   "execution_count": null,
   "metadata": {
    "slideshow": {
     "slide_type": "subslide"
    }
   },
   "outputs": [],
   "source": [
    "print(\"   /\\\\ \")\n",
    "print(\"   \\\"\\\"  \")\n",
    "print(\"  /\\\"\\\"\\\\ \")\n",
    "print(\"  \\\"\\\"\\\"\\\" \")\n",
    "print(\" /\\\"\\\"\\\"\\\"\\\\ \")\n",
    "print(\" \\\"\\\"\\\"\\\"\\\"\\\" \")\n",
    "print(\"   ||  \")"
   ]
  },
  {
   "cell_type": "markdown",
   "metadata": {
    "slideshow": {
     "slide_type": "subslide"
    }
   },
   "source": [
    "# Type conversion and user input:\n",
    "\n",
    "- type conversions \n",
    "    - to change a piece of data from string to int, or from int to float, ... , we need to use conversion function\n",
    "    - human heads can do this without extra functions\n",
    "    - computers need to be told explicitly \n",
    "    - `int( x )` - converts a string or a number to an integer \n",
    "    - `str ( x )` - converts the argument to a string \n",
    "    - `float ( x )` - converts a string or a number to a floating point number \n",
    "\n",
    "- the `intpu()` function __ALWAYS__ returns a string \n",
    "    - convert the return value to a number if it needs to be used as a number "
   ]
  },
  {
   "cell_type": "markdown",
   "metadata": {
    "slideshow": {
     "slide_type": "slide"
    }
   },
   "source": [
    " \n",
    "\n",
    "# Data Types"
   ]
  },
  {
   "cell_type": "markdown",
   "metadata": {
    "slideshow": {
     "slide_type": "subslide"
    }
   },
   "source": [
    " \n",
    "\n",
    "# why do we need data types? \n",
    "\n",
    "- Python needs to know how to set aside memory in your computer based\n",
    "on what kind of information you want to store\n",
    "\n",
    "-  There are three basic types of data that we will be working with during\n",
    "the first half of the term\n",
    "    -  strings (character-based data)\n",
    "    -  numbers\n",
    "    -  logical Values (True / False)\n",
    "\n",
    "- For numerical types we further subdivide them into \n",
    "    - integers\n",
    "        -  whole numbers that do not contain a decimal point\n",
    "        -  abbreviated as `int` in Python\n",
    "        -  example: 5, -5, 100, 10032\n",
    "    - floating point numbers (the ones you used to call decimal)\n",
    "        -  numbers that contain a decimal point\n",
    "        -  abbreviated as `float` in Python\n",
    "        -  example: 5.0, -5.0, 100.99, 0.232132234"
   ]
  },
  {
   "cell_type": "markdown",
   "metadata": {
    "slideshow": {
     "slide_type": "subslide"
    }
   },
   "source": [
    " \n",
    "# what is the data type of each of those? \n",
    "\n",
    "- 5      \n",
    "- 5.5     \n",
    "- \"Hello\" \n",
    "- \"5.5\"  \n",
    "- 2.975   \n",
    "- 2.0  \n",
    " "
   ]
  },
  {
   "cell_type": "markdown",
   "metadata": {
    "slideshow": {
     "slide_type": "subslide"
    }
   },
   "source": [
    "# converting user data to a proper type\n",
    "\n",
    "Keep in mind that the `input()` function __ALWAYS__ returns a string (even if the user types a number). "
   ]
  },
  {
   "cell_type": "code",
   "execution_count": null,
   "metadata": {
    "slideshow": {
     "slide_type": "fragment"
    }
   },
   "outputs": [],
   "source": [
    "# ask the user for their monthly salary\n",
    "monthly_salary = input('how much do you make in a month?')\n",
    "\n",
    "# convert the salary into a float\n",
    "monthly_salary_float = float(monthly_salary)\n",
    "\n",
    "# calculate the yearly salary\n",
    "yearly_salary = monthly_salary_float * 12\n",
    "\n",
    "# print the result\n",
    "print ('that means you make $', yearly_salary, ' in a year', sep='')"
   ]
  },
  {
   "cell_type": "markdown",
   "metadata": {
    "slideshow": {
     "slide_type": "slide"
    }
   },
   "source": [
    " \n",
    "# doing math"
   ]
  },
  {
   "cell_type": "markdown",
   "metadata": {
    "slideshow": {
     "slide_type": "subslide"
    }
   },
   "source": [
    " \n",
    "\n",
    "# arithmetic operators: \n",
    "\n",
    "with numbers (whole numbers and decimal numbers) the above operators are\n",
    "used to perform standard mathematical operations:\n",
    "\n",
    "* `+  ` addition, for example `25 + 10` \n",
    "\n",
    "* `-  ` subtraction, for example `25 - 10`  \n",
    "\n",
    "* `*` multiplication, for example `25 * 10`  \n",
    "\n",
    "* `/` division, for example `25 / 10` \n",
    "\n",
    "* `//` division, for example `25 // 10` \n",
    "\n",
    "* `%` remainder/modulo, for example `25 / 10` \n",
    "\n",
    "* `**` exponentiation, for example `25 ** 10` "
   ]
  },
  {
   "cell_type": "markdown",
   "metadata": {
    "slideshow": {
     "slide_type": "subslide"
    }
   },
   "source": [
    " \n",
    "\n",
    "# division \n",
    "\n",
    "- Python contains two different division operators\n",
    "\n",
    "- `/` operator is used to calculate the floating-point result of a division\n",
    "operation (that's what we do in math) \n",
    "\n",
    "- `//` operator is used to calculate the integer result of a division\n",
    "operation \n",
    "    - essentially throwing away the remainder or a fractional part  \n",
    "    - this operation will always round down\n",
    "    \n",
    "- most times you will use the floating point division operator (`/`)"
   ]
  },
  {
   "cell_type": "markdown",
   "metadata": {
    "slideshow": {
     "slide_type": "subslide"
    }
   },
   "source": [
    " \n",
    "\n",
    "__example__"
   ]
  },
  {
   "cell_type": "markdown",
   "metadata": {
    "slideshow": {
     "slide_type": "fragment"
    }
   },
   "source": [
    "`10 / 5  = ??` <br> \n",
    "\n",
    "`10 // 5 = ??` <br> \n",
    "\n",
    "\n",
    "`10 / 4  = ??` <br> \n",
    "\n",
    "`10 // 4 = ??` <br> \n",
    "\n",
    " "
   ]
  },
  {
   "cell_type": "markdown",
   "metadata": {
    "slideshow": {
     "slide_type": "fragment"
    }
   },
   "source": [
    "`10 / 5  = 2.0` <br> \n",
    "\n",
    "`10 // 5 = 2` <br> \n",
    "\n",
    "\n",
    "`10 / 4  = 2.5` <br> \n",
    "\n",
    "`10 // 4 = 2` <br> \n",
    "\n",
    " "
   ]
  },
  {
   "cell_type": "markdown",
   "metadata": {
    "slideshow": {
     "slide_type": "subslide"
    }
   },
   "source": [
    "# remainder / modulo operator \n",
    "\n",
    "- the remainder or modulo operator (\"%\") returns the remainder portion of a division operation\n",
    "\n",
    "__example__\n",
    "\n",
    "` 7 / 2 = 3.5 `\n",
    "\n",
    "` 7 // 2  = 3 `  &nbsp;&nbsp;&nbsp;&nbsp;&nbsp;there are exactly three 2s that \"fit\" into a 7 \n",
    "\n",
    "` 7 % 2 = 1 `   &nbsp;&nbsp;&nbsp;&nbsp;1 is what is left over after we keep removing 2 from 7 as many times as we can \n",
    "\n",
    " "
   ]
  },
  {
   "cell_type": "markdown",
   "metadata": {
    "slideshow": {
     "slide_type": "subslide"
    }
   },
   "source": [
    "__exercise__  figure out the results of the following expressions \n",
    "\n",
    "`11 % 3`\n",
    "\n",
    "`15 % 4`\n",
    "\n",
    "`15 % 10`\n",
    "\n",
    "`20 % 7`\n",
    "\n",
    "`13 % 13`\n",
    "\n",
    "`5 % 1`"
   ]
  },
  {
   "cell_type": "markdown",
   "metadata": {
    "slideshow": {
     "slide_type": "slide"
    }
   },
   "source": [
    "# errors, bugs and debugging "
   ]
  },
  {
   "cell_type": "markdown",
   "metadata": {
    "slideshow": {
     "slide_type": "slide"
    }
   },
   "source": [
    " # why the name?   \n",
    "\n",
    "__bugs__ are problems or errors in the code "
   ]
  },
  {
   "cell_type": "markdown",
   "metadata": {
    "slideshow": {
     "slide_type": "subslide"
    }
   },
   "source": [
    "- the first program/computer bug was an actual bug (a moth, to be exact)\n",
    "\n",
    "- 1947, Harvard Mark II Computer\n",
    "\n",
    "<img src=\"http://ids.si.edu/ids/deliveryService?id=NMAH-92-13130&max=1000\" width=60% >\n",
    "\n",
    "- see, [http://americanhistory.si.edu/collections/search/object/nmah_334663](http://americanhistory.si.edu/collections/search/object/nmah_334663) for more information  "
   ]
  },
  {
   "cell_type": "markdown",
   "metadata": {
    "slideshow": {
     "slide_type": "subslide"
    }
   },
   "source": [
    "# types of errors\n",
    "\n",
    "- __Syntax errors__: The code does not follow the rules of the language; for\n",
    "example, a single quote is used where a double quote is needed; a colon is\n",
    "missing; a keyword is used as a variable name.\n",
    "\n",
    "- __Runtime errors__: In this case, your code is fine but the program does not run\n",
    "as expected (it \"crashes\"). For example, if your program is meant to divide two\n",
    "numbers, but does not test for a zero divisor, a run-time error would occur\n",
    "when the program attempts to divide by zero.\n",
    "\n",
    "- __Logic errors__: These can be the hardest to find. In this case, the program is\n",
    "correct from a syntax perspective; and it runs; but the result is unanticipated\n",
    "or outright wrong. For example, if your program prints \"2+2 = 5\" the answer is\n",
    "clearly wrong ☺"
   ]
  },
  {
   "cell_type": "markdown",
   "metadata": {
    "slideshow": {
     "slide_type": "subslide"
    }
   },
   "source": [
    "# syntax errors \n",
    "\n",
    "the IDE or a compiler is good in catching those - but you are the one who needs to fix them\n",
    "\n",
    "__example__: figure out what is wrong with the following lines of code "
   ]
  },
  {
   "cell_type": "code",
   "execution_count": null,
   "metadata": {
    "slideshow": {
     "slide_type": "subslide"
    }
   },
   "outputs": [],
   "source": [
    "print ( \"Hello, world!' )\n",
    "\n",
    "name = input ('Please enter your name: ) \n",
    "\n",
    "\n",
    "print (\" The integer part of 35.01425 is \", int(35.01425 )\n",
    " "
   ]
  },
  {
   "cell_type": "markdown",
   "metadata": {
    "slideshow": {
     "slide_type": "fragment"
    }
   },
   "source": [
    "HINT: the context highlighting sometimes gives a clue about syntax problems. \n",
    "\n",
    " "
   ]
  },
  {
   "cell_type": "markdown",
   "metadata": {
    "slideshow": {
     "slide_type": "subslide"
    }
   },
   "source": [
    "# syntax errors \n",
    "\n",
    "the IDE or a compiler is good in catching those - but you are the one who needs to fix them\n",
    "\n",
    "__example__: figure out what is wrong with the following lines of code "
   ]
  },
  {
   "cell_type": "markdown",
   "metadata": {
    "slideshow": {
     "slide_type": "subslide"
    }
   },
   "source": [
    "# runtime errors \n",
    "\n",
    "these problems happen when the program is running and it is pretty clear that something went wrong - the programmer\n",
    "has to figure out the reason and fix it \n",
    "\n",
    "__example__: figure out what is wrong with the following lines of code; the runtime errors that \n",
    "this code causes are shown below"
   ]
  },
  {
   "cell_type": "code",
   "execution_count": null,
   "metadata": {
    "slideshow": {
     "slide_type": "fragment"
    }
   },
   "outputs": [],
   "source": [
    "num = input ('give me a number: ') \n",
    "new_num = 10 + num\n",
    "print (new_num)"
   ]
  },
  {
   "cell_type": "markdown",
   "metadata": {
    "slideshow": {
     "slide_type": "subslide"
    }
   },
   "source": [
    " \n",
    "# logical errors \n",
    "\n",
    "these problems are the hardest to locate: the program runs just fine, but the results are not\n",
    "what they should be - the programmer needs to be able to recognize the invalid results, find their \n",
    "cause and fix the code \n",
    "\n",
    "\n",
    "__example__: figure out what is wrong with the following lines of code; the runtime errors that \n",
    "this code causes are shown below"
   ]
  },
  {
   "cell_type": "code",
   "execution_count": null,
   "metadata": {
    "slideshow": {
     "slide_type": "fragment"
    }
   },
   "outputs": [],
   "source": [
    "num = input ('give me a number: ') \n",
    "new_num = 5*num\n",
    "print ( 5, \" * \", num, \" = \", new_num)"
   ]
  },
  {
   "cell_type": "markdown",
   "metadata": {
    "slideshow": {
     "slide_type": "subslide"
    }
   },
   "source": [
    "# simple debugging techniques\n",
    "\n",
    "- set small, incremental goals for your program; don't try and write large programs all\n",
    "at once \n",
    "\n",
    "- stop and test your work often as you go;  celebrate small successes \n",
    "<img src=\"https://upload.wikimedia.org/wikipedia/commons/8/81/Noto_Emoji_Oreo_1f389.svg\" width=50px alt=\"celebrate\" > \n",
    "\n",
    "- use comments to have Python ignore certain lines that are giving you trouble\n",
    "\n",
    " "
   ]
  },
  {
   "cell_type": "markdown",
   "metadata": {
    "slideshow": {
     "slide_type": "slide"
    }
   },
   "source": [
    "# programming challenges\n",
    "\n",
    "\n",
    "\n",
    "\n",
    " "
   ]
  },
  {
   "cell_type": "markdown",
   "metadata": {
    "slideshow": {
     "slide_type": "subslide"
    }
   },
   "source": [
    "# code mangler\n",
    "\n",
    "The __code mangler__ is a mean little creature that sneaks into my computer and _mangles_ the lines \n",
    "of code in my programs. \n",
    "- sometimes it rearranges the order of the lines\n",
    "- sometimes it removes all the comments \n",
    "- sometimes it removes parts of the lines and replaces the characters by strings of XXXX \n",
    "- ...\n",
    "\n",
    "Can you help me fix this code that the __code mangler__ mangled? \n",
    "All the lines and comments are there, but they are in a wrong order. "
   ]
  },
  {
   "cell_type": "code",
   "execution_count": null,
   "metadata": {
    "slideshow": {
     "slide_type": "fragment"
    }
   },
   "outputs": [],
   "source": [
    "# calculate the yearly salary\n",
    "# print the result\n",
    "monthly_salary = input('how much do you make in a month?')\n",
    "print ('that means you make', yearly_salary, 'in a year')\n",
    "# convert the salary into a float\n",
    "# ask the user for their monthly salary\n",
    "monthly_salary_float = float(monthly_salary)\n",
    "yearly_salary = monthly_salary_float * 12"
   ]
  },
  {
   "cell_type": "markdown",
   "metadata": {
    "slideshow": {
     "slide_type": "fragment"
    }
   },
   "source": [
    " \n",
    "\n",
    "__Solution__\n",
    "Try to run your fixed code and see if it is working."
   ]
  }
 ],
 "metadata": {
  "celltoolbar": "Slideshow",
  "kernelspec": {
   "display_name": "Python 3",
   "language": "python",
   "name": "python3"
  },
  "language_info": {
   "codemirror_mode": {
    "name": "ipython",
    "version": 3
   },
   "file_extension": ".py",
   "mimetype": "text/x-python",
   "name": "python",
   "nbconvert_exporter": "python",
   "pygments_lexer": "ipython3",
   "version": "3.6.5"
  }
 },
 "nbformat": 4,
 "nbformat_minor": 2
}
