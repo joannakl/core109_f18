{
 "cells": [
  {
   "cell_type": "markdown",
   "metadata": {
    "slideshow": {
     "slide_type": "slide"
    }
   },
   "source": [
    "# Starting with Python\n",
    "\n",
    "## CORE-UA 109.01, Joanna Klukowska \n",
    "(adapted from slides for CSCI-UA.002 by D. Engle, C. Kapp and J. Versoza)\n",
    "\n",
    "---"
   ]
  },
  {
   "cell_type": "markdown",
   "metadata": {
    "slideshow": {
     "slide_type": "slide"
    }
   },
   "source": [
    "# printing or showing information on the screen \n",
    "---"
   ]
  },
  {
   "cell_type": "markdown",
   "metadata": {
    "slideshow": {
     "slide_type": "subslide"
    }
   },
   "source": [
    "# `print` function"
   ]
  },
  {
   "cell_type": "code",
   "execution_count": null,
   "metadata": {
    "slideshow": {
     "slide_type": "fragment"
    }
   },
   "outputs": [],
   "source": [
    "print ('hello core109 - congratulations on running your first program' )\n",
    "print ( '3 * 17 - 102/3 + 7 =', 3 * 17 - 102/3 + 7 )"
   ]
  },
  {
   "cell_type": "markdown",
   "metadata": {
    "slideshow": {
     "slide_type": "fragment"
    }
   },
   "source": [
    "* `print` does what you might expect it to do: it prints some content to the screen/console\n",
    "\n",
    "* `print` takes either a string (first case above) or a numerical value (second case above) as its arguments \n",
    "    * _strigs_ are sequences of characters that start and end eihter with a single quote `'` or \n",
    "    with a double quote `\"` \n",
    "    * when the numerical value given to the `print` function is a more complicated expression,\n",
    "    the `print` function evaluates it first before the value is printed (so the `print` function first figures out what the value of `3 * 17 - 102/3 + 7` is and then prints `24`)\n",
    "    "
   ]
  },
  {
   "cell_type": "markdown",
   "metadata": {
    "slideshow": {
     "slide_type": "subslide"
    }
   },
   "source": [
    "# more on `print()` function\n",
    "\n",
    "__Can I print more than one _thing_ using `print()`?__ \n",
    "\n",
    "Sure ... just concatenate your _things_ with a comma, like this: "
   ]
  },
  {
   "cell_type": "code",
   "execution_count": null,
   "metadata": {
    "slideshow": {
     "slide_type": "fragment"
    }
   },
   "outputs": [],
   "source": [
    "print (\"my name is\", \"Joanna\") "
   ]
  },
  {
   "cell_type": "markdown",
   "metadata": {
    "slideshow": {
     "slide_type": "fragment"
    }
   },
   "source": [
    "This will concatenate the two strings first and then print the resulting string. "
   ]
  },
  {
   "cell_type": "code",
   "execution_count": null,
   "metadata": {
    "slideshow": {
     "slide_type": "fragment"
    }
   },
   "outputs": [],
   "source": [
    "print (\"The value of  3 * 17 - 102/3 + 7  is \",  3 * 17 - 102/3 + 7) "
   ]
  },
  {
   "cell_type": "markdown",
   "metadata": {
    "slideshow": {
     "slide_type": "fragment"
    }
   },
   "source": [
    "This will concatenate the first string that contains a mathematical expression \n",
    "with the value of 24.0 that results from calculating expression after the comma."
   ]
  },
  {
   "cell_type": "markdown",
   "metadata": {
    "slideshow": {
     "slide_type": "subslide"
    }
   },
   "source": [
    "__Can I concatenate more than two _things_?__\n",
    "\n",
    "Absolutely!\n",
    "\n",
    "... just don't overdo it, otherwise your code becomes harder to read.  \n",
    "    "
   ]
  },
  {
   "cell_type": "markdown",
   "metadata": {
    "slideshow": {
     "slide_type": "subslide"
    }
   },
   "source": [
    "# `print()` examples"
   ]
  },
  {
   "cell_type": "markdown",
   "metadata": {
    "slideshow": {
     "slide_type": "fragment"
    }
   },
   "source": [
    "This is just a regular print statement and its output. "
   ]
  },
  {
   "cell_type": "code",
   "execution_count": null,
   "metadata": {
    "slideshow": {
     "slide_type": "fragment"
    }
   },
   "outputs": [],
   "source": [
    "print(\"Line 1\")"
   ]
  },
  {
   "cell_type": "markdown",
   "metadata": {
    "slideshow": {
     "slide_type": "subslide"
    }
   },
   "source": [
    "# `print()` examples: `end=`"
   ]
  },
  {
   "cell_type": "code",
   "execution_count": null,
   "metadata": {
    "slideshow": {
     "slide_type": "fragment"
    }
   },
   "outputs": [],
   "source": [
    "print('Line 2, part 1') \n",
    "print('Line 2, part 2') \n",
    "  "
   ]
  },
  {
   "cell_type": "markdown",
   "metadata": {
    "slideshow": {
     "slide_type": "fragment"
    }
   },
   "source": [
    "I wanted for these two strings to be printed on a single line!\n",
    "What happened? "
   ]
  },
  {
   "cell_type": "markdown",
   "metadata": {
    "slideshow": {
     "slide_type": "fragment"
    }
   },
   "source": [
    "* `print` function automatically adds a newline character at the end of the printed text \n",
    "* we can change that by telling it to use a different end of line character(s)"
   ]
  },
  {
   "cell_type": "code",
   "execution_count": null,
   "metadata": {
    "slideshow": {
     "slide_type": "fragment"
    }
   },
   "outputs": [],
   "source": [
    "print('Line 2, part 1', end=' &(*^*&%&^%^*)  ') \n",
    "print('Line 2, part 2') "
   ]
  },
  {
   "cell_type": "code",
   "execution_count": null,
   "metadata": {
    "slideshow": {
     "slide_type": "fragment"
    }
   },
   "outputs": [],
   "source": [
    "print('Line 2, part 1', end='***') \n",
    "print('Line 2, part 2') "
   ]
  },
  {
   "cell_type": "markdown",
   "metadata": {
    "slideshow": {
     "slide_type": "subslide"
    }
   },
   "source": [
    "\n",
    "# `print()` examples: `sep=` "
   ]
  },
  {
   "cell_type": "code",
   "execution_count": null,
   "metadata": {
    "slideshow": {
     "slide_type": "fragment"
    }
   },
   "outputs": [],
   "source": [
    "print(\"My name is \", \"Joanna.\") \n",
    "print(\"I am learning\", \"Python.\")   "
   ]
  },
  {
   "cell_type": "markdown",
   "metadata": {
    "slideshow": {
     "slide_type": "fragment"
    }
   },
   "source": [
    "How do these two statements differ? \n",
    "\n",
    "* the first one has an extra space between \"is\" and \"Joanna\"\n",
    "* `print` adds spaces between the elements of the comma-separated lists of its arguments automatically\n",
    "\n",
    "We can change this behavior by specifying a different separator: "
   ]
  },
  {
   "cell_type": "code",
   "execution_count": null,
   "metadata": {
    "slideshow": {
     "slide_type": "fragment"
    }
   },
   "outputs": [],
   "source": [
    "print(\"My name is \", \"Joanna.\", sep=\"\")    #do not use any separator \n",
    "print(\"My name is\", \"Joanna.\", sep=\"***\")  #use three stars as a separator \n",
    "print(\"I am learning\", \"Python.\", sep=\"  !  \")  #use spaces and a ! as a separator"
   ]
  },
  {
   "cell_type": "markdown",
   "metadata": {
    "slideshow": {
     "slide_type": "slide"
    }
   },
   "source": [
    "# variables "
   ]
  },
  {
   "cell_type": "markdown",
   "metadata": {
    "slideshow": {
     "slide_type": "subslide"
    }
   },
   "source": [
    "# variables\n",
    "\n",
    "\n",
    "<img src=\"https://joannakl.github.io/core109_f18/slides/week1/img/variable.png\" width=40% align=\"right\">\n",
    "\n",
    "Variables are like little \"buckets\" or \"containers\" that can store information.\n",
    "\n",
    "You can create a variable by using the following syntax:\n",
    "\n",
    "__`variablename = somedata`__\n",
    "\n",
    "**Examples:**\n",
    "\n",
    "`speed = 5` <br>\n",
    "`myname = 'Kate'`"
   ]
  },
  {
   "cell_type": "markdown",
   "metadata": {
    "slideshow": {
     "slide_type": "fragment"
    }
   },
   "source": [
    "* The '=' symbol is called the __assignment operator__ and will cause Python to store the data on the right side of the statement into the variable name printed on the left side. "
   ]
  },
  {
   "cell_type": "markdown",
   "metadata": {
    "slideshow": {
     "slide_type": "subslide"
    }
   },
   "source": [
    "# variables - example"
   ]
  },
  {
   "cell_type": "code",
   "execution_count": null,
   "metadata": {
    "slideshow": {
     "slide_type": "fragment"
    }
   },
   "outputs": [],
   "source": [
    "num1 = 67   #assign a value of 57 to variable named num1\n",
    "num2 = 89   #assign a value of 89 to variable named num2\n",
    "\n",
    "#calculate the sum of the values stored in num1 and num2\n",
    "sum_of_nums = num1 + num2\n",
    "diff_of_nums = num1 - num2\n",
    "product_of_nums = num1 * num2\n",
    "print (sum_of_nums)\n",
    "print (diff_of_nums)\n",
    "print (product_of_nums)"
   ]
  },
  {
   "cell_type": "markdown",
   "metadata": {
    "slideshow": {
     "slide_type": "fragment"
    }
   },
   "source": [
    "* first the values are saved in variables called `num1` and `num2` and then the sum of those values is saved in another variable called `sum_of_nums` "
   ]
  },
  {
   "cell_type": "markdown",
   "metadata": {
    "slideshow": {
     "slide_type": "fragment"
    }
   },
   "source": [
    "* but wait! this program does not have any output (why?)"
   ]
  },
  {
   "cell_type": "markdown",
   "metadata": {
    "slideshow": {
     "slide_type": "subslide"
    }
   },
   "source": [
    "# why variables?"
   ]
  },
  {
   "cell_type": "code",
   "execution_count": null,
   "metadata": {
    "slideshow": {
     "slide_type": "fragment"
    }
   },
   "outputs": [],
   "source": [
    "num1 = 57   #assign a value of 57 to variable named num1\n",
    "num2 = 89   #assign a value of 89 to variable named num2\n",
    "\n",
    "#calculate the sum of the values stored in num1 and num2\n",
    "sum_of_nums = num1 + num2   "
   ]
  },
  {
   "cell_type": "markdown",
   "metadata": {
    "slideshow": {
     "slide_type": "fragment"
    }
   },
   "source": [
    "Why do we need those variables instead of just using the numbers themselves \n",
    "to calculate the sum? "
   ]
  },
  {
   "cell_type": "markdown",
   "metadata": {
    "slideshow": {
     "slide_type": "fragment"
    }
   },
   "source": [
    "* we might want to perform other operations on the same numbers - dealing with variables \n",
    "guarantees (almost) that we can use the same exact values for each operation, \n",
    "for example"
   ]
  },
  {
   "cell_type": "code",
   "execution_count": null,
   "metadata": {
    "slideshow": {
     "slide_type": "fragment"
    }
   },
   "outputs": [],
   "source": [
    "diff_of_nums = num1 - num2 \n",
    "product_of_nums = num1 * num2 "
   ]
  },
  {
   "cell_type": "markdown",
   "metadata": {
    "slideshow": {
     "slide_type": "subslide"
    }
   },
   "source": [
    "* we might want to change the value of the number that we are working with, for example, \n",
    "    * after we wrote the entire program using 57 in thirteen different places, we realized that \n",
    "    we really wanted to use 58\n",
    "    * if the value is stored in a variable, we only need to change one line of code; if not, we \n",
    "    have to search for all different locations of 57 and replace them with 58 "
   ]
  },
  {
   "cell_type": "code",
   "execution_count": null,
   "metadata": {
    "slideshow": {
     "slide_type": "fragment"
    }
   },
   "outputs": [],
   "source": [
    "num1 = 57   #assign a value of 57 to variable named num1\n",
    "num2 = 89   #assign a value of 89 to variable named num2\n",
    "\n",
    "#calculate the sum of the values stored in num1 and num2\n",
    "sum_of_nums = num1 + num2  \n",
    "diff_of_nums = num1 - num2 \n",
    "product_of_nums = num1 * num2 "
   ]
  },
  {
   "cell_type": "markdown",
   "metadata": {
    "slideshow": {
     "slide_type": "subslide"
    }
   },
   "source": [
    "# Variable naming rules \n",
    "\n",
    "* You can't use one of Python's __reserved words__ \n",
    "    \n",
    "    `False`, `None`, `True`, `and`, `as`, `assert`, `break`, `class`, \n",
    "    `continue`, `def`, `del`, `elif`, `else`, `except`, `finally`, `for`, `from`, \n",
    "    `global`, `if`, `import`, `in`, `is`, `lambda`, `nonlocal`, `not`, `or`, \n",
    "    `pass`, `raise`, `return`, `try`, `while`, `with`, `yield`\n",
    "\n",
    "* Variables can't contain spaces (though you can use the underscore character (\"_\") in place of a space)\n",
    "\n",
    "* The first character of a variable name must be a letter or the underscore character.  Any character after the first can be any valid alphanumeric character (or the underscore character)\n",
    "\n",
    "* Python is case sensitive, so `num` and `Num` are two different variable names "
   ]
  },
  {
   "cell_type": "markdown",
   "metadata": {
    "slideshow": {
     "slide_type": "slide"
    }
   },
   "source": [
    "# getting information from the user "
   ]
  },
  {
   "cell_type": "markdown",
   "metadata": {
    "slideshow": {
     "slide_type": "subslide"
    }
   },
   "source": [
    "# `input()` function"
   ]
  },
  {
   "cell_type": "code",
   "execution_count": null,
   "metadata": {
    "slideshow": {
     "slide_type": "fragment"
    }
   },
   "outputs": [],
   "source": [
    "name=input(\"Hello! What is your name? \")\n",
    "print (\"Hi \" + name + '! It \"is\" lovely to meet you!\\n')\n",
    "\n",
    "num_of_programs_written = input (\"How many programs have you written \" + \n",
    "        \"in your life? \")\n",
    "print (\"Wow \" + num_of_programs_written + \n",
    "        \"!!! That's a good number.\")"
   ]
  },
  {
   "cell_type": "markdown",
   "metadata": {
    "slideshow": {
     "slide_type": "fragment"
    }
   },
   "source": [
    "* the `input()` function takes __a prompt__ as its argument - it is simply used to tell the \n",
    "user what it is that the program wants \n",
    "\n",
    "* the `input()` function __returns__ (or gives back to the program) __the sequence of characters__ \n",
    "(also known as __a string__) that the user typed in response to the prompt  \n",
    "\n",
    "* the value returned by the `input()` function can be saved in __a variable__: `name` and `num_of_programs_written` in the example above \n",
    "\n",
    "* this is another reason why we use variables - they store the values returned by functions "
   ]
  },
  {
   "cell_type": "markdown",
   "metadata": {
    "slideshow": {
     "slide_type": "subslide"
    }
   },
   "source": [
    "# `input()` function with numbers \n",
    "## challenge 1: what is the output"
   ]
  },
  {
   "cell_type": "code",
   "execution_count": 5,
   "metadata": {
    "slideshow": {
     "slide_type": "fragment"
    }
   },
   "outputs": [
    {
     "name": "stdout",
     "output_type": "stream",
     "text": [
      "What is your favority number? 7! \n",
      "Cool, I like  7!   as well.\n",
      "I also like twice that value: 7! 7! \n",
      "I also like three times that value: 7! 7! 7! \n"
     ]
    }
   ],
   "source": [
    "fav_num = input(\"What is your favority number? \")\n",
    "\n",
    "print(\"Cool, I like \", fav_num, \" as well.\")\n",
    "print(\"I also like twice that value:\", 2 * fav_num)\n",
    "print(\"I also like three times that value:\", fav_num + fav_num + fav_num) "
   ]
  },
  {
   "cell_type": "markdown",
   "metadata": {
    "slideshow": {
     "slide_type": "fragment"
    }
   },
   "source": [
    "What happens when the above program runs and the user enters 7? "
   ]
  },
  {
   "cell_type": "markdown",
   "metadata": {
    "slideshow": {
     "slide_type": "subslide"
    }
   },
   "source": [
    "# `input()` function with numbers \n",
    "## challenge 2: what is the output "
   ]
  },
  {
   "cell_type": "code",
   "execution_count": 6,
   "metadata": {
    "slideshow": {
     "slide_type": "fragment"
    }
   },
   "outputs": [
    {
     "name": "stdout",
     "output_type": "stream",
     "text": [
      "What is your favority number? 7\n",
      "Cool, I like  7  as well.\n",
      "I also like twice that value: 77\n"
     ]
    },
    {
     "ename": "TypeError",
     "evalue": "unsupported operand type(s) for +: 'int' and 'str'",
     "output_type": "error",
     "traceback": [
      "\u001b[0;31m---------------------------------------------------------------------------\u001b[0m",
      "\u001b[0;31mTypeError\u001b[0m                                 Traceback (most recent call last)",
      "\u001b[0;32m<ipython-input-6-dd50895b50ff>\u001b[0m in \u001b[0;36m<module>\u001b[0;34m()\u001b[0m\n\u001b[1;32m      3\u001b[0m \u001b[0mprint\u001b[0m\u001b[0;34m(\u001b[0m\u001b[0;34m\"Cool, I like \"\u001b[0m\u001b[0;34m,\u001b[0m \u001b[0mfav_num\u001b[0m\u001b[0;34m,\u001b[0m \u001b[0;34m\" as well.\"\u001b[0m\u001b[0;34m)\u001b[0m\u001b[0;34m\u001b[0m\u001b[0m\n\u001b[1;32m      4\u001b[0m \u001b[0mprint\u001b[0m\u001b[0;34m(\u001b[0m\u001b[0;34m\"I also like twice that value:\"\u001b[0m\u001b[0;34m,\u001b[0m \u001b[0;36m2\u001b[0m \u001b[0;34m*\u001b[0m \u001b[0mfav_num\u001b[0m\u001b[0;34m)\u001b[0m\u001b[0;34m\u001b[0m\u001b[0m\n\u001b[0;32m----> 5\u001b[0;31m \u001b[0mprint\u001b[0m\u001b[0;34m(\u001b[0m\u001b[0;34m\"and I really like one more than that number:\"\u001b[0m\u001b[0;34m,\u001b[0m \u001b[0;36m1\u001b[0m \u001b[0;34m+\u001b[0m \u001b[0mfav_num\u001b[0m\u001b[0;34m)\u001b[0m\u001b[0;34m\u001b[0m\u001b[0m\n\u001b[0m",
      "\u001b[0;31mTypeError\u001b[0m: unsupported operand type(s) for +: 'int' and 'str'"
     ]
    }
   ],
   "source": [
    "fav_num = input(\"What is your favority number? \")\n",
    "\n",
    "print(\"Cool, I like \", fav_num, \" as well.\")\n",
    "print(\"I also like twice that value:\", 2 * fav_num) \n",
    "print(\"and I really like one more than that number:\", 1 + fav_num) "
   ]
  },
  {
   "cell_type": "markdown",
   "metadata": {
    "slideshow": {
     "slide_type": "subslide"
    }
   },
   "source": [
    "# `input()` function with numbers"
   ]
  },
  {
   "cell_type": "code",
   "execution_count": null,
   "metadata": {
    "slideshow": {
     "slide_type": "fragment"
    }
   },
   "outputs": [],
   "source": [
    "fav_num = input(\"What is your favority number?\")\n",
    "\n",
    "print(\"Cool, I like \", fav_num, \" as well.\")\n",
    "print(\"I also like twice that value:\", 2 * fav_num) \n",
    "print(\"and I really like one more than that number:\", 1 + fav_num) "
   ]
  },
  {
   "cell_type": "markdown",
   "metadata": {
    "slideshow": {
     "slide_type": "fragment"
    }
   },
   "source": [
    "What is the value returned by the `input()` function?\n",
    "\n",
    "* you may think that it is `7` - the number that the user entered\n",
    "\n",
    "* ... but, remember that this function returns a sequence of characters that the user\n",
    "entered, not a number\n",
    "\n",
    "* the actual return value is `\"7\"` - a string containing the character 7 \n",
    "\n",
    "* __we cannot do arithmetic on strings__ - at least not the kind of arithmetic that\n",
    "we had in mind"
   ]
  },
  {
   "cell_type": "markdown",
   "metadata": {
    "slideshow": {
     "slide_type": "subslide"
    }
   },
   "source": [
    "# `input()` function with numbers"
   ]
  },
  {
   "cell_type": "markdown",
   "metadata": {
    "slideshow": {
     "slide_type": "fragment"
    }
   },
   "source": [
    "How do we tell the program that we want to use the value entered by the user\n",
    "as a number, not as a string? \n",
    "\n",
    "* we use `int()` function to convert a value to an integer (__integers__ are positive\n",
    "and negative whole numbers)"
   ]
  },
  {
   "cell_type": "code",
   "execution_count": 10,
   "metadata": {
    "slideshow": {
     "slide_type": "fragment"
    }
   },
   "outputs": [
    {
     "name": "stdout",
     "output_type": "stream",
     "text": [
      "What is your favority number? 7.1\n"
     ]
    },
    {
     "ename": "ValueError",
     "evalue": "invalid literal for int() with base 10: '7.1'",
     "output_type": "error",
     "traceback": [
      "\u001b[0;31m---------------------------------------------------------------------------\u001b[0m",
      "\u001b[0;31mValueError\u001b[0m                                Traceback (most recent call last)",
      "\u001b[0;32m<ipython-input-10-614714e3b199>\u001b[0m in \u001b[0;36m<module>\u001b[0;34m()\u001b[0m\n\u001b[1;32m      1\u001b[0m \u001b[0mstr_fav_num\u001b[0m \u001b[0;34m=\u001b[0m \u001b[0minput\u001b[0m\u001b[0;34m(\u001b[0m\u001b[0;34m\"What is your favority number? \"\u001b[0m\u001b[0;34m)\u001b[0m\u001b[0;34m\u001b[0m\u001b[0m\n\u001b[0;32m----> 2\u001b[0;31m \u001b[0mfav_num\u001b[0m \u001b[0;34m=\u001b[0m \u001b[0mint\u001b[0m \u001b[0;34m(\u001b[0m \u001b[0mstr_fav_num\u001b[0m \u001b[0;34m)\u001b[0m\u001b[0;34m\u001b[0m\u001b[0m\n\u001b[0m\u001b[1;32m      3\u001b[0m \u001b[0;34m\u001b[0m\u001b[0m\n\u001b[1;32m      4\u001b[0m \u001b[0mprint\u001b[0m\u001b[0;34m(\u001b[0m\u001b[0;34m\"Cool, I like \"\u001b[0m\u001b[0;34m,\u001b[0m \u001b[0mfav_num\u001b[0m\u001b[0;34m,\u001b[0m \u001b[0;34m\" as well.\"\u001b[0m\u001b[0;34m)\u001b[0m\u001b[0;34m\u001b[0m\u001b[0m\n\u001b[1;32m      5\u001b[0m \u001b[0mprint\u001b[0m\u001b[0;34m(\u001b[0m\u001b[0;34m\"I also like twice that value:\"\u001b[0m\u001b[0;34m,\u001b[0m \u001b[0;36m2\u001b[0m \u001b[0;34m*\u001b[0m \u001b[0mfav_num\u001b[0m\u001b[0;34m)\u001b[0m\u001b[0;34m\u001b[0m\u001b[0m\n",
      "\u001b[0;31mValueError\u001b[0m: invalid literal for int() with base 10: '7.1'"
     ]
    }
   ],
   "source": [
    "fav_num = int ( input(\"What is your favority number? \") )\n",
    " \n",
    "print(\"Cool, I like \", fav_num, \" as well.\")\n",
    "print(\"I also like twice that value:\", 2 * fav_num) \n",
    "print(\"and I really like one more than that number:\", 1 + fav_num) "
   ]
  },
  {
   "cell_type": "markdown",
   "metadata": {
    "slideshow": {
     "slide_type": "slide"
    }
   },
   "source": [
    "# conversion functions"
   ]
  },
  {
   "cell_type": "markdown",
   "metadata": {
    "slideshow": {
     "slide_type": "subslide"
    }
   },
   "source": [
    "# `int()`, `str()`, `float()`\n",
    "\n",
    "* these functions all return a value or cause an error\n",
    "\n",
    "* `int( x )` - converts a string or a number to an integer \n",
    "\n",
    "* `str ( x )` - converts the argument to a string \n",
    "\n",
    "* `float ( x )` - converts a string or a number to a floating point number "
   ]
  },
  {
   "cell_type": "markdown",
   "metadata": {
    "slideshow": {
     "slide_type": "subslide"
    }
   },
   "source": [
    "# Using conversion functions "
   ]
  },
  {
   "cell_type": "code",
   "execution_count": 15,
   "metadata": {
    "slideshow": {
     "slide_type": "fragment"
    }
   },
   "outputs": [],
   "source": [
    "n1 = int(\"45\")          # returns a number 45\n",
    "n2 = int(-78.990)       # returns a number -78\n",
    "#n3 = int(\"thirteen\")    # causes an error !!!\n",
    "\n",
    "f1 = float(\"-56.90876\") # returns a floating point number -56.90876\n",
    "f2 = float( 39 )        # returns a floating point number 39.0 \n",
    "#f3 = float(\"4.0 GPA\")   # causes an error "
   ]
  },
  {
   "cell_type": "markdown",
   "metadata": {
    "slideshow": {
     "slide_type": "slide"
    }
   },
   "source": [
    "# operators: <br>`+`, `-`, `*`, `/`, `**` "
   ]
  },
  {
   "cell_type": "markdown",
   "metadata": {
    "slideshow": {
     "slide_type": "subslide"
    }
   },
   "source": [
    "# arithmetic operators: `+`, `-`, `*`, `/`, `**` \n",
    "\n",
    "with numbers (whole numbers and decimal numbers) the above operators are\n",
    "used to perform standard mathematical operations:\n",
    "* `+  ` addition, for example `5.6 + 19` \n",
    "* `-  ` subtraction, for example `5.6 - 19`  \n",
    "* `*` multiplication, for example `5.6 * 19`  \n",
    "* `/` division, for example `5.6 / 19` \n",
    "* `**` exponentiation, for example `5.6 ** 19`"
   ]
  },
  {
   "cell_type": "code",
   "execution_count": 16,
   "metadata": {
    "slideshow": {
     "slide_type": "fragment"
    }
   },
   "outputs": [
    {
     "name": "stdout",
     "output_type": "stream",
     "text": [
      "5.6  +  19  =  24.6\n",
      "5.6  -  19  =  -13.4\n",
      "5.6  *  19  =  106.39999999999999\n",
      "5.6  /  19  =  0.29473684210526313\n",
      "5.6  **  19  =  164275392349701.66\n"
     ]
    }
   ],
   "source": [
    "n1 = 5.6\n",
    "n2 = 19 \n",
    "\n",
    "print (n1, \" + \", n2, \" = \", n1 + n2 )\n",
    "print (n1, \" - \", n2, \" = \", n1 - n2 )\n",
    "print (n1, \" * \", n2, \" = \", n1 * n2 )\n",
    "print (n1, \" / \", n2, \" = \", n1 / n2 )\n",
    "print (n1, \" ** \", n2, \" = \", n1 ** n2 )"
   ]
  },
  {
   "cell_type": "markdown",
   "metadata": {
    "slideshow": {
     "slide_type": "subslide"
    }
   },
   "source": [
    "# string operators: `+`, `*`  \n",
    "\n",
    "with string the above operators are\n",
    "used to perform concatenation and replication:\n",
    "* `+  ` concatenation \n",
    "    * combine two strings into a single one\n",
    "    * both of the sides of the `+` operators need to be strings \n",
    "* `*  ` replication \n",
    "    * one operand is a string, the other is a positive integer\n",
    "    * the string is repeated as many times as the number suggests"
   ]
  },
  {
   "cell_type": "code",
   "execution_count": 17,
   "metadata": {
    "slideshow": {
     "slide_type": "fragment"
    }
   },
   "outputs": [
    {
     "name": "stdout",
     "output_type": "stream",
     "text": [
      "crazy hats\n",
      "crazy crazy crazy crazy \n",
      "hatshatshats\n"
     ]
    }
   ],
   "source": [
    "str1 = \"crazy \"\n",
    "str2 = \"hats\"\n",
    "str3 = str1 + str2 \n",
    "str4 = 4 * str1\n",
    "str5 = str2 * 3\n",
    "\n",
    "print (str3 )\n",
    "print (str4 ) \n",
    "print (str5 ) "
   ]
  },
  {
   "cell_type": "markdown",
   "metadata": {
    "slideshow": {
     "slide_type": "slide"
    }
   },
   "source": [
    "# summary"
   ]
  },
  {
   "cell_type": "markdown",
   "metadata": {
    "slideshow": {
     "slide_type": "subslide"
    }
   },
   "source": [
    "# string - summary \n",
    "\n",
    "* Data that is textual in nature (i.e. \"Hello, World!\") is called a \"String\"\n",
    "\n",
    "* Strings can contain 0 or more printed characters\n",
    "\n",
    "* __String Literals__ are strings that you define inside your program. They are \"hard coded\" values and must be __delimited__ using a special character so that Python knows that the text you've typed in should be treated as printed text (and not a function call, variable name, etc.)<br>\n",
    "    Ex:  `print ('hello, world!')`\n",
    "    \n",
    "* Python supports three different delimiters\n",
    "    * The single quote/\"tick\" ( `'` )\n",
    "    * The double quote ( `\"` )\n",
    "    * The triple quote ( `\"\"\"` )"
   ]
  },
  {
   "cell_type": "markdown",
   "metadata": {
    "slideshow": {
     "slide_type": "subslide"
    }
   },
   "source": [
    "# functions - summary \n",
    "\n",
    "* A \"function\" is __a pre-written piece of computer code__ that will perform a specific action or set of actions\n",
    "\n",
    "* Python comes with a number of __built-in functions__, and you can also write your own (more on that later in the semester) \n",
    "\n",
    "* Functions always begin with a keyword (the __name of the function__) followed by a pair of parenthesis.\n",
    "    Ex:  `print()`, `input()`\n",
    "    \n",
    "* You can __pass one or more arguments__ into a function by placing data inside the parenthesis\n",
    "    Ex:  `print('Hello, World!')`\n",
    "\n",
    "* Different functions \"expect\" different arguments.  The print function, for example, expects printed text as an argument\n",
    "\n",
    "* Functions may or may not __return a value__.\n",
    "\n",
    "* Some functions simply perform some action. Ex. `print()` \n",
    "* Other functions perform a computation and return its result to the user. Ex. `input()` \n",
    "\n",
    "* When you ask Python to run a function we say that you have __called the function__."
   ]
  },
  {
   "cell_type": "markdown",
   "metadata": {
    "slideshow": {
     "slide_type": "subslide"
    }
   },
   "source": [
    "# variables - summary \n",
    "\n",
    "* Variables are like little \"buckets\" that can store information in your computer's memory\n",
    "\n",
    "* You will be using variables constantly when writing your programs in order to keep track of various pieces of information\n",
    "\n",
    "* You can create a variable by using the following syntax:\n",
    "\n",
    "__`variablename = somedata`__\n",
    "\n",
    "Examples:\n",
    "\n",
    "`speed = 5`\n",
    "\n",
    "`myname = 'Craig'`\n",
    "\n",
    "* The __`=`__ symbol is called the __assignment operator__ and will cause Python to store the data on the right side of the statement into the variable name printed on the left side"
   ]
  },
  {
   "cell_type": "markdown",
   "metadata": {
    "slideshow": {
     "slide_type": "slide"
    }
   },
   "source": [
    "# programming challenges"
   ]
  },
  {
   "cell_type": "markdown",
   "metadata": {
    "slideshow": {
     "slide_type": "subslide"
    }
   },
   "source": [
    "<img src=\"https://joannakl.github.io/core109_f18/slides/week1/img/arithmetic.png\" width=5% align=\"right\" > \n",
    "\n",
    "# Mini-calculator\n",
    "\n",
    "* Ask the user for two numbers.  You can assume they will be floating point numbers.\n",
    "* Compute the following and print it out to the user:\n",
    "\n",
    "* The sum of the numbers\n",
    "* The product of the numbers\n",
    "* The difference between the numbers\n",
    "* The first number divided by the second number\n",
    "* The first number raised to the power of the second number\n",
    "* Display the mathematical expression and the result, for example, if the user enters\n",
    "35 and 7, the first line of output for your program should be\n",
    " \n",
    "    `  35 + 7 = 42`\n",
    "\n",
    "\n"
   ]
  },
  {
   "cell_type": "markdown",
   "metadata": {
    "slideshow": {
     "slide_type": "subslide"
    }
   },
   "source": [
    "<img src=\"https://joannakl.github.io/core109_f18/slides/week1/img/metro.jpg\" width=10% align=\"right\"  style=\"margin:20px 40px 20px 20px\">\n",
    "\n",
    "# Subway ride calculator\n",
    "\n",
    "\n",
    "- Write a program that asks the user for the value of their current Metro card\n",
    "\n",
    "- Compute how many rides they have left on their card.  Only provide whole number results (i.e. you cannot have 3.5 rides left on a card)\n",
    "\n",
    "Hints:\n",
    "- A single ride costs $2.75 these days. \n",
    "- Conversion functions will be useful here. Remember that \n",
    "\n",
    "    - `float(\"25.75\")` function will return the numberic value of `25.75`,\n",
    "    - `int(3.5)` will return the integer part of its argument, i.e., `3`.  \n",
    "\n"
   ]
  },
  {
   "cell_type": "markdown",
   "metadata": {
    "slideshow": {
     "slide_type": "subslide"
    }
   },
   "source": [
    "# Coins\n",
    "\n",
    "* Write a program that asks the user for a number of pennies, nickels, \n",
    "dimes and quarters\n",
    "\n",
    "* Calculate the total amount of money that the user has and print it out\n",
    "\n",
    "For this program, you can assume that the user will always enter a valid \n",
    "answer (i.e. non-negative integer). \n"
   ]
  }
 ],
 "metadata": {
  "celltoolbar": "Slideshow",
  "kernelspec": {
   "display_name": "Python 3",
   "language": "python",
   "name": "python3"
  },
  "language_info": {
   "codemirror_mode": {
    "name": "ipython",
    "version": 3
   },
   "file_extension": ".py",
   "mimetype": "text/x-python",
   "name": "python",
   "nbconvert_exporter": "python",
   "pygments_lexer": "ipython3",
   "version": "3.6.5"
  }
 },
 "nbformat": 4,
 "nbformat_minor": 2
}
