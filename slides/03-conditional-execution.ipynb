{
 "cells": [
  {
   "cell_type": "code",
   "execution_count": 36,
   "metadata": {
    "slideshow": {
     "slide_type": "skip"
    }
   },
   "outputs": [
    {
     "data": {
      "text/html": [
       "<!-- Not content, but for better presentation styles -->\n",
       "<style>\n",
       "\n",
       ".rendered_html {\n",
       "  font-size:1em;\n",
       "}\n",
       "\n",
       ".rendered_html table, .rendered_html th, .rendered_html tr, .rendered_html td {\n",
       "    font-size: 110%; \n",
       "}\n",
       "\n",
       ".rendered_html td,  tr, th {\n",
       "    text-align:center;\n",
       "    border: 1pt gray; \n",
       "}\n",
       "\n",
       ".rendered_html table {\n",
       "    float:left;  \n",
       "    margin: 20pt;\n",
       "    \n",
       "}\n",
       "\n",
       "</style>"
      ],
      "text/plain": [
       "<IPython.core.display.HTML object>"
      ]
     },
     "metadata": {},
     "output_type": "display_data"
    }
   ],
   "source": [
    "%%html\n",
    "<!-- Not content, but for better presentation styles -->\n",
    "<style>\n",
    "\n",
    ".rendered_html {\n",
    "  font-size:1em;\n",
    "}\n",
    "\n",
    ".rendered_html table, .rendered_html th, .rendered_html tr, .rendered_html td {\n",
    "    font-size: 110%; \n",
    "}\n",
    "\n",
    ".rendered_html td,  tr, th {\n",
    "    text-align:center;\n",
    "    border: 1pt gray; \n",
    "}\n",
    "\n",
    ".rendered_html table {\n",
    "    float:left;  \n",
    "    margin: 20pt;\n",
    "    \n",
    "}\n",
    "\n",
    "\n",
    "\n",
    "</style>"
   ]
  },
  {
   "cell_type": "markdown",
   "metadata": {
    "slideshow": {
     "slide_type": "slide"
    }
   },
   "source": [
    "# Conditional Execution\n",
    "\n",
    "## CORE-UA 109.01, Joanna Klukowska\n",
    "adapted from slides for CSCI-UA.002 by D. Engle, C. Kapp and J. Versoza"
   ]
  },
  {
   "cell_type": "markdown",
   "metadata": {
    "slideshow": {
     "slide_type": "slide"
    }
   },
   "source": [
    "# let's start with an example"
   ]
  },
  {
   "cell_type": "code",
   "execution_count": 1,
   "metadata": {
    "slideshow": {
     "slide_type": "fragment"
    }
   },
   "outputs": [
    {
     "name": "stdout",
     "output_type": "stream",
     "text": [
      "Hello! What is your name? Joanna\n",
      "How many programming languages do you know? 3\n",
      "Joanna, I think you are in a wrong class! Talk to Joanna about this.\n"
     ]
    }
   ],
   "source": [
    "name = input(\"Hello! What is your name? \")\n",
    "\n",
    "num_of_languages = input(\"How many programming languages do you know? \")\n",
    "\n",
    "num_of_languages = int( num_of_languages )\n",
    "\n",
    "if  num_of_languages == 0 :\n",
    "    print (name + \", you are about to learn your first programming language!\")\n",
    "else: \n",
    "    print (name + \", I think you are in a wrong class! Talk to Joanna about this.\")"
   ]
  },
  {
   "cell_type": "markdown",
   "metadata": {
    "slideshow": {
     "slide_type": "fragment"
    }
   },
   "source": [
    "- Do you think that all of the lines of code  are executed by the computer\n",
    "when we run the program? Explain your answer.\n",
    "\n",
    "\n",
    "\n",
    "- Notice that the `print` instructions after the `if ...` and `else ...` lines\n",
    "are indented. What happens when you try to remove the indent?"
   ]
  },
  {
   "cell_type": "markdown",
   "metadata": {
    "slideshow": {
     "slide_type": "slide"
    }
   },
   "source": [
    "# `if ... elif ... else` statement"
   ]
  },
  {
   "cell_type": "markdown",
   "metadata": {
    "slideshow": {
     "slide_type": "subslide"
    }
   },
   "source": [
    "# if something is true, do this"
   ]
  },
  {
   "cell_type": "markdown",
   "metadata": {
    "slideshow": {
     "slide_type": "fragment"
    }
   },
   "source": [
    "<div style=\"padding:10px; border: 5px solid green;\">\n",
    "```\n",
    "if some_condition_to_check :\n",
    "    code to execute\n",
    "    when the condition turns out\n",
    "    to be true\n",
    "\n",
    "continue_with_the_rest_of_the_code\n",
    "```\n",
    "</div>"
   ]
  },
  {
   "cell_type": "markdown",
   "metadata": {
    "slideshow": {
     "slide_type": "fragment"
    }
   },
   "source": [
    "- the `if` statement allows us to tell Python to execute the code only is some condition turns out to be true\n",
    "\n",
    "- __example__"
   ]
  },
  {
   "cell_type": "code",
   "execution_count": 2,
   "metadata": {
    "slideshow": {
     "slide_type": "fragment"
    }
   },
   "outputs": [
    {
     "name": "stdout",
     "output_type": "stream",
     "text": [
      "what day is today Monday\n",
      "Go to class at 45 West 4th Street, room B02\n",
      "Have a nice day!\n"
     ]
    }
   ],
   "source": [
    "today = input(\"what day is today \" )\n",
    "\n",
    "if today == \"Monday\":\n",
    "    print(\"Go to class at 45 West 4th Street, room B02\")\n",
    "if today == \"Thursday\":\n",
    "    print(\"Go to the lab at Mercer 194, room 304\")\n",
    "\n",
    "print(\"Have a nice day!\")"
   ]
  },
  {
   "cell_type": "markdown",
   "metadata": {
    "slideshow": {
     "slide_type": "subslide"
    }
   },
   "source": [
    "# this or that\n"
   ]
  },
  {
   "cell_type": "markdown",
   "metadata": {
    "slideshow": {
     "slide_type": "fragment"
    }
   },
   "source": [
    "<div style=\"padding:10px; border: 5px solid green;font: mono \">\n",
    "```\n",
    "if some_condition_to_check :\n",
    "    code to execute when the condition\n",
    "    turns out to be true\n",
    "else:\n",
    "    code to execute when the condition\n",
    "    turns out to be false\n",
    "\n",
    "continue_with_the_rest_of_the_code\n",
    "```\n",
    "</div>"
   ]
  },
  {
   "cell_type": "markdown",
   "metadata": {
    "slideshow": {
     "slide_type": "fragment"
    }
   },
   "source": [
    "- the `if ... else ...` statement allows us to tell Python to execute one block of code if some condition turns out to be true and a different one\n",
    "if that condition turns out to be false\n",
    "\n",
    "- __example__"
   ]
  },
  {
   "cell_type": "code",
   "execution_count": 3,
   "metadata": {
    "slideshow": {
     "slide_type": "fragment"
    }
   },
   "outputs": [
    {
     "name": "stdout",
     "output_type": "stream",
     "text": [
      "what day is todayMod\n",
      "Go to the lecture  at 45 West 4th Street, room B02\n",
      "Have a nice day!\n"
     ]
    }
   ],
   "source": [
    "today = input(\"what day is today\" )\n",
    "\n",
    "if today == \"Thursday\":\n",
    "    print(\"Go to the lab at Mercer 194, room 304\")\n",
    "else:\n",
    "    print(\"Go to the lecture  at 45 West 4th Street, room B02\")\n",
    "\n",
    "print(\"Have a nice day!\")\n",
    "\n",
    "\n"
   ]
  },
  {
   "cell_type": "markdown",
   "metadata": {
    "slideshow": {
     "slide_type": "subslide"
    }
   },
   "source": [
    "# this or that or that ... or ...\n"
   ]
  },
  {
   "cell_type": "markdown",
   "metadata": {
    "slideshow": {
     "slide_type": "fragment"
    }
   },
   "source": [
    "<div style=\"padding:10px; border: 5px solid green;\">\n",
    "```\n",
    "if condition_1_to_check :\n",
    "    code to execute when the condition_1 is true\n",
    "elif condition_2_to_check :\n",
    "    code to execute when the condition_2 is true\n",
    "elif ...\n",
    "    ...\n",
    "else:\n",
    "    code to execute when all of the conditions turn out to be false\n",
    "\n",
    "continue_with_the_rest_of_the_code\n",
    "```\n",
    "</div>"
   ]
  },
  {
   "cell_type": "markdown",
   "metadata": {
    "slideshow": {
     "slide_type": "fragment"
    }
   },
   "source": [
    "- the `if ... elif ... else ...` statement allows us to tell Python to execute a different block of code depending of a collection of different conditions."
   ]
  },
  {
   "cell_type": "markdown",
   "metadata": {
    "slideshow": {
     "slide_type": "subslide"
    }
   },
   "source": [
    "# this or that or that ... or ...\n",
    "\n",
    "\n",
    "- __example__"
   ]
  },
  {
   "cell_type": "code",
   "execution_count": null,
   "metadata": {
    "slideshow": {
     "slide_type": "fragment"
    }
   },
   "outputs": [],
   "source": [
    "\n",
    "today = input(\"what day is today\" )\n",
    "if today == \"Thursday\":\n",
    "    print(\"Go to the lab at Tisch, room LC19\")\n",
    "elif today == \"Monday\" or today == \"Wednesday\" :\n",
    "    print(\"Go to the lecture at 7 East 12th Street, room 125\")\n",
    "else:\n",
    "    print(\"We do not have a class today\")\n",
    "print(\"Have a nice day!\")\n"
   ]
  },
  {
   "cell_type": "markdown",
   "metadata": {
    "slideshow": {
     "slide_type": "slide"
    }
   },
   "source": [
    "# Boolean expresssions\n",
    "## (or what can be used as a condition)"
   ]
  },
  {
   "cell_type": "markdown",
   "metadata": {
    "slideshow": {
     "slide_type": "subslide"
    }
   },
   "source": [
    "# Boolean values\n",
    "\n",
    "- Boolean values can be either true or false - yes, there are only two\n",
    "possible values\n",
    "\n",
    "- __in Python, these values are represented by the reserved words, `True`\n",
    " and `False` (notice that the initial letter is uppercase)__\n",
    "\n",
    "- comparisons evaluate to Boolean values\n",
    "    - `10 < 15` evaluates to `True`\n",
    "    - `\"Asia\" > \"Europe\"` evaluates to  `False`\n",
    "    - `(12 + 3) == 15` evaluates to `True`"
   ]
  },
  {
   "cell_type": "markdown",
   "metadata": {
    "slideshow": {
     "slide_type": "subslide"
    }
   },
   "source": [
    "# `=` vs. `==`\n",
    "\n",
    "- `=` (equals) is the __assignment operator__\n",
    "    - assigns the value of the thing on the right to the variable on the left\n",
    "    - sometimes called binding\n",
    "    - example: `a = \"foo\"` gives value of string `\"foo\"` to the variable\n",
    "    `a`\n",
    "\n",
    "\n",
    "- `==` (double equals) is the __comparison equality operator__\n",
    "    - tests if the thing on the left is equal to the thing on the right\n",
    "    - also called logical equivalence\n",
    "    - example: `\"foo\" == \"bar\"` evaluates to `False`"
   ]
  },
  {
   "cell_type": "markdown",
   "metadata": {
    "slideshow": {
     "slide_type": "subslide"
    }
   },
   "source": [
    "Warning: Python is case sensitive and it does not like to mix numbers and strings.\n",
    "\n",
    "__exercise__ Try to figure out the value of the following comparisons.\n",
    "\n",
    "`'One' == 'one'`\n",
    "\n",
    "`'1.0' == 1.0`\n",
    "\n",
    "`'one' == 1`\n",
    "\n",
    "`1 == 1.0`\n",
    "\n",
    "`\"one\" == 'one'`"
   ]
  },
  {
   "cell_type": "markdown",
   "metadata": {
    "slideshow": {
     "slide_type": "fragment"
    }
   },
   "source": [
    "`'One' == 'one'` is `False`\n",
    "\n",
    "`'1.0' == 1.0` is `False`\n",
    "\n",
    "`'one' == 1` is `False`\n",
    "\n",
    "`1 == 1.0` is `True`\n",
    "\n",
    "`\"one\" == 'one'` is `True`"
   ]
  },
  {
   "cell_type": "markdown",
   "metadata": {
    "slideshow": {
     "slide_type": "subslide"
    }
   },
   "source": [
    "# dozens of doughnuts \n",
    "<img src=\"https://upload.wikimedia.org/wikipedia/commons/7/7d/Emojione_1F369.svg\" width=30px style=\"display:inline; \"><img src=\"https://upload.wikimedia.org/wikipedia/commons/7/7a/Noto_Emoji_Oreo_1f369.svg\"  width=30px style=\"display:inline; \">  <img src=\"https://upload.wikimedia.org/wikipedia/commons/7/7d/Emojione_1F369.svg\" width=30px style=\"display:inline; \"><img src=\"https://upload.wikimedia.org/wikipedia/commons/7/7a/Noto_Emoji_Oreo_1f369.svg\"  width=30px style=\"display:inline; \">  <img src=\"https://upload.wikimedia.org/wikipedia/commons/7/7d/Emojione_1F369.svg\" width=30px style=\"display:inline; \"><img src=\"https://upload.wikimedia.org/wikipedia/commons/7/7a/Noto_Emoji_Oreo_1f369.svg\"  width=30px style=\"display:inline; \">  <img src=\"https://upload.wikimedia.org/wikipedia/commons/7/7d/Emojione_1F369.svg\" width=30px style=\"display:inline; \"><img src=\"https://upload.wikimedia.org/wikipedia/commons/7/7a/Noto_Emoji_Oreo_1f369.svg\"  width=30px style=\"display:inline; \">  <img src=\"https://upload.wikimedia.org/wikipedia/commons/7/7d/Emojione_1F369.svg\" width=30px style=\"display:inline; \"><img src=\"https://upload.wikimedia.org/wikipedia/commons/7/7a/Noto_Emoji_Oreo_1f369.svg\"  width=30px style=\"display:inline; \">  <img src=\"https://upload.wikimedia.org/wikipedia/commons/7/7d/Emojione_1F369.svg\" width=30px style=\"display:inline; \"><img src=\"https://upload.wikimedia.org/wikipedia/commons/7/7a/Noto_Emoji_Oreo_1f369.svg\"  width=30px style=\"display:inline; \">\n",
    "\n",
    "What is the output of this program when the user enters different values in response to the prompt?\n",
    "Run the program and enter the following strings in response to the prompt:\n",
    "- yes\n",
    "- Yes\n",
    "- no \n",
    "- yes, please\n",
    "- two dozens more"
   ]
  },
  {
   "cell_type": "code",
   "execution_count": 4,
   "metadata": {
    "slideshow": {
     "slide_type": "fragment"
    }
   },
   "outputs": [
    {
     "name": "stdout",
     "output_type": "stream",
     "text": [
      "you have 12 doughnuts, would you like another dozen? ('yes' or 'no')\n",
      "no\n",
      "you still have 12 doughnuts\n"
     ]
    }
   ],
   "source": [
    "answer = input(\"you have 12 doughnuts, would you like another dozen? ('yes' or 'no')\\n\")\n",
    "\n",
    "if answer == 'yes':\n",
    "\tprint('now, you have 24 doughnuts')\n",
    "else:\n",
    "\tprint('you still have 12 doughnuts')"
   ]
  },
  {
   "cell_type": "markdown",
   "metadata": {
    "slideshow": {
     "slide_type": "subslide"
    }
   },
   "source": [
    "# math quiz: exponents\n",
    "\n",
    "What is the output of this program when the user enters the correct answer?"
   ]
  },
  {
   "cell_type": "code",
   "execution_count": 5,
   "metadata": {
    "slideshow": {
     "slide_type": "fragment"
    }
   },
   "outputs": [
    {
     "name": "stdout",
     "output_type": "stream",
     "text": [
      "what is 2 to the 4th power?\n",
      "16\n",
      "yup, you got it!\n"
     ]
    }
   ],
   "source": [
    "answer = input('what is 2 to the 4th power?\\n')\n",
    "\n",
    "if answer == 2 ** 4:\n",
    "\tprint('yup, you got it!')\n",
    "else:\n",
    "\tprint('sorry, you got that wrong')\n"
   ]
  },
  {
   "cell_type": "markdown",
   "metadata": {
    "slideshow": {
     "slide_type": "fragment"
    }
   },
   "source": [
    "- this program has a logical error:\n",
    "\n",
    "- it always compares a string (containing the correct or incorrect\n",
    "answer) to a number\n",
    "\n",
    "- the Boolean expression (`answer == 2 ** 4`) __always__ evaluates\n",
    "to `False`\n",
    "\n",
    "- the output of this program is always:  `sorry, you got that wrong` "
   ]
  },
  {
   "cell_type": "markdown",
   "metadata": {
    "slideshow": {
     "slide_type": "slide"
    }
   },
   "source": [
    "# comparison operators and logical operators"
   ]
  },
  {
   "cell_type": "markdown",
   "metadata": {
    "slideshow": {
     "slide_type": "subslide"
    }
   },
   "source": [
    "# comparison operators\n",
    "\n",
    "- there are six comparison operators:<br>\n",
    "\n",
    "- `==`  equals (can be called logical equivalence or equality operator)\n",
    "\n",
    "- `!=`  not equal\n",
    "\n",
    "- `>`  greater than\n",
    "\n",
    "- `<`  less than\n",
    "\n",
    "- `>=` greater than / equal\n",
    "\n",
    "- `<=`  less than / equal\n",
    "\n",
    "- those operators always return a Boolean value: `True` or `False`\n",
    "\n",
    "- they work with numbers,\n",
    "\n",
    "- they also work with strings,"
   ]
  },
  {
   "cell_type": "markdown",
   "metadata": {
    "slideshow": {
     "slide_type": "subslide"
    }
   },
   "source": [
    "# comparison examples\n",
    "\n",
    "- `5.5 < 13` returns `True`\n",
    "\n",
    "- `78 != n` returns either `True` or `False` depending on the value of `n`\n",
    "(assuming `n` has a value)\n",
    "\n",
    "\n",
    "- `\"apple\" < \"pear\"` returns `True` - the order is based on the\n",
    "alphabetical ordering of characters,\n",
    "    - well, not really\n",
    "    - it actually uses [ASCII](http://www.asciitable.com/) ordering\n",
    "\n",
    "- `\"Apple\" == \"apple\"` returns `False` - the upper case letters\n",
    "come _before_ the lower case letters in ASCII"
   ]
  },
  {
   "cell_type": "code",
   "execution_count": null,
   "metadata": {
    "slideshow": {
     "slide_type": "fragment"
    }
   },
   "outputs": [],
   "source": [
    "if (\"Apple\" > \"apple\"):\n",
    "    print(\"Apple is bigger\")\n",
    "else:\n",
    "    print (\"apple is bigger\")"
   ]
  },
  {
   "cell_type": "markdown",
   "metadata": {
    "slideshow": {
     "slide_type": "subslide"
    }
   },
   "source": [
    "# logical operators\n",
    "\n",
    "- `and` - takes two operands, one on each side\n",
    "to return `True`, both sides of the operator must be `True`\n",
    "\n",
    "- `or`  - takes two operands, one on each side\n",
    "to return `True`, at least one side of the operator must be `True`\n",
    "\n",
    "- `not` - only takes one operand to the right\n",
    "to return `True`, the original value on the right must evaluate to `False`\n",
    "two nots cancel eachother out (fun!)"
   ]
  },
  {
   "cell_type": "markdown",
   "metadata": {
    "slideshow": {
     "slide_type": "subslide"
    }
   },
   "source": [
    "# truth tables\n",
    "\n",
    "- the truth table tells us the value of the logical expression\n",
    "given all different posibilities of the operands"
   ]
  },
  {
   "cell_type": "markdown",
   "metadata": {
    "slideshow": {
     "slide_type": "fragment"
    }
   },
   "source": [
    "p | q | p and q\n",
    "---|---|---\n",
    "False | False |False\n",
    "False | True |False\n",
    "True | False |   False\n",
    "True | True |   True\n",
    "\n",
    " p | q | p or q\n",
    "---|---|---\n",
    " False | False |   False\n",
    " False | True |   True\n",
    " True | False |   True\n",
    " True | True |   True\n",
    "\n",
    " p | not p\n",
    "---|---\n",
    " True |  False\n",
    " False |  True"
   ]
  },
  {
   "cell_type": "markdown",
   "metadata": {
    "slideshow": {
     "slide_type": "slide"
    }
   },
   "source": [
    "# programming challenges"
   ]
  },
  {
   "cell_type": "markdown",
   "metadata": {
    "slideshow": {
     "slide_type": "subslide"
    }
   },
   "source": [
    "# Positive, negative or zero\n",
    "\n",
    "- Write a program that prompts the user for a number.\n",
    "\n",
    "- The program should then determine if the number entered\n",
    "is positive negative or zero.\n",
    "\n",
    "- The program should then print appropriate message, for example <br>\n",
    "    `Your number is negative`\n",
    "---\n",
    "\n",
    "\n",
    "- Change your above program so instead of numbers it works with\n",
    "temperatures.\n",
    "\n",
    "- if the value entered is below freezing, the program should\n",
    "print <br>\n",
    "    `it is below freezing`\n",
    "- if the value entered is above freezing, the program should\n",
    "print <br>\n",
    "    `it is still warm`\n",
    "- if the value entered is exactly at 32 degrees, the program\n",
    "should print  <br>\n",
    "    `it is just border-line, hope it is going up!`\n",
    "\n"
   ]
  },
  {
   "cell_type": "markdown",
   "metadata": {
    "slideshow": {
     "slide_type": "subslide"
    }
   },
   "source": [
    "# Calculating bonuses\n",
    "\n",
    "\n",
    "<img src=\"https://upload.wikimedia.org/wikipedia/commons/4/4d/Dollar_symbol_gold.svg\"\n",
    "width=150px style=\"float:right;\">\n",
    "\n",
    "- You're the manager of a large, distributed sales force\n",
    "- You want to create an easy to use tool that will allow your sales staff to do\n",
    "the following:\n",
    "    - Input their monthly sales amount\n",
    "    - Determine if they made their monthly quota of \\$10,000\n",
    "    - If they made their quota, they are eligible for a bonus of 50% of whatever\n",
    "    they sold above the \\$10,000\n",
    "    - If they made their quota, they should receive a \"Good Job!\" message\n",
    "    - At the end of the program you should print out how much their bonus will be.\n"
   ]
  },
  {
   "cell_type": "code",
   "execution_count": null,
   "metadata": {
    "slideshow": {
     "slide_type": "fragment"
    }
   },
   "outputs": [],
   "source": [
    "\n",
    "\n",
    "\n",
    "\n",
    "\n",
    "\n",
    "\n",
    "\n",
    "\n"
   ]
  }
 ],
 "metadata": {
  "celltoolbar": "Slideshow",
  "kernelspec": {
   "display_name": "Python 3",
   "language": "python",
   "name": "python3"
  },
  "language_info": {
   "codemirror_mode": {
    "name": "ipython",
    "version": 3
   },
   "file_extension": ".py",
   "mimetype": "text/x-python",
   "name": "python",
   "nbconvert_exporter": "python",
   "pygments_lexer": "ipython3",
   "version": "3.6.5"
  },
  "rise": {
   "scroll": false
  }
 },
 "nbformat": 4,
 "nbformat_minor": 2
}
