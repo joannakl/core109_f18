{
 "cells": [
  {
   "cell_type": "markdown",
   "metadata": {
    "slideshow": {
     "slide_type": "slide"
    }
   },
   "source": [
    "# While Loops (or condition controlled repetition)\n",
    "\n",
    "## CORE-UA 109.01, Joanna Klukowska\n",
    "adapted from slides for CSCI-UA.002 by D. Engle, C. Kapp and J. Versoza"
   ]
  },
  {
   "cell_type": "markdown",
   "metadata": {
    "slideshow": {
     "slide_type": "slide"
    }
   },
   "source": [
    "# let's start with an example\n",
    "\n",
    "Write a program that prints numbers from 0 to 9, each on a new line.\n",
    "\n",
    "The first program below uses a for loop, the second uses a while loop. "
   ]
  },
  {
   "cell_type": "code",
   "execution_count": null,
   "metadata": {
    "slideshow": {
     "slide_type": "fragment"
    }
   },
   "outputs": [],
   "source": [
    "for i in range(0,10,1):\n",
    "    print(i)"
   ]
  },
  {
   "cell_type": "code",
   "execution_count": null,
   "metadata": {
    "slideshow": {
     "slide_type": "fragment"
    }
   },
   "outputs": [],
   "source": [
    "i = 0\n",
    "while i < 10:\n",
    "    print(i)\n",
    "    i = i + 1"
   ]
  },
  {
   "cell_type": "markdown",
   "metadata": {
    "slideshow": {
     "slide_type": "fragment"
    }
   },
   "source": [
    "- which of the two programs do you prefer?\n",
    "\n",
    "- you can use either of the loops to accomplish the counting here\n",
    "    - the  `for` loop handles the setting up\n",
    "    of initial value of the counter variable `i` and increments `i`\n",
    "    in each iteration (by setting its value to the next element in the\n",
    "    iterable returned by the `range()` function\n",
    "    - in the `while` loop we need to initialize the value of `i` before the loop\n",
    "    and we need to increment the value of `i` inside the loop"
   ]
  },
  {
   "cell_type": "markdown",
   "metadata": {
    "slideshow": {
     "slide_type": "slide"
    }
   },
   "source": [
    "# another example\n",
    "\n",
    "Write a program that prompts the user for a sequence of numbers\n",
    "and adds them all up. The program should continue until the user\n",
    "enters zero.\n"
   ]
  },
  {
   "cell_type": "code",
   "execution_count": null,
   "metadata": {
    "slideshow": {
     "slide_type": "fragment"
    }
   },
   "outputs": [],
   "source": [
    " for ??? : \n",
    "     ???"
   ]
  },
  {
   "cell_type": "markdown",
   "metadata": {
    "slideshow": {
     "slide_type": "fragment"
    }
   },
   "source": [
    "use a `while` loop"
   ]
  },
  {
   "cell_type": "code",
   "execution_count": 3,
   "metadata": {
    "slideshow": {
     "slide_type": "fragment"
    }
   },
   "outputs": [
    {
     "name": "stdout",
     "output_type": "stream",
     "text": [
      "Enter your next value: 8\n",
      "Enter your next value: 9\n",
      "Enter your next value: 0\n",
      "The sum of your numbers is 17.0\n"
     ]
    }
   ],
   "source": [
    "sum = 0\n",
    "number = -5 #this can be anything except for 0\n",
    "while number != 0:\n",
    "    number = float(input(\"Enter your next value: \"))\n",
    "    sum = sum + number\n",
    "print (\"The sum of your numbers is\", sum)\n"
   ]
  },
  {
   "cell_type": "markdown",
   "metadata": {
    "slideshow": {
     "slide_type": "fragment"
    }
   },
   "source": [
    "- in some cases, one loop works much more naturally than the other\n",
    "\n",
    "- how do we decide which to use?\n",
    "    - if you can tell up front how many times the loop should repeat, use the `for` loop\n",
    "    - if the number of repetitions depends on some condition unknown at the time\n",
    "    of writing the program, use the `while` loop"
   ]
  },
  {
   "cell_type": "markdown",
   "metadata": {
    "slideshow": {
     "slide_type": "slide"
    }
   },
   "source": [
    "# `while` loop statement\n",
    "\n",
    "<img src=\"img/while_loop.png\" width=60% alt=\"while loop syntax\">"
   ]
  },
  {
   "cell_type": "markdown",
   "metadata": {
    "slideshow": {
     "slide_type": "slide"
    }
   },
   "source": [
    "# how `while` works\n",
    "\n",
    "    while condition:\n",
    "        body\n",
    "        of\n",
    "        the\n",
    "        loop\n",
    "    code after the loop\n",
    "\n",
    "- a __condition controlled loop__ is programming structure that causes a\n",
    "statement or set of statements to repeat as long as a condition evaluates\n",
    "to `True`\n",
    "\n",
    "- `while` loops work as follows:\n",
    "    - evaluate the condition\n",
    "       - if it is `False`, skip the body of the loop and continue with the code after the loop\n",
    "       - if it is `True`, execute the body of the loop\n",
    "    - re-evaluate the condition\n",
    "       - if it is `False`, skip the body of the loop and continue with the code after the loop\n",
    "       - if it is `True`, execute the body of the loop\n",
    "    - re-evaluate the condition\n",
    "        - ..."
   ]
  },
  {
   "cell_type": "markdown",
   "metadata": {
    "slideshow": {
     "slide_type": "slide"
    }
   },
   "source": [
    "# warning!\n",
    "\n",
    "- when working with a `while` loop there is nothing to prevent you from\n",
    "writing a Boolean condition that will never evaluate to False\n",
    "\n",
    "- we call this an __infinite loop__ since it never stops executing\n",
    "\n",
    "- if this happens your loop will continue executing forever, or until you\n",
    "send an `interrupt` signal to Python using the CTRL-C key combination\n",
    "\n",
    "\n",
    "- with the exception of a few special cases you want to try and avoid\n",
    "writing infinite loops (figure out what the condition should be that terminates it instead)\n",
    "\n",
    "\n",
    "\n",
    "example: what is the output of this program"
   ]
  },
  {
   "cell_type": "code",
   "execution_count": 1,
   "metadata": {
    "slideshow": {
     "slide_type": "fragment"
    }
   },
   "outputs": [
    {
     "name": "stdout",
     "output_type": "stream",
     "text": [
      "A is less than 10\n",
      "A is less than 10\n",
      "A is less than 10\n",
      "A is less than 10\n",
      "A is less than 10\n"
     ]
    }
   ],
   "source": [
    "a = 5\n",
    "while a < 10 :\n",
    "    print('A is less than 10')\n",
    "    a = a + 1"
   ]
  },
  {
   "cell_type": "markdown",
   "metadata": {
    "slideshow": {
     "slide_type": "slide"
    }
   },
   "source": [
    "# infinite loops: an artistic view\n",
    "\n",
    "\n",
    "<img src=\"https://upload.wikimedia.org/wikipedia/en/b/ba/DrawingHands.jpg\" width=650px style=\"float:right;\" alt=\"drawing hands\">\n",
    "M.C. Escher (1898-1972) was a Dutch graphic artist who used\n",
    "mathematical concepts of infinity in some of his drawings.\n",
    "(http://en.wikipedia.org/wiki/M._C._Escher)\n",
    "\n",
    "\n",
    "\n",
    "\n"
   ]
  },
  {
   "cell_type": "markdown",
   "metadata": {
    "slideshow": {
     "slide_type": "slide"
    }
   },
   "source": [
    "# `while` loop in action:  trace the output"
   ]
  },
  {
   "cell_type": "code",
   "execution_count": null,
   "metadata": {
    "slideshow": {
     "slide_type": "fragment"
    }
   },
   "outputs": [],
   "source": [
    "num = 1\n",
    "while num < 1000 :\n",
    "    print (num)\n",
    "    num = num * 2"
   ]
  },
  {
   "cell_type": "code",
   "execution_count": null,
   "metadata": {
    "slideshow": {
     "slide_type": "fragment"
    }
   },
   "outputs": [],
   "source": [
    "num = 100\n",
    "while num > 0 :\n",
    "    print (num )\n",
    "    num = num - 5"
   ]
  },
  {
   "cell_type": "code",
   "execution_count": null,
   "metadata": {
    "slideshow": {
     "slide_type": "fragment"
    }
   },
   "outputs": [],
   "source": [
    "num = 1\n",
    "sum = 0\n",
    "while num <= 10  :\n",
    "    sum = sum + num\n",
    "    num = num +1\n",
    "print ( sum )"
   ]
  },
  {
   "cell_type": "code",
   "execution_count": null,
   "metadata": {
    "slideshow": {
     "slide_type": "fragment"
    }
   },
   "outputs": [],
   "source": [
    "num = 1\n",
    "sum = 0\n",
    "while num <= 10  :\n",
    "    num = num +1  \n",
    "    sum = sum + num\n",
    "print ( sum )"
   ]
  },
  {
   "cell_type": "code",
   "execution_count": null,
   "metadata": {
    "slideshow": {
     "slide_type": "fragment"
    }
   },
   "outputs": [],
   "source": [
    "num = 1\n",
    "sum_odd = 0\n",
    "sum_even = 0\n",
    "while num <= 10  :\n",
    "    if num % 2 == 0 :\n",
    "        sum_even = sum_even + num\n",
    "    else :\n",
    "        sum_odd = sum_odd + num\n",
    "    num = num +1\n",
    "print ( sum )"
   ]
  },
  {
   "cell_type": "markdown",
   "metadata": {
    "slideshow": {
     "slide_type": "slide"
    }
   },
   "source": [
    "# trace the output"
   ]
  },
  {
   "cell_type": "code",
   "execution_count": null,
   "metadata": {
    "slideshow": {
     "slide_type": "fragment"
    }
   },
   "outputs": [],
   "source": [
    "m1 = 101\n",
    "m2 = -1\n",
    "sum = 0\n",
    "count = 0\n",
    "\n",
    "print ( \"Enter numbers from 1 to 100.\")\n",
    "print ( \"Enter 0 to indicate your last number.\")\n",
    "\n",
    "num = -1\n",
    "while num != 0  :\n",
    "    num = int ( input(\"next: \" ) )\n",
    "    if ( num < 1 or num > 100 ) :\n",
    "        print (\"not a valid value\")\n",
    "    else :\n",
    "        sum = sum + num\n",
    "        count = count + 1\n",
    "        if num < m1 :\n",
    "            m1 = num\n",
    "        if num > m2 :\n",
    "            m2 = num\n",
    "print ( \"sum:\", sum )\n",
    "print ( \" m1:\", m1 )\n",
    "print ( \" m2:\", m2 )\n",
    "print ( \"ave:\", sum / count  )"
   ]
  },
  {
   "cell_type": "markdown",
   "metadata": {
    "slideshow": {
     "slide_type": "fragment"
    }
   },
   "source": [
    "- add comments\n",
    "- change the names of m1 and m2 variables so that they are more representative\n",
    "- can you think of a problem that may occur when running this program?"
   ]
  },
  {
   "cell_type": "markdown",
   "metadata": {
    "slideshow": {
     "slide_type": "slide"
    }
   },
   "source": [
    "# AI in a \"guess a number\" game\n",
    "\n",
    "<img src=\"img/guess.png\" width=300px style=\"float:right;\" alt=\"question mark\">\n",
    "\n",
    "Write a program that asks the user to \"think of\" a secret number between 1\n",
    "and 1,000,000.\n",
    "(The user is a very honest person and once they set on a number\n",
    "they will not change it.)\n",
    "\n",
    "The program should then attempt to guess the user's number. Each time the computer makes an incorrect guess, the user tells it if the actual number of smaller or larger than the current guess. \n",
    "\n",
    "Keep track of the number of attempts.\n",
    "\n",
    "What do you think is the largest number of attempts that the computer has to make?"
   ]
  },
  {
   "cell_type": "markdown",
   "metadata": {
    "slideshow": {
     "slide_type": "slide"
    }
   },
   "source": [
    "# input validation and re-prompting"
   ]
  },
  {
   "cell_type": "markdown",
   "metadata": {
    "slideshow": {
     "slide_type": "subslide"
    }
   },
   "source": [
    "# simple data validation\n",
    "\n",
    "- we often  need to ask the user to supply a value in our programs, but the users don't always follow directions\n",
    "\n",
    "- one strategy you can use to ensure that you get \"good\" data is to\n",
    "\"validate\" the user's input\n",
    "    - ask the user for a value\n",
    "    - if it meets our criteria we can continue\n",
    "    - if not we will need to ask the user to re-supply the value (this brings us\n",
    "    back to the first bullet)\n",
    "\n",
    "\n",
    "\n",
    "- __attempt one: use an `if` statement__"
   ]
  },
  {
   "cell_type": "code",
   "execution_count": null,
   "metadata": {
    "slideshow": {
     "slide_type": "fragment"
    }
   },
   "outputs": [],
   "source": [
    "num = int(input (\"enter a number between 0 and 100 (inclusive):\"))\n",
    "\n",
    "if num < 0 or num > 100 :\n",
    "    print (\"invalid value\")\n",
    "\n",
    "# use the value of num "
   ]
  },
  {
   "cell_type": "markdown",
   "metadata": {
    "slideshow": {
     "slide_type": "fragment"
    }
   },
   "source": [
    "__works for validation, not for re-prompting__"
   ]
  },
  {
   "cell_type": "markdown",
   "metadata": {
    "slideshow": {
     "slide_type": "subslide"
    }
   },
   "source": [
    "# simple data validation\n",
    "\n",
    "- often we need to ask the user to supply a value in our programs, but the users don't always follow directions\n",
    "\n",
    "- one strategy you can use to ensure that you get \"good\" data is to\n",
    "\"validate\" the user's input\n",
    "    - ask the user for a value\n",
    "    - if it meets our criteria we can continue\n",
    "    - if not we will need to ask the user to re-supply the value (this brings us\n",
    "    back to the first bullet)\n",
    "\n",
    "\n",
    "\n",
    "\n",
    "- __attempt two: use a `while` loop__"
   ]
  },
  {
   "cell_type": "code",
   "execution_count": 3,
   "metadata": {
    "slideshow": {
     "slide_type": "fragment"
    }
   },
   "outputs": [
    {
     "name": "stdout",
     "output_type": "stream",
     "text": [
      "enter a number between 0 and 100 (inclusive):-54\n",
      "invalid value, try again: 150\n",
      "invalid value, try again: 1000\n",
      "invalid value, try again: 79\n",
      "Good job, you entered 79\n"
     ]
    }
   ],
   "source": [
    "num = int(input (\"enter a number between 0 and 100 (inclusive):\"))\n",
    "\n",
    "while num < 0 or num > 100 :\n",
    "    num = int(input(\"invalid value, try again: \") )\n",
    "    \n",
    "print (\"Good job, you entered\", num) "
   ]
  },
  {
   "cell_type": "markdown",
   "metadata": {
    "slideshow": {
     "slide_type": "fragment"
    }
   },
   "source": [
    "__works for validation AND re-prompting__"
   ]
  },
  {
   "cell_type": "markdown",
   "metadata": {
    "slideshow": {
     "slide_type": "slide"
    }
   },
   "source": [
    "# programming challenges"
   ]
  },
  {
   "cell_type": "markdown",
   "metadata": {
    "slideshow": {
     "slide_type": "subslide"
    }
   },
   "source": [
    "# temperature conversion\n",
    "\n",
    "- write a program that allows the user to convert a temperature in\n",
    "Fahrenheit into Celsius using the following formula\n",
    "\n",
    "  $$ Celsius = \\frac{5}{9} \\times (Fahrenheit - 32) $$\n",
    "\n",
    "- after calculating the temperature ask the user if they wish to continue. If\n",
    "so, repeat the conversion with a new number. Otherwise end the\n",
    "program"
   ]
  },
  {
   "cell_type": "markdown",
   "metadata": {
    "slideshow": {
     "slide_type": "subslide"
    }
   },
   "source": [
    "# average grade\n",
    "\n",
    "\n",
    "Write a program that asks the user to continually enter in the following\n",
    "information for a group of students who just completed their first exam:\n",
    "- name\n",
    "- grade received\n",
    "\n",
    "To indicate the end of the list, the user will enter \"none\" for the name and \"-1\"\n",
    "for the grade.\n",
    "\n",
    "Calculate the following information based on the data:\n",
    "\n",
    "- number of students who took the exam\n",
    "\n",
    "- average grade on the exam\n",
    "\n",
    "- lowest grade on the exam\n",
    "\n",
    "- the name of the student who received the lowest grade\n",
    "\n",
    "- highest grade on the exam\n",
    "\n",
    "- the name of the student who received the highest grade"
   ]
  },
  {
   "cell_type": "markdown",
   "metadata": {
    "slideshow": {
     "slide_type": "subslide"
    }
   },
   "source": [
    "# find the syntax errors\n",
    "\n",
    "This code has several syntax errors. Can you find them on your own? (i.e., without attempting to run the program)"
   ]
  },
  {
   "cell_type": "code",
   "execution_count": null,
   "metadata": {
    "slideshow": {
     "slide_type": "fragment"
    }
   },
   "outputs": [],
   "source": [
    "m1 = 101\n",
    "m2 = -1\n",
    "sum = 0\n",
    "count = 0\n",
    "\n",
    "print ( \"Enter numbers from 1 to 100.\"\n",
    "print ( \"Enter 0 to indicate your last number.\")\n",
    "\n",
    "num = -1\n",
    "while num != 0  :\n",
    "    num = int ( input(\"next: \" )\n",
    "    if num < 1 or num > 100 :\n",
    "        print (\"not a valid value\")\n",
    "    else :\n",
    "        sum = sum + num\n",
    "        count = count + 1\n",
    "        if num < m1 :\n",
    "            m1 = num\n",
    "        if num > m2\n",
    "            m2 = num\n",
    "print ( \"sum:\", sum )\n",
    "print ( \" m1:\", m1 )\n",
    "print ( \" m2:\", m2 )\n",
    "print ( \"ave:\", sume / count  )"
   ]
  },
  {
   "cell_type": "code",
   "execution_count": null,
   "metadata": {},
   "outputs": [],
   "source": []
  }
 ],
 "metadata": {
  "celltoolbar": "Slideshow",
  "kernelspec": {
   "display_name": "Python 3",
   "language": "python",
   "name": "python3"
  },
  "language_info": {
   "codemirror_mode": {
    "name": "ipython",
    "version": 3
   },
   "file_extension": ".py",
   "mimetype": "text/x-python",
   "name": "python",
   "nbconvert_exporter": "python",
   "pygments_lexer": "ipython3",
   "version": "3.6.5"
  }
 },
 "nbformat": 4,
 "nbformat_minor": 2
}
