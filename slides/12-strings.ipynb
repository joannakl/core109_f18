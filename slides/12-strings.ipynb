{
 "cells": [
  {
   "cell_type": "markdown",
   "metadata": {
    "slideshow": {
     "slide_type": "slide"
    }
   },
   "source": [
    "# Strings\n",
    "\n",
    "\n",
    "## CORE-UA 109, Joanna Klukowska\n",
    "\n",
    "### adapted from slides for CSCI-UA.002 by D. Engle, C. Kapp and J. Versoza"
   ]
  },
  {
   "cell_type": "markdown",
   "metadata": {
    "slideshow": {
     "slide_type": "slide"
    }
   },
   "source": [
    "# what are strings in Python?\n",
    "\n",
    "* A String is a data type in the Python programming language\n",
    "\n",
    "* A String can be described as a _sequence of characters_\n",
    "\n",
    "* Characters are arranged in a particular position in a String.\n",
    "\n",
    "    ```python\n",
    "    word1 =\"hello\"\n",
    "    ```\n",
    "\n",
    "* In this String the character 'h' is the first character in the\n",
    "String, followed by 'e', etc. The following String contains the\n",
    "same characters but they are at different positions:\n",
    "\n",
    "    ```python\n",
    "    word2 =\"loleh\"\n",
    "    ```\n",
    "\n",
    "\n",
    "\n"
   ]
  },
  {
   "cell_type": "markdown",
   "metadata": {
    "slideshow": {
     "slide_type": "slide"
    }
   },
   "source": [
    "# working with strings in Python - basics"
   ]
  },
  {
   "cell_type": "markdown",
   "metadata": {
    "slideshow": {
     "slide_type": "subslide"
    }
   },
   "source": [
    "# accessing characters in a string\n",
    "\n",
    "* accessing individual characters is done just like accessing individual elements of a list: with the subscript operator: "
   ]
  },
  {
   "cell_type": "code",
   "execution_count": 2,
   "metadata": {
    "slideshow": {
     "slide_type": "fragment"
    }
   },
   "outputs": [
    {
     "name": "stdout",
     "output_type": "stream",
     "text": [
      "S\n",
      "e\n",
      "r\n"
     ]
    }
   ],
   "source": [
    "word = \"Shakespeare\"\n",
    "print (word[0])       #prints S\n",
    "print (word[4])       #prints e\n",
    "print (word[9])       #prints r"
   ]
  },
  {
   "cell_type": "markdown",
   "metadata": {
    "slideshow": {
     "slide_type": "fragment"
    }
   },
   "source": [
    "* accessing index out of range of valid indexes, produces an error in Python"
   ]
  },
  {
   "cell_type": "code",
   "execution_count": 3,
   "metadata": {
    "slideshow": {
     "slide_type": "fragment"
    }
   },
   "outputs": [
    {
     "ename": "IndexError",
     "evalue": "string index out of range",
     "output_type": "error",
     "traceback": [
      "\u001b[0;31m---------------------------------------------------------------------------\u001b[0m",
      "\u001b[0;31mIndexError\u001b[0m                                Traceback (most recent call last)",
      "\u001b[0;32m<ipython-input-3-be9aa1b72672>\u001b[0m in \u001b[0;36m<module>\u001b[0;34m()\u001b[0m\n\u001b[0;32m----> 1\u001b[0;31m \u001b[0mprint\u001b[0m\u001b[0;34m(\u001b[0m\u001b[0mword\u001b[0m\u001b[0;34m[\u001b[0m\u001b[0;36m15\u001b[0m\u001b[0;34m]\u001b[0m \u001b[0;34m)\u001b[0m\u001b[0;34m\u001b[0m\u001b[0m\n\u001b[0m",
      "\u001b[0;31mIndexError\u001b[0m: string index out of range"
     ]
    }
   ],
   "source": [
    "print(word[15] )"
   ]
  },
  {
   "cell_type": "markdown",
   "metadata": {
    "slideshow": {
     "slide_type": "fragment"
    }
   },
   "source": [
    "* iterating over strings with a `for` loop"
   ]
  },
  {
   "cell_type": "code",
   "execution_count": 4,
   "metadata": {
    "slideshow": {
     "slide_type": "fragment"
    }
   },
   "outputs": [
    {
     "name": "stdout",
     "output_type": "stream",
     "text": [
      "C\n",
      "o\n",
      "r\n",
      "e\n",
      " \n",
      "1\n",
      "0\n",
      "9\n"
     ]
    }
   ],
   "source": [
    "for c in \"Core 109\":\n",
    "    print (c)\n"
   ]
  },
  {
   "cell_type": "markdown",
   "metadata": {
    "slideshow": {
     "slide_type": "fragment"
    }
   },
   "source": [
    "* __we cannot change characters in a string__ !!!"
   ]
  },
  {
   "cell_type": "code",
   "execution_count": 5,
   "metadata": {
    "slideshow": {
     "slide_type": "fragment"
    }
   },
   "outputs": [
    {
     "ename": "TypeError",
     "evalue": "'str' object does not support item assignment",
     "output_type": "error",
     "traceback": [
      "\u001b[0;31m---------------------------------------------------------------------------\u001b[0m",
      "\u001b[0;31mTypeError\u001b[0m                                 Traceback (most recent call last)",
      "\u001b[0;32m<ipython-input-5-2b9e805c0f5b>\u001b[0m in \u001b[0;36m<module>\u001b[0;34m()\u001b[0m\n\u001b[1;32m      1\u001b[0m \u001b[0mword\u001b[0m \u001b[0;34m=\u001b[0m \u001b[0;34m\"Shakespeare\"\u001b[0m\u001b[0;34m\u001b[0m\u001b[0m\n\u001b[0;32m----> 2\u001b[0;31m \u001b[0mword\u001b[0m\u001b[0;34m[\u001b[0m\u001b[0;36m0\u001b[0m\u001b[0;34m]\u001b[0m \u001b[0;34m=\u001b[0m \u001b[0;34m's'\u001b[0m  \u001b[0;31m#does not work !!!\u001b[0m\u001b[0;34m\u001b[0m\u001b[0m\n\u001b[0m",
      "\u001b[0;31mTypeError\u001b[0m: 'str' object does not support item assignment"
     ]
    }
   ],
   "source": [
    "word = \"Shakespeare\"\n",
    "word[0] = 's'  #does not work !!!"
   ]
  },
  {
   "cell_type": "markdown",
   "metadata": {
    "slideshow": {
     "slide_type": "subslide"
    }
   },
   "source": [
    "# length of strings\n",
    "\n",
    "__`len()`__ function can be used to determine the length of a string"
   ]
  },
  {
   "cell_type": "code",
   "execution_count": 6,
   "metadata": {
    "slideshow": {
     "slide_type": "fragment"
    }
   },
   "outputs": [
    {
     "name": "stdout",
     "output_type": "stream",
     "text": [
      "8\n"
     ]
    }
   ],
   "source": [
    "word = \"superman\"\n",
    "num_of_characters = len(word)\n",
    "print ( num_of_characters )"
   ]
  },
  {
   "cell_type": "markdown",
   "metadata": {
    "slideshow": {
     "slide_type": "subslide"
    }
   },
   "source": [
    "# what will this program do?"
   ]
  },
  {
   "cell_type": "code",
   "execution_count": 8,
   "metadata": {
    "slideshow": {
     "slide_type": "fragment"
    }
   },
   "outputs": [
    {
     "name": "stdout",
     "output_type": "stream",
     "text": [
      "4\n"
     ]
    }
   ],
   "source": [
    "phrase = 'Superman sings in the shower'\n",
    "counter = 0\n",
    "for c in phrase :\n",
    "    if c == 's' or c =='S':\n",
    "        counter += 1\n",
    "print ( counter )"
   ]
  },
  {
   "cell_type": "code",
   "execution_count": 21,
   "metadata": {},
   "outputs": [
    {
     "name": "stdout",
     "output_type": "stream",
     "text": [
      "rewohs eht ni sgnis namrepuS"
     ]
    }
   ],
   "source": [
    "phrase = 'Superman sings in the shower'\n",
    "\n",
    "for c in range (-1, -len(phrase)-1, -1 ):\n",
    "    #print(c)\n",
    "    print( phrase[c] , end=\"\")\n"
   ]
  },
  {
   "cell_type": "markdown",
   "metadata": {
    "slideshow": {
     "slide_type": "fragment"
    }
   },
   "source": [
    "* how would you rewrite it to count all the occurences of letter 'o'?\n",
    "\n",
    "* how would you rewrite it to count all the occurences of vowels?\n",
    "\n",
    "* write a program that prints a string in reverse\n",
    "\n",
    "* write a program that prints every other character in a string"
   ]
  },
  {
   "cell_type": "markdown",
   "metadata": {
    "slideshow": {
     "slide_type": "slide"
    }
   },
   "source": [
    "# slicing strings"
   ]
  },
  {
   "cell_type": "markdown",
   "metadata": {
    "slideshow": {
     "slide_type": "subslide"
    }
   },
   "source": [
    "# string slices\n",
    "\n",
    "* sometimes we want  to extract a portion of a string from another string\n",
    "\n",
    "* we use __slicing__ to extract substrings from a string"
   ]
  },
  {
   "cell_type": "code",
   "execution_count": 24,
   "metadata": {
    "slideshow": {
     "slide_type": "fragment"
    }
   },
   "outputs": [
    {
     "name": "stdout",
     "output_type": "stream",
     "text": [
      "John\n",
      "Smith\n"
     ]
    }
   ],
   "source": [
    "full_name =\"John Smith\"\n",
    "first_name = full_name[0:4]\n",
    "last_name = full_name[5:]\n",
    "print (first_name)\n",
    "print (last_name)\n"
   ]
  },
  {
   "cell_type": "markdown",
   "metadata": {
    "slideshow": {
     "slide_type": "subslide"
    }
   },
   "source": [
    "# string slices\n",
    "\n",
    "* we use __bracket notation__ to specify the index range of the characters we want to extract\n",
    "\n",
    "* the syntax for this notation is as follows:\n",
    "\n",
    "    ```\n",
    "    substring = bigstring[ start:end:step ]\n",
    "    ```\n",
    "\n",
    "* we must supply at least a `start` or an `end` index value,\n",
    "* the other values are optional\n",
    "\n",
    "* extracted substring contains all characters starting at the `start` index and\n",
    "continue up to (but do not include) the `end` index\n",
    "\n",
    "* omitting a `start` index will cause Python to assume\n",
    "you want to start at the beginning of the string\n",
    "\n",
    "* omitting a `end` index will cause Python to assume\n",
    "    you want to continue till the end of the string\n",
    "\n",
    "* (specifying the range of characters to extract looks very much like\n",
    "the `range()` function)"
   ]
  },
  {
   "cell_type": "markdown",
   "metadata": {
    "slideshow": {
     "slide_type": "subslide"
    }
   },
   "source": [
    "# string slices - example\n",
    "\n",
    "What will the following code print?"
   ]
  },
  {
   "cell_type": "code",
   "execution_count": 26,
   "metadata": {
    "slideshow": {
     "slide_type": "fragment"
    }
   },
   "outputs": [
    {
     "name": "stdout",
     "output_type": "stream",
     "text": [
      "Superman\n",
      "sings\n",
      "Super\n",
      "sings in the shower.\n",
      "Seasgit or\n"
     ]
    }
   ],
   "source": [
    "\n",
    "word = \"Superman sings in the shower.\"\n",
    "\n",
    "print(word[0:8])\n",
    "\n",
    "print(word[9:14])\n",
    "\n",
    "print(word[:5])\n",
    "\n",
    "print(word[9:])\n",
    "\n",
    "print(word[0::3])\n"
   ]
  },
  {
   "cell_type": "code",
   "execution_count": null,
   "metadata": {
    "slideshow": {
     "slide_type": "fragment"
    }
   },
   "outputs": [],
   "source": [
    "\n",
    "\n",
    "word = \"Superman sings in the shower.\"\n",
    "\n",
    "print(word[0:8])        # all characters from index 0 up to, but not including, 8\n",
    "\n",
    "print(word[9:14])       # all characters from index 9 up to, but not including, 14\n",
    "\n",
    "print(word[:5])         # all characters from the start of the string up to, but not including, 5\n",
    "\n",
    "print(word[9:])         # all characters from index 9 up to the end of the string\n",
    "\n",
    "print(word[0:len(word):3])  # every third character from index 0 up to the end of the string \n"
   ]
  },
  {
   "cell_type": "markdown",
   "metadata": {
    "slideshow": {
     "slide_type": "slide"
    }
   },
   "source": [
    "# more operations on strings"
   ]
  },
  {
   "cell_type": "markdown",
   "metadata": {
    "slideshow": {
     "slide_type": "subslide"
    }
   },
   "source": [
    "# concatenation with __`+`__ and __`*`__\n",
    "\n",
    "* We already know that the \"+\" and \"*\" operators can be used\n",
    "in conjunction with a String\n",
    "\n",
    "* The \"+\" operator can be used to \"concatenate\" two Strings\n",
    "together\n",
    "\n",
    "* The \"*\" operator can be used to repeat a String a certain\n",
    "number of times (specified as an integer)"
   ]
  },
  {
   "cell_type": "markdown",
   "metadata": {
    "slideshow": {
     "slide_type": "subslide"
    }
   },
   "source": [
    "# testing if characters or substrings are in a string\n",
    "\n",
    "* The __`in`__ operator is a Boolean operator that you can use to\n",
    "test to see if a substring exists inside of another string."
   ]
  },
  {
   "cell_type": "code",
   "execution_count": 28,
   "metadata": {
    "slideshow": {
     "slide_type": "fragment"
    }
   },
   "outputs": [
    {
     "name": "stdout",
     "output_type": "stream",
     "text": [
      "can't find Chris\n"
     ]
    }
   ],
   "source": [
    "\n",
    "phrase = \"Jackson James John Chris Tom\" \n",
    "if \"Chris\" in phrase:\n",
    "    print (\"found him!\")\n",
    "else:\n",
    "    print (\"can't find Chris\")\n"
   ]
  },
  {
   "cell_type": "markdown",
   "metadata": {
    "slideshow": {
     "slide_type": "fragment"
    }
   },
   "source": [
    "* We can also test to see if a string is not in another string by\n",
    "using the __`not in`__ keyword in an expression."
   ]
  },
  {
   "cell_type": "code",
   "execution_count": 29,
   "metadata": {
    "slideshow": {
     "slide_type": "fragment"
    }
   },
   "outputs": [
    {
     "name": "stdout",
     "output_type": "stream",
     "text": [
      "No Johnny!\n"
     ]
    }
   ],
   "source": [
    "\n",
    "phrase = \"Jackson James John Chris Tom\"\n",
    "if \"Johnny\" not in phrase:\n",
    "    print (\"No Johnny!\")\n",
    "else:  \n",
    "    print (\"Johnny is here!\")\n"
   ]
  },
  {
   "cell_type": "markdown",
   "metadata": {
    "slideshow": {
     "slide_type": "subslide"
    }
   },
   "source": [
    "# string testing functions\n",
    "\n",
    "Here are some useful functions that are called on strings (using the\n",
    "__dot operator__):\n",
    "\n",
    "* __`isalnum()`__ `True` if all characters are alphanumeric\n",
    "\n",
    "* __`isalpha()`__ `True` if all characters are alphabetic\n",
    "\n",
    "* __`isdigit()`__ `True` if all characters are digits\n",
    "\n",
    "* __`islower()`__ `True` is all alpha characters are lower\n",
    "\n",
    "* __`isspace()`__ `True` if all characters are \"whitespace\"\n",
    "\n",
    "* __`isupper()`__ `True` if all alpha characters are upper"
   ]
  },
  {
   "cell_type": "markdown",
   "metadata": {
    "slideshow": {
     "slide_type": "subslide"
    }
   },
   "source": [
    "# string modification functions\n",
    "\n",
    "These are also functions called on strings. They return the modified version!\n",
    "They do not change the string on which they are called:\n",
    "\n",
    "* __`lower()`__\n",
    " returns a lowercase version of the string\n",
    "\n",
    "* __`upper()`__\n",
    " returns an uppercase version of the string\n",
    "\n",
    "* __`rstrip()`__\n",
    " removes whitespace at end of string\n",
    "\n",
    "* __`lstrip()`__\n",
    "removes leading whitespace characters\n",
    "\n",
    "* __`capitalize()`__\n",
    "returns a copy of the string with the first\n",
    "character capitalized\n",
    "\n",
    "* __`title()`__\n",
    "returns a copy of the string with the first\n",
    "character of each word capitalized\n",
    "\n",
    "* __`swapcase()`__\n",
    "returns a copy of the string where case is\n",
    "swapped among all alpha characters"
   ]
  },
  {
   "cell_type": "markdown",
   "metadata": {
    "slideshow": {
     "slide_type": "subslide"
    }
   },
   "source": [
    "# searching within a string\n",
    "\n",
    "* You can find whether a string exists inside another string by\n",
    "using the __`find()`__ function."
   ]
  },
  {
   "cell_type": "code",
   "execution_count": 35,
   "metadata": {
    "slideshow": {
     "slide_type": "fragment"
    }
   },
   "outputs": [
    {
     "name": "stdout",
     "output_type": "stream",
     "text": [
      "needle is at position 15\n"
     ]
    }
   ],
   "source": [
    "\n",
    "phrase = \"Like finding a needle in a haystack!\"\n",
    "location = phrase.find(\"needle\")\n",
    "if location >= 0 :\n",
    "    print (\"needle is at position\", location)\n",
    "else :\n",
    "    print (\"could not find it\")"
   ]
  },
  {
   "cell_type": "markdown",
   "metadata": {
    "slideshow": {
     "slide_type": "fragment"
    }
   },
   "source": [
    "* The `find()` function returns the index of the first\n",
    "occurrence of a substring within a string.\n",
    "\n",
    "* If the `find()` method cannot find the desired substring it\n",
    "will return -1"
   ]
  },
  {
   "cell_type": "markdown",
   "metadata": {
    "slideshow": {
     "slide_type": "subslide"
    }
   },
   "source": [
    "#  replacing parts of a string with a different one\n",
    "\n",
    "* You can have Python replace all occurrences of a substring\n",
    "by using the __`replace( )`__ method.\n",
    "\n",
    "* __`replace( str1, str2 )`__ function replaces every\n",
    "occurrence of `str1` with `str2`"
   ]
  },
  {
   "cell_type": "code",
   "execution_count": 36,
   "metadata": {
    "slideshow": {
     "slide_type": "fragment"
    }
   },
   "outputs": [
    {
     "name": "stdout",
     "output_type": "stream",
     "text": [
      "Voldemort had one goal in life - to kill Harry Potter.\n",
      "He who shall not be named had one goal in life - to kill Harry Potter.\n"
     ]
    }
   ],
   "source": [
    "\n",
    "phrase = \"Voldemort had one goal in life - to kill Harry Potter.\"\n",
    "newphrase = phrase.replace(\"Voldemort\", \"He who shall not be named\")\n",
    "print(phrase)\n",
    "print (newphrase)\n"
   ]
  },
  {
   "cell_type": "markdown",
   "metadata": {
    "slideshow": {
     "slide_type": "slide"
    }
   },
   "source": [
    "# Books are Just Really Long String\n",
    "\n",
    "- We can write programs that _read_ books. \n",
    "- The text of a book can be stored as a reeeeaaaaally long string. \n",
    "\n",
    "- Good source of books in the text format is Project Gutenberg: http://www.gutenberg.org/ \n",
    "    - search for a book that you want\n",
    "    - pick the book from the resulting matches\n",
    "    - pick the `Plain Text UTF-8` format \n",
    "    - once you are looking at the text of the book, copy the url of it to use in your code\n"
   ]
  },
  {
   "cell_type": "code",
   "execution_count": 1,
   "metadata": {
    "scrolled": true,
    "slideshow": {
     "slide_type": "subslide"
    }
   },
   "outputs": [
    {
     "name": "stdout",
     "output_type": "stream",
     "text": [
      "3293629\n",
      "566310\n",
      "==========\n",
      "﻿\r\n",
      "The Project Gutenberg EBook of War and Peace, by Leo Tolstoy\r\n",
      "\r\n",
      "This eBook is for the use of anyo\n",
      "==========\n",
      "He went up to Anna Pávlovna,\r\n",
      "kissed her hand, presenting to her his bald, scented, and shining head,\r\n",
      "and complacently seated himself on the sofa.\r\n",
      "\r\n",
      "“First of all, dear friend, tell me how you are. Set your friend’s\r\n",
      "mind at rest,” said he without altering his tone, beneath the\r\n",
      "politeness and affected sympathy of which\n"
     ]
    }
   ],
   "source": [
    "# include the library for reading data from url\n",
    "import urllib.request\n",
    "\n",
    "# where should we obtain data from?\n",
    "url_war_and_peace = \"http://www.gutenberg.org/files/2600/2600-0.txt\"\n",
    "\n",
    "# initiate request to URL\n",
    "response = urllib.request.urlopen(url_war_and_peace)\n",
    "\n",
    "# read data from URL as a string, making sure\n",
    "# that the string is formatted as a series of ASCII characters\n",
    "data = response.read().decode('utf-8')\n",
    "words = data.split() \n",
    "# output\n",
    "print (len(data) ) \n",
    "print (len(words) ) \n",
    "print (\"=\"*10)\n",
    "print (data[:100])\n",
    "print (\"=\"*10)\n",
    "print (data[9877:10200])"
   ]
  },
  {
   "cell_type": "markdown",
   "metadata": {
    "slideshow": {
     "slide_type": "slide"
    }
   },
   "source": [
    "# Characters and Numbers\n",
    "\n",
    "- characters are represented as the ASCII codes - this means that for every character\n",
    "we can get a unique number that corresponds to it\n",
    "- `ord()` is a function that given a single character (in quotes) returns its corresponding number\n",
    "- `chr()` is a function that given a number returnes its chrreponding character\n",
    "\n",
    "This sometimes comes in handy. \n"
   ]
  },
  {
   "cell_type": "code",
   "execution_count": 38,
   "metadata": {
    "slideshow": {
     "slide_type": "fragment"
    }
   },
   "outputs": [
    {
     "name": "stdout",
     "output_type": "stream",
     "text": [
      "A 65\n",
      "B 66\n",
      "C 67\n",
      "D 68\n",
      "E 69\n",
      "F 70\n",
      "G 71\n",
      "H 72\n",
      "I 73\n",
      "J 74\n",
      "K 75\n",
      "L 76\n",
      "M 77\n",
      "N 78\n",
      "O 79\n",
      "P 80\n",
      "Q 81\n",
      "R 82\n",
      "S 83\n",
      "T 84\n",
      "U 85\n",
      "V 86\n",
      "W 87\n",
      "X 88\n",
      "Y 89\n",
      "Z 90\n"
     ]
    }
   ],
   "source": [
    "for letter in \"ABCDEFGHIJKLMNOPQRSTUVWXYZ\" :\n",
    "    print(letter, ord(letter))"
   ]
  },
  {
   "cell_type": "code",
   "execution_count": 41,
   "metadata": {
    "slideshow": {
     "slide_type": "fragment"
    }
   },
   "outputs": [
    {
     "name": "stdout",
     "output_type": "stream",
     "text": [
      "6597 ᧅ\n",
      "6598 ᧆ\n",
      "6599 ᧇ\n",
      "6600 ᧈ\n",
      "6601 ᧉ\n",
      "6602 ᧊\n",
      "6603 ᧋\n",
      "6604 ᧌\n",
      "6605 ᧍\n",
      "6606 ᧎\n",
      "6607 ᧏\n",
      "6608 ᧐\n",
      "6609 ᧑\n",
      "6610 ᧒\n",
      "6611 ᧓\n",
      "6612 ᧔\n",
      "6613 ᧕\n",
      "6614 ᧖\n",
      "6615 ᧗\n",
      "6616 ᧘\n",
      "6617 ᧙\n",
      "6618 ᧚\n",
      "6619 ᧛\n",
      "6620 ᧜\n",
      "6621 ᧝\n",
      "6622 ᧞\n"
     ]
    }
   ],
   "source": [
    "for c in range(6597, 6623) :\n",
    "    print (format(c, \"3d\")  , chr(c))"
   ]
  },
  {
   "cell_type": "code",
   "execution_count": 42,
   "metadata": {
    "slideshow": {
     "slide_type": "fragment"
    }
   },
   "outputs": [
    {
     "name": "stdout",
     "output_type": "stream",
     "text": [
      " 32:  ' '   |\t 33:  '!'   |\t 34:  '\"'   |\t 35:  '#'   |\t\n",
      " 36:  '$'   |\t 37:  '%'   |\t 38:  '&'   |\t 39:  '''   |\t\n",
      " 40:  '('   |\t 41:  ')'   |\t 42:  '*'   |\t 43:  '+'   |\t\n",
      " 44:  ','   |\t 45:  '-'   |\t 46:  '.'   |\t 47:  '/'   |\t\n",
      " 48:  '0'   |\t 49:  '1'   |\t 50:  '2'   |\t 51:  '3'   |\t\n",
      " 52:  '4'   |\t 53:  '5'   |\t 54:  '6'   |\t 55:  '7'   |\t\n",
      " 56:  '8'   |\t 57:  '9'   |\t 58:  ':'   |\t 59:  ';'   |\t\n",
      " 60:  '<'   |\t 61:  '='   |\t 62:  '>'   |\t 63:  '?'   |\t\n",
      " 64:  '@'   |\t 65:  'A'   |\t 66:  'B'   |\t 67:  'C'   |\t\n",
      " 68:  'D'   |\t 69:  'E'   |\t 70:  'F'   |\t 71:  'G'   |\t\n",
      " 72:  'H'   |\t 73:  'I'   |\t 74:  'J'   |\t 75:  'K'   |\t\n",
      " 76:  'L'   |\t 77:  'M'   |\t 78:  'N'   |\t 79:  'O'   |\t\n",
      " 80:  'P'   |\t 81:  'Q'   |\t 82:  'R'   |\t 83:  'S'   |\t\n",
      " 84:  'T'   |\t 85:  'U'   |\t 86:  'V'   |\t 87:  'W'   |\t\n",
      " 88:  'X'   |\t 89:  'Y'   |\t 90:  'Z'   |\t 91:  '['   |\t\n",
      " 92:  '\\'   |\t 93:  ']'   |\t 94:  '^'   |\t 95:  '_'   |\t\n",
      " 96:  '`'   |\t 97:  'a'   |\t 98:  'b'   |\t 99:  'c'   |\t\n",
      "100:  'd'   |\t101:  'e'   |\t102:  'f'   |\t103:  'g'   |\t\n",
      "104:  'h'   |\t105:  'i'   |\t106:  'j'   |\t107:  'k'   |\t\n",
      "108:  'l'   |\t109:  'm'   |\t110:  'n'   |\t111:  'o'   |\t\n",
      "112:  'p'   |\t113:  'q'   |\t114:  'r'   |\t115:  's'   |\t\n",
      "116:  't'   |\t117:  'u'   |\t118:  'v'   |\t119:  'w'   |\t\n",
      "120:  'x'   |\t121:  'y'   |\t122:  'z'   |\t123:  '{'   |\t\n",
      "124:  '|'   |\t125:  '}'   |\t126:  '~'   |\t127:  ''   |\t\n"
     ]
    }
   ],
   "source": [
    "for c in range (32,128) :\n",
    "    print (format(c,\"3d\"), \":  '\",format(chr(c), \"1s\"), \"'   |\", sep=\"\", end=\"\\t\") \n",
    "    if (c+1)%4 == 0 :\n",
    "        print()"
   ]
  },
  {
   "cell_type": "markdown",
   "metadata": {
    "slideshow": {
     "slide_type": "slide"
    }
   },
   "source": [
    "# programming challenges"
   ]
  },
  {
   "cell_type": "markdown",
   "metadata": {
    "slideshow": {
     "slide_type": "subslide"
    }
   },
   "source": [
    "# password validator\n",
    "\n",
    "* Write a program that asks the user to enter a username and select a password\n",
    "for it.\n",
    "\n",
    "* The program the should _validate_ the password using the following rules\n",
    "\n",
    "    * the password cannot contain the username as its substring\n",
    "\n",
    "    * the password cannot contain the string `password` as its substring\n",
    "\n",
    "    * the password has to contain at least one digit\n",
    "\n",
    "    * the password has to contain at least one upper case and one lower case character\n",
    "\n",
    "* If the password is valid, the program should print \"OK\". If it is not,\n",
    "the program should print \"Invalid!\""
   ]
  },
  {
   "cell_type": "markdown",
   "metadata": {
    "slideshow": {
     "slide_type": "subslide"
    }
   },
   "source": [
    "# character analysis\n",
    "\n",
    "* Write a program that counts the number of spaces, digits, vowels\n",
    "and consonants in a string that the user inputs.\n",
    "\n",
    "example output:\n",
    "\n",
    "    Enter a phrase: Sally Sells 1000 sea shells.\n",
    "\n",
    "     Spaces: 4\n",
    "     Digits: 4\n",
    "     Vowels: 5\n",
    "     Consonants: 12"
   ]
  },
  {
   "cell_type": "markdown",
   "metadata": {
    "slideshow": {
     "slide_type": "subslide"
    }
   },
   "source": [
    "# Pig Latin translator\n",
    "\n",
    "\n",
    "* Write a program that asks the\n",
    "user for a word\n",
    "\n",
    "* Translate their word into Pig\n",
    "Latin. \n",
    "\n",
    "A Pig Latin word can be\n",
    "generated using the following\n",
    "rules:\n",
    "\n",
    "* Remove the first letter of the word\n",
    "\n",
    "* Place the first letter of the word at the end of the word\n",
    "\n",
    "* Add the string \"ay\" to the end of the word\n",
    "\n",
    "\n",
    "\n",
    "<img src=\"img/pig_latin.png\" width=30% >\n"
   ]
  },
  {
   "cell_type": "markdown",
   "metadata": {
    "slideshow": {
     "slide_type": "subslide"
    }
   },
   "source": [
    "# Palindrome tester\n",
    "\n",
    "* Write a program that asks the user for a word\n",
    "\n",
    "* Determine whether the supplied word is a palindrome (a word that\n",
    "reads the same backwards and forwards)"
   ]
  },
  {
   "cell_type": "markdown",
   "metadata": {
    "slideshow": {
     "slide_type": "subslide"
    }
   },
   "source": [
    "# Vowel Counter\n",
    "\n",
    "* Write a program that counts the #'s of vowels in a\n",
    "string (A,E,I,O,U,Y)\n",
    "\n",
    "* Display the results for each vowel\n",
    "\n",
    "* Extra challenge: how would you display the results so that they are\n",
    "more _visual_ than just numbers."
   ]
  },
  {
   "cell_type": "code",
   "execution_count": null,
   "metadata": {},
   "outputs": [],
   "source": []
  }
 ],
 "metadata": {
  "celltoolbar": "Slideshow",
  "kernelspec": {
   "display_name": "Python 3",
   "language": "python",
   "name": "python3"
  },
  "language_info": {
   "codemirror_mode": {
    "name": "ipython",
    "version": 3
   },
   "file_extension": ".py",
   "mimetype": "text/x-python",
   "name": "python",
   "nbconvert_exporter": "python",
   "pygments_lexer": "ipython3",
   "version": "3.6.5"
  }
 },
 "nbformat": 4,
 "nbformat_minor": 2
}
