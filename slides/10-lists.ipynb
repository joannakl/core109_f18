{
 "cells": [
  {
   "cell_type": "markdown",
   "metadata": {
    "slideshow": {
     "slide_type": "slide"
    }
   },
   "source": [
    "# Lists\n",
    "\n",
    "## CORE-UA 109.01, Joanna Klukowska <br>"
   ]
  },
  {
   "cell_type": "markdown",
   "metadata": {
    "slideshow": {
     "slide_type": "slide"
    }
   },
   "source": [
    "# variables vs. lists\n",
    "\n",
    "* So far we have been working with variables, which can be\n",
    "thought of as _buckets_ that hold a particular piece of data\n",
    "\n",
    "* Variables can only hold one piece of data at a time. Example\n",
    "    * `x = 5`\n",
    "    * `y = 5.0`\n",
    "    * `z = 'hello'`\n",
    "    * `q = True`\n",
    "\n",
    "* However, there are times when we need to keep track of\n",
    "multiple pieces of data at the same time, and a single\n",
    "variable is limited to holding just one thing at a time\n",
    "\n",
    "\n",
    "\n",
    "* Lists are considered a “sequence” object. Sequence objects\n",
    "have the ability to hold multiple pieces of data at the same\n",
    "time.\n",
    "\n",
    "* We can use a single sequence variable to hold any number\n",
    "of values.\n",
    "\n",
    "* In most programming languages we call these _arrays_. In\n",
    "Python we call these __lists__."
   ]
  },
  {
   "cell_type": "markdown",
   "metadata": {
    "slideshow": {
     "slide_type": "slide"
    }
   },
   "source": [
    "# variables vs lists\n",
    "\n",
    "<img src=\"img/list_variable.png\" width=80% alt=\"variables vs. lists \">\n"
   ]
  },
  {
   "cell_type": "markdown",
   "metadata": {
    "slideshow": {
     "slide_type": "slide"
    }
   },
   "source": [
    "# working with lists in Python - basics"
   ]
  },
  {
   "cell_type": "markdown",
   "metadata": {
    "slideshow": {
     "slide_type": "subslide"
    }
   },
   "source": [
    "# list creation\n",
    "\n",
    "* we can create a list in Python by using the __bracket notation__.\n",
    "\n",
    "        my_list = [1, 2, 3]\n",
    "\n",
    "* to create an empty list, we just use a set of square brackets (we'll see soon why\n",
    "one would want an empty list\n",
    "\n",
    "                                                                 \n",
    "        my_list = []    # creates an empty list\n",
    "        my_list1 = [0] * 10     # creates a list of ten zeros\n",
    "\n",
    "\n",
    "* to create a list with a preset number of elements with the same value\n",
    "                                                         \n",
    "                                                                 \n",
    "        my_list1 = [0] * 10     # creates a list of ten zeros\n",
    "        my_list2 = ['Amy'] * 5  # creates a list of five strings 'Amy'\n",
    "\n",
    "    \n",
    "* we can use the `range()` function to create a list as well - we just need to\n",
    "convert the iterable to a list\n",
    "\n",
    "        even_numbers = list(range(0,100,2))"
   ]
  },
  {
   "cell_type": "markdown",
   "metadata": {
    "slideshow": {
     "slide_type": "subslide"
    }
   },
   "source": [
    "# operations on the whole list\n",
    "\n",
    "* we can print the value of a list using the print() function."
   ]
  },
  {
   "cell_type": "code",
   "execution_count": 4,
   "metadata": {
    "slideshow": {
     "slide_type": "fragment"
    }
   },
   "outputs": [
    {
     "name": "stdout",
     "output_type": "stream",
     "text": [
      "[67, 98, 1, 45, 90]\n"
     ]
    }
   ],
   "source": [
    "my_list = [67, 98, 1, 45, 90]\n",
    "print (my_list)"
   ]
  },
  {
   "cell_type": "markdown",
   "metadata": {
    "slideshow": {
     "slide_type": "fragment"
    }
   },
   "source": [
    "* we can determine the length of the list by using the `len()` function"
   ]
  },
  {
   "cell_type": "code",
   "execution_count": 5,
   "metadata": {
    "slideshow": {
     "slide_type": "fragment"
    }
   },
   "outputs": [
    {
     "name": "stdout",
     "output_type": "stream",
     "text": [
      "5\n"
     ]
    }
   ],
   "source": [
    "my_list = [67, 98, 1, 45, 90]\n",
    "print ( len(my_list) )"
   ]
  },
  {
   "cell_type": "markdown",
   "metadata": {
    "slideshow": {
     "slide_type": "subslide"
    }
   },
   "source": [
    "# combining lists\n",
    "\n",
    "* __list repetition__ - just use the repetition operator `*`\n",
    "(similar to repeating strings)"
   ]
  },
  {
   "cell_type": "code",
   "execution_count": 6,
   "metadata": {
    "slideshow": {
     "slide_type": "fragment"
    }
   },
   "outputs": [
    {
     "name": "stdout",
     "output_type": "stream",
     "text": [
      "[1, 2, 3, 1, 2, 3, 1, 2, 3]\n"
     ]
    }
   ],
   "source": [
    "my_list = [1, 2, 3] * 3\n",
    "print (my_list)"
   ]
  },
  {
   "cell_type": "markdown",
   "metadata": {
    "slideshow": {
     "slide_type": "fragment"
    }
   },
   "source": [
    "* __list concatenation__ - use he concatenation operator `+` to combine\n",
    "different lists into a single list"
   ]
  },
  {
   "cell_type": "code",
   "execution_count": 7,
   "metadata": {
    "slideshow": {
     "slide_type": "fragment"
    }
   },
   "outputs": [
    {
     "name": "stdout",
     "output_type": "stream",
     "text": [
      "[1, 2, 3, 99, 100, 101]\n"
     ]
    }
   ],
   "source": [
    "my_list = [1, 2, 3] + [99, 100, 101]\n",
    "print (my_list) "
   ]
  },
  {
   "cell_type": "markdown",
   "metadata": {
    "slideshow": {
     "slide_type": "subslide"
    }
   },
   "source": [
    "# accessing list elements\n",
    "\n",
    "* in a book we can reference a page by its page number\n",
    "\n",
    "* in a list we can reference an element by its __index__ number\n",
    "\n",
    "* __indexes start at the number zero__\n",
    "\n",
    "* example:"
   ]
  },
  {
   "cell_type": "code",
   "execution_count": 8,
   "metadata": {
    "slideshow": {
     "slide_type": "fragment"
    }
   },
   "outputs": [
    {
     "name": "stdout",
     "output_type": "stream",
     "text": [
      "Ann\n",
      "Kate\n"
     ]
    }
   ],
   "source": [
    "\n",
    "my_list = ['Ann', 'John', 'Kate']\n",
    "print (my_list[0])\n",
    "print (my_list[2])\n"
   ]
  },
  {
   "cell_type": "markdown",
   "metadata": {
    "slideshow": {
     "slide_type": "fragment"
    }
   },
   "source": [
    "* we will get an error if we attempt to access an\n",
    "element outside the range of a list."
   ]
  },
  {
   "cell_type": "code",
   "execution_count": 10,
   "metadata": {
    "slideshow": {
     "slide_type": "fragment"
    }
   },
   "outputs": [
    {
     "name": "stdout",
     "output_type": "stream",
     "text": [
      "John\n"
     ]
    }
   ],
   "source": [
    "\n",
    "my_list = ['Craig', 'John', 'Chris']\n",
    "print (my_list[4]) # Index doesn't exist!\n",
    "print (my_list[-2]) \n"
   ]
  },
  {
   "cell_type": "markdown",
   "metadata": {
    "slideshow": {
     "slide_type": "subslide"
    }
   },
   "source": [
    "# modifying list elements\n",
    "\n",
    "* we can change elements in the list by assigning a new value to\n",
    "the location at a particular index\n",
    "\n",
    "* example:"
   ]
  },
  {
   "cell_type": "code",
   "execution_count": 13,
   "metadata": {
    "slideshow": {
     "slide_type": "fragment"
    }
   },
   "outputs": [
    {
     "name": "stdout",
     "output_type": "stream",
     "text": [
      "[1, 2, 3]\n",
      "[1, 'two', 3]\n"
     ]
    }
   ],
   "source": [
    "my_list = [1, 2, 3]\n",
    "print (my_list)\n",
    "\n",
    "my_list[1] = 'two'\n",
    "print (my_list)\n"
   ]
  },
  {
   "cell_type": "markdown",
   "metadata": {
    "slideshow": {
     "slide_type": "subslide"
    }
   },
   "source": [
    "# lists can have multiple names\n",
    "\n",
    "* when we assign a list name to a new variable, we do not create another list,\n",
    "the list is simply given another name\n",
    "\n",
    "* example:"
   ]
  },
  {
   "cell_type": "code",
   "execution_count": 14,
   "metadata": {
    "slideshow": {
     "slide_type": "fragment"
    }
   },
   "outputs": [
    {
     "name": "stdout",
     "output_type": "stream",
     "text": [
      "[1, 2, 3]\n",
      "[1, 2, 3]\n",
      "[55, 100, 3]\n",
      "[55, 100, 3]\n"
     ]
    }
   ],
   "source": [
    "mylist1 = [1, 2, 3 ]\n",
    "mylist2 = mylist1           # now we have two different names for the same list\n",
    "\n",
    "print (mylist1)\n",
    "print (mylist2)\n",
    "\n",
    "mylist1[0] = 55             # changes the element at index zero in both lists\n",
    "mylist2[1] = 100            # changes the element at index one in both lists\n",
    "\n",
    "print (mylist1)\n",
    "print (mylist2)\n"
   ]
  },
  {
   "cell_type": "markdown",
   "metadata": {
    "slideshow": {
     "slide_type": "subslide"
    }
   },
   "source": [
    "# creating a copy of a list\n",
    "\n",
    "* to create a duplicate of a list (the actual second list, not just a different name for\n",
    "the same list) we need to use a trick\n",
    "\n",
    "* `[]` in python denotes an empty list\n",
    "\n",
    "* concatenating an empty list with an existing list creates a new list:"
   ]
  },
  {
   "cell_type": "code",
   "execution_count": 15,
   "metadata": {
    "slideshow": {
     "slide_type": "fragment"
    }
   },
   "outputs": [
    {
     "name": "stdout",
     "output_type": "stream",
     "text": [
      "[1, 2, 5]\n",
      "[1, 2, 3]\n"
     ]
    }
   ],
   "source": [
    "\n",
    "mylist = [1, 2, 3 ]\n",
    "mylist_copy = [] + mylist     #creates a new list\n",
    "\n",
    "mylist[2] = 5 \n",
    "\n",
    "print(mylist)\n",
    "print(mylist_copy)\n"
   ]
  },
  {
   "cell_type": "markdown",
   "metadata": {
    "slideshow": {
     "slide_type": "slide"
    }
   },
   "source": [
    "# iterating over lists\n",
    "## (we did some of it before)"
   ]
  },
  {
   "cell_type": "markdown",
   "metadata": {
    "slideshow": {
     "slide_type": "subslide"
    }
   },
   "source": [
    "# using a `for` loop\n",
    "\n",
    "* the target variable assumes the value of each element in the list in order, for example: "
   ]
  },
  {
   "cell_type": "code",
   "execution_count": 16,
   "metadata": {
    "slideshow": {
     "slide_type": "fragment"
    }
   },
   "outputs": [
    {
     "name": "stdout",
     "output_type": "stream",
     "text": [
      "1\n",
      "2\n",
      "3\n"
     ]
    }
   ],
   "source": [
    "mylist = [1, 2, 3]\n",
    "\n",
    "for num in mylist :\n",
    "    print (num)\n"
   ]
  },
  {
   "cell_type": "markdown",
   "metadata": {},
   "source": [
    "* the target variable takes on values of index "
   ]
  },
  {
   "cell_type": "code",
   "execution_count": 17,
   "metadata": {},
   "outputs": [
    {
     "name": "stdout",
     "output_type": "stream",
     "text": [
      "1\n",
      "2\n",
      "3\n"
     ]
    }
   ],
   "source": [
    "mylist = [1, 2, 3]\n",
    "\n",
    "for index in range(len(mylist)) :\n",
    "    print (mylist[index])"
   ]
  },
  {
   "cell_type": "markdown",
   "metadata": {
    "slideshow": {
     "slide_type": "subslide"
    }
   },
   "source": [
    "# write a program: count B's\n",
    "\n",
    "* let's write a program that given a list of grades counts the number\n",
    "of grades corresponding to a B\n",
    "    * scores greater than or equal to 80 and less than 90 correspond to B"
   ]
  },
  {
   "cell_type": "code",
   "execution_count": null,
   "metadata": {
    "slideshow": {
     "slide_type": "fragment"
    }
   },
   "outputs": [],
   "source": [
    "grades = [89,100,70,45,76,84,93,81,36,99,79]\n",
    "\n",
    "# FINISH THIS CODE"
   ]
  },
  {
   "cell_type": "code",
   "execution_count": null,
   "metadata": {
    "slideshow": {
     "slide_type": "fragment"
    }
   },
   "outputs": [],
   "source": [
    "grades = [89,100,70,45,76,84,93,81,36,99,79]\n",
    "count = 0\n",
    "for grade in grades:\n",
    "    if grade < 90 and grade >= 80 :\n",
    "        count = count + 1\n",
    "print (count)"
   ]
  },
  {
   "cell_type": "markdown",
   "metadata": {
    "slideshow": {
     "slide_type": "subslide"
    }
   },
   "source": [
    "# changing values stored in the list\n",
    "\n",
    "* consider the following code, what do you think it should do?"
   ]
  },
  {
   "cell_type": "code",
   "execution_count": 18,
   "metadata": {
    "slideshow": {
     "slide_type": "fragment"
    }
   },
   "outputs": [
    {
     "name": "stdout",
     "output_type": "stream",
     "text": [
      "[10, 20, 30]\n"
     ]
    }
   ],
   "source": [
    "\n",
    "mylist = [10, 20, 30]\n",
    "for num in mylist:\n",
    "    num = num * 2\n",
    "print (mylist)  \n",
    "\n"
   ]
  },
  {
   "cell_type": "markdown",
   "metadata": {
    "slideshow": {
     "slide_type": "fragment"
    }
   },
   "source": [
    "* you might expect that the list gets changed to `[20, 40, 60]`,\n",
    "__but that is not the case__\n",
    "\n",
    "* the above code does not change the list at all, the only changes are made\n",
    "to the target variable\n",
    "\n",
    "\n",
    "\n",
    "* to change the content of the list, we need to access its elements using\n",
    "an index for the elements that should be modfied\n"
   ]
  },
  {
   "cell_type": "code",
   "execution_count": 19,
   "metadata": {
    "slideshow": {
     "slide_type": "fragment"
    }
   },
   "outputs": [
    {
     "name": "stdout",
     "output_type": "stream",
     "text": [
      "[20, 40, 60]\n"
     ]
    }
   ],
   "source": [
    "mylist = [10, 20, 30]\n",
    "for index in range( len(mylist) ):\n",
    "    mylist[index] = mylist[index] * 2\n",
    "print (mylist)"
   ]
  },
  {
   "cell_type": "markdown",
   "metadata": {
    "slideshow": {
     "slide_type": "subslide"
    }
   },
   "source": [
    "\n",
    "# write a program: change the list\n",
    "\n",
    "* Given the following list of prices, write a program that\n",
    "modifies the list to include 8% sales tax"
   ]
  },
  {
   "cell_type": "code",
   "execution_count": 26,
   "metadata": {
    "slideshow": {
     "slide_type": "fragment"
    }
   },
   "outputs": [
    {
     "name": "stdout",
     "output_type": "stream",
     "text": [
      "2.15, 3.23, 4.31, 5.39, 6.47, 7.55, "
     ]
    }
   ],
   "source": [
    "\n",
    "prices = [1.99, 2.99, 3.99, 4.99, 5.99, 6.99]\n",
    "for index in range(len(prices)): \n",
    "    prices[index]=prices[index]*1.08\n",
    "    print (format(prices[index],\".2f\"), end=', ')\n",
    "    \n",
    "#print (prices)"
   ]
  },
  {
   "cell_type": "markdown",
   "metadata": {
    "slideshow": {
     "slide_type": "fragment"
    }
   },
   "source": [
    "*  Given the following list of values, write a program that\n",
    "multiplies the values by 2 if the original value is odd (it should leave\n",
    "the even values unchanged)"
   ]
  },
  {
   "cell_type": "code",
   "execution_count": null,
   "metadata": {
    "slideshow": {
     "slide_type": "fragment"
    }
   },
   "outputs": [],
   "source": [
    "values = [12, 32, 17, 5, 12, 11, 19, 0, 1, 6]\n"
   ]
  },
  {
   "cell_type": "markdown",
   "metadata": {
    "slideshow": {
     "slide_type": "slide"
    }
   },
   "source": [
    "# useful functions for working with lists"
   ]
  },
  {
   "cell_type": "markdown",
   "metadata": {
    "slideshow": {
     "slide_type": "subslide"
    }
   },
   "source": [
    "# finding items in the list using __`in`__\n",
    "\n",
    "- __`in`__ allows us to test if an element is in the list or not"
   ]
  },
  {
   "cell_type": "code",
   "execution_count": null,
   "metadata": {
    "slideshow": {
     "slide_type": "fragment"
    }
   },
   "outputs": [],
   "source": [
    "my_list = ['pie', 'cake', 'pizza']\n",
    "if 'cake' in my_list:\n",
    "    print (\"I found cake!\")\n",
    "else:\n",
    "    print (\"No cake found.\")"
   ]
  },
  {
   "cell_type": "code",
   "execution_count": null,
   "metadata": {
    "slideshow": {
     "slide_type": "fragment"
    }
   },
   "outputs": [],
   "source": [
    "my_list = ['pie', 'cake', 'pizza']\n",
    "if 'candy' in my_list:\n",
    "    print (\"I found candy!\")\n",
    "else:\n",
    "    print (\"No candy found.\")"
   ]
  },
  {
   "cell_type": "markdown",
   "metadata": {
    "slideshow": {
     "slide_type": "subslide"
    }
   },
   "source": [
    "\n",
    "# try it yourself:\n",
    "\n",
    "* given the list:\n",
    "\n",
    "        a = [1,2,3,4,5]\n",
    "    \n",
    "  - write a program that determines if 7 is in the list\n",
    "  - write a program that determines if 4 is in the list \n",
    "  - can you think of how to combine the above two programs into a single one? i.e., write a program that tests if 7 is in the list and then tests if 4 is in the list? can you do that without using `if` in your code only once? \n",
    " \n",
    " \n",
    "* given these two lists:\n",
    "\n",
    "        a = [1,2,3,4,5]\n",
    "        b = [2,3,10,5, 11,12,1]\n",
    "\n",
    "    - write a program that finds all elements that exist in both lists\n",
    "    (i.e. the integers 1, 2, and 5 exist in both lists), store your result in a list and print it out to the user\n"
   ]
  },
  {
   "cell_type": "code",
   "execution_count": 6,
   "metadata": {},
   "outputs": [
    {
     "name": "stdout",
     "output_type": "stream",
     "text": [
      "[1, 2, 3, 5]\n"
     ]
    }
   ],
   "source": [
    "a = [1,2,3,4,5]\n",
    "b = [2,3,10,5, 11,12,1]\n",
    "c = [] \n",
    "'''\n",
    "if len(a) < len(b): \n",
    "    for index in range (len(b)) :\n",
    "        if b[index] in a : \n",
    "            c = c + [ b[index] ]\n",
    "else :\n",
    "'''\n",
    "for index in range (len(a)) :\n",
    "    if a[index] in b : \n",
    "        c = c + [ a[index] ]\n",
    "print ( c )"
   ]
  },
  {
   "cell_type": "markdown",
   "metadata": {
    "slideshow": {
     "slide_type": "subslide"
    }
   },
   "source": [
    "\n",
    "# adding/appending items to a list\n",
    "\n",
    "* we have already seen a few ways in which we can add items to\n",
    "lists:\n",
    "    * repeat the list using the `*` operator\n",
    "    * concatenate the list using the `+` operator\n",
    "\n",
    "* another way to add items to a list is to use the __`append()`__ method\n",
    "    * this function is part of the list data type\n",
    "    * it adds new element at __the end__ of the list\n",
    "\n",
    "* example"
   ]
  },
  {
   "cell_type": "code",
   "execution_count": 7,
   "metadata": {
    "slideshow": {
     "slide_type": "fragment"
    }
   },
   "outputs": [
    {
     "name": "stdout",
     "output_type": "stream",
     "text": [
      "['Christine', 'Jasmine', 'Renee', 'Kate']\n"
     ]
    }
   ],
   "source": [
    "    mylist = ['Christine', 'Jasmine', 'Renee']\n",
    "    mylist.append('Kate')\n",
    "    print (mylist)"
   ]
  },
  {
   "cell_type": "markdown",
   "metadata": {
    "slideshow": {
     "slide_type": "fragment"
    }
   },
   "source": [
    "* notice that the `append()` function is called using the __dot operator__ - this\n",
    "operator is used to __call a function on__ a list"
   ]
  },
  {
   "cell_type": "markdown",
   "metadata": {
    "slideshow": {
     "slide_type": "subslide"
    }
   },
   "source": [
    "# sorting list elements\n",
    "\n",
    "* we can have Python sort items in a list using the __`sort()`__ function\n",
    "\n",
    "* example:"
   ]
  },
  {
   "cell_type": "code",
   "execution_count": 8,
   "metadata": {
    "slideshow": {
     "slide_type": "fragment"
    }
   },
   "outputs": [
    {
     "name": "stdout",
     "output_type": "stream",
     "text": [
      "['pie', 'cake', 'Pizza', 'apple']\n",
      "['Pizza', 'apple', 'cake', 'pie']\n"
     ]
    }
   ],
   "source": [
    "\n",
    "my_list = ['pie', 'cake', 'Pizza']\n",
    "\n",
    "my_list.append('apple')\n",
    "print (my_list)\n",
    "\n",
    "my_list.sort()\n",
    "print (my_list)\n"
   ]
  },
  {
   "cell_type": "markdown",
   "metadata": {
    "slideshow": {
     "slide_type": "slide"
    }
   },
   "source": [
    "# finding the position of an item in the list\n",
    "\n",
    "* we can use the __`index()`__ function to ask Python to tell us the index of an\n",
    "item in a list\n",
    "\n",
    "* the `index()` function takes one argument - an element to search for -\n",
    "and returns an integer value of where that element can be found.\n",
    "\n",
    "* warning: the `index()` function will cause an error if it cannot find the\n",
    "item in the list\n",
    "\n",
    "* example:"
   ]
  },
  {
   "cell_type": "code",
   "execution_count": 11,
   "metadata": {
    "slideshow": {
     "slide_type": "fragment"
    }
   },
   "outputs": [
    {
     "name": "stdout",
     "output_type": "stream",
     "text": [
      "pie is at postion # 1\n"
     ]
    },
    {
     "ename": "ValueError",
     "evalue": "'coffee' is not in list",
     "output_type": "error",
     "traceback": [
      "\u001b[0;31m---------------------------------------------------------------------------\u001b[0m",
      "\u001b[0;31mValueError\u001b[0m                                Traceback (most recent call last)",
      "\u001b[0;32m<ipython-input-11-0f8ad7f1c5be>\u001b[0m in \u001b[0;36m<module>\u001b[0;34m()\u001b[0m\n\u001b[1;32m      7\u001b[0m     \u001b[0mprint\u001b[0m \u001b[0;34m(\u001b[0m\u001b[0;34m'there is no pie!'\u001b[0m\u001b[0;34m)\u001b[0m\u001b[0;34m\u001b[0m\u001b[0m\n\u001b[1;32m      8\u001b[0m \u001b[0;34m\u001b[0m\u001b[0m\n\u001b[0;32m----> 9\u001b[0;31m \u001b[0mlocation\u001b[0m \u001b[0;34m=\u001b[0m \u001b[0mmy_list\u001b[0m\u001b[0;34m.\u001b[0m\u001b[0mindex\u001b[0m\u001b[0;34m(\u001b[0m\u001b[0;34m\"coffee\"\u001b[0m\u001b[0;34m)\u001b[0m\u001b[0;34m\u001b[0m\u001b[0m\n\u001b[0m\u001b[1;32m     10\u001b[0m \u001b[0mprint\u001b[0m \u001b[0;34m(\u001b[0m\u001b[0mlocation\u001b[0m \u001b[0;34m)\u001b[0m\u001b[0;34m\u001b[0m\u001b[0m\n",
      "\u001b[0;31mValueError\u001b[0m: 'coffee' is not in list"
     ]
    }
   ],
   "source": [
    "my_list = ['pizza', 'pie', 'cake']\n",
    "\n",
    "if 'pie' in my_list:\n",
    "    location = my_list.index('pie')\n",
    "    print ('pie is at postion #', location)\n",
    "else:\n",
    "    print ('there is no pie!')\n",
    "    \n",
    "location = my_list.index(\"coffee\") \n",
    "print (location )"
   ]
  },
  {
   "cell_type": "markdown",
   "metadata": {
    "slideshow": {
     "slide_type": "slide"
    }
   },
   "source": [
    "# finding smallest and largest\n",
    "\n",
    "*  Python has two built in functions that let us get the highest\n",
    "and lowest values in a list\n",
    "\n",
    "* __`min()`__\n",
    "\n",
    "* __`max()`__\n",
    "\n",
    "* example:"
   ]
  },
  {
   "cell_type": "code",
   "execution_count": null,
   "metadata": {
    "slideshow": {
     "slide_type": "fragment"
    }
   },
   "outputs": [],
   "source": [
    "prices = [2.59, 3.99, 2.99, 7.99, 1.99, 14.95, 3.17, 4.55]\n",
    "biggest = max(prices)\n",
    "smallest = min(prices)\n",
    "print (\"smallest: \", smallest, '\\nlargest: ', biggest)\n"
   ]
  },
  {
   "cell_type": "markdown",
   "metadata": {
    "slideshow": {
     "slide_type": "slide"
    }
   },
   "source": [
    "# removing elements from a list\n",
    "\n",
    "* we can remove an item from a list by using the __`remove`__ function\n",
    "\n",
    "* example:"
   ]
  },
  {
   "cell_type": "code",
   "execution_count": 12,
   "metadata": {
    "slideshow": {
     "slide_type": "fragment"
    }
   },
   "outputs": [
    {
     "name": "stdout",
     "output_type": "stream",
     "text": [
      "[3.99, 1.99]\n"
     ]
    }
   ],
   "source": [
    "prices = [3.99, 2.99, 1.99]\n",
    "prices.remove(2.99)\n",
    "print (prices)\n"
   ]
  },
  {
   "cell_type": "markdown",
   "metadata": {
    "slideshow": {
     "slide_type": "fragment"
    }
   },
   "source": [
    "* warning: trying to remove an element that is not in a list will result\n",
    "in an error"
   ]
  },
  {
   "cell_type": "code",
   "execution_count": 13,
   "metadata": {
    "slideshow": {
     "slide_type": "fragment"
    }
   },
   "outputs": [
    {
     "ename": "ValueError",
     "evalue": "list.remove(x): x not in list",
     "output_type": "error",
     "traceback": [
      "\u001b[0;31m---------------------------------------------------------------------------\u001b[0m",
      "\u001b[0;31mValueError\u001b[0m                                Traceback (most recent call last)",
      "\u001b[0;32m<ipython-input-13-6628669a04aa>\u001b[0m in \u001b[0;36m<module>\u001b[0;34m()\u001b[0m\n\u001b[1;32m      1\u001b[0m \u001b[0mprices\u001b[0m \u001b[0;34m=\u001b[0m \u001b[0;34m[\u001b[0m\u001b[0;36m3.99\u001b[0m\u001b[0;34m,\u001b[0m \u001b[0;36m2.99\u001b[0m\u001b[0;34m,\u001b[0m \u001b[0;36m1.99\u001b[0m\u001b[0;34m]\u001b[0m\u001b[0;34m\u001b[0m\u001b[0m\n\u001b[0;32m----> 2\u001b[0;31m \u001b[0mprices\u001b[0m\u001b[0;34m.\u001b[0m\u001b[0mremove\u001b[0m\u001b[0;34m(\u001b[0m\u001b[0;36m7.99\u001b[0m\u001b[0;34m)\u001b[0m\u001b[0;34m\u001b[0m\u001b[0m\n\u001b[0m\u001b[1;32m      3\u001b[0m \u001b[0mprint\u001b[0m \u001b[0;34m(\u001b[0m\u001b[0mprices\u001b[0m\u001b[0;34m)\u001b[0m\u001b[0;34m\u001b[0m\u001b[0m\n",
      "\u001b[0;31mValueError\u001b[0m: list.remove(x): x not in list"
     ]
    }
   ],
   "source": [
    "prices = [3.99, 2.99, 1.99]\n",
    "prices.remove(7.99)\n",
    "print (prices)"
   ]
  },
  {
   "cell_type": "markdown",
   "metadata": {
    "slideshow": {
     "slide_type": "fragment"
    }
   },
   "source": [
    "   instead, we first need to check if the value is in the list and then remove it"
   ]
  },
  {
   "cell_type": "code",
   "execution_count": null,
   "metadata": {
    "slideshow": {
     "slide_type": "fragment"
    }
   },
   "outputs": [],
   "source": [
    "prices = [3.99, 2.99, 1.99]\n",
    "if 7.99 in prices:\n",
    "    prices.remove(7.99)\n",
    "print (prices)"
   ]
  },
  {
   "cell_type": "markdown",
   "metadata": {
    "slideshow": {
     "slide_type": "slide"
    }
   },
   "source": [
    "# programming challenges"
   ]
  },
  {
   "cell_type": "markdown",
   "metadata": {
    "slideshow": {
     "slide_type": "subslide"
    }
   },
   "source": [
    "# write a program: sorted names\n",
    "\n",
    "* write a program that prompts the user for a sequence of names and then\n",
    "prints them in an alphabetical order\n",
    "\n",
    "* the user should enter \"none\" to indicate the last value was entered\n",
    "\n",
    "* the program should store the names in a list and then print the sorted\n",
    "list of all the names entered"
   ]
  },
  {
   "cell_type": "markdown",
   "metadata": {
    "slideshow": {
     "slide_type": "subslide"
    }
   },
   "source": [
    "# write a program: find the price\n",
    "\n",
    "* given that the following lists match up with one another (i.e.\n",
    "the product at the first position of the products list matches\n",
    "the price at the first position in the prices list), write a\n",
    "product price lookup program"
   ]
  },
  {
   "cell_type": "code",
   "execution_count": null,
   "metadata": {
    "slideshow": {
     "slide_type": "fragment"
    }
   },
   "outputs": [],
   "source": [
    "products = ['peanut butter', 'jelly', 'bread']\n",
    "prices = [3.99, 2.99, 1.99]\n"
   ]
  },
  {
   "cell_type": "markdown",
   "metadata": {
    "slideshow": {
     "slide_type": "fragment"
    }
   },
   "source": [
    "* the user should be prompted for the product name\n",
    "\n",
    "* if the product exists, its price should be printed back\n",
    "\n",
    "* if the product does not exist, the message \"we do not have ...\" should be\n",
    "printed (the ... should be replaced by the name of the requested product)\n",
    "\n",
    "* (feel free to extend the list to make the program more interesting)"
   ]
  },
  {
   "cell_type": "markdown",
   "metadata": {
    "slideshow": {
     "slide_type": "subslide"
    }
   },
   "source": [
    "# colors\n",
    "\n",
    "\n",
    "<img src=\"img/colors.png\" width=60% alt=\"colors \">\n",
    "\n",
    "\n",
    "\n",
    "- ask the user for 5 colors but don't allow duplicate values\n",
    "(i.e., your code has to reject duplicates if the user enters\n",
    "them)\n",
    "\n",
    "- sort the colors in alphabetical order\n",
    "\n",
    "- print the sorted list"
   ]
  },
  {
   "cell_type": "code",
   "execution_count": 16,
   "metadata": {},
   "outputs": [
    {
     "name": "stdout",
     "output_type": "stream",
     "text": [
      "Enter a color name pink\n",
      "Enter a color name green\n",
      "Enter a color name yellow\n",
      "Enter a color name green\n",
      "No duplicates allowed. Try again \n",
      "Enter a color name white\n",
      "Enter a color name green\n",
      "No duplicates allowed. Try again \n",
      "Enter a color name red\n",
      "['green', 'pink', 'red', 'white', 'yellow']\n"
     ]
    }
   ],
   "source": [
    "colors = [] \n",
    "while len(colors) < 5 : \n",
    "    color = input(\"Enter a color name \") \n",
    "    if (color in colors) :\n",
    "        print(\"No duplicates allowed. Try again \")\n",
    "    else :\n",
    "        colors = colors + [ color ]\n",
    "colors.sort() \n",
    "print (colors) "
   ]
  },
  {
   "cell_type": "code",
   "execution_count": 1,
   "metadata": {},
   "outputs": [
    {
     "name": "stdout",
     "output_type": "stream",
     "text": [
      "Enter colorpink\n",
      "Enter colorpink\n",
      "duplicate try againpink\n",
      "duplicate try againgreen\n",
      "Enter colorgreen\n",
      "duplicate try againpink\n",
      "duplicate try againblack\n",
      "Enter colorred\n",
      "Enter colorred\n",
      "duplicate try againwhite\n",
      "['black', 'green', 'pink', 'red', 'white']\n"
     ]
    }
   ],
   "source": [
    "colors=[]\n",
    "\n",
    "for index in range(5) :\n",
    "    color = input(\"Enter color \") \n",
    "    while (color in colors) :\n",
    "        color = input (\"duplicate try again \")\n",
    "    colors = colors + [color]  \n",
    "colors.sort() \n",
    "print (colors) "
   ]
  },
  {
   "cell_type": "markdown",
   "metadata": {
    "slideshow": {
     "slide_type": "subslide"
    }
   },
   "source": [
    "# grades\n",
    "\n",
    "\n",
    "Write a program that asks the user to continually enter in the following\n",
    "information for a group of students who just completed their first exam:\n",
    "- name\n",
    "- grade received\n",
    "Save that information in a list.\n",
    "To indicate the end of the list, the user will enter \"none\" for the name and \"-1\"\n",
    "for the grade.\n",
    "\n",
    "Calculate and print the following information based on the data (use the list\n",
    "functions discussed in these slides):\n",
    "\n",
    "- number of students who took the exam\n",
    "- average grade on the exam\n",
    "- lowest grade on the exam\n",
    "- the name of the student who received the lowest grade\n",
    "- highest grade on the exam\n",
    "- the name of the student who received the highest grade\n",
    "- standard deviation of the grades on the exam\n",
    "- median of the grades on the exam\n",
    "\n",
    "Extra challenge:\n",
    "- print the names and grades sorted alphabetically by student names"
   ]
  },
  {
   "cell_type": "code",
   "execution_count": null,
   "metadata": {},
   "outputs": [],
   "source": []
  }
 ],
 "metadata": {
  "celltoolbar": "Slideshow",
  "kernelspec": {
   "display_name": "Python 3",
   "language": "python",
   "name": "python3"
  },
  "language_info": {
   "codemirror_mode": {
    "name": "ipython",
    "version": 3
   },
   "file_extension": ".py",
   "mimetype": "text/x-python",
   "name": "python",
   "nbconvert_exporter": "python",
   "pygments_lexer": "ipython3",
   "version": "3.6.5"
  }
 },
 "nbformat": 4,
 "nbformat_minor": 2
}
