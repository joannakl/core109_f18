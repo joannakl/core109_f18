{
 "cells": [
  {
   "cell_type": "code",
   "execution_count": 6,
   "metadata": {},
   "outputs": [
    {
     "name": "stdout",
     "output_type": "stream",
     "text": [
      "Enter your text Hello kitties!\n",
      "a 0\n",
      "e 2\n",
      "i 2\n",
      "o 1\n",
      "u 0\n",
      "y 0\n",
      "Average word length  6.5\n",
      "There are 2 non alphabetic characters.\n"
     ]
    }
   ],
   "source": [
    "text = input(\"Enter your text \")\n",
    "\n",
    "\n",
    "letters = ['a', 'e', 'i','o','u','y']\n",
    "count = [0] * len(letters) \n",
    "non_letters = 0 \n",
    "\n",
    "for c in text: \n",
    "    if c in letters : \n",
    "        ind = letters.index(c) \n",
    "        count[ind] += 1\n",
    "    if not c.isalpha() : \n",
    "        non_letters += 1 \n",
    "        \n",
    "for i in range (len(letters)) :\n",
    "    print (letters[i], count[i]) \n",
    "    \n",
    " \n",
    "words = text.split() \n",
    "word_lengths = [] \n",
    "for word in words: \n",
    "    word_lengths = word_lengths + [len(word)] \n",
    "\n",
    "print(\"Average word length \", sum(word_lengths) / len( words )) \n",
    "\n",
    "print(\"There are\", non_letters, \"non alphabetic characters.\" ) \n",
    "    "
   ]
  },
  {
   "cell_type": "code",
   "execution_count": null,
   "metadata": {},
   "outputs": [],
   "source": []
  }
 ],
 "metadata": {
  "kernelspec": {
   "display_name": "Python 3",
   "language": "python",
   "name": "python3"
  },
  "language_info": {
   "codemirror_mode": {
    "name": "ipython",
    "version": 3
   },
   "file_extension": ".py",
   "mimetype": "text/x-python",
   "name": "python",
   "nbconvert_exporter": "python",
   "pygments_lexer": "ipython3",
   "version": "3.6.5"
  }
 },
 "nbformat": 4,
 "nbformat_minor": 2
}
