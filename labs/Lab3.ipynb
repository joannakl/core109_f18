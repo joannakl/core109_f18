{
 "cells": [
  {
   "cell_type": "markdown",
   "metadata": {
    "colab_type": "text",
    "id": "64l90qJlp0j2"
   },
   "source": [
    "# Lab 3"
   ]
  },
  {
   "cell_type": "markdown",
   "metadata": {
    "colab_type": "text",
    "id": "_qhz2nF4oWN2"
   },
   "source": [
    "**Last, First**\n",
    "\n",
    "**NetID**\n",
    "\n",
    "Double click this text cell to edit it. Replace the lines above with your own name and netID.   \n",
    "\n",
    "Press `Shift` + `Enter` to exit editing mode. "
   ]
  },
  {
   "cell_type": "markdown",
   "metadata": {
    "colab_type": "text",
    "id": "A_knrGcWFlVf"
   },
   "source": [
    "## Problem 1: Sort Two\n",
    "\n",
    "\n",
    "Write a program that prompts the user for two floating point numbers \n",
    "and then prints those values in order (first value printed should be the \n",
    "smaller number)\n",
    "\n",
    "--- \n",
    "    \n",
    "__Here are two sample user interactions with your program.__\n",
    "\n",
    "    \n",
    "    Enter your first number: 35.4\n",
    "    Enter your second number: 3.1415\n",
    "\n",
    "    Your numbers are: 3.1415 and 35.4\n",
    "\n",
    "--\n",
    "    \n",
    "    Enter your first number: 17\n",
    "    Enter your second number: 39.5\n",
    "\n",
    "    Your numbers are: 17 and 39.5\n",
    "\n",
    "Create a new CODE cell below the instructions for problem 1 and above the instructions for problem 2 to write your program. \n",
    " "
   ]
  },
  {
   "cell_type": "markdown",
   "metadata": {
    "slideshow": {
     "slide_type": "slide"
    }
   },
   "source": [
    "## Problem 2: Sort Three\n",
    "\n",
    "Warning: this is a challenging problem. \n",
    "\n",
    "Write a program that prompts the user for three floating point numbers \n",
    "and then prints those  in order (first value printed should be the \n",
    "smallest number)\n",
    "\n",
    "--- \n",
    "    \n",
    "__Here are two sample user interactions with your program.__\n",
    "\n",
    "    Enter your first number: 35.4\n",
    "    Enter your second number: 3.1415\n",
    "    Enter your third number: 18.3\n",
    "\n",
    "    Your numbers are: 3.1415, 18.3, 35.4 \n",
    "\n",
    "--\n",
    "    \n",
    "    Enter your first number: 17\n",
    "    Enter your second number: 126.78\n",
    "    Enter your third number: 39.5\n",
    "\n",
    "    Your numbers are: 17, 39.5, 126.78\n",
    "\n",
    "\n",
    "Create a new CODE cell below the instructions for problem 2 and above the instructions for problem 3 to write your program. "
   ]
  },
  {
   "cell_type": "markdown",
   "metadata": {},
   "source": [
    "## Problem 3: How Cold Is It\n",
    "\n",
    "\n",
    "Write a program that prompts the user for a current temperature\n",
    "(in Fahrenheit degrees). \n",
    "The program should respond my printing one of the following \n",
    "statements:\n",
    "    \n",
    "- if temperature is below 0F, <br>\n",
    "    It is VERY COLD.\n",
    "- if the temperature is between 0F and 32F (inclusive) <br>\n",
    "    It's cold, but it could be worse.\n",
    "- if the temperature is above 32F and below 75F,  <br>\n",
    "    Great temperature, isn't it?\n",
    "- if the temperature is above 75F, <br>\n",
    "    Hot, hot, hot!\n",
    "---\n",
    "\n",
    "\n",
    "__Here are two sample user interactions with your program.__\n",
    "\n",
    "    \n",
    "    Enter the current temperature: 85\n",
    "    Hot, hot, hot!\n",
    "\n",
    "--\n",
    "\n",
    "    Enter the current temperature: 24\n",
    "    It's cold, but it could be worse.\n",
    "\n",
    "Create a new CODE cell below the instructions for problem 3 and above the instructions for problem 4 to write your program. "
   ]
  },
  {
   "cell_type": "markdown",
   "metadata": {},
   "source": [
    "## Problem 4: Bill Calculator\n",
    "\n",
    "You and your friends are all enjoying lunch together at Kimmel. \n",
    "The bill comes and you need to figure out how much to tip and how much each \n",
    "person should pay. To speed up this process, you built a Dynamic Tip Calculator \n",
    "the night before.\n",
    "\n",
    "Your program accepts \n",
    "    - the total amount listed on the bill, \n",
    "    - the tip percentage that you would like to leave, \n",
    "    - how many individuals will be splitting the bill.\n",
    "\n",
    "When the program finishes, it prints the total tip amount and how much the \n",
    "total bill will be (including tip). Finally, it shows how much each person \n",
    "should contribute to the bill (assume the bill will be split evenly).\n",
    "\n",
    "---\n",
    "\n",
    "\n",
    "__Here is a sample user interaction with your program.__ \n",
    "\n",
    "    Hello! I'm here to help you calculate your tip.\n",
    "    How much was your bill? (Enter a numeric value without commas or dollar signs): 56.50\n",
    "    How much tip would you like to leave? (Enter an integer value - i.e. 15 = 15%): 17\n",
    "    How many individuals are splitting the bill? (Enter an integer value): 4\n",
    "\n",
    "    Thanks!  Calculating your bill & tip ...\n",
    "\n",
    "    You need to leave 9.61 as a tip.\n",
    "    Your total bill will be 66.11.\n",
    "    Each individual should pay 16.53.\n",
    "\n",
    " \n",
    "\n",
    "Create a new CODE cell below the instructions for problem 4 and above the instructions for problem 5 to write your program. "
   ]
  },
  {
   "cell_type": "markdown",
   "metadata": {},
   "source": [
    "## Problem 5: Letter Grades \n",
    "\n",
    "\n",
    "Translate a numeric grade to a letter grade.\n",
    "1. Ask the user for a numeric grade.\n",
    "2. Use the table below to calculate the corresponding letter:\n",
    "\n",
    "        90-100 - A\n",
    "        80-89  - B\n",
    "        70-79  - C\n",
    "        60-69  - D\n",
    "         0-59  - F     \n",
    "3. Print out both the number and letter grade.\n",
    "4. If the value is not numeric, allow the error to happen.\n",
    "5. However, if the number is not within the ranges specified in the table, output:\n",
    "    \"Could not translate NUM into a letter grade\" where NUM is the numeric grade\"\n",
    "\n",
    "---\n",
    "\n",
    "\n",
    "__Here are a few sample user interactions with your program.__ \n",
    "\n",
    "    What grade did you get?  59\n",
    "    Number Grade: 59\n",
    "    Letter Grade: F\n",
    "    \n",
    "--\n",
    "\n",
    "    What grade did you get? 89\n",
    "    Number Grade: 89\n",
    "    Letter Grade: B\n",
    "\n",
    "--\n",
    "\n",
    "    What grade did you get? 90\n",
    "    Number Grade: 90\n",
    "    Letter Grade: A\n",
    "\n",
    "--\n",
    "\n",
    "    What grade did you get? -12\n",
    "    Couldn't translate -12 into a letter grade\n",
    "\n",
    " \n",
    "\n",
    "Create a new CODE cell below the instructions for problem 5. "
   ]
  },
  {
   "cell_type": "code",
   "execution_count": null,
   "metadata": {},
   "outputs": [],
   "source": []
  }
 ],
 "metadata": {
  "kernelspec": {
   "display_name": "Python 3",
   "language": "python",
   "name": "python3"
  },
  "language_info": {
   "codemirror_mode": {
    "name": "ipython",
    "version": 3
   },
   "file_extension": ".py",
   "mimetype": "text/x-python",
   "name": "python",
   "nbconvert_exporter": "python",
   "pygments_lexer": "ipython3",
   "version": "3.6.5"
  }
 },
 "nbformat": 4,
 "nbformat_minor": 2
}
