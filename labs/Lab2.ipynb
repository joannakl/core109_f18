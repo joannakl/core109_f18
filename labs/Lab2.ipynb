{
 "cells": [
  {
   "cell_type": "markdown",
   "metadata": {
    "colab_type": "text",
    "id": "64l90qJlp0j2"
   },
   "source": [
    "# Lab 2"
   ]
  },
  {
   "cell_type": "markdown",
   "metadata": {
    "colab_type": "text",
    "id": "_qhz2nF4oWN2"
   },
   "source": [
    "**Last, First**\n",
    "\n",
    "**NetID**\n",
    "\n",
    "Double click this text cell to edit it. Replace the lines above with your own name and netID.   \n",
    "\n",
    "Press `Shift` + `Enter` to exit editing mode. "
   ]
  },
  {
   "cell_type": "markdown",
   "metadata": {
    "colab_type": "text",
    "id": "A_knrGcWFlVf"
   },
   "source": [
    "## Problem 1: ASCII Art\n",
    "\n",
    "\n",
    "From Wikipedia:\n",
    "\"ASCII art is a graphic design technique that uses computers for \n",
    "presentation and consists of pictures pieced together from the 95 printable \n",
    "characters defined by the ASCII Standard.\"\n",
    "\n",
    "So ASCII art is a way of producing a \"drawing\" using characters. \n",
    "Here is an example of a tree drawing: \n",
    "\n",
    "       /\\\n",
    "       \"\"\n",
    "      /\"\"\\ \n",
    "      \"\"\"\"\n",
    "     /\"\"\"\"\\\n",
    "     \"\"\"\"\"\" \n",
    "       ||\n",
    " \n",
    "Write a program that uses the `print()` function multiple times to produce \n",
    "a simple ASCII art graphic. \n",
    "\n",
    "WARNING: do not spend too much time coming up with a fancy design!\n",
    "(this tends to be addictive, and you have a few other problems to work on). If you do not have any creative ideas, you can write a program that prints the above tree. \n",
    "\n",
    "REMEMBER 1: You need to actually write a program that produces a graphic. Do not simply create an ASCII graphic by entering characters like we did in the example above. \n",
    "\n",
    "REMEMBER 2: Python has some special characters that need escape sequences to appear in the result.\n",
    "For example, to produce a double quote in your output, you have two options: 1), use a string with a single quote delimeter, 2) use the `\\\"` escape sequence. \n",
    " "
   ]
  },
  {
   "cell_type": "code",
   "execution_count": 1,
   "metadata": {},
   "outputs": [
    {
     "name": "stdout",
     "output_type": "stream",
     "text": [
      "\"\n",
      "\"\n"
     ]
    }
   ],
   "source": [
    "print('\"')\n",
    "print(\"\\\"\")"
   ]
  },
  {
   "cell_type": "markdown",
   "metadata": {},
   "source": [
    "and to produce a backslash, you have to use the escape sequence `\\\\` "
   ]
  },
  {
   "cell_type": "code",
   "execution_count": 2,
   "metadata": {},
   "outputs": [
    {
     "name": "stdout",
     "output_type": "stream",
     "text": [
      "this is a backslash character: \\ \n",
      "and this is a forward slash character: /\n"
     ]
    }
   ],
   "source": [
    "print('this is a backslash character: \\\\ \\nand this is a forward slash character: /')"
   ]
  },
  {
   "cell_type": "markdown",
   "metadata": {},
   "source": [
    "Create a new CODE cell below the instructions for problem 1 and above the instructions for problem 2 to write your program. "
   ]
  },
  {
   "cell_type": "markdown",
   "metadata": {},
   "source": [
    "## Problem 2: Calculator\n",
    "\n",
    "Write a program for a simple calculator. \n",
    "\n",
    "* Ask the user for two numbers.  You can assume they will be floating point numbers.\n",
    "  (This should use the `input()` function and the `float()` function.)\n",
    "\n",
    "* Compute the following and print it out (using `print()` function). \n",
    "  Display the mathematical expression and the result\n",
    "\n",
    "    * The sum of the numbers\n",
    "    * The product of the numbers\n",
    "    * The difference between the numbers\n",
    "    * The first number divided by the second number\n",
    "    * The first number raised to the power of the second number\n",
    "\n",
    "You should use variables to store the values entered by the user. \n",
    "\n",
    "--- \n",
    "    \n",
    "__Here is a sample user interaction with your program.__\n",
    "Everything after the greater than sign (>) is user input\n",
    "(you will not see the > in the program, they are just here to indicate what is\n",
    "printed by the program and what is entered by the user):\n",
    "\n",
    "    Enter the first number\n",
    "    > 8.0\n",
    "    Enter the second number \n",
    "    > 2.0\n",
    "\n",
    "    8.0 + 2.0 = 10.0\n",
    "    8.0 * 2.0 = 16.0\n",
    "    8.0 - 2.0 = 6.0\n",
    "    8.0 / 2.0 = 4.0\n",
    "    8.0 ^ 2.0 = 64.0\n",
    "\n",
    "Create a new CODE cell below the instructions for problem 2 and above the instructions for problem 3 to write your program. "
   ]
  },
  {
   "cell_type": "markdown",
   "metadata": {},
   "source": [
    "## Problem 3: Vegetables\n",
    "\n",
    "\n",
    "Write a program that:\n",
    "\n",
    "* asks the user for their three favorite vegetables\n",
    "* uses the `print()` function three times (__only three times__) to \n",
    "    * print out every vegetable separated by commas, in the order entered\n",
    "    * print out every vegetable again, in reverse order, each on a separate line\n",
    "    * print out every vegetable again, in order they were entered, each on a separate line\n",
    "    with an exclamation point at the end of each line \n",
    "---\n",
    "\n",
    "\n",
    "__Here is a sample user interaction with your program.__\n",
    "\n",
    "    Please enter your first favorite vegetable\n",
    "    > zucchini  \n",
    "    Please enter your second favorite vegetable\n",
    "    > cauliflower\n",
    "    Please enter your third favorite vegetable\n",
    "    > chocolate ice cream\n",
    "\n",
    "\n",
    "    zuccchini, cauliflower, chocolate ice cream\n",
    "\n",
    "    chocolate ice cream\n",
    "    cauliflower\n",
    "    zucchini\n",
    "\n",
    "    zucchini!\n",
    "    cauliflower!\n",
    "    chocolate ice cream!\n",
    "\n",
    "REMEMBER: you can use the `sep` and `end` keywords to change the default behavior of the `print()` function\n",
    "\n",
    "Create a new CODE cell below the instructions for problem 2 and above the instructions for problem 3 to write your program. "
   ]
  },
  {
   "cell_type": "markdown",
   "metadata": {},
   "source": [
    "## Problem 4: Selling Candy\n",
    "\n",
    "To make a little bit of money on the side, April decided to buy candy bars in\n",
    "bulk and sell them individually for a profit! In order to keep track of her\n",
    "revenue, she asked you to write a program for it. The program should ask for the \n",
    "following values:\n",
    "\n",
    "* the number of boxes of candy bars purchased (each box holds 20 bars) \n",
    "* the number of individual candy bars sold (since April may not be able to sell all of them)\n",
    "* the price per candy bar sold \n",
    "\n",
    "April pays $20.00 for each box of 20 candy bars when she buys them in bulk.\n",
    "\n",
    "Once those values are entered, the program calculates April's profit.\n",
    "\n",
    "* calculate your profit by subtracting your expenses from your revenue. \n",
    "* negative values for profit are acceptable (well, not really, in that you've   \n",
    "  lost money, but ok for how your program works). \n",
    "* you do not have to check if the number of bars sold are greater than the\n",
    "  number of bars bought in bulk. Print out the profit by saying: \"After \n",
    "  selling [number of candy bars], your total profit is [profit].\".\n",
    "* (optional) print out the profit with 2 decimal places\n",
    "\n",
    "---\n",
    "\n",
    "\n",
    "__Here is a sample user interaction with your program.__ \n",
    "\n",
    "    How many boxes of candy bars did you buy?\n",
    "    > 2\n",
    "    How many candy bars did you sell?\n",
    "    > 32\n",
    "    How much did you charge for each candy bar?\n",
    "    > 2.00\n",
    "    After selling 32 candy bars, your total profit is $24.00. \n",
    "\n",
    " \n",
    "\n",
    "Create a new CODE cell below the instructions for problem 2 and above the instructions for problem 3 to write your program. "
   ]
  },
  {
   "cell_type": "code",
   "execution_count": null,
   "metadata": {},
   "outputs": [],
   "source": []
  }
 ],
 "metadata": {
  "kernelspec": {
   "display_name": "Python 3",
   "language": "python",
   "name": "python3"
  },
  "language_info": {
   "codemirror_mode": {
    "name": "ipython",
    "version": 3
   },
   "file_extension": ".py",
   "mimetype": "text/x-python",
   "name": "python",
   "nbconvert_exporter": "python",
   "pygments_lexer": "ipython3",
   "version": "3.6.5"
  }
 },
 "nbformat": 4,
 "nbformat_minor": 2
}
