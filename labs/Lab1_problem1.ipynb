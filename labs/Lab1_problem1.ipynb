{
  "nbformat": 4,
  "nbformat_minor": 0,
  "metadata": {
    "colab": {
      "name": "Lab1_problem1.ipynb",
      "version": "0.3.2",
      "provenance": []
    },
    "kernelspec": {
      "display_name": "Python 3 (Ubuntu Linux)",
      "language": "python",
      "name": "python3"
    }
  },
  "cells": [
    {
      "metadata": {
        "id": "64l90qJlp0j2",
        "colab_type": "text"
      },
      "cell_type": "markdown",
      "source": [
        "# Lab 1"
      ]
    },
    {
      "metadata": {
        "id": "_qhz2nF4oWN2",
        "colab_type": "text"
      },
      "cell_type": "markdown",
      "source": [
        "**Last, First**\n",
        "\n",
        "**NetID**\n",
        "\n",
        "Double click the text cell (the area of text that you are reading) to edit it.  \n",
        "\n",
        "Replace the above text with your actual name and NetID. In all future labs, \n",
        "you need to make sure that your name and netID are at the top of the file, \n",
        "so that the graders know whose work they are grading. \n",
        "\n",
        "Press `Shift` + `Enter` to exit editing mode. "
      ]
    },
    {
      "metadata": {
        "id": "A_knrGcWFlVf",
        "colab_type": "text"
      },
      "cell_type": "markdown",
      "source": [
        "## Problem 1\n",
        "\n",
        "\n",
        "**This is a Python program** in a Jupyter notebook. (Actually, there are a few programs in this week's notebook.)\n",
        "\n",
        "The part that you are currently reading is a comment. The *comments* are\n",
        "important to humans reading the program, but are ignored by the computer. Their\n",
        "purpose is to explain what the program is supposed to be doing (and in this case,\n",
        "to give you some explanaitions and instructions).\n",
        "\n",
        "\n",
        "In **Jupyter notebooks** the comments are in *cells* labeled **TEXT**. You can also use these \n",
        "cells to explain the problem that you are working on, derive the mathematical solution, etc. \n",
        "\n",
        "The other types of *cells* that we will be working with are **CODE** cells. These are\n",
        "actual Python instructions that will be executed by the computer. \n",
        "\n",
        "There are Python comments that can be included in the actual code. To use such a comment, \n",
        "you simply place a pound sign `#` at the start of the line and the computer will ignore \n",
        "this line when executing instructions. (Problem 4 below has several examples of such comments.)\n",
        "\n",
        "There are also other types of comments in Python, but for not we will only use the **text cells**\n",
        "and `#` lines. \n",
        "\n",
        "---\n",
        "\n",
        "The next two lines are in a **code cell**. This means that the computer understands them and\n",
        "can actually follow the instructions. Try to guess what will happen when you tell\n",
        "the computer to execute the two lines. Then click on that cell and press `Shift`+`Enter` to execute the instrucitons.  (It may take a while, so be patient.)"
      ]
    },
    {
      "metadata": {
        "id": "RczH_yLuKCT3",
        "colab_type": "code",
        "colab": {
          "base_uri": "https://localhost:8080/",
          "height": 52
        },
        "outputId": "33112efd-44a5-4260-9e44-63691b4249b2"
      },
      "cell_type": "code",
      "source": [
        "print (\"hello core109 - congratulations on running your first program\" )\n",
        "\n",
        "print ( 3 * 17 - 102/3 + 7 )\n"
      ],
      "execution_count": 1,
      "outputs": [
        {
          "output_type": "stream",
          "text": [
            "hello core109 - congratulations on running your first program\n",
            "24.0\n"
          ],
          "name": "stdout"
        }
      ]
    },
    {
      "metadata": {
        "id": "8pP7Ygb7oWOH",
        "colab_type": "text"
      },
      "cell_type": "markdown",
      "source": [
        "Answer the questions below based on the instructions that you executed above. \n",
        "To add the answer, double click (or click and press `Enter` on the keyboard) the \n",
        "text cell containing \"ANSWER...\". Then edit this cell by adding your answer to the question. \n",
        "You can add basic formatting to the text, if you wish:\n",
        "- to make some text **bold** put double asterix \\*\\* right before and right after \n",
        "the text that should be bold,\n",
        "- to make some text *italic* put a single asterix \\* right before and right after the text,\n",
        "- to make text look like Python `code`, put a backtick \\` (note: it is not the same as a \n",
        "single quote mark) right before and right after the text.\n",
        "\n",
        "Hint 1: If you see a formatting that you wish to apply to your own text, but do not remember how to do this, you can just double click on the existing text and see what characters are used to apply that formatting.\n",
        "\n",
        "Hint 2: You can see the preview of what the text will look like on the right. "
      ]
    },
    {
      "metadata": {
        "id": "GGsdSbVpKUun",
        "colab_type": "text"
      },
      "cell_type": "markdown",
      "source": [
        "**QUESTION 1: What happens when you run/execute the program (i.e., the lines of code above)?**\n"
      ]
    },
    {
      "metadata": {
        "id": "SNI8W0lJoLfZ",
        "colab_type": "text"
      },
      "cell_type": "markdown",
      "source": [
        "ANSWER 1: \n"
      ]
    },
    {
      "metadata": {
        "id": "jS9p9jrZoNqS",
        "colab_type": "text"
      },
      "cell_type": "markdown",
      "source": [
        " **QUESTION 2: How do the two `print` instructions differ?**\n"
      ]
    },
    {
      "metadata": {
        "id": "XyXkEtrDoYJw",
        "colab_type": "text"
      },
      "cell_type": "markdown",
      "source": [
        "ANSWER 2:\n"
      ]
    },
    {
      "metadata": {
        "id": "VVQ_7knFoaIz",
        "colab_type": "text"
      },
      "cell_type": "markdown",
      "source": [
        "**QUESTION 3: Could you add quotes to the second instruction? Try it and tell us what happened.** \n",
        "\n",
        "(To add a code cell to experiment with, you can use the top menu to insert a new code cell, or you can use the keyboard combination that is shown when you hover your mouse over the `[+ CODE]` menu item above.)\n"
      ]
    },
    {
      "metadata": {
        "id": "5S8gY7xlohZi",
        "colab_type": "text"
      },
      "cell_type": "markdown",
      "source": [
        "ANSWER 3:\n"
      ]
    },
    {
      "metadata": {
        "id": "yiH75eQrol7_",
        "colab_type": "text"
      },
      "cell_type": "markdown",
      "source": [
        "**QUESTION 4: Could you remove quotes from the first instruction? What happens when you try?**\n",
        "\n",
        "Add a code cell below to experiment with it. \n"
      ]
    },
    {
      "metadata": {
        "id": "bMSRl2GMopno",
        "colab_type": "text"
      },
      "cell_type": "markdown",
      "source": [
        "ANSWER 4:"
      ]
    },
    {
      "metadata": {
        "id": "lq1u668kr_ma",
        "colab_type": "text"
      },
      "cell_type": "markdown",
      "source": [
        "## Problem 2\n",
        "\n",
        "Programs rarely just perform a task without any user interaction. They usually\n",
        "ask user questions or allow the user to make choices by using menues, clicking\n",
        "buttons and entering information.\n",
        "\n",
        "In Python programs, we use `input` function to obtain information from the user.\n",
        "\n",
        "Run the following program and answer the questions below. If you need to make \n",
        "changes to some lines of code, add a code cell as part of your answer. \n",
        "\n"
      ]
    },
    {
      "metadata": {
        "id": "IpdYu7EKsS4E",
        "colab_type": "code",
        "colab": {}
      },
      "cell_type": "code",
      "source": [
        "name = input(\"Hello! What is your name? \"); \n",
        "print (\"Hi \" + name + \"! It is lovely to meet you!\\n\");\n",
        "\n",
        "num_of_programs_written = input (\"How many programs have you written in your life? \")\n",
        "print (\"Wow \" + num_of_programs_written + \"!!!\")\n",
        "print (\"In this class you will write close to 100 programs.\")\n"
      ],
      "execution_count": 0,
      "outputs": []
    },
    {
      "metadata": {
        "id": "V4XKqd7VsXrz",
        "colab_type": "text"
      },
      "cell_type": "markdown",
      "source": [
        "**QUESTION 1:**\n",
        "What is the difference between the `input` function and the `print` function?\n",
        "In what way are they similar and how do they differ?"
      ]
    },
    {
      "metadata": {
        "id": "gTH1JPpes2Z8",
        "colab_type": "text"
      },
      "cell_type": "markdown",
      "source": [
        "ANSWER 1:\n"
      ]
    },
    {
      "metadata": {
        "id": "f5ZP5jYSs2aR",
        "colab_type": "text"
      },
      "cell_type": "markdown",
      "source": [
        "**QUESTION 2:**\n",
        "In the `print` instruction on line 2, the text in parenthesis is:\n",
        "\n",
        "    \"Hi \" + name + \"! It is lovely to meet you!\\n\"\n",
        "    \n",
        "What do you think the `+` sumbol/operator does?"
      ]
    },
    {
      "metadata": {
        "id": "DYUATpbUs2aZ",
        "colab_type": "text"
      },
      "cell_type": "markdown",
      "source": [
        "ANSWER 2:\n"
      ]
    },
    {
      "metadata": {
        "id": "eguKKKEzs2ad",
        "colab_type": "text"
      },
      "cell_type": "markdown",
      "source": [
        "**QUESTION 3:**\n",
        "What would happen if we removed the space from the end of the string in the\n",
        "`input` instructions on lines 1 and 4 (the spaces are right after the question mark)? Try it and see what happens. \n",
        "Do you think it makes sense to use the space there?"
      ]
    },
    {
      "metadata": {
        "id": "KS8xmFcRs2ag",
        "colab_type": "text"
      },
      "cell_type": "markdown",
      "source": [
        "ANSWER 3:\n"
      ]
    },
    {
      "metadata": {
        "id": "KZziXOvhoWOo",
        "colab_type": "text"
      },
      "cell_type": "markdown",
      "source": [
        "## Problem 3\n",
        "\n",
        "It is interesting when programs behave in a different way in response\n",
        "to the input provided by the user.\n",
        "\n",
        "Programming languages always have some way of performing one set of instructions\n",
        "or another depending on some condition. (Just like we may change our plans for the weekend if there is rain in the forecast.)\n",
        "\n",
        "Run this program and answer the questions below.  If you need to make \n",
        "changes to some lines of code, add a code cell as part of your answer. "
      ]
    },
    {
      "metadata": {
        "id": "eHx2IITjoWOr",
        "colab_type": "code",
        "colab": {}
      },
      "cell_type": "code",
      "source": [
        "name = input(\"Hello! What is your name? \")\n",
        "num_of_languages = input(\"How many programming languages do you know? \")\n",
        "num_of_languages = int( num_of_languages )\n",
        "\n",
        "if ( num_of_languages == 0 ):\n",
        "  print (name + \", you are about to learn your first programming language!\")\n",
        "else:\n",
        "  print (name + \", I think you are in a wrong class! Talk to Joanna about this.\")"
      ],
      "execution_count": 0,
      "outputs": []
    },
    {
      "metadata": {
        "id": "BqXfb99KoWOx",
        "colab_type": "text"
      },
      "cell_type": "markdown",
      "source": [
        "**QUESTION 1:**\n",
        "Do think that all of the lines of code (lines 1 - 8) are executed by the computer\n",
        "when you run the program? Explain your answer."
      ]
    },
    {
      "metadata": {
        "id": "pmLbtC_foWOz",
        "colab_type": "text"
      },
      "cell_type": "markdown",
      "source": [
        "ANSWER 1:\n"
      ]
    },
    {
      "metadata": {
        "id": "c581vDXHoWO1",
        "colab_type": "text"
      },
      "cell_type": "markdown",
      "source": [
        "**QUESTION 2:**\n",
        "Notice that the `print` instructions after the `if ...` and `else ...` lines\n",
        "are indented. What happens when you try to remove the indent? (Try it below and then answer the question.)"
      ]
    },
    {
      "metadata": {
        "id": "JJ7UljPWoWO2",
        "colab_type": "text"
      },
      "cell_type": "markdown",
      "source": [
        "ANSWER 2:\n"
      ]
    },
    {
      "metadata": {
        "id": "Xn2qaJYqoWO4",
        "colab_type": "text"
      },
      "cell_type": "markdown",
      "source": [
        "**QUESTION 3:**\n",
        "On line 3, the instruction is:\n",
        "\n",
        "    num_of_languages = int( num_of_languages )\n",
        "    \n",
        "What do you think this does? Does the program behave the same if you remove this line? (Try it below and then answer the question.)\n"
      ]
    },
    {
      "metadata": {
        "id": "88MOoF8SoWO4",
        "colab_type": "text"
      },
      "cell_type": "markdown",
      "source": [
        "ANSWER 3:\n"
      ]
    },
    {
      "metadata": {
        "id": "jZUttQOmRXTq",
        "colab_type": "text"
      },
      "cell_type": "markdown",
      "source": [
        "## Problem4 \n",
        "\n",
        "In this course, we want to use programming as a tool for quantitative reasoning:\n",
        "performing calculations, analyzing data, producing graphs, etc.\n",
        "Python has several packages that help with those tasks.\n",
        "\n",
        "The program in this problem is much more sofisticated than the ones that we looked\n",
        "at so far. But it should not be that hard to figure out what it does and make\n",
        "small changes to it. You will not understand every single instruction here -\n",
        "we do not expect you to. You should read through the instructions, tough, to notice\n",
        "the keywords that might give you a hint of what is going on there.\n",
        "\n",
        "When you run this program, you will see output that is different than the output from \n",
        "the three programs in the previous problems. To some extent, it is much more interesting.  \n",
        "\n",
        "Run this program (if you have not done so already) and answer the questions below. Take your\n",
        "time modifying and experimenting with the code. You will likely make mistakes and get \n",
        "errors - this is fine (we learn by making mistakes!)."
      ]
    },
    {
      "metadata": {
        "id": "ouUWHV4JoWO-",
        "colab_type": "code",
        "colab": {
          "base_uri": "https://localhost:8080/",
          "height": 376
        },
        "outputId": "6df3f7bb-6a90-4869-cd20-9886b792b077"
      },
      "cell_type": "code",
      "source": [
        "import matplotlib.pyplot as plt\n",
        "\n",
        "months = range(1,13)\n",
        "temperatures_high = [39,42,50,60,71,79,85,83,76,65,54,44]\n",
        "temperatures_low = [26,29,35,44,55,64,70,69,61,50,41,32]\n",
        "\n",
        "#show the average high temperatures in red\n",
        "plt.plot(months, temperatures_high, 'r')  # use solid line \n",
        "plt.plot(months, temperatures_high, 'ro') # and circular markers for the data points\n",
        "#show the average low temperaturs in blue\n",
        "plt.plot(months, temperatures_low, 'b')   # use solid line \n",
        "plt.plot(months, temperatures_low, 'bo')  # and circular markers for the data points \n",
        "\n",
        "#set the labels for the horizontal and vertical axis\n",
        "plt.xlabel('month')\n",
        "plt.ylabel('temperature')\n",
        "\n",
        "#change the month labels from numbers to month names\n",
        "plt.xticks(months, ('Jan', 'Feb', 'Mar', 'Apr', 'May', 'Jun', 'Jul', 'Aug', 'Sep', 'Oct', 'Nov', 'Dec') )\n",
        "\n",
        "#set the tile for the graph\n",
        "plt.title('Average Monthly Temperatures in New York City')\n",
        "\n",
        "#make the grid visible\n",
        "plt.grid(True)\n",
        "\n",
        "#show the final graph \n",
        "plt.show()"
      ],
      "execution_count": 2,
      "outputs": [
        {
          "output_type": "display_data",
          "data": {
            "image/png": "[encoded data removed]",
            "text/plain": [
              "<matplotlib.figure.Figure at 0x7f4f01e2c400>"
            ]
          },
          "metadata": {
            "tags": []
          }
        }
      ]
    },
    {
      "metadata": {
        "id": "cIqt0AQqoWPH",
        "colab_type": "text"
      },
      "cell_type": "markdown",
      "source": [
        "**QUESTION 1:**\n",
        "Which line would you need to change to modify the title of the graph in the image?\n",
        "(specify the line number and explain how you figured this out)"
      ]
    },
    {
      "metadata": {
        "id": "irTfayLLoWPK",
        "colab_type": "text"
      },
      "cell_type": "markdown",
      "source": [
        "ANSWER 1:\n"
      ]
    },
    {
      "metadata": {
        "id": "oBoODVxBoWPL",
        "colab_type": "text"
      },
      "cell_type": "markdown",
      "source": [
        "**QUESTION 2:**\n",
        "Which line would you need to change to modify the January average low teperature\n",
        "to 30 (currently it is 26)? Try to do this and show the modified code and new graph below. "
      ]
    },
    {
      "metadata": {
        "id": "yv7y-IC4oWPM",
        "colab_type": "text"
      },
      "cell_type": "markdown",
      "source": [
        "ANSWER 2:\n"
      ]
    },
    {
      "metadata": {
        "id": "-RQEbnBLoWPN",
        "colab_type": "text"
      },
      "cell_type": "markdown",
      "source": [
        "**QUESTION 3:**\n",
        "Which line would you need to change to modify the color for the average high\n",
        "temperature from red to yellow?  Try to do this and show the modified code and new graph below. "
      ]
    },
    {
      "metadata": {
        "id": "S497gcSjoWPP",
        "colab_type": "text"
      },
      "cell_type": "markdown",
      "source": [
        "ANSWER 3:"
      ]
    },
    {
      "metadata": {
        "id": "RGx0zr7OoWPR",
        "colab_type": "text"
      },
      "cell_type": "markdown",
      "source": [
        "**QUESTION 4:**\n",
        "What do you think is the purpose of lines that start wiht a `#` symbol in the program?"
      ]
    },
    {
      "metadata": {
        "id": "qQFKKPhgoWPS",
        "colab_type": "text"
      },
      "cell_type": "markdown",
      "source": [
        "ANSWER 4:\n"
      ]
    },
    {
      "metadata": {
        "id": "trLmNYepoWPU",
        "colab_type": "text"
      },
      "cell_type": "markdown",
      "source": [
        "**QUESTION 5:**\n",
        "The data used in this problem for New York City comes from the floowing website\n",
        "https://goo.gl/OkvTmh\n",
        "\n",
        "Use the website to figure out the monthly average temperatures for the city that you\n",
        "were born in. If you were born in a place for which the website does not have the\n",
        "relevant data OR if you were born in NYC, find another city and use its data instead.\n",
        "\n",
        "Make sure to change the title of the graph to show the name of the appropriate city.\n",
        "\n",
        "If your modified program produces a new graph, you do not need to provide any answer.\n",
        "If you run into problems when modifying the program, tell us what went wrong in the\n",
        "answer section below."
      ]
    },
    {
      "metadata": {
        "id": "MTbSscbSoWPU",
        "colab_type": "text"
      },
      "cell_type": "markdown",
      "source": [
        "ANSWER 5:"
      ]
    }
  ]
}