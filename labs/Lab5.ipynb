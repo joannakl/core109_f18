{
 "cells": [
  {
   "cell_type": "markdown",
   "metadata": {
    "colab_type": "text",
    "id": "64l90qJlp0j2"
   },
   "source": [
    "# Lab 5"
   ]
  },
  {
   "cell_type": "markdown",
   "metadata": {
    "colab_type": "text",
    "id": "_qhz2nF4oWN2"
   },
   "source": [
    "**Last, First**\n",
    "\n",
    "**NetID**\n",
    "\n",
    "Double click this text cell to edit it. Replace the lines above with your own name and netID.   \n",
    "\n",
    "Press `Shift` + `Enter` to exit editing mode. "
   ]
  },
  {
   "cell_type": "markdown",
   "metadata": {
    "colab_type": "text",
    "id": "A_knrGcWFlVf",
    "slideshow": {
     "slide_type": "slide"
    }
   },
   "source": [
    "## Problem 1: Inflation  for the Last Ten Years\n",
    "\n",
    "Use the _Current US Inflation Rates: 2008-2018_ at http://www.usinflationcalculator.com/inflation/current-inflation-rates/ to determine the average inflation rates for years 2008 up to 2018 (scroll down to the table to see the averages). \n",
    "\n",
    "Create a python variable that stores two lists: \n",
    "- the first one has the values of years 2008 up to 2017\n",
    "- the second one has the values of the average inflation for those years  (note, that the last year's average is not yet availabl)\n",
    "\n",
    "Remember that the list in python can be created using the square brackets notation. For example:\n",
    "\n",
    "```\n",
    "numbers = [1, 2, 3, 4, 5]\n",
    "```\n",
    "\n",
    "creates a list of the five numbers.\n",
    "\n",
    "Use the code from this weeks lectures to plot the two lists: the years on the horizontal axis, and the inflation values on the vertical axis. \n",
    " "
   ]
  },
  {
   "cell_type": "markdown",
   "metadata": {
    "slideshow": {
     "slide_type": ""
    }
   },
   "source": [
    "## Problem 2: Inflation and Pay Increases \n",
    "\n",
    "Write a program that displays a table of the annual salary (assuming certain pay increases) together with same annual salary corrected for inflation. \n",
    "Assume that a person accepted a position on Jan. 1, 2008 with the initial salary of \\$100,000.00. They have received a 2.0% increase every year since then. You should use the inflation rates that you discovered in problem 1. (Note, if you have trouble using those values, start by writing a program that assume 1.5% inflation rate for each year.)\n",
    "\n",
    "Your program should produce three columns: \n",
    "- year number\n",
    "- nominal salary (ignoring inflation)\n",
    "- salary corrected for inflation \n",
    "\n",
    "\n",
    "Warning: Once you have a working program, make sure that the results displayed by it make sense! \n",
    "\n",
    "--- \n",
    "\n",
    "    \n",
    "__Here is the output that your program should generate.__ (The values for the third column may varry slightly depending on your list of the infation averages for the ten years.)\n",
    "\n",
    "\n",
    "     year   salary nominal ($)   salary corrected ($)\n",
    "    ~~~~~~~~~~~~~~~~~~~~~~~~~~~~~~~~~~~~~~~~~~~~~~~~~~\n",
    "     2008            102000.00               98200.00\n",
    "     2009            104040.00              100556.80\n",
    "     2010            106120.80              100959.03\n",
    "     2011            108243.22               99747.52\n",
    "     2012            110408.08               99647.77\n",
    "     2013            112616.24              100146.01\n",
    "     2014            114868.57              100546.59\n",
    "     2015            117165.94              102456.98\n",
    "     2016            119509.26              103174.18\n",
    "     2017            121899.44              103071.00\n",
    "\n",
    "\n",
    "Create a new CODE cell below the instructions for problem 2 and above the instructions for problem 3 to write your program. "
   ]
  },
  {
   "cell_type": "markdown",
   "metadata": {},
   "source": [
    "## Problem 3: Phone Bill\n",
    "\n",
    "Before the days of unlimited cellphone plans, the monthly bill for a cellphone was calculated based on the number of \n",
    "minutes used while talking.\n",
    "\n",
    "Assume that the base charge for a plan is \\$25.00 a month. The price per minute is 5¢\n",
    "\n",
    "__Part 1:__ \n",
    "What is a function that would allows us to calculate the monthly bill depending on the number of minutes the customer spent talking each month? Explain how you got this answer. \n",
    "\n",
    "Create a new TEXT cell below this cell to answer this question. \n"
   ]
  },
  {
   "cell_type": "markdown",
   "metadata": {},
   "source": [
    "__Part 2:__\n",
    "Write a program that shows a plot/graph (use the plots from the lecture notes as a guide) of your function for number of minutes ranging from 0 to 1000. \n",
    "\n",
    "Create a new CODE cell below the instructions for problem 3 and above the instructions for problem 4 to write your program. "
   ]
  },
  {
   "cell_type": "markdown",
   "metadata": {
    "slideshow": {
     "slide_type": "subslide"
    }
   },
   "source": [
    "## Problem 4: Which Bank Account \n",
    "\n",
    "\n",
    "The Washington Mutual fund offers an annual interest rate of 1.5% (compounded once at the end of the year) plus an additional bonus sign up bonus of \\$1000.00 at the time you open the account (the interest is not accumulated on that initial \\$1000.00). \n",
    "\n",
    "The Saratoga Savings banks offers a competitive rate of 2.0% (compounded once at the end of the year). \n",
    "\n",
    "Assume that you have $10,000.00 to invest, which account is the one that you should be putting your money into (assume no withdrawals are ever made). \n",
    "\n",
    "Write a program that:\n",
    "- produces a table with three columns: year number, value in the Washington Mutual and value in the Saratoga Savings\n",
    "- prints a plot/graph that shows how the money grows in each account as a function of the number of years \n",
    "(your table and plot should show the values for at least 20 years). \n",
    " \n",
    "Then answer the following questions in a TEXT cell below your program:\n",
    "- If you were investing for 10 years, which bank would you chose? \n",
    "- How many years do you need to commit to, for the other bank to become the better option? \n",
    "- How many years would it take for the money to double in each of the accounts? \n",
    "(Explain how you came up with your answers.) \n",
    "\n",
    "\n",
    "Create a new CODE cell below the instructions for problem 4 and above the instructions for problem 5 to write your program. "
   ]
  },
  {
   "cell_type": "code",
   "execution_count": null,
   "metadata": {},
   "outputs": [],
   "source": []
  }
 ],
 "metadata": {
  "kernelspec": {
   "display_name": "Python 3",
   "language": "python",
   "name": "python3"
  },
  "language_info": {
   "codemirror_mode": {
    "name": "ipython",
    "version": 3
   },
   "file_extension": ".py",
   "mimetype": "text/x-python",
   "name": "python",
   "nbconvert_exporter": "python",
   "pygments_lexer": "ipython3",
   "version": "3.6.5"
  }
 },
 "nbformat": 4,
 "nbformat_minor": 2
}
