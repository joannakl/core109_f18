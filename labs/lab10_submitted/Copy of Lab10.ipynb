{
 "cells": [
  {
   "cell_type": "markdown",
   "metadata": {
    "colab_type": "text",
    "id": "64l90qJlp0j2"
   },
   "source": [
    "# Lab 10 (due Dec. 5)"
   ]
  },
  {
   "cell_type": "markdown",
   "metadata": {
    "colab_type": "text",
    "id": "_qhz2nF4oWN2"
   },
   "source": [
    "**Kessler, Max**\n",
    "\n",
    "**msk758**\n",
    "\n",
    "Double click this text cell to edit it. Replace the lines above with your own name and netID.   \n",
    "\n",
    "Press `Shift` + `Enter` to exit editing mode. "
   ]
  },
  {
   "cell_type": "markdown",
   "metadata": {
    "colab_type": "text",
    "id": "GSVzdYHX5Lrr"
   },
   "source": [
    "# Your Toolkit \n",
    "The cell below loads various libraries and tools that you will need in this lab. You need to run it once before you run the code of your problems.\n"
   ]
  },
  {
   "cell_type": "code",
   "execution_count": 5,
   "metadata": {
    "colab": {
     "base_uri": "https://localhost:8080/",
     "height": 289
    },
    "colab_type": "code",
    "executionInfo": {
     "elapsed": 8455,
     "status": "ok",
     "timestamp": 1543502478145,
     "user": {
      "displayName": "Max Kessler",
      "photoUrl": "",
      "userId": "09925278163843549863"
     },
     "user_tz": 300
    },
    "id": "acu_ftOu5Lrr",
    "outputId": "c6b6a1f9-b4a8-41f0-db84-1a9eb757daa6"
   },
   "outputs": [
    {
     "name": "stdout",
     "output_type": "stream",
     "text": [
      "[nltk_data] Downloading package stopwords to /home/asia/nltk_data...\n",
      "[nltk_data]   Package stopwords is already up-to-date!\n",
      "[nltk_data] Downloading package punkt to /home/asia/nltk_data...\n",
      "[nltk_data]   Package punkt is already up-to-date!\n",
      "--2018-12-15 11:53:47--  https://data.cityofnewyork.us/api/views/f9bf-2cp4/rows.csv\n",
      "Resolving data.cityofnewyork.us (data.cityofnewyork.us)... 52.206.140.199, 52.206.140.205, 52.206.68.26\n",
      "Connecting to data.cityofnewyork.us (data.cityofnewyork.us)|52.206.140.199|:443... connected.\n",
      "HTTP request sent, awaiting response... 200 OK\n",
      "Length: unspecified [text/csv]\n",
      "Saving to: ‘rows.csv’\n",
      "\n",
      "rows.csv                [ <=>                ]  27.67K  --.-KB/s    in 0.005s  \n",
      "\n",
      "Last-modified header invalid -- time-stamp ignored.\n",
      "2018-12-15 11:53:47 (5.16 MB/s) - ‘rows.csv’ saved [28339]\n",
      "\n"
     ]
    }
   ],
   "source": [
    "#################################\n",
    "# import packages \n",
    "#################################\n",
    "\n",
    "# plotting tools \n",
    "import numpy as np\n",
    "import matplotlib.pyplot as plt\n",
    "# reading data from url\n",
    "import urllib.request\n",
    "# natural language processing toolking   \n",
    "import nltk\n",
    "nltk.download('stopwords')\n",
    "from nltk.corpus import stopwords\n",
    "nltk.download('punkt')\n",
    "from nltk.tokenize import sent_tokenize, word_tokenize\n",
    "# tools for working with CSV files \n",
    "import csv\n",
    "\n",
    "\n",
    "#################################\n",
    "# download data  \n",
    "#################################\n",
    "\n",
    "# 2012 SAT scores, by school\n",
    "!wget https://data.cityofnewyork.us/api/views/f9bf-2cp4/rows.csv\n",
    "!mv rows.csv SAT_2012.csv\n",
    "\n"
   ]
  },
  {
   "cell_type": "markdown",
   "metadata": {
    "colab_type": "text",
    "id": "A_knrGcWFlVf",
    "slideshow": {
     "slide_type": "slide"
    }
   },
   "source": [
    "## Problem 1: Letter Count (30 points) \n",
    "\n",
    "\n",
    "Write a program that counts occurrences of all letters in a book. You should NOT be \n",
    "keeping counters for every letter. Instead, you should work with two lists: one that contains the letters and one \n",
    "that contains the counts. Your `for` loops will need to iterate over indexes in these two arrays.\n",
    "\n",
    "The program should open a book given a specific URL (some example URL's are\n",
    "listed below). \n",
    "\n",
    "For each letter, the program should display the percentage of times that the letter occurs in the text. (You\n",
    "will need to keep track of the total number of letters in the text - this does not include the spaces, punctuation marks, digits or any other non-letter characters.)  Make sure that both upper and lowercase letters are\n",
    "counted. \n",
    "\n",
    "The results should be displayed one per line:\n",
    "\n",
    " LETTER: PERCENTAGE\n",
    " \n",
    "Here is a sample output:\n",
    "\n",
    "    a: 7.64\n",
    "    b: 1.63\n",
    "    c: 2.42\n",
    "    d: 3.67\n",
    "    e: 12.09\n",
    "    f: 1.98\n",
    "    g: 1.87\n",
    "    h: 5.98\n",
    "    i: 6.61\n",
    "    j: 0.31\n",
    "    k: 0.80\n",
    "    l: 4.51\n",
    "    m: 3.05\n",
    "    n: 6.22\n",
    "    o: 8.34\n",
    "    p: 1.67\n",
    "    q: 0.06\n",
    "    r: 6.32\n",
    "    s: 6.09\n",
    "    t: 9.28\n",
    "    u: 3.48\n",
    "    v: 1.01\n",
    "    w: 2.36\n",
    "    x: 0.13\n",
    "    y: 2.44\n",
    "    z: 0.03\n",
    "\n",
    "__Extra credit (5 points) __\n",
    "\n",
    "In addition to the above, produce a bar graph showing the visual representation of the results. \n",
    "\n",
    "The following short program shows how to generate a bar graph for a simple data set of three elements:\n",
    "\n",
    "    import numpy as np\n",
    "    import matplotlib.pyplot as plt\n",
    "\n",
    "    names = [\"Joanna\", \"Barbara\", \"Alice\"]\n",
    "    winnings = [19342.00, 23009.00, 15900.00]\n",
    "\n",
    "    plt.bar(names, winnings) \n",
    "\n",
    "    plt.show()\n",
    "Use it as a guide for how to write your own code that displays the percentages associated with each letter. \n",
    "\n",
    "\n",
    "Use the CODE cell below to continue with your program. "
   ]
  },
  {
   "cell_type": "code",
   "execution_count": 6,
   "metadata": {
    "colab": {},
    "colab_type": "code",
    "id": "0GDdEOBR570s"
   },
   "outputs": [
    {
     "ename": "NameError",
     "evalue": "name 'a' is not defined",
     "output_type": "error",
     "traceback": [
      "\u001b[0;31m---------------------------------------------------------------------------\u001b[0m",
      "\u001b[0;31mNameError\u001b[0m                                 Traceback (most recent call last)",
      "\u001b[0;32m<ipython-input-6-d5f2f2b8522c>\u001b[0m in \u001b[0;36m<module>\u001b[0;34m()\u001b[0m\n\u001b[1;32m      2\u001b[0m \u001b[0;31m# Romeo and Juliet (English)\u001b[0m\u001b[0;34m\u001b[0m\u001b[0;34m\u001b[0m\u001b[0m\n\u001b[1;32m      3\u001b[0m \u001b[0murl_Romeo_and_Juliet\u001b[0m\u001b[0;34m=\u001b[0m\u001b[0;34m\"http://www.gutenberg.org/files/1513/1513-0.txt\"\u001b[0m\u001b[0;34m\u001b[0m\u001b[0m\n\u001b[0;32m----> 4\u001b[0;31m \u001b[0malpha\u001b[0m\u001b[0;34m=\u001b[0m\u001b[0;34m[\u001b[0m\u001b[0ma\u001b[0m\u001b[0;34m,\u001b[0m\u001b[0mb\u001b[0m\u001b[0;34m,\u001b[0m\u001b[0mc\u001b[0m\u001b[0;34m,\u001b[0m\u001b[0md\u001b[0m\u001b[0;34m,\u001b[0m\u001b[0me\u001b[0m\u001b[0;34m,\u001b[0m\u001b[0mf\u001b[0m\u001b[0;34m,\u001b[0m\u001b[0mg\u001b[0m\u001b[0;34m,\u001b[0m\u001b[0mh\u001b[0m\u001b[0;34m,\u001b[0m\u001b[0mi\u001b[0m\u001b[0;34m,\u001b[0m\u001b[0mj\u001b[0m\u001b[0;34m,\u001b[0m\u001b[0mk\u001b[0m\u001b[0;34m,\u001b[0m\u001b[0ml\u001b[0m\u001b[0;34m,\u001b[0m\u001b[0mm\u001b[0m\u001b[0;34m,\u001b[0m\u001b[0mn\u001b[0m\u001b[0;34m,\u001b[0m\u001b[0mo\u001b[0m\u001b[0;34m,\u001b[0m\u001b[0mp\u001b[0m\u001b[0;34m,\u001b[0m\u001b[0mq\u001b[0m\u001b[0;34m,\u001b[0m\u001b[0mr\u001b[0m\u001b[0;34m,\u001b[0m\u001b[0ms\u001b[0m\u001b[0;34m,\u001b[0m\u001b[0mt\u001b[0m\u001b[0;34m,\u001b[0m\u001b[0mu\u001b[0m\u001b[0;34m,\u001b[0m\u001b[0mv\u001b[0m\u001b[0;34m,\u001b[0m\u001b[0mw\u001b[0m\u001b[0;34m,\u001b[0m\u001b[0mx\u001b[0m\u001b[0;34m,\u001b[0m\u001b[0my\u001b[0m\u001b[0;34m,\u001b[0m\u001b[0mz\u001b[0m\u001b[0;34m]\u001b[0m\u001b[0;34m\u001b[0m\u001b[0m\n\u001b[0m\u001b[1;32m      5\u001b[0m \u001b[0mcounts\u001b[0m\u001b[0;34m=\u001b[0m\u001b[0;34m[\u001b[0m\u001b[0;34m]\u001b[0m\u001b[0;34m\u001b[0m\u001b[0m\n",
      "\u001b[0;31mNameError\u001b[0m: name 'a' is not defined"
     ]
    }
   ],
   "source": [
    "import urllib.request\n",
    "# Romeo and Juliet (English) \n",
    "url_Romeo_and_Juliet=\"http://www.gutenberg.org/files/1513/1513-0.txt\" \n",
    "alpha=[a,b,c,d,e,f,g,h,i,j,k,l,m,n,o,p,q,r,s,t,u,v,w,x,y,z]\n",
    "counts=[]"
   ]
  },
  {
   "cell_type": "code",
   "execution_count": 7,
   "metadata": {
    "colab": {},
    "colab_type": "code",
    "id": "aY9TkPyl5Lry"
   },
   "outputs": [],
   "source": [
    "# Uncomment the link for the book that you want to access. \n",
    "# (You can add other books, if you want. )\n",
    "\n",
    "# Romeo and Juliet (English) \n",
    "url=\"http://www.gutenberg.org/files/1513/1513-0.txt\" \n",
    "\n",
    "# Romeo and Juliet (Polish) \n",
    "# url=\"http://www.gutenberg.org/files/27062/27062-0.txt\" \n",
    "\n",
    "# Romeo and Juliet (German) \n",
    "# url=\"http://www.gutenberg.org/cache/epub/6996/pg6996.txt\" \n",
    "\n",
    "# Romeo and Juliet (Tagalog) \n",
    "# url=\"http://www.gutenberg.org/cache/epub/15418/pg15418.txt\" \n",
    "\n",
    "\n",
    "# connect to the requested URL\n",
    "response = urllib.request.urlopen(url)\n",
    "\n",
    "# save the text of the book into the variable called text \n",
    "text = response.read().decode('utf-8')\n",
    "\n",
    "\n",
    "# use the text variable from above, this is the text of the entire book \n",
    "\n",
    "\n",
    "\n"
   ]
  },
  {
   "cell_type": "markdown",
   "metadata": {
    "colab_type": "text",
    "id": "hpJ3VNTK5Lrz"
   },
   "source": [
    "\n",
    "## Problem 2: Dale-Chall Readability Test (35 points) \n",
    "\n",
    "\n",
    "Write a program that performs the Dale-Chall Readability Test on a given text. \n",
    "\n",
    "Recall that for this test you will need \n",
    "* the list of 3000 'easy' words\n",
    "* the total number of words in the text\n",
    "* the total number of sentences in the text \n",
    "(Use the nltk package that we used in class to get the individual words and sentences of the book.) \n",
    "\n",
    "You can read the file containing all of the easy words at \n",
    "https://joannakl.github.io/core109_f17/slides/week10/easy_words.txt\n",
    "\n",
    "The program below  \n",
    "\n",
    "The program should display the results using the following format:\n",
    "\n",
    "    Dale-Chall score: 7.496281677488893\n",
    "    easily understood by an average 9th or 10th-grade student\n",
    "\n",
    "\n",
    "Continue your program in the cell below. The code there opens the file with easy words and saves those words in a list called `easy_words`. It also  starts with several url's for books. \n",
    "Your program should run with one of those url's at a time. The text of the book is stored in the variable\n",
    "called `text`. (Feel free to add your own as well.) \n",
    "\n",
    "Use the class notes for more details about how the Dale-Chall score is calculated.  "
   ]
  },
  {
   "cell_type": "code",
   "execution_count": 8,
   "metadata": {
    "colab": {},
    "colab_type": "code",
    "id": "dIbrqIWi5Lr1"
   },
   "outputs": [],
   "source": [
    "# read the easy words \n",
    "url_words = \"https://joannakl.github.io/core109_f17/slides/week10/easy_words.txt\"\n",
    "response = urllib.request.urlopen(url_words)\n",
    "easy_words_text = response.read().decode('utf-8')\n",
    "# easy_words is a list of all the words considered to be\n",
    "# easy for the Dale-Chall test\n",
    "easy_words = easy_words_text.split() \n",
    "\n",
    "\n",
    "\n",
    "# read the text \n",
    "\n",
    "# Romeo and Juliet (English) \n",
    "# url=\"http://www.gutenberg.org/files/1513/1513-0.txt\" \n",
    "\n",
    "# Ulysses by James Joyce \n",
    "# url = \"https://www.gutenberg.org/ebooks/4300\" \n",
    "\n",
    "# Pride and Prejudice by Jane Austen \n",
    "url = \"https://www.gutenberg.org/files/1342/1342-0.txt\" \n",
    "\n",
    "# War and Peace\n",
    "# url = \"http://www.gutenberg.org/files/2600/2600-0.txt\"\n",
    "\n",
    "\n",
    "url = \"https://www.gutenberg.org/files/46/46-0.txt\"\n",
    "\n",
    "# connect to the requested URL\n",
    "response = urllib.request.urlopen(url)\n",
    "\n",
    "# save the text of the book into the variable called text \n",
    "# (this also converts all the letters to lowercase and replaces newlines with spaces)\n",
    "text = response.read().decode('utf-8').replace(\"\\n\", \" \").lower()\n",
    "\n",
    "\n",
    "\n"
   ]
  },
  {
   "cell_type": "markdown",
   "metadata": {
    "colab_type": "text",
    "id": "wIs1yNQ15Lr2"
   },
   "source": [
    "## Problem 3: SAT Scores (35 points) \n",
    "\n",
    "\n",
    "Write a program that uses the 2012 SAT scores files from the NYC Open Data site to determine all the NYC schools in which at least 100 students took the test and where the average writing score is at least 600. \n",
    "The program should display all the highschools that meet with criteria using the following format: \n",
    "\n",
    "    DBN: 01M696\n",
    "    SCHOOL NAME: BARD HIGH SCHOOL EARLY COLLEGE\n",
    "    Num of SAT Test Takers: 130\n",
    "    SAT Critical Reading Avg. Score: 624\n",
    "    SAT Math Avg. Score: 604\n",
    "    SAT Writing Avg. Score: 628\n",
    "\n",
    "(Note that there are several schools that meet this criteria.) \n",
    "\n",
    "Continue your program in the cell below. The code there opens the file that contains the data and creates a reader that can be used to process it.\n",
    "Use the notes from the last class for more information on how to use the CSV reader. \n"
   ]
  },
  {
   "cell_type": "code",
   "execution_count": 0,
   "metadata": {
    "colab": {},
    "colab_type": "code",
    "id": "Obt8krDg6R6p"
   },
   "outputs": [],
   "source": []
  },
  {
   "cell_type": "code",
   "execution_count": 0,
   "metadata": {
    "colab": {},
    "colab_type": "code",
    "id": "r9dWu4H55Lr3"
   },
   "outputs": [],
   "source": [
    "file = open('SAT_2012.csv', \"r\")\n",
    "reader = csv.reader(file)\n",
    " \n"
   ]
  }
 ],
 "metadata": {
  "colab": {
   "collapsed_sections": [],
   "name": "Copy of Lab10.ipynb",
   "provenance": [
    {
     "file_id": "1-WrCNmh4NGcWjJHdH7gk2aspYBuEZh2D",
     "timestamp": 1543502093632
    }
   ],
   "version": "0.3.2"
  },
  "kernelspec": {
   "display_name": "Python 3",
   "language": "python",
   "name": "python3"
  },
  "language_info": {
   "codemirror_mode": {
    "name": "ipython",
    "version": 3
   },
   "file_extension": ".py",
   "mimetype": "text/x-python",
   "name": "python",
   "nbconvert_exporter": "python",
   "pygments_lexer": "ipython3",
   "version": "3.6.5"
  }
 },
 "nbformat": 4,
 "nbformat_minor": 1
}
