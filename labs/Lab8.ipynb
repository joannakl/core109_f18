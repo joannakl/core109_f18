{
 "cells": [
  {
   "cell_type": "markdown",
   "metadata": {
    "colab_type": "text",
    "id": "64l90qJlp0j2"
   },
   "source": [
    "# Lab 8"
   ]
  },
  {
   "cell_type": "markdown",
   "metadata": {
    "colab_type": "text",
    "id": "_qhz2nF4oWN2"
   },
   "source": [
    "**Last, First**\n",
    "\n",
    "**NetID**\n",
    "\n",
    "Double click this text cell to edit it. Replace the lines above with your own name and netID.   \n",
    "\n",
    "Press `Shift` + `Enter` to exit editing mode. "
   ]
  },
  {
   "cell_type": "markdown",
   "metadata": {
    "colab_type": "text",
    "id": "A_knrGcWFlVf",
    "slideshow": {
     "slide_type": "slide"
    }
   },
   "source": [
    "## Problem 1: Find the Price\n",
    "\n",
    "\n",
    "Given that the following lists match up with one another (i.e. the product at the first position of the products list matches the price at the first position in the prices list), write a product price lookup program\n",
    "\n",
    "    products = ['peanut butter', 'jelly', 'bread']\n",
    "    prices = [3.99, 2.99, 1.99]\n",
    "\n",
    "__Part 1:__ \n",
    "\n",
    "- the user should be prompted for the product name\n",
    "\n",
    "- if the product exists, its price should be printed back\n",
    "\n",
    "- if the product does not exist, the message \"we do not have ...\" should be printed (the ... should be replaced by the name of the requested product)\n",
    "\n",
    "(test your program first with the short list and then make sure that it also works with the longer list)\n",
    "\n",
    "__Part 2:__\n",
    "\n",
    "Modify the program for part 1 so that it prompts the user for multiple product. The program should stop when the user enters \"quit\" as the name of the product. \n",
    "\n",
    "_Note_: You do not need to worry about case sensitivity. If the user enters `Bread` with an uppercase letter instead of `bread`, the program should print that there is no Bread.  \n",
    "\n",
    "--- \n",
    "\n",
    "__Here are a few sample runs of the program for part 1:__\n",
    "\n",
    "    Enter the product name: bread\n",
    "    The price for bread is $1.99\n",
    "\n",
    "\n",
    "--\n",
    "    \n",
    "    Enter the product name: bananas\n",
    "    We do not have bananas\n",
    "\n",
    "\n",
    "\n",
    "__Here are a few sample runs of the program for part 1:__\n",
    "\n",
    "    \n",
    "    Enter the product name: peanut butter\n",
    "    The price for peanut butter is $3.99\n",
    "\n",
    "    Enter another product name: jam\n",
    "    We do not have jam\n",
    "\n",
    "    Enter another product name: jelly\n",
    "    The price for jelly is $2.99\n",
    "\n",
    "    Enter another product name: Bread\n",
    "    We do not have Bread\n",
    "\n",
    "    Enter another product name: quit\n",
    "\n",
    "\n",
    "\n"
   ]
  },
  {
   "cell_type": "code",
   "execution_count": 1,
   "metadata": {},
   "outputs": [],
   "source": [
    "\n",
    "products = ['peanut butter', 'jelly', 'bread']\n",
    "prices = [3.99, 2.99, 1.99]\n",
    "\n"
   ]
  },
  {
   "cell_type": "markdown",
   "metadata": {},
   "source": [
    "\n",
    "## Problem 2: Temperature Conversion\n",
    "\n",
    "Write a program that allows the user to convert a temperature in\n",
    "Fahrenheit into Celsius using the following formula\n",
    "\n",
    "  $$ Celsius = \\frac{5}{9} \\times (Fahrenheit - 32) $$\n",
    "\n",
    "After calculating the temperature ask the user if they wish to continue. If\n",
    "so, repeat the conversion with a new number. Otherwise end the\n",
    "program\n",
    "\n",
    "\n",
    "\n",
    "Use `format(celsius,'.2f')` to display the value of the temperature with two decimal places. \n",
    "\n",
    "---\n",
    "\n",
    "__Here is a sample run of the program:__\n",
    "    \n",
    "    Enter temperature in Fahrenheit: 75\n",
    "    75.00 degrees Fahrenheit is the same as 23.89 degrees Celsius\n",
    "\n",
    "    Do you wish to convert another temperature? [yes/no] yes\n",
    "    Enter temperature in Fahrenheit: 98\n",
    "    98.00 degrees Fahrenheit is the same as 36.67 degrees Celsius\n",
    "\n",
    "    Do you wish to convert another temperature? [yes/no] yes\n",
    "    Enter temperature in Fahrenheit: 20\n",
    "    20.00 degrees Fahrenheit is the same as -6.67 degrees Celsius\n",
    "\n",
    "    Do you wish to convert another temperature? [yes/no] no\n",
    "\n",
    "\n",
    "\n",
    "Create a new CODE cell below the instructions for problem 2 and above the instructions for problem 3 to write your program. "
   ]
  },
  {
   "cell_type": "code",
   "execution_count": null,
   "metadata": {},
   "outputs": [],
   "source": []
  },
  {
   "cell_type": "markdown",
   "metadata": {},
   "source": [
    "## Problem 3: Highest/lowest Salaries \n",
    "\n",
    "\n",
    "NYC Open Data site provides a lot of data sets that are available for anybody who cares to look. One of those data sets is _Citywide Payroll Data_ that contains information about salaries of city empoyees from 2014 to 2018. \n",
    "The lists in the program that you will write contain just a small sample of that data. The three lists contain names, job titles and annual salaries.\n",
    "Write a program that prints the information about the person with the highest and lowest salary. Calculate and display the average salary.\n",
    "\n",
    "__Restrictions:__ Your program is not allowed to use any loops or if statements. All you need are the functions that operate on the list that we discussed in class. \n",
    "\n",
    "Your program should work correctly for a different set of three lists.\n",
    "\n",
    "--- \n",
    "Here is the output that should be generated by your program:\n",
    "```   \n",
    "lowest :  $119,959.00 ,  Margaret Abensur ,  Administrative Accountant\n",
    "highest:  $28,520.00 ,  Franck Buboulay ,  Custodial Supervisor\n",
    "average:  $69,508.60  \n",
    "```\n",
    "\n",
    "Use the code cell below to write your answer. \n",
    "<!--Create a new CODE cell below the instructions for problem 3 and above the instructions for problem 4 to write your program.--> "
   ]
  },
  {
   "cell_type": "code",
   "execution_count": 2,
   "metadata": {},
   "outputs": [],
   "source": [
    "names = [\"Susan Bassista\", \"Margaret Abensur\", \"Franck Buboulay\", \"Lisa Six\", \"Stephen Duncan\"]\n",
    "job_titles = [\"Teacher Special Education\", \"Administrative Accountant\", \"Custodial Supervisor\", \n",
    "              \"Senior Police Administrative Aide\", \"Assistant Professor\"]\n",
    "salaries = [98948.00, 119959.00, 28520.00, 47084.00, 53032.00]\n",
    "\n",
    "#names = [\"Hitesh Arora\", \"Evan Feliciano\", \"Kaitlin Zeno\", \"Kristina Finch\", \"Bose Kuruvilla\"]\n",
    "#job_titles = [\"Police Officer\", \"Computer Specialist\", \"Police Officer\", \n",
    "#              \"CUNY Office Assistant\", \"Associate Project Manager\"]\n",
    "#salaries = [63125.00, 106031.00, 42500.00, 28073.00, 105000.00]\n",
    "\n"
   ]
  },
  {
   "cell_type": "markdown",
   "metadata": {
    "slideshow": {
     "slide_type": "subslide"
    }
   },
   "source": [
    "## Problem 4: Housing Prices\n",
    "\n",
    "A three-bedroom house in Burbville sold for \\$190,000. \n",
    "\n",
    "__Part1:__ If housing prices are expected to increase 1.8% annually in that town, write an explicit formula that models the price of the house in N years. \n",
    "Find the price of the house in 5 years.\n",
    "\n",
    "Write your answers in a TEXT cell below this cell. \n",
    "\n",
    "__Part2:__ Write a program that plots the function showing the price of the house for the next 20 years. \n",
    "\n",
    "\n",
    "Write the code for part 2 in a CODE cell below the text cell with the answers for part 1. \n",
    "\n",
    "<!--Create a new CODE cell below the instructions for problem 4 and above the instructions for problem 5 to write your program. -->"
   ]
  },
  {
   "cell_type": "code",
   "execution_count": null,
   "metadata": {},
   "outputs": [],
   "source": []
  }
 ],
 "metadata": {
  "kernelspec": {
   "display_name": "Python 3",
   "language": "python",
   "name": "python3"
  },
  "language_info": {
   "codemirror_mode": {
    "name": "ipython",
    "version": 3
   },
   "file_extension": ".py",
   "mimetype": "text/x-python",
   "name": "python",
   "nbconvert_exporter": "python",
   "pygments_lexer": "ipython3",
   "version": "3.6.5"
  }
 },
 "nbformat": 4,
 "nbformat_minor": 2
}
