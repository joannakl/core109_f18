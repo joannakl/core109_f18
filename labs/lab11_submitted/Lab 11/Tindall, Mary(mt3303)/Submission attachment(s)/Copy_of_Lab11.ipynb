{
 "cells": [
  {
   "cell_type": "markdown",
   "metadata": {
    "colab_type": "text",
    "id": "64l90qJlp0j2"
   },
   "source": [
    "# Lab 11 (due Dec. 12)"
   ]
  },
  {
   "cell_type": "markdown",
   "metadata": {
    "colab_type": "text",
    "id": "_qhz2nF4oWN2"
   },
   "source": [
    "**Tindall, Mary**\n",
    "\n",
    "**mt3303**\n",
    "\n",
    "Double click this text cell to edit it. Replace the lines above with your own name and netID.   \n",
    "\n",
    "Press `Shift` + `Enter` to exit editing mode. "
   ]
  },
  {
   "cell_type": "markdown",
   "metadata": {
    "colab_type": "text",
    "id": "A_knrGcWFlVf",
    "slideshow": {
     "slide_type": "slide"
    }
   },
   "source": [
    "## Problem 1: Leatherback Sea Turtles Population (30 points) \n",
    "\n",
    "\n",
    "Leatherback Sea Turtle population is declining due to many reasons. The paper published in 2013 [Long‐term decline of the western Pacific leatherback, Dermochelys coriacea: a globally important sea turtle population](https://esajournals.onlinelibrary.wiley.com/doi/full/10.1890/ES12-00348.1#i2150-8925-4-2-art25-Hitipeuw1) contains information about the estimated counts of nests and female leatherbacks in Jamursba Medi.\n",
    "Your job for this problem is to use this data to calculate a few things:\n",
    "- The female turtles lay eggs in multiple nests. What is the approximate number of nests in which a single female lays eggs? How did you estimate this? \n",
    "- What is the percentage by which the number of nests differs in each year from the previous year (assume that the previous year is 100%, calculate the percentage increase/decrease for the next year)? Write a program that shows the table.\n",
    "What is the average percentage change? Is it a decrease or increase on average? Explain how you calculated it. \n",
    "- Plot the number of nests and number of females as a function of years (years on the horizontal axis). Both should be included in a single plot. \n",
    "\n",
    "\n",
    "For each of the questions, provide the program that answers it, but also use a text cell (or comments in the program) to actually answer the question. \n",
    "\n",
    "\n",
    "\n",
    "Use the CODE cell below to continue with your program. "
   ]
  },
  {
   "cell_type": "code",
   "execution_count": 1,
   "metadata": {
    "colab": {
     "base_uri": "https://localhost:8080/",
     "height": 34
    },
    "colab_type": "code",
    "id": "fYpsCfe_82jL",
    "outputId": "edc7ada9-ab64-4493-d950-a28c745a417d"
   },
   "outputs": [
    {
     "name": "stdout",
     "output_type": "stream",
     "text": [
      "Approximate number of nests per female: 5.500286820593719\n"
     ]
    }
   ],
   "source": [
    "number_of_nests = [14522, 3261, 4448, 4517, 4633, 6929, 4879, 3429,2383,3321,\\\n",
    "                   2143,3790,3597,2626,2674,2107,2077,2055,1720,1596]\n",
    "number_of_females = [2640,593,809,821,842,1260,887,623,433,604,390,689,654,477,\\\n",
    "                     486,383,378,374,313,290]\n",
    "\n",
    "# calculate approximate number of nests in which a single female lays eggs\n",
    "average_nests = sum(number_of_nests)/len(number_of_nests)\n",
    "average_females = sum(number_of_females)/len(number_of_females)\n",
    "nests_per_female = average_nests/average_females\n",
    "print(\"Approximate number of nests per female:\", nests_per_female)\n"
   ]
  },
  {
   "cell_type": "markdown",
   "metadata": {
    "colab_type": "text",
    "id": "JA3olCMX-j4q"
   },
   "source": [
    "To find the approximate number of nests per female, I found the average number of nests and the average number of females from each list, then divided the average number of nests by average number of females."
   ]
  },
  {
   "cell_type": "code",
   "execution_count": 0,
   "metadata": {
    "colab": {
     "base_uri": "https://localhost:8080/",
     "height": 425
    },
    "colab_type": "code",
    "id": "gU4QaH6R-_CS",
    "outputId": "9f86cb08-5dee-449c-f465-95fd202bb81a"
   },
   "outputs": [
    {
     "name": "stdout",
     "output_type": "stream",
     "text": [
      "Number of Nests    Percent Difference\n",
      "-------------------------------------\n",
      "14522                     -77.54\n",
      "3261                     36.40\n",
      "4448                     1.55\n",
      "4517                     2.57\n",
      "4633                     49.56\n",
      "6929                     -29.59\n",
      "4879                     -29.72\n",
      "3429                     -30.50\n",
      "2383                     39.36\n",
      "3321                     -35.47\n",
      "2143                     76.85\n",
      "3790                     -5.09\n",
      "3597                     -26.99\n",
      "2626                     1.83\n",
      "2674                     -21.20\n",
      "2107                     -1.42\n",
      "2077                     -1.06\n",
      "2055                     -16.30\n",
      "1720                     -7.21\n",
      "\n",
      "\n",
      "Average percentage change: -3.89\n"
     ]
    }
   ],
   "source": [
    "number_of_nests = [14522, 3261, 4448, 4517, 4633, 6929, 4879, 3429,2383,3321,\\\n",
    "                   2143,3790,3597,2626,2674,2107,2077,2055,1720,1596]\n",
    "\n",
    "# find the percentage difference of nests each year\n",
    "print(\"Number of Nests    Percent Difference\")\n",
    "print(\"-------------------------------------\")\n",
    "\n",
    "percentages = []\n",
    "for i in range(len(number_of_nests)-1):\n",
    "  difference = number_of_nests[i+1] - number_of_nests[i]\n",
    "  percent_difference = (difference/number_of_nests[i])*100\n",
    "  percentages.append(percent_difference)\n",
    "  print(number_of_nests[i], \"                   \", format(percent_difference, '.2f'))\n",
    "  \n",
    "print(\"\\n\")\n",
    "\n",
    "#find the average percentage change\n",
    "avg_percent_change = sum(percentages)/len(percentages)\n",
    "print(\"Average percentage change:\", format(avg_percent_change, '.2f'))"
   ]
  },
  {
   "cell_type": "markdown",
   "metadata": {
    "colab_type": "text",
    "id": "50wt-YSgHjOG"
   },
   "source": [
    "The average percentage change is a decrease (-3.89). I calculated this by taking the sum of all the percent changes and dividing it by the number of percent changes. "
   ]
  },
  {
   "cell_type": "code",
   "execution_count": 3,
   "metadata": {
    "colab": {
     "base_uri": "https://localhost:8080/",
     "height": 347
    },
    "colab_type": "code",
    "id": "Y3Yt8X-pH1-O",
    "outputId": "efcaa0e7-9e05-454b-e021-196c93443ea4"
   },
   "outputs": [
    {
     "data": {
      "image/png": "[encoded data removed]",
      "text/plain": [
       "<Figure size 432x288 with 1 Axes>"
      ]
     },
     "metadata": {},
     "output_type": "display_data"
    }
   ],
   "source": [
    "number_of_nests = [14522, 3261, 4448, 4517, 4633, 6929, 4879, 3429,2383,3321,\\\n",
    "                   2143,3790,3597,2626,2674,2107,2077,2055,1720,1596]\n",
    "number_of_females = [2640,593,809,821,842,1260,887,623,433,604,390,689,654,477,\\\n",
    "                     486,383,378,374,313,290]\n",
    "years = list(range(1984,2004))\n",
    "\n",
    "#plot number of nests and number of females as a function of years\n",
    "import numpy as np\n",
    "import matplotlib.pyplot as plt\n",
    "\n",
    "#year = np.linspace(1984,2004,18)\n",
    "\n",
    "plt.plot(years, number_of_nests, 'r.', label=\"Number of Nests\")\n",
    "plt.plot(years, number_of_females, 'b.', label=\"Number of Females\")\n",
    "plt.legend(loc='upper left')\n",
    "\n",
    "plt.show()"
   ]
  },
  {
   "cell_type": "markdown",
   "metadata": {
    "colab_type": "text",
    "id": "LsOHDksn82jO",
    "slideshow": {
     "slide_type": "fragment"
    }
   },
   "source": [
    "\n",
    "## Problem 2: Fobonacci Numbers and the Golden Ratio (35 points) \n",
    "\n",
    "\n",
    "You just heard two different talks on the topic of Fibonacci numbers and the golden ratio. \n",
    "\n",
    "Write a program that creates a list of the first 50 Fibonacci numbers.\n",
    "\n",
    "Once the numbers are calculated the program should calculate the ratio of the two consecutive numbers for each pair of Fibonacci numbers:\n",
    "\n",
    "$$\\dfrac{\\text{Fibonacci number at position i}}{\\text{Fibonacci number at position i-1}}$$\n",
    "\n",
    "--\n",
    "\n",
    "The __golden ratio__ can be calculated using the following formula:\n",
    "\n",
    "$$\\dfrac{1 + \\sqrt{5}}{2} $$\n",
    "\n",
    "Compare the value of the golden ratio to the values obtained by calculating the ratios of consecutive Fibonacci numbers. \n",
    "\n",
    "\n",
    "\n",
    "Create a CODE cell below to write your program. Your answers should be in a TEXT cell or in the comments in the program. "
   ]
  },
  {
   "cell_type": "code",
   "execution_count": 4,
   "metadata": {
    "colab": {
     "base_uri": "https://localhost:8080/",
     "height": 1717
    },
    "colab_type": "code",
    "id": "NUo6S52TLByh",
    "outputId": "fd871168-220c-4902-f478-fd4a12c49110"
   },
   "outputs": [
    {
     "name": "stdout",
     "output_type": "stream",
     "text": [
      "0 \n",
      "\n",
      "1 \n",
      "\n",
      "1 \n",
      "\n",
      "2 \n",
      "\n",
      "3 \n",
      "\n",
      "5 \n",
      "\n",
      "8 \n",
      "\n",
      "13 \n",
      "\n",
      "21 \n",
      "\n",
      "34 \n",
      "\n",
      "55 \n",
      "\n",
      "89 \n",
      "\n",
      "144 \n",
      "\n",
      "233 \n",
      "\n",
      "377 \n",
      "\n",
      "610 \n",
      "\n",
      "987 \n",
      "\n",
      "1597 \n",
      "\n",
      "2584 \n",
      "\n",
      "4181 \n",
      "\n",
      "6765 \n",
      "\n",
      "10946 \n",
      "\n",
      "17711 \n",
      "\n",
      "28657 \n",
      "\n",
      "46368 \n",
      "\n",
      "75025 \n",
      "\n",
      "121393 \n",
      "\n",
      "196418 \n",
      "\n",
      "317811 \n",
      "\n",
      "514229 \n",
      "\n",
      "832040 \n",
      "\n",
      "1346269 \n",
      "\n",
      "2178309 \n",
      "\n",
      "3524578 \n",
      "\n",
      "5702887 \n",
      "\n",
      "9227465 \n",
      "\n",
      "14930352 \n",
      "\n",
      "24157817 \n",
      "\n",
      "39088169 \n",
      "\n",
      "63245986 \n",
      "\n",
      "102334155 \n",
      "\n",
      "165580141 \n",
      "\n",
      "267914296 \n",
      "\n",
      "433494437 \n",
      "\n",
      "701408733 \n",
      "\n",
      "1134903170 \n",
      "\n",
      "1836311903 \n",
      "\n",
      "2971215073 \n",
      "\n",
      "4807526976 \n",
      "\n",
      "7778742049 \n",
      "\n"
     ]
    }
   ],
   "source": [
    "fib_numbers = [0,1]\n",
    "for i in range (2,50):\n",
    "  fib_numbers.append(fib_numbers[i-1]+fib_numbers[i-2]) \n",
    "for fib in fib_numbers:\n",
    "  print(fib, '\\n')\n",
    "\n",
    "#append the sum of the last two elements\n",
    "\n",
    "#fib(n) = fib(n-1) + fib(n-2)\n",
    "#can either start with 0 1 or 1 1 \n",
    "#fib = [0,1]\n",
    "#for i in range(2,50): \n",
    "#fib.append(fib[i-1]+fib[i-2])"
   ]
  },
  {
   "cell_type": "markdown",
   "metadata": {
    "colab_type": "text",
    "id": "5Zb-CEso82jP",
    "slideshow": {
     "slide_type": "slide"
    }
   },
   "source": [
    "## Problem 3: Subway Fares in NYC (35 points) \n",
    "\n",
    "\n",
    "The Wikipedia has an article that shows the history of the transit fares in NYC. The part of the article that talks about subway fares is titled [Subway and local buses](https://en.wikipedia.org/wiki/New_York_City_transit_fares#Subway_and_local_buses). You will need the data provided in that section to complete this problem. \n",
    "\n",
    "You will also need the [Inflation Calculator](https://www.bls.gov/data/inflation_calculator.htm) that we used at the beginning of the semester. \n",
    "\n",
    "Complete the following tasks in the CODE cells and TEXT cells below this problem description.\n",
    "\n",
    "- Plot the history of subway fares from 1905 to 2018. Make sure that your plot includes ALL the years, not just the years of the fare increase. For example, the fare was 5 cents from 1905 to 1948, this means that your plot should have a flat line for these years and then the increase in 1948 to 10 cents. \n",
    "\n",
    "- Use the inflation calculator to figure out what the price of a subway fare should be, if the only increases followed the inflation rate. (The calculator starts at 1913, not 1905, so use that year as a starting point.) \n",
    "\n",
    "- For each of the fare increases, calculate the percentage increase over the previous fare. Show a table containing the year of the increase and the percentage increase that was applied. (Read through your results to verify that they do make sense.) \n",
    "\n",
    "Note: for all the fares use the _base fare_. \n",
    "\n"
   ]
  },
  {
   "cell_type": "code",
   "execution_count": 11,
   "metadata": {
    "colab": {
     "base_uri": "https://localhost:8080/",
     "height": 347
    },
    "colab_type": "code",
    "id": "dQnFvCk182jR",
    "outputId": "7ef1ab2e-83a1-43e7-c708-4c7492b06136"
   },
   "outputs": [
    {
     "data": {
      "image/png": "[encoded data removed]",
      "text/plain": [
       "<matplotlib.figure.Figure at 0x7f5f72700278>"
      ]
     },
     "metadata": {
      "tags": []
     },
     "output_type": "display_data"
    }
   ],
   "source": [
    "#plot the history of subway fares\n",
    "import numpy as np\n",
    "import matplotlib.pyplot as plt\n",
    "\n",
    "years = range(1905,2018)\n",
    "fares = ([0.05]*43)+([0.10]*5)+([0.15]*13)+([0.20]*4)+([0.30]*2)+([0.35]*3)+([0.5]*5)+([0.6]*2)+([0.75]*3)+([0.9]*2)+([1]*3)+([1.15]*2)+([1.25]*3)+([1.5]*8)+([2]*6)+([2.25]*4)+([2.5]*2)+([2.75]*3)\n",
    "\n",
    "plt.plot(years, fares, 'b-')\n",
    "plt.show()"
   ]
  },
  {
   "cell_type": "markdown",
   "metadata": {
    "colab_type": "text",
    "id": "vbQUnKqx6ys4"
   },
   "source": [
    "According to the inflation calculator, the 5 cents in 1913 is equal to $1.29 in today's money. So based solely on inflation, we should be paying over a dollar less than we do. "
   ]
  },
  {
   "cell_type": "code",
   "execution_count": 16,
   "metadata": {
    "colab": {
     "base_uri": "https://localhost:8080/",
     "height": 1955
    },
    "colab_type": "code",
    "id": "Hg_M18MD7UOZ",
    "outputId": "40ac5dbf-475a-4997-d584-d9ba1ea50080"
   },
   "outputs": [
    {
     "name": "stdout",
     "output_type": "stream",
     "text": [
      "Fare    Percent Difference\n",
      "--------------------------\n",
      "1905          -5400.00\n",
      "1906          0.00\n",
      "1907          0.00\n",
      "1908          0.00\n",
      "1909          0.00\n",
      "1910          0.00\n",
      "1911          0.00\n",
      "1912          0.00\n",
      "1913          0.00\n",
      "1914          0.00\n",
      "1915          0.00\n",
      "1916          0.00\n",
      "1917          0.00\n",
      "1918          0.00\n",
      "1919          0.00\n",
      "1920          0.00\n",
      "1921          0.00\n",
      "1922          0.00\n",
      "1923          0.00\n",
      "1924          0.00\n",
      "1925          0.00\n",
      "1926          0.00\n",
      "1927          0.00\n",
      "1928          0.00\n",
      "1929          0.00\n",
      "1930          0.00\n",
      "1931          0.00\n",
      "1932          0.00\n",
      "1933          0.00\n",
      "1934          0.00\n",
      "1935          0.00\n",
      "1936          0.00\n",
      "1937          0.00\n",
      "1938          0.00\n",
      "1939          0.00\n",
      "1940          0.00\n",
      "1941          0.00\n",
      "1942          0.00\n",
      "1943          0.00\n",
      "1944          0.00\n",
      "1945          0.00\n",
      "1946          0.00\n",
      "1947          0.00\n",
      "1948          50.00\n",
      "1949          0.00\n",
      "1950          0.00\n",
      "1951          0.00\n",
      "1952          0.00\n",
      "1953          33.33\n",
      "1954          0.00\n",
      "1955          0.00\n",
      "1956          0.00\n",
      "1957          0.00\n",
      "1958          0.00\n",
      "1959          0.00\n",
      "1960          0.00\n",
      "1961          0.00\n",
      "1962          0.00\n",
      "1963          0.00\n",
      "1964          0.00\n",
      "1965          0.00\n",
      "1966          25.00\n",
      "1967          0.00\n",
      "1968          0.00\n",
      "1969          0.00\n",
      "1970          33.33\n",
      "1971          0.00\n",
      "1972          14.29\n",
      "1973          0.00\n",
      "1974          0.00\n",
      "1975          30.00\n",
      "1976          0.00\n",
      "1977          0.00\n",
      "1978          0.00\n",
      "1979          0.00\n",
      "1980          16.67\n",
      "1981          0.00\n",
      "1982          20.00\n",
      "1983          0.00\n",
      "1984          0.00\n",
      "1985          16.67\n",
      "1986          0.00\n",
      "1987          10.00\n",
      "1988          0.00\n",
      "1989          0.00\n",
      "1990          13.04\n",
      "1991          0.00\n",
      "1992          8.00\n",
      "1993          0.00\n",
      "1994          0.00\n",
      "1995          16.67\n",
      "1996          0.00\n",
      "1997          0.00\n",
      "1998          0.00\n",
      "1999          0.00\n",
      "2000          0.00\n",
      "2001          0.00\n",
      "2002          0.00\n",
      "2003          25.00\n",
      "2004          0.00\n",
      "2005          0.00\n",
      "2006          0.00\n",
      "2007          0.00\n",
      "2008          0.00\n",
      "2009          11.11\n",
      "2010          0.00\n",
      "2011          0.00\n",
      "2012          0.00\n",
      "2013          10.00\n",
      "2014          0.00\n",
      "2015          9.09\n",
      "2016          0.00\n"
     ]
    }
   ],
   "source": [
    "#calculate percentage increase\n",
    "\n",
    "years = range(1905,2018)\n",
    "fares = ([0.05]*43)+([0.10]*5)+([0.15]*13)+([0.20]*4)+([0.30]*2)+([0.35]*3)+([0.5]*5)+([0.6]*2)+([0.75]*3)+([0.9]*2)+([1]*3)+([1.15]*2)+([1.25]*3)+([1.5]*8)+([2]*6)+([2.25]*4)+([2.5]*2)+([2.75]*3)\n",
    "\n",
    "print(\"Fare    Percent Difference\")\n",
    "print(\"--------------------------\")\n",
    "\n",
    "\n",
    "for i in range(len(years)-1):\n",
    "  difference = fares[i] - fares[i-1]\n",
    "  percent_difference = (difference/fares[i])*100\n",
    "  print(years[i], \"        \", format(percent_difference, '.2f'))"
   ]
  },
  {
   "cell_type": "code",
   "execution_count": 0,
   "metadata": {
    "colab": {},
    "colab_type": "code",
    "id": "BpEO18aQY8Pa"
   },
   "outputs": [],
   "source": []
  }
 ],
 "metadata": {
  "colab": {
   "name": "Copy of Lab11.ipynb",
   "provenance": [],
   "version": "0.3.2"
  },
  "kernelspec": {
   "display_name": "Python 3",
   "language": "python",
   "name": "python3"
  },
  "language_info": {
   "codemirror_mode": {
    "name": "ipython",
    "version": 3
   },
   "file_extension": ".py",
   "mimetype": "text/x-python",
   "name": "python",
   "nbconvert_exporter": "python",
   "pygments_lexer": "ipython3",
   "version": "3.6.5"
  }
 },
 "nbformat": 4,
 "nbformat_minor": 1
}
