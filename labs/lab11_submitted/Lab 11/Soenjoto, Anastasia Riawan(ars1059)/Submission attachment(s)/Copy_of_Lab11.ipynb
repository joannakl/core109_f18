{
 "cells": [
  {
   "cell_type": "markdown",
   "metadata": {
    "colab_type": "text",
    "id": "64l90qJlp0j2"
   },
   "source": [
    "# Lab 11 (due Dec. 12)"
   ]
  },
  {
   "cell_type": "markdown",
   "metadata": {
    "colab_type": "text",
    "id": "_qhz2nF4oWN2"
   },
   "source": [
    "Soenjoto, Anastasia\n",
    "\n",
    "ars1059\n",
    "\n",
    "Double click this text cell to edit it. Replace the lines above with your own name and netID.   \n",
    "\n",
    "Press `Shift` + `Enter` to exit editing mode. "
   ]
  },
  {
   "cell_type": "markdown",
   "metadata": {
    "colab_type": "text",
    "id": "A_knrGcWFlVf",
    "slideshow": {
     "slide_type": "slide"
    }
   },
   "source": [
    "## Problem 1: Leatherback Sea Turtles Population (30 points) \n",
    "\n",
    "\n",
    "Leatherback Sea Turtle population is declining due to many reasons. The paper published in 2013 [Long‐term decline of the western Pacific leatherback, Dermochelys coriacea: a globally important sea turtle population](https://esajournals.onlinelibrary.wiley.com/doi/full/10.1890/ES12-00348.1#i2150-8925-4-2-art25-Hitipeuw1) contains information about the estimated counts of nests and female leatherbacks in Jamursba Medi.\n",
    "Your job for this problem is to use this data to calculate a few things:\n",
    "- The female turtles lay eggs in multiple nests. What is the approximate number of nests in which a single female lays eggs? How did you estimate this? \n",
    "- What is the percentage by which the number of nests differs in each year from the previous year (assume that the previous year is 100%, calculate the percentage increase/decrease for the next year)? Write a program that shows the table.\n",
    "What is the average percentage change? Is it a decrease or increase on average? Explain how you calculated it. \n",
    "- Plot the number of nests and number of females as a function of years (years on the horizontal axis). Both should be included in a single plot. \n",
    "\n",
    "\n",
    "For each of the questions, provide the program that answers it, but also use a text cell (or comments in the program) to actually answer the question. \n",
    "\n",
    "\n",
    "\n",
    "Use the CODE cell below to continue with your program. "
   ]
  },
  {
   "cell_type": "code",
   "execution_count": 1,
   "metadata": {
    "colab": {
     "base_uri": "https://localhost:8080/",
     "height": 85
    },
    "colab_type": "code",
    "id": "PC_QShppAzH8",
    "outputId": "b5341918-4c08-4579-df9b-87d3e8d18f62"
   },
   "outputs": [],
   "source": [
    "number_of_nests = [14522, 3261, 4448, 4517, 4633, 6929, 4879, 3429,2383,3321,\\\n",
    "                   2143,3790,3597,2626,2674,2107,2077,2055,1720,1596]\n",
    "number_of_females = [2640,593,809,821,842,1260,887,623,433,604,390,689,654,477,\\\n",
    "                     486,383,378,374,313,290]\n",
    "years = [1984,1985,1993,1994,1995,1996,1997,1999,2000,2001,2002,2003,2004,2005,2006,2007,2008,2009,2010,2011]\n",
    "\n",
    "nest_per_female = []\n",
    "for i in range(len(number_of_nests)):\n",
    "  nest_per_female.append(number_of_nests[i]/number_of_females[i])\n",
    "  \n",
    "avg_nest_per_female = sum(nest_per_female)/len(nest_per_female)\n",
    "\n"
   ]
  },
  {
   "cell_type": "markdown",
   "metadata": {
    "colab_type": "text",
    "id": "StBgQTdnBm8J"
   },
   "source": [
    "**The female turtles lay eggs in multiple nests. What is the approximate number of nests in which a single female lays eggs? How did you estimate this?**\n",
    "\n",
    "The approximate number of nest in which a single female lays eggs is 5.500003653961009 so around 6 if we round up to a whole number. I estimated this by dividing each number of nests with its corresponding number of females. Then I averaged the value that I got. "
   ]
  },
  {
   "cell_type": "code",
   "execution_count": 2,
   "metadata": {
    "colab": {
     "base_uri": "https://localhost:8080/",
     "height": 391
    },
    "colab_type": "code",
    "id": "gbWHlv7tCTSb",
    "outputId": "d4b5cada-d781-4ec1-a9d7-73eff3cfa9de"
   },
   "outputs": [
    {
     "name": "stdout",
     "output_type": "stream",
     "text": [
      "Years                                      Percentage difference\n",
      "----------------------------------------------------------------\n",
      "Difference between year 1 and year 0         -77.54441536978378\n",
      "Difference between year 2 and year 1         36.399877338239804\n",
      "Difference between year 3 and year 2         1.5512589928057554\n",
      "Difference between year 4 and year 3         2.5680761567412\n",
      "Difference between year 5 and year 4         49.557522123893804\n",
      "Difference between year 6 and year 5         -29.585798816568047\n",
      "Difference between year 7 and year 6         -29.71920475507276\n",
      "Difference between year 8 and year 7         -30.504520268299796\n",
      "Difference between year 9 and year 8         39.36214855224507\n",
      "Difference between year 10 and year 9         -35.4712436013249\n",
      "Difference between year 11 and year 10         76.85487634157722\n",
      "Difference between year 12 and year 11         -5.092348284960422\n",
      "Difference between year 13 and year 12         -26.994717820405896\n",
      "Difference between year 14 and year 13         1.827875095201828\n",
      "Difference between year 15 and year 14         -21.20418848167539\n",
      "Difference between year 16 and year 15         -1.4238253440911248\n",
      "Difference between year 17 and year 16         -1.059220028887819\n",
      "Difference between year 18 and year 17         -16.30170316301703\n",
      "The average percentage change is:  -3.8941501925770354\n",
      "It is a decrease\n"
     ]
    }
   ],
   "source": [
    "number_of_nests = [14522, 3261, 4448, 4517, 4633, 6929, 4879, 3429,2383,3321,\\\n",
    "                   2143,3790,3597,2626,2674,2107,2077,2055,1720,1596]\n",
    "number_of_females = [2640,593,809,821,842,1260,887,623,433,604,390,689,654,477,\\\n",
    "                     486,383,378,374,313,290]\n",
    "years = [1984,1985,1993,1994,1995,1996,1997,1999,2000,2001,2002,2003,2004,2005,2006,2007,2008,2009,2010,2011]\n",
    "\n",
    "diff = []\n",
    "for i in range(1,len(number_of_nests)):\n",
    "  diff.append(((number_of_nests[i] - number_of_nests[i-1])/number_of_nests[i-1])*100)\n",
    "\n",
    "avg = sum(diff) / len(diff)\n",
    "print(\"Years                                      Percentage difference\")\n",
    "print(\"----------------------------------------------------------------\")\n",
    "\n",
    "for i in range(1,len(diff)):\n",
    "  print(\"Difference between year\",i,\"and year\", i-1, \"       \",diff[i-1])\n",
    "  \n",
    "\n",
    "print(\"The average percentage change is: \",avg)\n",
    "if (avg > 0):\n",
    "  print(\"It is an increase\")\n",
    "else:\n",
    "  print(\"It is a decrease\")\n",
    "  \n",
    "  "
   ]
  },
  {
   "cell_type": "markdown",
   "metadata": {
    "colab_type": "text",
    "id": "9B_VtMr1Ex-0"
   },
   "source": [
    "**What is the percentage by which the number of nests differs in each year from the previous year (assume that the previous year is 100%, calculate the percentage increase/decrease for the next year)? Write a program that shows the table. What is the average percentage change? Is it a decrease or increase on average? Explain how you calculated it.**\n",
    "\n",
    "The average percentage change is -3.8941501925770354, since it is a negative number that means it is a decrease. I calculated it by calculating the differnce of each year starting from number_of_nests[1] up to the last entry. Then I divided each by the year before and then multiplied it by 100. This finds the percentage change for 19 entries (since the difference starts from index 1 of number_of _nests) and then I calculated the average by summing all the differences up and dividing the number of differnces I calculated."
   ]
  },
  {
   "cell_type": "code",
   "execution_count": 14,
   "metadata": {
    "colab": {
     "base_uri": "https://localhost:8080/",
     "height": 828
    },
    "colab_type": "code",
    "id": "KXEL2kxi0h30",
    "outputId": "e30f5de9-f04a-4e77-9a0d-90e4a9e22c89"
   },
   "outputs": [
    {
     "name": "stdout",
     "output_type": "stream",
     "text": [
      "KEY\n",
      "----\n",
      "Blue represents number of nests \n",
      "Green represents number of females\n"
     ]
    },
    {
     "data": {
      "image/png": "[encoded data removed]",
      "text/plain": [
       "<matplotlib.figure.Figure at 0x7f9c4402aa58>"
      ]
     },
     "metadata": {
      "tags": []
     },
     "output_type": "display_data"
    }
   ],
   "source": [
    "import numpy as np\n",
    "import matplotlib.pyplot as plt\n",
    "\n",
    "number_of_nests = [14522, 3261, 4448, 4517, 4633, 6929, 4879, 3429,2383,3321,\\\n",
    "                   2143,3790,3597,2626,2674,2107,2077,2055,1720,1596]\n",
    "number_of_females = [2640,593,809,821,842,1260,887,623,433,604,390,689,654,477,\\\n",
    "                     486,383,378,374,313,290]\n",
    "years = [1984,1985,1993,1994,1995,1996,1997,1999,2000,2001,2002,2003,2004,2005,2006,2007,2008,2009,2010,2011]\n",
    "\n",
    "print(\"KEY\")\n",
    "print(\"----\")\n",
    "print(\"Blue represents number of nests \")\n",
    "print(\"Green represents number of females\")\n",
    "plt.figure(figsize=(9,6), dpi=150)\n",
    "plt.plot(years,number_of_nests,'b')\n",
    "plt.plot(years,number_of_nests,'r.')\n",
    "plt.plot(years,number_of_females,'g')\n",
    "plt.plot(years,number_of_females,'r.')\n",
    "plt.show()\n",
    "\n",
    "\n"
   ]
  },
  {
   "cell_type": "markdown",
   "metadata": {
    "colab_type": "text",
    "id": "K3J38mhpAzH_",
    "slideshow": {
     "slide_type": "fragment"
    }
   },
   "source": [
    "\n",
    "## Problem 2: Fobonacci Numbers and the Golden Ratio (35 points) \n",
    "\n",
    "\n",
    "You just heard two different talks on the topic of Fibonacci numbers and the golden ratio. \n",
    "\n",
    "Write a program that creates a list of the first 50 Fibonacci numbers.\n",
    "\n",
    "Once the numbers are calculated the program should calculate the ratio of the two consecutive numbers for each pair of Fibonacci numbers:\n",
    "\n",
    "$$\\dfrac{\\text{Fibonacci number at position i}}{\\text{Fibonacci number at position i-1}}$$\n",
    "\n",
    "--\n",
    "\n",
    "The __golden ratio__ can be calculated using the following formula:\n",
    "\n",
    "$$\\dfrac{1 + \\sqrt{5}}{2} $$\n",
    "\n",
    "Compare the value of the golden ratio to the values obtained by calculating the ratios of consecutive Fibonacci numbers. \n",
    "\n",
    "\n",
    "\n",
    "Create a CODE cell below to write your program. Your answers should be in a TEXT cell or in the comments in the program. "
   ]
  },
  {
   "cell_type": "code",
   "execution_count": 3,
   "metadata": {
    "colab": {
     "base_uri": "https://localhost:8080/",
     "height": 1768
    },
    "colab_type": "code",
    "id": "LCRQ_ZXjBiqd",
    "outputId": "b389c497-7e50-49c8-a5c9-667338bc0bdb"
   },
   "outputs": [
    {
     "name": "stdout",
     "output_type": "stream",
     "text": [
      "Fibonacci sequence\n",
      "------------------\n",
      "1\n",
      "1\n",
      "2\n",
      "3\n",
      "5\n",
      "8\n",
      "13\n",
      "21\n",
      "34\n",
      "55\n",
      "89\n",
      "144\n",
      "233\n",
      "377\n",
      "610\n",
      "987\n",
      "1597\n",
      "2584\n",
      "4181\n",
      "6765\n",
      "10946\n",
      "17711\n",
      "28657\n",
      "46368\n",
      "75025\n",
      "121393\n",
      "196418\n",
      "317811\n",
      "514229\n",
      "832040\n",
      "1346269\n",
      "2178309\n",
      "3524578\n",
      "5702887\n",
      "9227465\n",
      "14930352\n",
      "24157817\n",
      "39088169\n",
      "63245986\n",
      "102334155\n",
      "165580141\n",
      "267914296\n",
      "433494437\n",
      "701408733\n",
      "1134903170\n",
      "1836311903\n",
      "2971215073\n",
      "4807526976\n",
      "7778742049\n",
      "12586269025\n",
      "Golden Ratio\n",
      "-------------\n",
      "1.0\n",
      "2.0\n",
      "1.5\n",
      "1.6666666666666667\n",
      "1.6\n",
      "1.625\n",
      "1.6153846153846154\n",
      "1.619047619047619\n",
      "1.6176470588235294\n",
      "1.6181818181818182\n",
      "1.6179775280898876\n",
      "1.6180555555555556\n",
      "1.6180257510729614\n",
      "1.6180371352785146\n",
      "1.618032786885246\n",
      "1.618034447821682\n",
      "1.6180338134001253\n",
      "1.618034055727554\n",
      "1.6180339631667064\n",
      "1.6180339985218033\n",
      "1.618033985017358\n",
      "1.6180339901755971\n",
      "1.618033988205325\n",
      "1.618033988957902\n",
      "1.6180339886704431\n",
      "1.6180339887802426\n",
      "1.618033988738303\n",
      "1.6180339887543225\n",
      "1.6180339887482036\n",
      "1.6180339887505408\n",
      "1.6180339887496482\n",
      "1.618033988749989\n",
      "1.618033988749859\n",
      "1.6180339887499087\n",
      "1.6180339887498896\n",
      "1.618033988749897\n",
      "1.618033988749894\n",
      "1.6180339887498951\n",
      "1.6180339887498947\n",
      "1.618033988749895\n",
      "1.618033988749895\n",
      "1.618033988749895\n",
      "1.618033988749895\n",
      "1.618033988749895\n",
      "1.618033988749895\n",
      "1.618033988749895\n",
      "1.618033988749895\n",
      "1.618033988749895\n",
      "1.618033988749895\n"
     ]
    }
   ],
   "source": [
    "Fibonacci_numb = [1,1]\n",
    "golden_ratio = [] #from 1-50\n",
    "for i in range(2,50):\n",
    "  fib = Fibonacci_numb[i-1] + Fibonacci_numb[i-2]\n",
    "  Fibonacci_numb.append(fib)\n",
    "for i in range(1,50):\n",
    "  gr = Fibonacci_numb[i]/Fibonacci_numb[i-1]\n",
    "  golden_ratio.append(gr)\n",
    "print(\"Fibonacci sequence\")\n",
    "print(\"------------------\")\n",
    "for elem in Fibonacci_numb:\n",
    "  print(elem)\n",
    "print(\"Golden Ratio\")\n",
    "print(\"-------------\")\n",
    "for elem in golden_ratio:\n",
    "  print(elem)\n",
    "  \n"
   ]
  },
  {
   "cell_type": "markdown",
   "metadata": {
    "colab_type": "text",
    "id": "tzXXfiJgAzIA",
    "slideshow": {
     "slide_type": "slide"
    }
   },
   "source": [
    "## Problem 3: Subway Fares in NYC (35 points) \n",
    "\n",
    "\n",
    "The Wikipedia has an article that shows the history of the transit fares in NYC. The part of the article that talks about subway fares is titled [Subway and local buses](https://en.wikipedia.org/wiki/New_York_City_transit_fares#Subway_and_local_buses). You will need the data provided in that section to complete this problem. \n",
    "\n",
    "You will also need the [Inflation Calculator](https://www.bls.gov/data/inflation_calculator.htm) that we used at the beginning of the semester. \n",
    "\n",
    "Complete the following tasks in the CODE cells and TEXT cells below this problem description.\n",
    "\n",
    "- Plot the history of subway fares from 1905 to 2018. Make sure that your plot includes ALL the years, not just the years of the fare increase. For example, the fare was 5 cents from 1905 to 1948, this means that your plot should have a flat line for these years and then the increase in 1948 to 10 cents. \n",
    "\n",
    "- Use the inflation calculator to figure out what the price of a subway fare should be, if the only increases followed the inflation rate. (The calculator starts at 1913, not 1905, so use that year as a starting point.) \n",
    "\n",
    "- For each of the fare increases, calculate the percentage increase over the previous fare. Show a table containing the year of the increase and the percentage increase that was applied. (Read through your results to verify that they do make sense.) \n",
    "\n",
    "Note: for all the fares use the _base fare_. \n",
    "\n"
   ]
  },
  {
   "cell_type": "code",
   "execution_count": 5,
   "metadata": {
    "colab": {
     "base_uri": "https://localhost:8080/",
     "height": 1049
    },
    "colab_type": "code",
    "id": "hHNVAWKVAzIA",
    "outputId": "a735d303-bea7-4ee4-f25b-544eadffc0d5"
   },
   "outputs": [
    {
     "data": {
      "image/png": "[encoded data removed]",
      "text/plain": [
       "<Figure size 1350x900 with 1 Axes>"
      ]
     },
     "metadata": {},
     "output_type": "display_data"
    },
    {
     "name": "stdout",
     "output_type": "stream",
     "text": [
      "Years                          Percentage difference\n",
      "----------------------------------------------------\n",
      "Between 1947 and 1948          100.0\n",
      "Between 1952 and 1953          49.999999999999986\n",
      "Between 1965 and 1966          33.33333333333335\n",
      "Between 1969 and 1970          49.999999999999986\n",
      "Between 1971 and 1972          16.666666666666664\n",
      "Between 1974 and 1975          42.85714285714287\n",
      "Between 1979 and 1980          19.999999999999996\n",
      "Between 1980 and 1981          25.000000000000007\n",
      "Between 1983 and 1984          20.000000000000004\n",
      "Between 1985 and 1986          11.111111111111107\n",
      "Between 1989 and 1990          14.999999999999991\n",
      "Between 1991 and 1992          8.695652173913052\n",
      "Between 1994 and 1995          20.0\n",
      "Between 2002 and 2003          33.33333333333333\n",
      "Between 2008 and 2009          12.5\n"
     ]
    }
   ],
   "source": [
    "#for the years that overlap I used the increased fare (ex. 1948: $0.10 instead of $0.05)\n",
    "import numpy as np\n",
    "import matplotlib.pyplot as plt\n",
    "price = []\n",
    "years = []\n",
    "difference = []\n",
    "diff_years = []\n",
    "for i in range(4,48):\n",
    "  price.append(0.05)\n",
    "  years.append(1900+i)\n",
    "for i in range(48,53):\n",
    "  price.append(0.10)\n",
    "  years.append(1900+i)\n",
    "for i in range(53,66):\n",
    "  price.append(0.15)\n",
    "  years.append(1900+i)\n",
    "for i in range(66,70):\n",
    "  price.append(0.20)\n",
    "  years.append(1900+i)\n",
    "for i in range(70,72):\n",
    "  price.append(0.30)\n",
    "  years.append(1900+i)\n",
    "for i in range(72,75):\n",
    "  price.append(0.35)\n",
    "  years.append(1900+i)\n",
    "for i in range(75,80):\n",
    "  price.append(0.50)\n",
    "  years.append(1900+i)\n",
    "for i in range(80,81):\n",
    "  price.append(0.60)\n",
    "  years.append(1900+i)\n",
    "for i in range(81,84):\n",
    "  price.append(0.75)\n",
    "  years.append(1900+i)\n",
    "for i in range(84,86):\n",
    "  price.append(0.90)\n",
    "  years.append(1900+i)\n",
    "for i in range(86,90):\n",
    "  price.append(1.00)\n",
    "  years.append(1900+i)\n",
    "for i in range(90,92):\n",
    "  price.append(1.15)\n",
    "  years.append(1900+i)\n",
    "for i in range(92,95):\n",
    "  price.append(1.25)\n",
    "  years.append(1900+i)\n",
    "for i in range(95,103):\n",
    "  price.append(1.50)\n",
    "  years.append(1900+i)\n",
    "for i in range(103,109):\n",
    "  price.append(2.00)\n",
    "  years.append(1900+i)\n",
    "for i in range(109,113):\n",
    "  price.append(2.25)\n",
    "  years.append(1900+i)\n",
    "for i in range(13-115):\n",
    "  price.append(2.50)\n",
    "  years.append(1900+i)\n",
    "for i in range(115-119):\n",
    "  price.append(2.75)\n",
    "  years.append(1900+i)\n",
    "\n",
    "plt.figure(figsize=(9,6), dpi=150)\n",
    "plt.plot(years,price)\n",
    "plt.show()\n",
    "\n",
    "for i in range(1,len(price)):\n",
    "  if (price[i] - price[i-1]):\n",
    "    difference.append(((price[i] - price[i-1])/price[i-1]) * 100)\n",
    "    diff_years.append(years[i])\n",
    "  \n",
    "print(\"Years                          Percentage difference\")\n",
    "print(\"----------------------------------------------------\")\n",
    "for i in range(len(difference)):\n",
    "  print(\"Between\", diff_years[i]-1, \"and\", diff_years[i],\"        \", difference[i])\n",
    "  \n",
    "\n",
    "\n",
    "#price_after_inflation = [1.29,1.26,1.25,1.21,1.08,0.90,0.76,0.65,0.66,0.75,0.75,0.73,0.73,0.70,0.72,0.73,0.74,0.74,0.79,0.88,0.98,0.95,0.93,0.91,0.89,0.89,0.90,0.91,0.89,0.80,0.70,0.72,0.71,0.69,0.59,1.60,1.05,1.07,0.99,0.95,1.42,1.41,1.42,1.41,1.37,1.32,1.30,1.29,1.27,1.26,1.24,1.22,1.21,1.59,1.53,1.48,1.42,2.00,1.90,2.15,2.07,1.89,2.42,2.27,2.15,2.02,1.85,1.94,2.17,2.00,1.93,2.23,2.15,2.30,2.27,2.18,2.08,2.28,2.15,2.28,2.21,2.15,2.52,2.45,2.38,2.34,2.30,2.24,2.16,2.13,2.77,2.72,2.64,2.54,2.49,2.39,2.69,2.62,2.58,2.50,2.74,2.69,2.97,2.93,2.85,2.75]\n"
   ]
  },
  {
   "cell_type": "markdown",
   "metadata": {
    "colab_type": "text",
    "id": "Rj5AWpfjGXqT"
   },
   "source": [
    "**Part 2**\n",
    "Use the inflation calculator to figure out what the price of a subway fare should be, if the only increases followed the inflation rate. (The calculator starts at 1913, not 1905, so use that year as a starting point.)\n",
    "\n",
    "$0.05 in 1913 is equivalent to $1.29 in November of 2018."
   ]
  }
 ],
 "metadata": {
  "colab": {
   "name": "Copy of Lab11.ipynb",
   "provenance": [],
   "version": "0.3.2"
  },
  "kernelspec": {
   "display_name": "Python 3",
   "language": "python",
   "name": "python3"
  },
  "language_info": {
   "codemirror_mode": {
    "name": "ipython",
    "version": 3
   },
   "file_extension": ".py",
   "mimetype": "text/x-python",
   "name": "python",
   "nbconvert_exporter": "python",
   "pygments_lexer": "ipython3",
   "version": "3.6.5"
  }
 },
 "nbformat": 4,
 "nbformat_minor": 1
}
