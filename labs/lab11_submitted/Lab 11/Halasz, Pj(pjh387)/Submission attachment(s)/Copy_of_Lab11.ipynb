{
 "cells": [
  {
   "cell_type": "markdown",
   "metadata": {
    "colab_type": "text",
    "id": "64l90qJlp0j2"
   },
   "source": [
    "# Lab 11 (due Dec. 12)"
   ]
  },
  {
   "cell_type": "markdown",
   "metadata": {
    "colab_type": "text",
    "id": "_qhz2nF4oWN2"
   },
   "source": [
    "**Last, First**\n",
    "\n",
    "**NetID**\n",
    "\n",
    "Double click this text cell to edit it. Replace the lines above with your own name and netID.   \n",
    "\n",
    "Press `Shift` + `Enter` to exit editing mode. "
   ]
  },
  {
   "cell_type": "markdown",
   "metadata": {
    "colab_type": "text",
    "id": "A_knrGcWFlVf",
    "slideshow": {
     "slide_type": "slide"
    }
   },
   "source": [
    "## Problem 1: Leatherback Sea Turtles Population (30 points) \n",
    "\n",
    "\n",
    "Leatherback Sea Turtle population is declining due to many reasons. The paper published in 2013 [Long‐term decline of the western Pacific leatherback, Dermochelys coriacea: a globally important sea turtle population](https://esajournals.onlinelibrary.wiley.com/doi/full/10.1890/ES12-00348.1#i2150-8925-4-2-art25-Hitipeuw1) contains information about the estimated counts of nests and female leatherbacks in Jamursba Medi.\n",
    "Your job for this problem is to use this data to calculate a few things:\n",
    "- The female turtles lay eggs in multiple nests. What is the approximate number of nests in which a single female lays eggs? How did you estimate this? \n",
    "- What is the percentage by which the number of nests differs in each year from the previous year (assume that the previous year is 100%, calculate the percentage increase/decrease for the next year)? Write a program that shows the table.\n",
    "What is the average percentage change? Is it a decrease or increase on average? Explain how you calculated it. \n",
    "- Plot the number of nests and number of females as a function of years (years on the horizontal axis). Both should be included in a single plot. \n",
    "\n",
    "\n",
    "For each of the questions, provide the program that answers it, but also use a text cell (or comments in the program) to actually answer the question. \n",
    "\n",
    "\n",
    "\n",
    "Use the CODE cell below to continue with your program. "
   ]
  },
  {
   "cell_type": "code",
   "execution_count": 2,
   "metadata": {
    "colab": {
     "base_uri": "https://localhost:8080/",
     "height": 798
    },
    "colab_type": "code",
    "id": "pjrk-xBcLGTb",
    "outputId": "ebdf295f-d5d3-442c-a382-e842aef9ddea"
   },
   "outputs": [
    {
     "name": "stdout",
     "output_type": "stream",
     "text": [
      "The average amount of nests each female lays in is 5.500286820593718 I estimated this my dividing the total number of nests by the total amount of females\n",
      "\n",
      "year \t nests \t percent difference \t positive or negative differece\n",
      "-----------------------------------------------------------------------\n",
      "1984\t 14522\t n/a\n",
      "1985 \t 3261 \t 77.54441536978378 \t negative\n",
      "1986 \t 4448 \t 36.399877338239804 \t positive\n",
      "1987 \t 4517 \t 1.5512589928057554 \t positive\n",
      "1988 \t 4633 \t 2.5680761567412 \t positive\n",
      "1989 \t 6929 \t 49.557522123893804 \t positive\n",
      "1990 \t 4879 \t 29.585798816568047 \t negative\n",
      "1991 \t 3429 \t 29.71920475507276 \t negative\n",
      "1992 \t 2383 \t 30.504520268299796 \t negative\n",
      "1993 \t 3321 \t 39.36214855224507 \t positive\n",
      "1994 \t 2143 \t 35.4712436013249 \t negative\n",
      "1995 \t 3790 \t 76.85487634157722 \t positive\n",
      "1996 \t 3597 \t 5.092348284960422 \t negative\n",
      "1997 \t 2626 \t 26.994717820405896 \t negative\n",
      "1998 \t 2674 \t 1.827875095201828 \t positive\n",
      "1999 \t 2107 \t 21.20418848167539 \t negative\n",
      "2000 \t 2077 \t 1.4238253440911248 \t negative\n",
      "2001 \t 2055 \t 1.059220028887819 \t negative\n",
      "2002 \t 1720 \t 16.30170316301703 \t negative\n",
      "2003 \t 1596 \t 7.209302325581396 \t negative\n",
      "\n"
     ]
    },
    {
     "data": {
      "text/plain": [
       "<matplotlib.legend.Legend at 0x7fb457a84eb8>"
      ]
     },
     "execution_count": 2,
     "metadata": {},
     "output_type": "execute_result"
    },
    {
     "data": {
      "image/png": "[encoded data removed]",
      "text/plain": [
       "<Figure size 432x288 with 1 Axes>"
      ]
     },
     "metadata": {},
     "output_type": "display_data"
    }
   ],
   "source": [
    "import numpy as np\n",
    "import matplotlib.pyplot as plt\n",
    "\n",
    "number_of_nests = [14522, 3261, 4448, 4517, 4633, 6929, 4879, 3429,2383,3321,2143,3790,3597,2626,2674,2107,2077,2055,1720,1596]\n",
    "number_of_females = [2640,593,809,821,842,1260,887,623,433,604,390,689,654,477,486,383,378,374,313,290]\n",
    "years = list(range(1984,2004))\n",
    "percent = []\n",
    "\n",
    "nest_sum = sum(number_of_nests)\n",
    "sum_females = sum(number_of_females)\n",
    "average_nests_per_female = nest_sum / sum_females\n",
    "print('The average amount of nests each female lays in is', average_nests_per_female, 'I estimated this my dividing the total number of nests by the total amount of females')\n",
    "\n",
    "print('')\n",
    "\n",
    "print('year', '\\t', 'nests', '\\t', 'percent difference', '\\t', 'positive or negative differece')\n",
    "print('-----------------------------------------------------------------------')\n",
    "print('1984\\t 14522\\t n/a')\n",
    "for x in range(len(number_of_nests)-1):\n",
    "    pos_check = (number_of_nests[x+1] - number_of_nests[x])\n",
    "    if pos_check > 0:\n",
    "      val = 'positive'\n",
    "    else:\n",
    "      val = 'negative'\n",
    "    print(years[x+1], '\\t', number_of_nests[x+1], '\\t', ((abs(number_of_nests[x+1] - number_of_nests[x]) / number_of_nests[x]) * 100.0), '\\t', val)\n",
    "    \n",
    "# I found the difference between two years by taking the absolute value of the number and subtracting the previous year's number and dividing them by that years number\n",
    "# then multiplying 100 times. I determined wether this was an increase or decrease by subtracting the previous years number from the current years and seeing it it was positive or not\n",
    "\n",
    "print('')\n",
    "\n",
    "plt.plot(years, number_of_females, label = 'number of females')\n",
    "plt.plot(years, number_of_nests, label = 'number of nests')\n",
    "plt.xlabel('Years') \n",
    "plt.legend(loc='upper right')"
   ]
  },
  {
   "cell_type": "markdown",
   "metadata": {
    "colab_type": "text",
    "id": "jC6vsDyELGTf",
    "slideshow": {
     "slide_type": "fragment"
    }
   },
   "source": [
    "\n",
    "## Problem 2: Fibonacci Numbers and the Golden Ratio (35 points) \n",
    "\n",
    "\n",
    "You just heard two different talks on the topic of Fibonacci numbers and the golden ratio. \n",
    "\n",
    "Write a program that creates a list of the first 50 Fibonacci numbers.\n",
    "\n",
    "Once the numbers are calculated the program should calculate the ratio of the two consecutive numbers for each pair of Fibonacci numbers:\n",
    "\n",
    "$$\\dfrac{\\text{Fibonacci number at position i}}{\\text{Fibonacci number at position i-1}}$$\n",
    "\n",
    "--\n",
    "\n",
    "The __golden ratio__ can be calculated using the following formula:\n",
    "\n",
    "$$\\dfrac{1 + \\sqrt{5}}{2} $$\n",
    "\n",
    "Compare the value of the golden ratio to the values obtained by calculating the ratios of consecutive Fibonacci numbers. \n",
    "\n",
    "\n",
    "\n",
    "Create a CODE cell below to write your program. Your answers should be in a TEXT cell or in the comments in the program. "
   ]
  },
  {
   "cell_type": "code",
   "execution_count": 3,
   "metadata": {
    "colab": {
     "base_uri": "https://localhost:8080/",
     "height": 907
    },
    "colab_type": "code",
    "id": "omr5lQ7Vk7P0",
    "outputId": "46dbb813-5d47-420e-9457-095a9a5fadb8"
   },
   "outputs": [
    {
     "name": "stdout",
     "output_type": "stream",
     "text": [
      "position \t number \t ratio\n",
      "---------------------------------------\n",
      "0 \t\t 0 \t\t 0\n",
      "1 \t\t 1 \t\t 0\n",
      "2 \t\t 1 \t\t 0\n",
      "3 \t\t 2 \t\t 1.5\n",
      "4 \t\t 3 \t\t 1.6666666666666667\n",
      "5 \t\t 5 \t\t 1.6\n",
      "6 \t\t 8 \t\t 1.625\n",
      "7 \t\t 13 \t\t 1.6153846153846154\n",
      "8 \t\t 21 \t\t 1.619047619047619\n",
      "9 \t\t 34 \t\t 1.6176470588235294\n",
      "10 \t\t 55 \t\t 1.6181818181818182\n",
      "11 \t\t 89 \t\t 1.6179775280898876\n",
      "12 \t\t 144 \t\t 1.6180555555555556\n",
      "13 \t\t 233 \t\t 1.6180257510729614\n",
      "14 \t\t 377 \t\t 1.6180371352785146\n",
      "15 \t\t 610 \t\t 1.618032786885246\n",
      "16 \t\t 987 \t\t 1.618034447821682\n",
      "17 \t\t 1597 \t\t 1.6180338134001253\n",
      "18 \t\t 2584 \t\t 1.618034055727554\n",
      "19 \t\t 4181 \t\t 1.6180339631667064\n",
      "20 \t\t 6765 \t\t 1.6180339985218033\n",
      "21 \t\t 10946 \t\t 1.618033985017358\n",
      "22 \t\t 17711 \t\t 1.6180339901755971\n",
      "23 \t\t 28657 \t\t 1.618033988205325\n",
      "24 \t\t 46368 \t\t 1.618033988957902\n",
      "25 \t\t 75025 \t\t 1.6180339886704431\n",
      "26 \t\t 121393 \t\t 1.6180339887802426\n",
      "27 \t\t 196418 \t\t 1.618033988738303\n",
      "28 \t\t 317811 \t\t 1.6180339887543225\n",
      "29 \t\t 514229 \t\t 1.6180339887482036\n",
      "30 \t\t 832040 \t\t 1.6180339887505408\n",
      "31 \t\t 1346269 \t\t 1.6180339887496482\n",
      "32 \t\t 2178309 \t\t 1.618033988749989\n",
      "33 \t\t 3524578 \t\t 1.618033988749859\n",
      "34 \t\t 5702887 \t\t 1.6180339887499087\n",
      "35 \t\t 9227465 \t\t 1.6180339887498896\n",
      "36 \t\t 14930352 \t\t 1.618033988749897\n",
      "37 \t\t 24157817 \t\t 1.618033988749894\n",
      "38 \t\t 39088169 \t\t 1.6180339887498951\n",
      "39 \t\t 63245986 \t\t 1.6180339887498947\n",
      "40 \t\t 102334155 \t\t 1.618033988749895\n",
      "41 \t\t 165580141 \t\t 1.618033988749895\n",
      "42 \t\t 267914296 \t\t 1.618033988749895\n",
      "43 \t\t 433494437 \t\t 1.618033988749895\n",
      "44 \t\t 701408733 \t\t 1.618033988749895\n",
      "45 \t\t 1134903170 \t\t 1.618033988749895\n",
      "46 \t\t 1836311903 \t\t 1.618033988749895\n",
      "47 \t\t 2971215073 \t\t 1.618033988749895\n",
      "48 \t\t 4807526976 \t\t 1.618033988749895\n",
      "49 \t\t 7778742049 \t\t 1.618033988749895\n",
      "50 \t\t 12586269025 \t\t 1.618033988749895\n"
     ]
    }
   ],
   "source": [
    "print('position', '\\t', 'number', '\\t', 'ratio')\n",
    "print('---------------------------------------')\n",
    "\n",
    "number1 = 0\n",
    "number2 = 1\n",
    "\n",
    "fib = [0, 1]\n",
    "\n",
    "for x in range(51):\n",
    "  fib = fib + [(fib[x+1]+fib[x])]\n",
    "  if x > 2:\n",
    "    ratio = (fib[x+1]/fib[x])\n",
    "  else:\n",
    "    ratio = 0\n",
    "  print(x, '\\t\\t', fib[x], '\\t\\t', ratio)"
   ]
  },
  {
   "cell_type": "markdown",
   "metadata": {
    "colab_type": "text",
    "id": "z1zUdHqULGTh",
    "slideshow": {
     "slide_type": "slide"
    }
   },
   "source": [
    "## Problem 3: Subway Fares in NYC (35 points) \n",
    "\n",
    "\n",
    "The Wikipedia has an article that shows the history of the transit fares in NYC. The part of the article that talks about subway fares is titled [Subway and local buses](https://en.wikipedia.org/wiki/New_York_City_transit_fares#Subway_and_local_buses). You will need the data provided in that section to complete this problem. \n",
    "\n",
    "You will also need the [Inflation Calculator](https://www.bls.gov/data/inflation_calculator.htm) that we used at the beginning of the semester. \n",
    "\n",
    "Complete the following tasks in the CODE cells and TEXT cells below this problem description.\n",
    "\n",
    "- Plot the history of subway fares from 1905 to 2018. Make sure that your plot includes ALL the years, not just the years of the fare increase. For example, the fare was 5 cents from 1905 to 1948, this means that your plot should have a flat line for these years and then the increase in 1948 to 10 cents. \n",
    "\n",
    "- Use the inflation calculator to figure out what the price of a subway fare should be, if the only increases followed the inflation rate. (The calculator starts at 1913, not 1905, so use that year as a starting point.) \n",
    "\n",
    "- For each of the fare increases, calculate the percentage increase over the previous fare. Show a table containing the year of the increase and the percentage increase that was applied. (Read through your results to verify that they do make sense.) \n",
    "\n",
    "Note: for all the fares use the _base fare_. \n",
    "\n"
   ]
  },
  {
   "cell_type": "code",
   "execution_count": 5,
   "metadata": {
    "colab": {
     "base_uri": "https://localhost:8080/",
     "height": 364
    },
    "colab_type": "code",
    "id": "yxnh-aOILGTh",
    "outputId": "03ba5c02-b2fc-48de-990a-3709754a38d0"
   },
   "outputs": [
    {
     "name": "stdout",
     "output_type": "stream",
     "text": [
      "\n"
     ]
    },
    {
     "data": {
      "image/png": "[encoded data removed]",
      "text/plain": [
       "<Figure size 432x288 with 1 Axes>"
      ]
     },
     "metadata": {},
     "output_type": "display_data"
    }
   ],
   "source": [
    "import numpy as np\n",
    "import matplotlib.pyplot as plt\n",
    "\n",
    "oof = list(range(1905, 2018)) #python did not like that there was something called years as well earlier in this noteboook, so this is oof\n",
    "fare = [.05, .1, .15, .20, .30, .35, .50, .60, .75, .90, 1, 1.15, 1.25, 1.50, 2, 2.25, 2.50, 2.75]\n",
    "betterfare = []\n",
    "\n",
    "for x in range(len(oof)):\n",
    "  if oof[x] > 1904 and oof[x] <= 1948:\n",
    "    yaw = fare[0]\n",
    "    betterfare = betterfare + [yaw]\n",
    "  elif oof[x] > 1948 and oof[x] <= 1953:\n",
    "    yaw = fare[1]\n",
    "    betterfare = betterfare + [yaw]\n",
    "  elif oof[x] > 1953 and oof[x] <= 1966:\n",
    "    yaw = fare[2]\n",
    "    betterfare = betterfare + [yaw]\n",
    "  elif oof[x] > 1966 and oof[x] <= 1970:\n",
    "    yaw = fare[3]\n",
    "    betterfare = betterfare + [yaw]\n",
    "  elif oof[x] > 1970 and oof[x] <= 1971:\n",
    "    yaw = fare[4]\n",
    "    betterfare = betterfare + [yaw]\n",
    "  elif oof[x] > 1971 and oof[x] <= 1975:\n",
    "    yaw = fare[5]\n",
    "    betterfare = betterfare + [yaw]\n",
    "  elif oof[x] > 1975 and oof[x] <= 1980:\n",
    "    yaw = fare[6]\n",
    "    betterfare = betterfare + [yaw]\n",
    "  elif oof[x] > 1980 and oof[x] <= 1981:\n",
    "    yaw = fare[7]\n",
    "    betterfare = betterfare + [yaw]\n",
    "  elif oof[x] > 1981 and oof[x] <= 1984:\n",
    "    yaw = fare[8]\n",
    "    betterfare = betterfare + [yaw]\n",
    "  elif oof[x] > 1984 and oof[x] <= 1985:\n",
    "    yaw = fare[9]\n",
    "    betterfare = betterfare + [yaw]\n",
    "  elif oof[x] > 1985 and oof[x] <= 1989:\n",
    "    yaw = fare[10]\n",
    "    betterfare = betterfare + [yaw]\n",
    "  elif oof[x] > 1989 and oof[x] <= 1991:\n",
    "    yaw = fare[11]\n",
    "    betterfare = betterfare + [yaw]\n",
    "  elif oof[x] > 1991 and oof[x] <= 1995:\n",
    "    yaw = fare[12]\n",
    "    betterfare = betterfare + [yaw]\n",
    "  elif oof[x] > 1995 and oof[x] <= 2003:\n",
    "    yaw = fare[13]\n",
    "    betterfare = betterfare + [yaw]\n",
    "  elif oof[x] > 2003 and oof[x] <= 2009:\n",
    "    yaw = fare[14]\n",
    "    betterfare = betterfare + [yaw]\n",
    "  elif oof[x] > 2009 and oof[x] <= 2010:\n",
    "    yaw = fare[15]\n",
    "    betterfare = betterfare + [yaw]\n",
    "  elif oof[x] > 2010 and oof[x] <= 2013:\n",
    "    yaw = fare[15]\n",
    "    betterfare = betterfare + [yaw]\n",
    "  elif oof[x] > 2013 and oof[x] <= 2015:\n",
    "    yaw = fare[16]\n",
    "    betterfare = betterfare + [yaw]\n",
    "  elif oof[x] > 2015 and oof[x] <= 2018:\n",
    "    yaw = fare[17]\n",
    "    betterfare = betterfare + [yaw]\n",
    "    \n",
    "plt.plot(oof, betterfare) \n",
    "print('')\n",
    "\n"
   ]
  },
  {
   "cell_type": "code",
   "execution_count": null,
   "metadata": {},
   "outputs": [],
   "source": []
  }
 ],
 "metadata": {
  "colab": {
   "collapsed_sections": [],
   "name": "Copy of Lab11.ipynb",
   "provenance": [],
   "version": "0.3.2"
  },
  "kernelspec": {
   "display_name": "Python 3",
   "language": "python",
   "name": "python3"
  },
  "language_info": {
   "codemirror_mode": {
    "name": "ipython",
    "version": 3
   },
   "file_extension": ".py",
   "mimetype": "text/x-python",
   "name": "python",
   "nbconvert_exporter": "python",
   "pygments_lexer": "ipython3",
   "version": "3.6.5"
  }
 },
 "nbformat": 4,
 "nbformat_minor": 1
}
