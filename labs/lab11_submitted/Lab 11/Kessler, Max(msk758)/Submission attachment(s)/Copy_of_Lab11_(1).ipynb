{
 "cells": [
  {
   "cell_type": "markdown",
   "metadata": {
    "colab_type": "text",
    "id": "64l90qJlp0j2"
   },
   "source": [
    "# Lab 11 (due Dec. 12)"
   ]
  },
  {
   "cell_type": "markdown",
   "metadata": {
    "colab_type": "text",
    "id": "Nb8BGE4pi2vh"
   },
   "source": []
  },
  {
   "cell_type": "markdown",
   "metadata": {
    "colab_type": "text",
    "id": "_qhz2nF4oWN2"
   },
   "source": [
    "**Kessler, Max**\n",
    "\n",
    "**msk758**\n",
    "\n",
    "Double click this text cell to edit it. Replace the lines above with your own name and netID.   \n",
    "\n",
    "Press `Shift` + `Enter` to exit editing mode. "
   ]
  },
  {
   "cell_type": "markdown",
   "metadata": {
    "colab_type": "text",
    "id": "A_knrGcWFlVf",
    "slideshow": {
     "slide_type": "slide"
    }
   },
   "source": [
    "## Problem 1: Leatherback Sea Turtles Population (30 points) \n",
    "\n",
    "\n",
    "Leatherback Sea Turtle population is declining due to many reasons. The paper published in 2013 [Long‐term decline of the western Pacific leatherback, Dermochelys coriacea: a globally important sea turtle population](https://esajournals.onlinelibrary.wiley.com/doi/full/10.1890/ES12-00348.1#i2150-8925-4-2-art25-Hitipeuw1) contains information about the estimated counts of nests and female leatherbacks in Jamursba Medi.\n",
    "Your job for this problem is to use this data to calculate a few things:\n",
    "- The female turtles lay eggs in multiple nests. What is the approximate number of nests in which a single female lays eggs? How did you estimate this? \n",
    "- What is the percentage by which the number of nests differs in each year from the previous year (assume that the previous year is 100%, calculate the percentage increase/decrease for the next year)? Write a program that shows the table.\n",
    "What is the average percentage change? Is it a decrease or increase on average? Explain how you calculated it. \n",
    "- Plot the number of nests and number of females as a function of years (years on the horizontal axis). Both should be included in a single plot. \n",
    "\n",
    "\n",
    "For each of the questions, provide the program that answers it, but also use a text cell (or comments in the program) to actually answer the question. \n",
    "\n",
    "\n",
    "\n",
    "Use the CODE cell below to continue with your program. "
   ]
  },
  {
   "cell_type": "code",
   "execution_count": 1,
   "metadata": {
    "colab": {
     "base_uri": "https://localhost:8080/",
     "height": 71
    },
    "colab_type": "code",
    "id": "wU4HBYCP9Ahr",
    "outputId": "afd5e9a8-2833-465b-cf1d-8c5a42cb1962"
   },
   "outputs": [
    {
     "name": "stdout",
     "output_type": "stream",
     "text": [
      "[5.500757575757576, 5.499156829679595, 5.49814585908529, 5.501827040194884, 5.502375296912114, 5.499206349206349, 5.500563697857948, 5.504012841091493, 5.503464203233256, 5.498344370860927, 5.494871794871795, 5.500725689404935, 5.5, 5.50524109014675, 5.502057613168724, 5.5013054830287205, 5.494708994708994, 5.494652406417113, 5.49520766773163, 5.503448275862069]\n",
      "5.500003653961009\n"
     ]
    }
   ],
   "source": [
    "import pandas as pd\n",
    "import matplotlib.pyplot as plt\n",
    "\n",
    "number_of_nests = [14522, 3261, 4448, 4517, 4633, 6929, 4879, 3429,2383,3321,\\\n",
    "                   2143,3790,3597,2626,2674,2107,2077,2055,1720,1596]\n",
    "number_of_females = [2640,593,809,821,842,1260,887,623,433,604,390,689,654,477,\\\n",
    "                     486,383,378,374,313,290]\n",
    "years = [1984, 1985, 1993, 1994, 1995, 1996, 1997, 1999, 2000, 2001, 2002, 2003, 2004, 2005, 2006, 2007, 2008, 2009, 2010, 2011] #list(range(1984,2002))\n",
    "\n",
    "nests_per_female = [x/y for x,y in zip(number_of_nests, number_of_females)]\n",
    "average_nests_per_female = sum(nests_per_female)/len(nests_per_female)\n",
    "\n",
    "print (nests_per_female)\n",
    "print (average_nests_per_female)\n"
   ]
  },
  {
   "cell_type": "markdown",
   "metadata": {
    "colab_type": "text",
    "id": "t-Rf8BSAi4CP"
   },
   "source": [
    "I divided the number of nests by the number of females after zipping the two lists together"
   ]
  },
  {
   "cell_type": "code",
   "execution_count": 2,
   "metadata": {
    "colab": {
     "base_uri": "https://localhost:8080/",
     "height": 391
    },
    "colab_type": "code",
    "id": "De6WtcP4xPRa",
    "outputId": "1c7e9001-44f4-4010-de01-d194de621573"
   },
   "outputs": [
    {
     "name": "stdout",
     "output_type": "stream",
     "text": [
      "      % change\n",
      "1985    -77.54\n",
      "1993     36.40\n",
      "1994      1.55\n",
      "1995      2.57\n",
      "1996     49.56\n",
      "1997    -29.59\n",
      "1999    -29.72\n",
      "2000    -30.50\n",
      "2001     39.36\n",
      "2002    -35.47\n",
      "2003     76.85\n",
      "2004     -5.09\n",
      "2005    -26.99\n",
      "2006      1.83\n",
      "2007    -21.20\n",
      "2008     -1.42\n",
      "2009     -1.06\n",
      "2010    -16.30\n",
      "2011     -7.21\n",
      "\n",
      "average percent change -3.89\n"
     ]
    }
   ],
   "source": [
    "x = [round(100*(y-x)/x,2) for x,y in zip(number_of_nests[:-1],number_of_nests[1:])]\n",
    "print (pd.DataFrame(x, years[1:],[\"% change\"]))\n",
    "\n",
    "average = sum(x)/len(x)\n",
    "\n",
    "print ('\\naverage percent change', round(average,2))"
   ]
  },
  {
   "cell_type": "markdown",
   "metadata": {
    "colab_type": "text",
    "id": "JhMhMI9HjTnq"
   },
   "source": [
    "The average percent change is negative: it is -3.89\n",
    "I found the answers by dividing the number of nests from the previous years by the number nests in the following year and found the average by dividing the sum of the percentage changes by the number of years."
   ]
  },
  {
   "cell_type": "code",
   "execution_count": 3,
   "metadata": {
    "colab": {
     "base_uri": "https://localhost:8080/",
     "height": 347
    },
    "colab_type": "code",
    "id": "bsPD7NUP1wFz",
    "outputId": "639deed1-6660-4485-d47a-bd213ebd5de1"
   },
   "outputs": [
    {
     "data": {
      "image/png": "[encoded data removed]",
      "text/plain": [
       "<Figure size 432x288 with 1 Axes>"
      ]
     },
     "metadata": {},
     "output_type": "display_data"
    }
   ],
   "source": [
    "fig = plt.figure()\n",
    "plot1 = fig.add_subplot(111)\n",
    "\n",
    "plot1.scatter(years,number_of_nests, s=10, c='b', marker='s', label = 'nests')\n",
    "plot1.scatter(years, number_of_females, s=10, c='r', marker='o', label = 'females')\n",
    "\n",
    "plt.legend()\n",
    "plt.show()"
   ]
  },
  {
   "cell_type": "markdown",
   "metadata": {
    "colab_type": "text",
    "id": "MJjF0Sbi9Ahv",
    "slideshow": {
     "slide_type": "fragment"
    }
   },
   "source": [
    "\n",
    "## Problem 2: Fobonacci Numbers and the Golden Ratio (35 points) \n",
    "\n",
    "\n",
    "You just heard two different talks on the topic of Fibonacci numbers and the golden ratio. \n",
    "\n",
    "Write a program that creates a list of the first 50 Fibonacci numbers.\n",
    "\n",
    "Once the numbers are calculated the program should calculate the ratio of the two consecutive numbers for each pair of Fibonacci numbers:\n",
    "\n",
    "$$\\dfrac{\\text{Fibonacci number at position i}}{\\text{Fibonacci number at position i-1}}$$\n",
    "\n",
    "--\n",
    "\n",
    "The __golden ratio__ can be calculated using the following formula:\n",
    "\n",
    "$$\\dfrac{1 + \\sqrt{5}}{2} $$\n",
    "\n",
    "Compare the value of the golden ratio to the values obtained by calculating the ratios of consecutive Fibonacci numbers. \n",
    "\n",
    "\n",
    "\n",
    "Create a CODE cell below to write your program. Your answers should be in a TEXT cell or in the comments in the program. "
   ]
  },
  {
   "cell_type": "code",
   "execution_count": 8,
   "metadata": {
    "colab": {
     "base_uri": "https://localhost:8080/",
     "height": 71
    },
    "colab_type": "code",
    "id": "aZ6LUy5ARr32",
    "outputId": "88cef24b-eb03-46da-eab8-5090415f6281"
   },
   "outputs": [
    {
     "name": "stdout",
     "output_type": "stream",
     "text": [
      "[1.0, 0.5, 0.6666666666666666, 0.6, 0.625, 0.6153846153846154, 0.6190476190476191, 0.6176470588235294, 0.6181818181818182, 0.6179775280898876, 0.6180555555555556, 0.6180257510729614, 0.6180371352785146, 0.6180327868852459, 0.6180344478216818, 0.6180338134001252, 0.6180340557275542, 0.6180339631667066, 0.6180339985218034, 0.618033985017358, 0.6180339901755971, 0.6180339882053251, 0.618033988957902, 0.6180339886704432, 0.6180339887802427, 0.618033988738303, 0.6180339887543226, 0.6180339887482036, 0.6180339887505408, 0.6180339887496481, 0.618033988749989, 0.6180339887498588, 0.6180339887499086, 0.6180339887498896, 0.6180339887498969, 0.6180339887498941, 0.6180339887498951, 0.6180339887498948, 0.6180339887498949, 0.6180339887498948, 0.6180339887498949, 0.6180339887498948, 0.6180339887498949, 0.6180339887498949, 0.6180339887498949, 0.6180339887498949, 0.6180339887498949, 0.6180339887498949]\n",
      "[-1.0, -1.0, -1.0]\n"
     ]
    }
   ],
   "source": [
    "fib_list = [1,1] + [_ for x in range(48)]\n",
    "for x in range(2,50):\n",
    "  fib_list[x] = fib_list[x-1] + fib_list[x-2]\n",
    "\n",
    "fib_ratio = []\n",
    "for x in range(48):\n",
    "  fib_ratio.append(fib_list[x]/fib_list[x+1])\n",
    "  \n",
    "golden_ratio = (1 + 5**.5)/2\n",
    "\n",
    "compare_ratios = [x-golden_ratio for x in fib_ratio]\n",
    "\n",
    "print (fib_ratio)\n",
    "print (compare_ratios[-3:])\n"
   ]
  },
  {
   "cell_type": "markdown",
   "metadata": {
    "colab_type": "text",
    "id": "bh7kfJ6t9PLA"
   },
   "source": [
    "\n",
    "\n",
    "The numbers begin close to each other and proceed to get closer to each other until python stops calculating the minute difference between the two as indicated by the final three printing zeroes.\n",
    "\n"
   ]
  },
  {
   "cell_type": "markdown",
   "metadata": {
    "colab_type": "text",
    "id": "atAtq4rF9Ahw",
    "slideshow": {
     "slide_type": "slide"
    }
   },
   "source": [
    "## Problem 3: Subway Fares in NYC (35 points) \n",
    "\n",
    "\n",
    "The Wikipedia has an article that shows the history of the transit fares in NYC. The part of the article that talks about subway fares is titled [Subway and local buses](https://en.wikipedia.org/wiki/New_York_City_transit_fares#Subway_and_local_buses). You will need the data provided in that section to complete this problem. \n",
    "\n",
    "You will also need the [Inflation Calculator](https://www.bls.gov/data/inflation_calculator.htm) that we used at the beginning of the semester. \n",
    "\n",
    "Complete the following tasks in the CODE cells and TEXT cells below this problem description.\n",
    "\n",
    "- Plot the history of subway fares from 1905 to 2018. Make sure that your plot includes ALL the years, not just the years of the fare increase. For example, the fare was 5 cents from 1905 to 1948, this means that your plot should have a flat line for these years and then the increase in 1948 to 10 cents. \n",
    "\n",
    "- Use the inflation calculator to figure out what the price of a subway fare should be, if the only increases followed the inflation rate. (The calculator starts at 1913, not 1905, so use that year as a starting point.) \n",
    "\n",
    "- For each of the fare increases, calculate the percentage increase over the previous fare. Show a table containing the year of the increase and the percentage increase that was applied. (Read through your results to verify that they do make sense.) \n",
    "\n",
    "Note: for all the fares use the _base fare_. \n",
    "\n"
   ]
  },
  {
   "cell_type": "code",
   "execution_count": 10,
   "metadata": {
    "colab": {
     "base_uri": "https://localhost:8080/",
     "height": 418
    },
    "colab_type": "code",
    "id": "LZDc6Kah9Ah3",
    "outputId": "78ee0faa-c463-47f4-c50c-95d1e2bae893"
   },
   "outputs": [
    {
     "name": "stdout",
     "output_type": "stream",
     "text": [
      "[0.05, 0.05, 0.05, 0.05, 0.05, 0.05, 0.05, 0.05, 0.05, 0.05, 0.05, 0.05, 0.05, 0.05, 0.05, 0.05, 0.05, 0.05, 0.05, 0.05, 0.05, 0.05, 0.05, 0.05, 0.05, 0.05, 0.05, 0.05, 0.05, 0.05, 0.05, 0.05, 0.05, 0.05, 0.05, 0.05, 0.05, 0.05, 0.05, 0.05, 0.05, 0.05, 0.05, 0.1, 0.1, 0.1, 0.1, 0.1, 0.15, 0.15, 0.15, 0.15, 0.15, 0.15, 0.15, 0.15, 0.15, 0.15, 0.15, 0.15, 0.15, 0.2, 0.2, 0.2, 0.2, 0.3, 0.3, 0.35, 0.35, 0.35, 0.5, 0.5, 0.5, 0.5, 0.5, 0.6, 0.75, 0.75, 0.75, 0.9, 0.9, 1, 1, 1, 1, 1.15, 1.15, 1.25, 1.25, 1.25, 1.5, 1.5, 1.5, 1.5, 1.5, 1.5, 1.5, 1.5, 2, 2, 2, 2, 2, 2, 2.25, 2.25, 2.25, 2.25, 2.5, 2.5, 2.75, 2.75, 2.75, 2.75]\n",
      "114\n",
      "114\n"
     ]
    },
    {
     "data": {
      "image/png": "[encoded data removed]",
      "text/plain": [
       "<Figure size 432x288 with 1 Axes>"
      ]
     },
     "metadata": {},
     "output_type": "display_data"
    }
   ],
   "source": [
    "fares1 = [.05 for x in range(1905,1948)]\n",
    "fares2 = [.1,.1,.1,.1,.1,\n",
    "         .15,.15,.15,.15,.15,.15,.15,.15,.15,.15,.15,.15,.15,\n",
    "         .2,.2,.2,.2,\n",
    "         .3,.3,\n",
    "         .35,.35,.35,\n",
    "         .5,.5,.5,.5,.5,\n",
    "         .6,\n",
    "         .75,.75,.75,\n",
    "         .9,.9,\n",
    "         1,1,1,1,\n",
    "         1.15,1.15,\n",
    "         1.25,1.25,1.25,\n",
    "         1.5,1.5,1.5,1.5,1.5,1.5,1.5,1.5,\n",
    "         2,2,2,2,2,2,\n",
    "         2.25,2.25,2.25,2.25,\n",
    "         2.5,2.5,\n",
    "         2.75,2.75,2.75,2.75]\n",
    "\n",
    "fares = fares1 + fares2\n",
    "print (fares)\n",
    "print (len(fares))\n",
    "\n",
    "years = list(range(1905,2019))\n",
    "print (len(years))\n",
    "\n",
    "fig = plt.figure()\n",
    "plot1 = fig.add_subplot(111)\n",
    "\n",
    "plot1.scatter(years,fares, s=10, c='b', marker='s', label = 'nests')\n",
    "\n",
    "plt.legend()\n",
    "plt.show()"
   ]
  },
  {
   "cell_type": "code",
   "execution_count": 0,
   "metadata": {
    "colab": {
     "base_uri": "https://localhost:8080/",
     "height": 323
    },
    "colab_type": "code",
    "id": "KBtUKOroZ1Su",
    "outputId": "24be163a-aed1-4012-af2a-f2d584f4d921"
   },
   "outputs": [
    {
     "name": "stdout",
     "output_type": "stream",
     "text": [
      "      Percent Increase\n",
      "1948        100.000000\n",
      "1953         50.000000\n",
      "1966         33.333333\n",
      "1970         50.000000\n",
      "1972         16.666667\n",
      "1975         42.857143\n",
      "1980         20.000000\n",
      "1981         25.000000\n",
      "1984         20.000000\n",
      "1986         11.111111\n",
      "1990         15.000000\n",
      "1992          8.695652\n",
      "1995         20.000000\n",
      "2003         33.333333\n",
      "2009         12.500000\n",
      "2013         11.111111\n",
      "2015         10.000000\n"
     ]
    }
   ],
   "source": [
    "changes = []\n",
    "years = []\n",
    "for x in range(113):\n",
    "  if fares[x] != fares[x+1]:\n",
    "    increase = 100*(fares[x+1]-fares[x])/fares[x]\n",
    "    year = x+1906\n",
    "    changes.append(increase)\n",
    "    years.append(year)\n",
    "\n",
    "print (pd.DataFrame(changes,years,['Percent Increase']))"
   ]
  },
  {
   "cell_type": "markdown",
   "metadata": {
    "colab_type": "text",
    "id": "Dvy_OOvQk5IW"
   },
   "source": [
    "Based only on inflation the coast in 2018 should be $1.29"
   ]
  }
 ],
 "metadata": {
  "colab": {
   "collapsed_sections": [],
   "name": "Copy_of_Lab11 (1).ipynb",
   "provenance": [],
   "version": "0.3.2"
  },
  "kernelspec": {
   "display_name": "Python 3",
   "language": "python",
   "name": "python3"
  },
  "language_info": {
   "codemirror_mode": {
    "name": "ipython",
    "version": 3
   },
   "file_extension": ".py",
   "mimetype": "text/x-python",
   "name": "python",
   "nbconvert_exporter": "python",
   "pygments_lexer": "ipython3",
   "version": "3.6.5"
  }
 },
 "nbformat": 4,
 "nbformat_minor": 1
}
