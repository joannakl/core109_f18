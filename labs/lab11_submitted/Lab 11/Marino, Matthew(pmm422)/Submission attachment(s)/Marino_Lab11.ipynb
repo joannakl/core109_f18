{
 "cells": [
  {
   "cell_type": "markdown",
   "metadata": {
    "colab_type": "text",
    "id": "64l90qJlp0j2"
   },
   "source": [
    "# Lab 11 (due Dec. 12)"
   ]
  },
  {
   "cell_type": "markdown",
   "metadata": {
    "colab_type": "text",
    "id": "_qhz2nF4oWN2"
   },
   "source": [
    "Marino, Matthew\n",
    "\n",
    "pmm422\n",
    "\n",
    "Double click this text cell to edit it. Replace the lines above with your own name and netID.   \n",
    "\n",
    "Press `Shift` + `Enter` to exit editing mode. "
   ]
  },
  {
   "cell_type": "markdown",
   "metadata": {
    "colab_type": "text",
    "id": "A_knrGcWFlVf",
    "slideshow": {
     "slide_type": "slide"
    }
   },
   "source": [
    "## Problem 1: Leatherback Sea Turtles Population (30 points) \n",
    "\n",
    "\n",
    "Leatherback Sea Turtle population is declining due to many reasons. The paper published in 2013 [Long‐term decline of the western Pacific leatherback, Dermochelys coriacea: a globally important sea turtle population](https://esajournals.onlinelibrary.wiley.com/doi/full/10.1890/ES12-00348.1#i2150-8925-4-2-art25-Hitipeuw1) contains information about the estimated counts of nests and female leatherbacks in Jamursba Medi.\n",
    "Your job for this problem is to use this data to calculate a few things:\n",
    "- The female turtles lay eggs in multiple nests. What is the approximate number of nests in which a single female lays eggs? How did you estimate this? \n",
    "- What is the percentage by which the number of nests differs in each year from the previous year (assume that the previous year is 100%, calculate the percentage increase/decrease for the next year)? Write a program that shows the table.\n",
    "What is the average percentage change? Is it a decrease or increase on average? Explain how you calculated it. \n",
    "- Plot the number of nests and number of females as a function of years (years on the horizontal axis). Both should be included in a single plot. \n",
    "\n",
    "\n",
    "For each of the questions, provide the program that answers it, but also use a text cell (or comments in the program) to actually answer the question. \n",
    "\n",
    "\n",
    "\n",
    "Use the CODE cell below to continue with your program. "
   ]
  },
  {
   "cell_type": "code",
   "execution_count": 2,
   "metadata": {
    "colab": {},
    "colab_type": "code",
    "id": "zIBbL0Af8-Tk"
   },
   "outputs": [],
   "source": [
    "number_of_nests = [14522, 3261, 4448, 4517, 4633, 6929, 4879, 3429,2383,3321,\\\n",
    "                   2143,3790,3597,2626,2674,2107,2077,2055,1720,1596]\n",
    "number_of_females = [2640,593,809,821,842,1260,887,623,433,604,390,689,654,477,\\\n",
    "                     486,383,378,374,313,290]\n",
    "years = list(range(1984,2002))\n"
   ]
  },
  {
   "cell_type": "code",
   "execution_count": 3,
   "metadata": {
    "colab": {
     "base_uri": "https://localhost:8080/",
     "height": 176
    },
    "colab_type": "code",
    "id": "7dC7lXfc9W8R",
    "outputId": "e89c8c3c-8ada-4f71-c265-768a452b4da7"
   },
   "outputs": [
    {
     "name": "stdout",
     "output_type": "stream",
     "text": [
      "Number of Nests in which a Single Female Lays Eggs\n",
      "**************************************************\n",
      "In the Turtleback population, there are approximately 6 nests for every one female turtle\n",
      "\n",
      " I found this out by first calculating the average number of nests and the aver number of females between the years 1984 and 2002. \n",
      " Despite the lowerig population, I figured that the general amount of females to nests should stay around the same and that an average \n",
      " of all the data would give a better idea of the typical nests per single female.\n"
     ]
    }
   ],
   "source": [
    "number_of_nests = [14522, 3261, 4448, 4517, 4633, 6929, 4879, 3429,2383,3321,\\\n",
    "                   2143,3790,3597,2626,2674,2107,2077,2055,1720,1596]\n",
    "number_of_females = [2640,593,809,821,842,1260,887,623,433,604,390,689,654,477,\\\n",
    "                     486,383,378,374,313,290]\n",
    "years = list(range(1984,2002))\n",
    "\n",
    "print('Number of Nests in which a Single Female Lays Eggs')\n",
    "print('*' * 50)\n",
    "\n",
    "avg_nests = sum(number_of_nests) / len(number_of_nests)\n",
    "\n",
    "avg_females = sum(number_of_females) / len(number_of_females)\n",
    "\n",
    "nests_per_female = avg_nests / avg_females\n",
    "\n",
    "print('In the Turtleback population, there are approximately', format(nests_per_female, '.0f'), 'nests for every one female turtle')\n",
    "print('\\n I found this out by first calculating the average number of nests and the aver number of females between the years 1984 and 2002. \\n Despite the lowerig population, I figured that the general amount of females to nests should stay around the same and that an average \\n of all the data would give a better idea of the typical nests per single female.')"
   ]
  },
  {
   "cell_type": "code",
   "execution_count": 4,
   "metadata": {
    "colab": {
     "base_uri": "https://localhost:8080/",
     "height": 533
    },
    "colab_type": "code",
    "id": "NbJT5Vao_6sH",
    "outputId": "800daade-f6cf-432b-b779-e779d7d2d3ec"
   },
   "outputs": [
    {
     "name": "stdout",
     "output_type": "stream",
     "text": [
      "Percentage Change in Nests\n",
      "**************************************************\n",
      "Year     Percentage Change\n",
      "--------------------------------------------------\n",
      "1985         -77.54\n",
      "1986         36.40\n",
      "1987         1.55\n",
      "1988         2.57\n",
      "1989         49.56\n",
      "1990         -29.59\n",
      "1991         -29.72\n",
      "1992         -30.50\n",
      "1993         39.36\n",
      "1994         -35.47\n",
      "1995         76.85\n",
      "1996         -5.09\n",
      "1997         -26.99\n",
      "1998         1.83\n",
      "1999         -21.20\n",
      "2000         -1.42\n",
      "2001         -1.06\n",
      "2002         -16.30\n",
      "2003         -7.21\n",
      "\n",
      "The Average percent change is -3.89 which is a decrease on average\n",
      "\n",
      "I found this by getting the percent changes for each year by finding the differences and dividing that by the number of nests at that index point.\n",
      "I then showed that in a Table and found the average of those percentage changes by finding dividing the sum of the list by the length of it.\n"
     ]
    }
   ],
   "source": [
    "print('Percentage Change in Nests')\n",
    "print('*' * 50)\n",
    "\n",
    "number_of_nests = [14522, 3261, 4448, 4517, 4633, 6929, 4879, 3429,2383,3321,\\\n",
    "                   2143,3790,3597,2626,2674,2107,2077,2055,1720,1596]\n",
    "number_of_females = [2640,593,809,821,842,1260,887,623,433,604,390,689,654,477,\\\n",
    "                     486,383,378,374,313,290]\n",
    "years = list(range(1984,2004))\n",
    "\n",
    "nest_percent_changes = []\n",
    "\n",
    "i = 0\n",
    "\n",
    "while i < len(number_of_nests) - 1:\n",
    "  diff = (number_of_nests[i + 1] - number_of_nests[i]) \n",
    "  percent_change = diff / number_of_nests[i] * 100\n",
    "  nest_percent_changes.append(percent_change)\n",
    "  i = i + 1\n",
    "\n",
    "print('Year     Percentage Change')\n",
    "print('-' * 50)\n",
    "x = 0\n",
    "for i in range(len(years) - 1):\n",
    "  print(years[i + 1], format(nest_percent_changes[i], '.2f'), sep = '         ')\n",
    "\n",
    "avg_change = sum(nest_percent_changes) / len(nest_percent_changes)\n",
    "  \n",
    "print('\\nThe Average percent change is', format(avg_change, '.2f'), 'which is a decrease on average')\n",
    "\n",
    "print('\\nI found this by getting the percent changes for each year by finding the differences and dividing that by the number of nests at that index point.\\nI then showed that in a Table and found the average of those percentage changes by finding dividing the sum of the list by the length of it.')\n",
    "\n"
   ]
  },
  {
   "cell_type": "markdown",
   "metadata": {
    "colab_type": "text",
    "id": "GW79z0rJ8-Tn",
    "slideshow": {
     "slide_type": "fragment"
    }
   },
   "source": [
    "\n",
    "## Problem 2: Fobonacci Numbers and the Golden Ratio (35 points) \n",
    "\n",
    "\n",
    "You just heard two different talks on the topic of Fibonacci numbers and the golden ratio. \n",
    "\n",
    "Write a program that creates a list of the first 50 Fibonacci numbers.\n",
    "\n",
    "Once the numbers are calculated the program should calculate the ratio of the two consecutive numbers for each pair of Fibonacci numbers:\n",
    "\n",
    "$$\\dfrac{\\text{Fibonacci number at position i}}{\\text{Fibonacci number at position i-1}}$$\n",
    "\n",
    "--\n",
    "\n",
    "The __golden ratio__ can be calculated using the following formula:\n",
    "\n",
    "$$\\dfrac{1 + \\sqrt{5}}{2} $$\n",
    "\n",
    "Compare the value of the golden ratio to the values obtained by calculating the ratios of consecutive Fibonacci numbers. \n",
    "\n",
    "\n",
    "\n",
    "Create a CODE cell below to write your program. Your answers should be in a TEXT cell or in the comments in the program. "
   ]
  },
  {
   "cell_type": "code",
   "execution_count": 5,
   "metadata": {
    "colab": {
     "base_uri": "https://localhost:8080/",
     "height": 884
    },
    "colab_type": "code",
    "id": "AmWUWNwWCg76",
    "outputId": "bd088589-048d-465c-fefc-11ec8648bb9f"
   },
   "outputs": [
    {
     "name": "stdout",
     "output_type": "stream",
     "text": [
      "Fibonacci number      Ratio\n",
      "1                   1.0\n",
      "2                   2.0\n",
      "3                   1.5\n",
      "5                   1.6666666666666667\n",
      "8                   1.6\n",
      "13                   1.625\n",
      "21                   1.6153846153846154\n",
      "34                   1.619047619047619\n",
      "55                   1.6176470588235294\n",
      "89                   1.6181818181818182\n",
      "144                   1.6179775280898876\n",
      "233                   1.6180555555555556\n",
      "377                   1.6180257510729614\n",
      "610                   1.6180371352785146\n",
      "987                   1.618032786885246\n",
      "1597                   1.618034447821682\n",
      "2584                   1.6180338134001253\n",
      "4181                   1.618034055727554\n",
      "6765                   1.6180339631667064\n",
      "10946                   1.6180339985218033\n",
      "17711                   1.618033985017358\n",
      "28657                   1.6180339901755971\n",
      "46368                   1.618033988205325\n",
      "75025                   1.618033988957902\n",
      "121393                   1.6180339886704431\n",
      "196418                   1.6180339887802426\n",
      "317811                   1.618033988738303\n",
      "514229                   1.6180339887543225\n",
      "832040                   1.6180339887482036\n",
      "1346269                   1.6180339887505408\n",
      "2178309                   1.6180339887496482\n",
      "3524578                   1.618033988749989\n",
      "5702887                   1.618033988749859\n",
      "9227465                   1.6180339887499087\n",
      "14930352                   1.6180339887498896\n",
      "24157817                   1.618033988749897\n",
      "39088169                   1.618033988749894\n",
      "63245986                   1.6180339887498951\n",
      "102334155                   1.6180339887498947\n",
      "165580141                   1.618033988749895\n",
      "267914296                   1.618033988749895\n",
      "433494437                   1.618033988749895\n",
      "701408733                   1.618033988749895\n",
      "1134903170                   1.618033988749895\n",
      "1836311903                   1.618033988749895\n",
      "2971215073                   1.618033988749895\n",
      "4807526976                   1.618033988749895\n",
      "7778742049                   1.618033988749895\n",
      "\n",
      "As the fibonacci numbers get higher, the ratio gets closer to the golden ratio \n"
     ]
    }
   ],
   "source": [
    "fib = [0,1]\n",
    "\n",
    "for i in range(2,50):\n",
    "  fib.append(fib[i-1] + fib[i-2])\n",
    "\n",
    "\n",
    "print('Fibonacci number      Ratio',)\n",
    "for i in range(2, len(fib)):\n",
    "  print(fib[i], fib[i]/fib[i-1], sep = '                   ')\n",
    "  \n",
    "  \n",
    "print('\\nAs the fibonacci numbers get higher, the ratio gets closer to the golden ratio ')"
   ]
  },
  {
   "cell_type": "markdown",
   "metadata": {
    "colab_type": "text",
    "id": "3lZC6MIn8-Tn",
    "slideshow": {
     "slide_type": "slide"
    }
   },
   "source": [
    "## Problem 3: Subway Fares in NYC (35 points) \n",
    "\n",
    "\n",
    "The Wikipedia has an article that shows the history of the transit fares in NYC. The part of the article that talks about subway fares is titled [Subway and local buses](https://en.wikipedia.org/wiki/New_York_City_transit_fares#Subway_and_local_buses). You will need the data provided in that section to complete this problem. \n",
    "\n",
    "You will also need the [Inflation Calculator](https://www.bls.gov/data/inflation_calculator.htm) that we used at the beginning of the semester. \n",
    "\n",
    "Complete the following tasks in the CODE cells and TEXT cells below this problem description.\n",
    "\n",
    "- Plot the history of subway fares from 1905 to 2018. Make sure that your plot includes ALL the years, not just the years of the fare increase. For example, the fare was 5 cents from 1905 to 1948, this means that your plot should have a flat line for these years and then the increase in 1948 to 10 cents. \n",
    "\n",
    "- Use the inflation calculator to figure out what the price of a subway fare should be, if the only increases followed the inflation rate. (The calculator starts at 1913, not 1905, so use that year as a starting point.) \n",
    "\n",
    "- For each of the fare increases, calculate the percentage increase over the previous fare. Show a table containing the year of the increase and the percentage increase that was applied. (Read through your results to verify that they do make sense.) \n",
    "\n",
    "Note: for all the fares use the _base fare_. \n",
    "\n"
   ]
  },
  {
   "cell_type": "code",
   "execution_count": 7,
   "metadata": {
    "colab": {
     "base_uri": "https://localhost:8080/",
     "height": 735
    },
    "colab_type": "code",
    "id": "H5N5ey5j8-Tp",
    "outputId": "948d38a6-5fa5-4577-9580-527598350ab8"
   },
   "outputs": [
    {
     "data": {
      "image/png": "[encoded data removed]",
      "text/plain": [
       "<Figure size 432x288 with 1 Axes>"
      ]
     },
     "metadata": {},
     "output_type": "display_data"
    },
    {
     "name": "stdout",
     "output_type": "stream",
     "text": [
      "Percentage Change in fares when adjusted for inflation\n",
      "\n",
      "Year     Adjusted Fare($)    Percent Change\n",
      "****************************************\n",
      "1904          1.29\n",
      "1948          1.07          -17.1\n",
      "1953          1.43          33.6\n",
      "1966          1.59          11.2\n",
      "1970          2.01          26.4\n",
      "1972          2.15          7.0\n",
      "1975          2.43          13.0\n",
      "1980          1.95          -19.8\n",
      "1981          2.18          11.8\n",
      "1984          2.23          2.3\n",
      "1986          2.31          3.6\n",
      "1990          2.28          -1.3\n",
      "1992          2.29          0.4\n",
      "1995          2.52          10.0\n",
      "2003          2.78          10.3\n",
      "2009          2.69          -3.2\n",
      "2013          2.75          2.2\n",
      "2015          2.75          0.0\n"
     ]
    }
   ],
   "source": [
    "import numpy as np\n",
    "import matplotlib.pyplot as plt\n",
    "\n",
    "years = [1904, 1948, 1953, 1966, 1970, 1972, 1975, 1980, 1981, 1984, 1986, 1990, 1992, 1995, 2003, 2009, 2013, 2015]\n",
    "fares = [.05, .1, .15, .2, .3, .35, .5, .6, .75, .9, 1, 1.15, 1.25, 1.5, 2, 2.25, 2.5, 2.75]\n",
    "\n",
    "\n",
    "\n",
    "plt.plot(years, fares, label=\"Fares\")    \n",
    "plt.xlabel('Years')       \n",
    "plt.ylabel('fares')    \n",
    "plt.legend(loc='upper left')   \n",
    "plt.show()\n",
    "\n",
    "fares_adjusted = [1.29, 1.07, 1.43, 1.59, 2.01, 2.15, 2.43, 1.95, 2.18, 2.23, 2.31, 2.28, 2.29, 2.52, 2.78, 2.69, 2.75, 2.75]\n",
    "print('Percentage Change in fares when adjusted for inflation\\n')\n",
    "print('Year     Adjusted Fare($)    Percent Change')\n",
    "print('*' * 40)\n",
    "print(years[0], fares_adjusted[0], sep = '          ' )\n",
    "for i in range(len(years) - 1):\n",
    "  print(years[i+1], fares_adjusted[i+1], format((fares_adjusted[i + 1] - fares_adjusted[i])/fares_adjusted[i] * 100, '.1f'), sep = '          ')\n",
    "  \n",
    "\n",
    "\n"
   ]
  },
  {
   "cell_type": "code",
   "execution_count": null,
   "metadata": {},
   "outputs": [],
   "source": []
  }
 ],
 "metadata": {
  "colab": {
   "collapsed_sections": [],
   "name": "Marino Lab11.ipynb",
   "provenance": [],
   "version": "0.3.2"
  },
  "kernelspec": {
   "display_name": "Python 3",
   "language": "python",
   "name": "python3"
  },
  "language_info": {
   "codemirror_mode": {
    "name": "ipython",
    "version": 3
   },
   "file_extension": ".py",
   "mimetype": "text/x-python",
   "name": "python",
   "nbconvert_exporter": "python",
   "pygments_lexer": "ipython3",
   "version": "3.6.5"
  }
 },
 "nbformat": 4,
 "nbformat_minor": 1
}
