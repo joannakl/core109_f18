{
 "cells": [
  {
   "cell_type": "markdown",
   "metadata": {
    "colab_type": "text",
    "id": "64l90qJlp0j2"
   },
   "source": [
    "# Lab 11 (due Dec. 12)"
   ]
  },
  {
   "cell_type": "markdown",
   "metadata": {
    "colab_type": "text",
    "id": "_qhz2nF4oWN2"
   },
   "source": [
    "**Oozeerally, Anah**\n",
    "\n",
    "**ao1445**\n"
   ]
  },
  {
   "cell_type": "markdown",
   "metadata": {
    "colab_type": "text",
    "id": "A_knrGcWFlVf",
    "slideshow": {
     "slide_type": "slide"
    }
   },
   "source": [
    "## Problem 1: Leatherback Sea Turtles Population (30 points) \n",
    "\n",
    "\n",
    "Leatherback Sea Turtle population is declining due to many reasons. The paper published in 2013 [Long‐term decline of the western Pacific leatherback, Dermochelys coriacea: a globally important sea turtle population](https://esajournals.onlinelibrary.wiley.com/doi/full/10.1890/ES12-00348.1#i2150-8925-4-2-art25-Hitipeuw1) contains information about the estimated counts of nests and female leatherbacks in Jamursba Medi.\n",
    "Your job for this problem is to use this data to calculate a few things:\n",
    "- The female turtles lay eggs in multiple nests. What is the approximate number of nests in which a single female lays eggs? How did you estimate this? \n",
    "- What is the percentage by which the number of nests differs in each year from the previous year (assume that the previous year is 100%, calculate the percentage increase/decrease for the next year)? Write a program that shows the table.\n",
    "What is the average percentage change? Is it a decrease or increase on average? Explain how you calculated it. \n",
    "- Plot the number of nests and number of females as a function of years (years on the horizontal axis). Both should be included in a single plot. \n",
    "\n",
    "\n",
    "For each of the questions, provide the program that answers it, but also use a text cell (or comments in the program) to actually answer the question. \n",
    "\n",
    "\n",
    "\n",
    "Use the CODE cell below to continue with your program. "
   ]
  },
  {
   "cell_type": "markdown",
   "metadata": {
    "colab_type": "text",
    "id": "LQgqGDqG9kEc"
   },
   "source": [
    "1. In order to calculate the number of nests a female lays eggs in, I would have to divide the number of nests by the number of females. Though the number was usually around 5.5, I formatted the list to show up to four decimal places, so that you can get a more complete look at the subtle differences.\n",
    "2. To see the percentage difference from each year, I achieve the percentage change in nests per year by taking one year's number of nests and multplying it by one hundred, then divided that by the number of nests the previous year."
   ]
  },
  {
   "cell_type": "code",
   "execution_count": 2,
   "metadata": {
    "colab": {
     "base_uri": "https://localhost:8080/",
     "height": 1228
    },
    "colab_type": "code",
    "id": "P6Ob-uoD615U",
    "outputId": "3935ef0b-632d-4566-f143-82503f4b481e"
   },
   "outputs": [
    {
     "name": "stdout",
     "output_type": "stream",
     "text": [
      "Average number of nests \n",
      "per female each year:\n",
      "1984: 5.5008\n",
      "1985: 5.4992\n",
      "1986: 5.4981\n",
      "1987: 5.5018\n",
      "1988: 5.5024\n",
      "1989: 5.4992\n",
      "1990: 5.5006\n",
      "1991: 5.5040\n",
      "1992: 5.5035\n",
      "1993: 5.4983\n",
      "1994: 5.4949\n",
      "1995: 5.5007\n",
      "1996: 5.5000\n",
      "1997: 5.5052\n",
      "1998: 5.5021\n",
      "1999: 5.5013\n",
      "2000: 5.4947\n",
      "2001: 5.4947\n",
      "2002: 5.4952\n",
      "2003: 5.5034\n",
      "\n",
      "The percentage difference \n",
      "between each year: \n",
      "2003: 22.46%\n",
      "2003: 136.40%\n",
      "2003: 101.55%\n",
      "2003: 102.57%\n",
      "2003: 149.56%\n",
      "2003: 70.41%\n",
      "2003: 70.28%\n",
      "2003: 69.50%\n",
      "2003: 139.36%\n",
      "2003: 64.53%\n",
      "2003: 176.85%\n",
      "2003: 94.91%\n",
      "2003: 73.01%\n",
      "2003: 101.83%\n",
      "2003: 78.80%\n",
      "2003: 98.58%\n",
      "2003: 98.94%\n",
      "2003: 83.70%\n",
      "2003: 92.79%\n",
      "\n",
      "The average percentage change is: \n",
      "91.30%\n",
      "\n",
      "\n",
      "\n"
     ]
    },
    {
     "data": {
      "text/plain": [
       "<matplotlib.legend.Legend at 0x7f56b39fea58>"
      ]
     },
     "execution_count": 2,
     "metadata": {},
     "output_type": "execute_result"
    },
    {
     "data": {
      "image/png": "[encoded data removed]",
      "text/plain": [
       "<Figure size 432x288 with 1 Axes>"
      ]
     },
     "metadata": {},
     "output_type": "display_data"
    }
   ],
   "source": [
    "number_of_nests = [14522, 3261, 4448, 4517, 4633, 6929, 4879, 3429,2383,3321,\n",
    "                   2143,3790,3597,2626,2674,2107,2077,2055,1720,1596]\n",
    "number_of_females = [2640,593,809,821,842,1260,887,623,433,604,390,689,654,477,\n",
    "                     486,383,378,374,313,290]\n",
    "years = list(range(1984,2004))\n",
    "\n",
    "#number of nests per female:\n",
    "  #number_of_nests / number_of_females\n",
    "\n",
    "print (\"Average number of nests \\nper female each year:\")\n",
    "  \n",
    "index = 0\n",
    "ave_list = []\n",
    "percentage_list = []\n",
    "while index < 20:\n",
    "  ave_num_of_nests_per_female = number_of_nests[index] / number_of_females[index]\n",
    "  ave_list.append(ave_num_of_nests_per_female)\n",
    "  index = index + 1\n",
    "  \n",
    "  print (years[index-1], \": \", format (ave_num_of_nests_per_female, \".4f\"), sep = (\"\"))\n",
    "\n",
    "#how does each year differ from the previous year?\n",
    "  #assume that the previous year is 100%\n",
    "#calculate the percentage increase/decrease for the next year\n",
    "\n",
    "print (\"\\nThe percentage difference \\nbetween each year: \")\n",
    "\n",
    "counter = 0\n",
    "while counter < 19:\n",
    "  percentage = ((number_of_nests[counter+1] * 100 )/ number_of_nests[counter])\n",
    "  percentage_list.append(percentage)\n",
    "  counter = counter + 1\n",
    "  \n",
    "  print (years[index-1], \": \", format (percentage, \".2f\"), \"%\", sep = (\"\"))\n",
    "  \n",
    "#What is the average percentage change?\n",
    "\n",
    "print (\"\\nThe average percentage change is: \")\n",
    "\n",
    "average_percentage_change = sum(percentage_list)/ 20\n",
    "\n",
    "print(format (average_percentage_change, \".2f\"), \"%\", \"\\n\\n\\n\", sep = \"\",)\n",
    "\n",
    "#Plot the number of nests and number of females as a function of years\n",
    "\n",
    "\n",
    "import numpy as np\n",
    "import matplotlib.pyplot as plt\n",
    "\n",
    "plt.xlabel('Years')\n",
    "plt.plot(years, number_of_nests, \"bs\", label='Number of nests')\n",
    "plt.plot(years, number_of_females, \"g^\", label='Number of females')\n",
    "plt.legend()\n",
    "                \n"
   ]
  },
  {
   "cell_type": "markdown",
   "metadata": {
    "colab_type": "text",
    "id": "hHb8i2k1615Z",
    "slideshow": {
     "slide_type": "fragment"
    }
   },
   "source": [
    "\n",
    "## Problem 2: Fobonacci Numbers and the Golden Ratio (35 points) \n",
    "\n",
    "\n",
    "You just heard two different talks on the topic of Fibonacci numbers and the golden ratio. \n",
    "\n",
    "Write a program that creates a list of the first 50 Fibonacci numbers.\n",
    "\n",
    "Once the numbers are calculated the program should calculate the ratio of the two consecutive numbers for each pair of Fibonacci numbers:\n",
    "\n",
    "$$\\dfrac{\\text{Fibonacci number at position i}}{\\text{Fibonacci number at position i-1}}$$\n",
    "\n",
    "--\n",
    "\n",
    "The __golden ratio__ can be calculated using the following formula:\n",
    "\n",
    "$$\\dfrac{1 + \\sqrt{5}}{2} $$\n",
    "\n",
    "Compare the value of the golden ratio to the values obtained by calculating the ratios of consecutive Fibonacci numbers. \n",
    "\n",
    "\n",
    "\n",
    "Create a CODE cell below to write your program. Your answers should be in a TEXT cell or in the comments in the program. "
   ]
  },
  {
   "cell_type": "markdown",
   "metadata": {
    "colab_type": "text",
    "id": "7g0Yo9z6HT5d"
   },
   "source": [
    "The values of the ratios of consecutive Fibonacci numbers get closer to the Golden Ratio as the numbers increase."
   ]
  },
  {
   "cell_type": "code",
   "execution_count": 3,
   "metadata": {
    "colab": {
     "base_uri": "https://localhost:8080/",
     "height": 918
    },
    "colab_type": "code",
    "id": "U_girqI2CJjq",
    "outputId": "3d3c5057-f8cf-4897-d5bc-4a56dabc4377"
   },
   "outputs": [
    {
     "name": "stdout",
     "output_type": "stream",
     "text": [
      "The Fibonacci Sequence Ratios:\n",
      "1.00000000000\n",
      "2.00000000000\n",
      "1.50000000000\n",
      "1.66666666667\n",
      "1.60000000000\n",
      "1.62500000000\n",
      "1.61538461538\n",
      "1.61904761905\n",
      "1.61764705882\n",
      "1.61818181818\n",
      "1.61797752809\n",
      "1.61805555556\n",
      "1.61802575107\n",
      "1.61803713528\n",
      "1.61803278689\n",
      "1.61803444782\n",
      "1.61803381340\n",
      "1.61803405573\n",
      "1.61803396317\n",
      "1.61803399852\n",
      "1.61803398502\n",
      "1.61803399018\n",
      "1.61803398821\n",
      "1.61803398896\n",
      "1.61803398867\n",
      "1.61803398878\n",
      "1.61803398874\n",
      "1.61803398875\n",
      "1.61803398875\n",
      "1.61803398875\n",
      "1.61803398875\n",
      "1.61803398875\n",
      "1.61803398875\n",
      "1.61803398875\n",
      "1.61803398875\n",
      "1.61803398875\n",
      "1.61803398875\n",
      "1.61803398875\n",
      "1.61803398875\n",
      "1.61803398875\n",
      "1.61803398875\n",
      "1.61803398875\n",
      "1.61803398875\n",
      "1.61803398875\n",
      "1.61803398875\n",
      "1.61803398875\n",
      "1.61803398875\n",
      "1.61803398875\n",
      "1.61803398875\n",
      "\n",
      "The Golden Ratio:\n"
     ]
    },
    {
     "data": {
      "text/plain": [
       "1.618033988749895"
      ]
     },
     "execution_count": 3,
     "metadata": {},
     "output_type": "execute_result"
    }
   ],
   "source": [
    "print(\"The Fibonacci Sequence Ratios:\")\n",
    "fib = [1,1]\n",
    "for i in range (2,50):\n",
    "  fib.append(fib[i-1] + fib[i-2])\n",
    "  #print (fib[i])\n",
    "  \n",
    "for i in range (0,49):\n",
    "  ratio = fib [i+1]/fib [i]\n",
    "  print (format (ratio, \".11f\"))\n",
    "  \n",
    "print(\"\\nThe Golden Ratio:\")\n",
    "\n",
    "import math\n",
    "\n",
    "(1 + math.sqrt(5))/2"
   ]
  },
  {
   "cell_type": "markdown",
   "metadata": {
    "colab_type": "text",
    "id": "HMy1BT0h615b",
    "slideshow": {
     "slide_type": "slide"
    }
   },
   "source": [
    "## Problem 3: Subway Fares in NYC (35 points) \n",
    "\n",
    "\n",
    "The Wikipedia has an article that shows the history of the transit fares in NYC. The part of the article that talks about subway fares is titled [Subway and local buses](https://en.wikipedia.org/wiki/New_York_City_transit_fares#Subway_and_local_buses). You will need the data provided in that section to complete this problem. \n",
    "\n",
    "You will also need the [Inflation Calculator](https://www.bls.gov/data/inflation_calculator.htm) that we used at the beginning of the semester. \n",
    "\n",
    "Complete the following tasks in the CODE cells and TEXT cells below this problem description.\n",
    "\n",
    "- Plot the history of subway fares from 1905 to 2018. Make sure that your plot includes ALL the years, not just the years of the fare increase. For example, the fare was 5 cents from 1905 to 1948, this means that your plot should have a flat line for these years and then the increase in 1948 to 10 cents. \n",
    "\n",
    "- Use the inflation calculator to figure out what the price of a subway fare should be, if the only increases followed the inflation rate. (The calculator starts at 1913, not 1905, so use that year as a starting point.) \n",
    "\n",
    "- For each of the fare increases, calculate the percentage increase over the previous fare. Show a table containing the year of the increase and the percentage increase that was applied. (Read through your results to verify that they do make sense.) \n",
    "\n",
    "Note: for all the fares use the _base fare_. \n",
    "\n"
   ]
  },
  {
   "cell_type": "code",
   "execution_count": 5,
   "metadata": {
    "colab": {
     "base_uri": "https://localhost:8080/",
     "height": 417
    },
    "colab_type": "code",
    "id": "w7qpBVJj615c",
    "outputId": "5d8ac8bc-1632-4563-8870-ffdece03469e"
   },
   "outputs": [
    {
     "data": {
      "text/plain": [
       "<matplotlib.legend.Legend at 0x7f56b380a4a8>"
      ]
     },
     "execution_count": 5,
     "metadata": {},
     "output_type": "execute_result"
    },
    {
     "data": {
      "image/png": "[encoded data removed]",
      "text/plain": [
       "<Figure size 432x288 with 1 Axes>"
      ]
     },
     "metadata": {},
     "output_type": "display_data"
    }
   ],
   "source": [
    "import numpy as np\n",
    "import matplotlib.pyplot as plt\n",
    "\n",
    "#first, plot the history of subway fares from 1905-2018\n",
    "\n",
    "subway_fare_price = [0.05, 0.05, 0.10, 0.10, 0.15, 0.15, 0.20, 0.20, 0.30, 0.30, 0.35, 0.35, 0.50, 0.50, 0.60, 0.75, 0.75, 0.90, 1.00, 1.00, 1.15, 1.15, 1.25, 1.25, 1.50, 1.50, 2.00, 2.25, 2.50, 2.50, 2.75]\n",
    "\n",
    "years_subway_fare_price = [1905, 1948, 1949, 1953, 1954, 1966, 1967, 1970, 1971, 1972, 1975, 1976, 1980, 1981, 1984, 1985, 1986, 1989, 1990, 1991, 1992, 1995, 1996, 2003, 2004, 2009, 2011, 2013, 2014, 2015, 2018 ]\n",
    "\n",
    "plt.xlabel('Years')        \n",
    "plt.ylabel('Subway Fares')\n",
    "plt.suptitle('Subway Fare rise')\n",
    "\n",
    "index = 0\n",
    "while index < 31:\n",
    "  plt.plot (years_subway_fare_price[index], subway_fare_price[index], \"bs\")\n",
    "  index = index + 1\n",
    "\n",
    "#second, plot the points of inflation of what the inflation rate would be\n",
    "\n",
    "\n",
    "plt.plot(1913, 1.29, \"g^\", label='subway fare price with inflation')\n",
    "plt.plot(1949, 1.05, \"g^\")\n",
    "plt.plot(1953, 1.05, \"g^\")\n",
    "plt.plot(1954, 1.41, \"g^\")\n",
    "plt.plot(1966, 1.41, \"g^\")\n",
    "plt.plot(1967, 1.53, \"g^\")\n",
    "plt.plot(1970, 1.53, \"g^\")\n",
    "plt.plot(1971, 1.90, \"g^\")\n",
    "plt.plot(1972, 1.90, \"g^\")\n",
    "plt.plot(1975, 1.69, \"g^\")\n",
    "plt.plot(1976, 1.69, \"g^\")\n",
    "plt.plot(1980, 1.92, \"g^\")\n",
    "plt.plot(1983, 1.92, \"g^\")\n",
    "plt.plot(1984, 1.48, \"g^\")\n",
    "plt.plot(1985, 1.79, \"g^\")\n",
    "\n",
    "plt.plot(1989, 1.87, \"g^\")\n",
    "plt.plot(1990, 1.98, \"g^\")\n",
    "plt.plot(1991, 1.98, \"g^\")\n",
    "plt.plot(1992, 2.10, \"g^\")\n",
    "plt.plot(1996, 2.04, \"g^\")\n",
    "plt.plot(2004, 2.04, \"g^\")\n",
    "plt.plot(2009, 1.79, \"g^\")\n",
    "plt.plot(2011, 2.29, \"g^\")\n",
    "plt.plot(2013, 2.46, \"g^\")\n",
    "plt.plot(2014, 2.69, \"g^\")\n",
    "plt.plot(2018, 2.75, \"g^\")\n",
    "\n",
    "plt.legend()\n"
   ]
  },
  {
   "cell_type": "code",
   "execution_count": null,
   "metadata": {},
   "outputs": [],
   "source": []
  }
 ],
 "metadata": {
  "colab": {
   "collapsed_sections": [],
   "name": "Copy of Lab11.ipynb",
   "provenance": [],
   "version": "0.3.2"
  },
  "kernelspec": {
   "display_name": "Python 3",
   "language": "python",
   "name": "python3"
  },
  "language_info": {
   "codemirror_mode": {
    "name": "ipython",
    "version": 3
   },
   "file_extension": ".py",
   "mimetype": "text/x-python",
   "name": "python",
   "nbconvert_exporter": "python",
   "pygments_lexer": "ipython3",
   "version": "3.6.5"
  }
 },
 "nbformat": 4,
 "nbformat_minor": 1
}
