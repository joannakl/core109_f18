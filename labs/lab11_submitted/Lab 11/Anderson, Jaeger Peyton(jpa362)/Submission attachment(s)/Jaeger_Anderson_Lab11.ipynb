{
 "cells": [
  {
   "cell_type": "markdown",
   "metadata": {
    "colab_type": "text",
    "id": "64l90qJlp0j2"
   },
   "source": [
    "# Lab 11 (due Dec. 12)"
   ]
  },
  {
   "cell_type": "markdown",
   "metadata": {
    "colab_type": "text",
    "id": "_qhz2nF4oWN2"
   },
   "source": [
    "**Anderson, Jaeger**\n",
    "\n",
    "**jpa362**\n",
    "\n",
    "Double click this text cell to edit it. Replace the lines above with your own name and netID.   \n",
    "\n",
    "Press `Shift` + `Enter` to exit editing mode. "
   ]
  },
  {
   "cell_type": "markdown",
   "metadata": {
    "colab_type": "text",
    "id": "A_knrGcWFlVf",
    "slideshow": {
     "slide_type": "slide"
    }
   },
   "source": [
    "## Problem 1: Leatherback Sea Turtles Population (30 points) \n",
    "\n",
    "\n",
    "Leatherback Sea Turtle population is declining due to many reasons. The paper published in 2013 [Long‐term decline of the western Pacific leatherback, Dermochelys coriacea: a globally important sea turtle population](https://esajournals.onlinelibrary.wiley.com/doi/full/10.1890/ES12-00348.1#i2150-8925-4-2-art25-Hitipeuw1) contains information about the estimated counts of nests and female leatherbacks in Jamursba Medi.\n",
    "Your job for this problem is to use this data to calculate a few things:\n",
    "- The female turtles lay eggs in multiple nests. What is the approximate number of nests in which a single female lays eggs? How did you estimate this? \n",
    "- What is the percentage by which the number of nests differs in each year from the previous year (assume that the previous year is 100%, calculate the percentage increase/decrease for the next year)? Write a program that shows the table.\n",
    "What is the average percentage change? Is it a decrease or increase on average? Explain how you calculated it. \n",
    "- Plot the number of nests and number of females as a function of years (years on the horizontal axis). Both should be included in a single plot. \n",
    "\n",
    "\n",
    "For each of the questions, provide the program that answers it, but also use a text cell (or comments in the program) to actually answer the question. \n",
    "\n",
    "\n",
    "\n",
    "Use the CODE cell below to continue with your program. "
   ]
  },
  {
   "cell_type": "code",
   "execution_count": 3,
   "metadata": {
    "colab": {},
    "colab_type": "code",
    "id": "qlvuNbI5-N1x"
   },
   "outputs": [
    {
     "name": "stdout",
     "output_type": "stream",
     "text": [
      "Years    Nests per Female     Percent Change\n",
      "--------------------------------------------------------------\n",
      "1984          6                   -809.90 %\n",
      "1985          5                   77.54 %\n",
      "1986          5                   -36.40 %\n",
      "1987          6                   -1.55 %\n",
      "1988          6                   -2.57 %\n",
      "1989          5                   -49.56 %\n",
      "1990          6                   29.59 %\n",
      "1991          6                   29.72 %\n",
      "1992          6                   30.50 %\n",
      "1993          5                   -39.36 %\n",
      "1994          5                   35.47 %\n",
      "1995          6                   -76.85 %\n",
      "1996          6                   5.09 %\n",
      "1997          6                   26.99 %\n",
      "1998          6                   -1.83 %\n",
      "1999          6                   21.20 %\n",
      "2000          5                   1.42 %\n",
      "2001          5                   1.06 %\n",
      "2002          5                   16.30 %\n",
      "2003          6                   7.21 %\n",
      "--------------------------------------------------------------\n",
      "The Average Percent Decrease is:  -36.80 %\n"
     ]
    },
    {
     "data": {
      "image/png": "[encoded data removed]",
      "text/plain": [
       "<Figure size 432x288 with 1 Axes>"
      ]
     },
     "metadata": {},
     "output_type": "display_data"
    }
   ],
   "source": [
    "number_of_nests = [14522, 3261, 4448, 4517, 4633, 6929, 4879, 3429,2383,3321,\\\n",
    "                   2143,3790,3597,2626,2674,2107,2077,2055,1720,1596]\n",
    "number_of_females = [2640,593,809,821,842,1260,887,623,433,604,390,689,654,477,\\\n",
    "                     486,383,378,374,313,290]\n",
    "years = list(range(1984,2004))\n",
    "import numpy as np\n",
    "import matplotlib.pyplot as plt\n",
    "percent_change = []\n",
    "\n",
    "print('Years   ',     'Nests per Female    ',   'Percent Change')\n",
    "print('--------------------------------------------------------------')\n",
    "for i in range(len(number_of_nests)) :\n",
    "  percent_change = percent_change + [((number_of_nests[i-1] - number_of_nests[i]) / number_of_nests[i-1]) * 100]\n",
    "  \n",
    "  print(years[i],  '        ',  format(number_of_nests[i] / number_of_females[i], '.0f'), '                 ', format(percent_change[i], '.2f'),'%')\n",
    "print('--------------------------------------------------------------')  \n",
    "AVGChange=float(sum(percent_change)) / float(len(percent_change))\n",
    "if AVGChange >= 0 :\n",
    "  print('The Average Percent Increase is: ', format(AVGChange, '.2f'), '%')\n",
    "else :\n",
    "  print('The Average Percent Decrease is: ', format(AVGChange, '.2f'), \"%\")\n",
    "\n",
    "  \n",
    "num_of_points = len(number_of_nests)\n",
    "plt.plot(years, number_of_females, 'b')\n",
    "plt.plot(years, number_of_nests, 'r')\n",
    "plt.xlabel('Years')\n",
    "\n",
    "plt.show()\n",
    "\n",
    "  \n",
    "  \n",
    "  "
   ]
  },
  {
   "cell_type": "markdown",
   "metadata": {
    "colab_type": "text",
    "id": "08D4HPxEYJzR"
   },
   "source": [
    "Nests Per Female: 5.5 nests per female. I took the first value in the \"Number of Nests\" list, and divided it by the corresponding number of females.\n",
    "\n",
    "Percent Change: As you can see, there is a mysterious \"Can't assign to operator\" syntax error, even though my code does not seem to have any errors. If I could calculate the percent change using Python, I would take each value in the \"Number of Nests\" list starting at [1] and use the percent change formula:\n",
    "(Value -  Next Value / Value) * 100. To find the average percent change, (and this is where the can't assign to operator bug got me), I would take the sum of those percent changes and divide it by the length of the list."
   ]
  },
  {
   "cell_type": "markdown",
   "metadata": {
    "colab_type": "text",
    "id": "I3cVFuE_-N10",
    "slideshow": {
     "slide_type": "fragment"
    }
   },
   "source": [
    "\n",
    "## Problem 2: Fobonacci Numbers and the Golden Ratio (35 points) \n",
    "\n",
    "\n",
    "You just heard two different talks on the topic of Fibonacci numbers and the golden ratio. \n",
    "\n",
    "Write a program that creates a list of the first 50 Fibonacci numbers.\n",
    "\n",
    "Once the numbers are calculated the program should calculate the ratio of the two consecutive numbers for each pair of Fibonacci numbers:\n",
    "\n",
    "$$\\dfrac{\\text{Fibonacci number at position i}}{\\text{Fibonacci number at position i-1}}$$\n",
    "\n",
    "--\n",
    "\n",
    "The __golden ratio__ can be calculated using the following formula:\n",
    "\n",
    "$$\\dfrac{1 + \\sqrt{5}}{2} $$\n",
    "\n",
    "Compare the value of the golden ratio to the values obtained by calculating the ratios of consecutive Fibonacci numbers. \n",
    "\n",
    "\n",
    "\n",
    "Create a CODE cell below to write your program. Your answers should be in a TEXT cell or in the comments in the program. "
   ]
  },
  {
   "cell_type": "code",
   "execution_count": 3,
   "metadata": {
    "colab": {
     "base_uri": "https://localhost:8080/",
     "height": 843
    },
    "colab_type": "code",
    "id": "7ELvSvFVIdHX",
    "outputId": "cac296e1-b082-4783-c893-009a27edf591"
   },
   "outputs": [
    {
     "name": "stdout",
     "output_type": "stream",
     "text": [
      "[0, 1, 1, 2, 3, 5, 8, 13, 21, 34, 55, 89, 144, 233, 377, 610, 987, 1597, 2584, 4181, 6765, 10946, 17711, 28657, 46368, 75025, 121393, 196418, 317811, 514229, 832040, 1346269, 2178309, 3524578, 5702887, 9227465, 14930352, 24157817, 39088169, 63245986, 102334155, 165580141, 267914296, 433494437, 701408733, 1134903170, 1836311903, 2971215073, 4807526976, 7778742049]\n",
      "Ratio from  1 to  1  is not golden.\n",
      "Ratio from  2 to  1  is not golden.\n",
      "Ratio from  3 to  2  is not golden.\n",
      "Ratio from  5 to  3  is not golden.\n",
      "Ratio from  8 to  5  is not golden.\n",
      "Ratio from  13 to  8  is not golden.\n",
      "Ratio from  21 to  13  is not golden.\n",
      "Ratio from  34 to  21  is not golden.\n",
      "Ratio from  55 to  34  is not golden.\n",
      "Ratio from  89 to  55  is not golden.\n",
      "Ratio from  144 to  89  is not golden.\n",
      "Ratio from  233 to  144  is not golden.\n",
      "Ratio from  377 to  233  is not golden.\n",
      "Ratio from  610 to  377  is not golden.\n",
      "Ratio from  987 to  610  is not golden.\n",
      "Ratio from  1597 to  987  is not golden.\n",
      "Ratio from  2584 to  1597  is not golden.\n",
      "Ratio from  4181 to  2584  is not golden.\n",
      "Ratio from  6765 to  4181  is not golden.\n",
      "Ratio from  10946 to  6765  is not golden.\n",
      "Ratio from  17711 to  10946  is not golden.\n",
      "Ratio from  28657 to  17711  is not golden.\n",
      "Ratio from  46368 to  28657  is not golden.\n",
      "Ratio from  75025 to  46368  is not golden.\n",
      "Ratio from  121393 to  75025  is not golden.\n",
      "Ratio from  196418 to  121393  is not golden.\n",
      "Ratio from  317811 to  196418  is not golden.\n",
      "Ratio from  514229 to  317811  is not golden.\n",
      "Ratio from  832040 to  514229  is not golden.\n",
      "Ratio from  1346269 to  832040  is not golden.\n",
      "Ratio from  2178309 to  1346269  is not golden.\n",
      "Ratio from  3524578 to  2178309  is not golden.\n",
      "Ratio from  5702887 to  3524578  is not golden.\n",
      "Ratio from  9227465 to  5702887  is not golden.\n",
      "Ratio from  14930352 to  9227465  is not golden.\n",
      "Ratio from  24157817 to  14930352  is not golden.\n",
      "Ratio from  39088169 to  24157817  is not golden.\n",
      "Ratio from  63245986 to  39088169  is not golden.\n",
      "Ratio from  102334155 to  63245986  is not golden.\n",
      "Ratio from,  165580141  to  102334155  is golden\n",
      "Ratio from,  267914296  to  165580141  is golden\n",
      "Ratio from,  433494437  to  267914296  is golden\n",
      "Ratio from,  701408733  to  433494437  is golden\n",
      "Ratio from,  1134903170  to  701408733  is golden\n",
      "Ratio from,  1836311903  to  1134903170  is golden\n",
      "Ratio from,  2971215073  to  1836311903  is golden\n",
      "Ratio from,  4807526976  to  2971215073  is golden\n"
     ]
    }
   ],
   "source": [
    "fibonacci_numbers = [0, 1]\n",
    "ratio=0\n",
    "for num in range(2,50) :\n",
    "  fibonacci_numbers=fibonacci_numbers + [fibonacci_numbers[num-1] + fibonacci_numbers[num-2]]\n",
    "print(fibonacci_numbers)  \n",
    "for num in range(3,len(fibonacci_numbers)):\n",
    "  ratio = fibonacci_numbers[num-1] / fibonacci_numbers[num-2]\n",
    "  if ratio == (1 + 5**.5) / 2  :\n",
    "    print('Ratio from, ', fibonacci_numbers[num-1], ' to ', fibonacci_numbers[num-2],  ' is golden')\n",
    "  else:\n",
    "    print('Ratio from ', fibonacci_numbers[num-1], 'to ', fibonacci_numbers[num-2], ' is not golden.')"
   ]
  },
  {
   "cell_type": "markdown",
   "metadata": {
    "colab_type": "text",
    "id": "W7rxcbQavp-4"
   },
   "source": [
    "The ratio doesn't quite become golden, it seems, until you hit the 165580141 to 102334155 mark."
   ]
  },
  {
   "cell_type": "markdown",
   "metadata": {
    "colab_type": "text",
    "id": "B3F1__Ky-N11",
    "slideshow": {
     "slide_type": "slide"
    }
   },
   "source": [
    "## Problem 3: Subway Fares in NYC (35 points) \n",
    "\n",
    "\n",
    "The Wikipedia has an article that shows the history of the transit fares in NYC. The part of the article that talks about subway fares is titled [Subway and local buses](https://en.wikipedia.org/wiki/New_York_City_transit_fares#Subway_and_local_buses). You will need the data provided in that section to complete this problem. \n",
    "\n",
    "You will also need the [Inflation Calculator](https://www.bls.gov/data/inflation_calculator.htm) that we used at the beginning of the semester. \n",
    "\n",
    "Complete the following tasks in the CODE cells and TEXT cells below this problem description.\n",
    "\n",
    "- Plot the history of subway fares from 1905 to 2018. Make sure that your plot includes ALL the years, not just the years of the fare increase. For example, the fare was 5 cents from 1905 to 1948, this means that your plot should have a flat line for these years and then the increase in 1948 to 10 cents. \n",
    "\n",
    "- Use the inflation calculator to figure out what the price of a subway fare should be, if the only increases followed the inflation rate. (The calculator starts at 1913, not 1905, so use that year as a starting point.) \n",
    "\n",
    "- For each of the fare increases, calculate the percentage increase over the previous fare. Show a table containing the year of the increase and the percentage increase that was applied. (Read through your results to verify that they do make sense.) \n",
    "\n",
    "Note: for all the fares use the _base fare_. \n",
    "\n"
   ]
  },
  {
   "cell_type": "code",
   "execution_count": 6,
   "metadata": {
    "colab": {
     "base_uri": "https://localhost:8080/",
     "height": 714
    },
    "colab_type": "code",
    "id": "2VKwMlMr-N12",
    "outputId": "c30e76fe-4981-474e-cf15-335b07f3fa6c"
   },
   "outputs": [
    {
     "data": {
      "image/png": "[encoded data removed]",
      "text/plain": [
       "<Figure size 432x288 with 1 Axes>"
      ]
     },
     "metadata": {},
     "output_type": "display_data"
    },
    {
     "name": "stdout",
     "output_type": "stream",
     "text": [
      "Fare would be $1.29 if price increases only accounted for inflation\n",
      "Year:           Subway Fare            Percent Increase\n",
      "----------------------------------------------------------\n",
      "1905              $ 0.05                      -5400.0 %\n",
      "1949              $ 0.10                      50.0 %\n",
      "1955              $ 0.15                      33.3 %\n",
      "1969              $ 0.20                      25.0 %\n",
      "1974              $ 0.30                      33.3 %\n",
      "1975              $ 0.35                      14.3 %\n",
      "1979              $ 0.50                      30.0 %\n",
      "1984              $ 0.60                      16.7 %\n",
      "1985              $ 0.75                      20.0 %\n",
      "1988              $ 0.90                      16.7 %\n",
      "1989              $ 1.00                      10.0 %\n",
      "1992              $ 1.15                      13.0 %\n",
      "1993              $ 1.25                      8.0 %\n",
      "1996              $ 1.50                      16.7 %\n",
      "2004              $ 2.00                      25.0 %\n",
      "2010              $ 2.25                      11.1 %\n",
      "2013              $ 2.50                      10.0 %\n",
      "2015              $ 2.75                      9.1 %\n"
     ]
    }
   ],
   "source": [
    "import numpy as np\n",
    "import matplotlib.pyplot as plt\n",
    "num_of_points=113\n",
    "subway_fares=[.05] * 44 + [.10] * 6 + [.15] * 14 + [.20] * 5 + [.30] * 1 + [.35] * 4 + [.50] * 5 + [.60] * 1 + [.75] * 3 + [.90] * 1 + [1] * 3 + [1.15] * 1 + [1.25] * 3 + [1.5] * 8 + [2] * 6 + [2.25] * 3 + [2.5] * 2 + [2.75] * 3\n",
    "years=list(range(1905, 2018))\n",
    "subway_fares_real=[]\n",
    "years_real=[]\n",
    "plt.plot(years, subway_fares, 'b')\n",
    "plt.xlabel('Years')\n",
    "plt.ylabel('Subway Fare')\n",
    "plt.show()\n",
    "\n",
    "\n",
    "print('Fare would be $1.29 if price increases only accounted for inflation')\n",
    "\n",
    "print('Year:           Subway Fare            Percent Increase')\n",
    "print('----------------------------------------------------------')\n",
    "for i in range(len(years)) :\n",
    "  if subway_fares[i] != subway_fares[i-1] :\n",
    "    subway_fares_real = subway_fares_real + [subway_fares[i]]\n",
    "    years_real=years_real + [years[i]]\n",
    "    \n",
    "for i in range(len(years_real))  :  \n",
    "  print(years_real[i], '            ', '$', format(subway_fares_real[i], '.2f'), '                    ', format(((subway_fares_real[i] - subway_fares_real[i-1]) / subway_fares_real[i]) * 100, '.1f'), '%')\n",
    "\n"
   ]
  },
  {
   "cell_type": "code",
   "execution_count": null,
   "metadata": {},
   "outputs": [],
   "source": []
  }
 ],
 "metadata": {
  "colab": {
   "collapsed_sections": [],
   "name": "Jaeger Anderson Lab11.ipynb",
   "provenance": [],
   "version": "0.3.2"
  },
  "kernelspec": {
   "display_name": "Python 3",
   "language": "python",
   "name": "python3"
  },
  "language_info": {
   "codemirror_mode": {
    "name": "ipython",
    "version": 3
   },
   "file_extension": ".py",
   "mimetype": "text/x-python",
   "name": "python",
   "nbconvert_exporter": "python",
   "pygments_lexer": "ipython3",
   "version": "3.6.5"
  }
 },
 "nbformat": 4,
 "nbformat_minor": 1
}
