{
 "cells": [
  {
   "cell_type": "markdown",
   "metadata": {
    "colab_type": "text",
    "id": "64l90qJlp0j2"
   },
   "source": [
    "# Lab 11 (due Dec. 12)"
   ]
  },
  {
   "cell_type": "markdown",
   "metadata": {
    "colab_type": "text",
    "id": "_qhz2nF4oWN2"
   },
   "source": [
    "**Estrada, Isabella**\n",
    "\n",
    "**ime232**\n",
    "\n",
    "Double click this text cell to edit it. Replace the lines above with your own name and netID.   \n",
    "\n",
    "Press `Shift` + `Enter` to exit editing mode. "
   ]
  },
  {
   "cell_type": "markdown",
   "metadata": {
    "colab_type": "text",
    "id": "A_knrGcWFlVf",
    "slideshow": {
     "slide_type": "slide"
    }
   },
   "source": [
    "## Problem 1: Leatherback Sea Turtles Population (30 points) \n",
    "\n",
    "\n",
    "Leatherback Sea Turtle population is declining due to many reasons. The paper published in 2013 [Long‐term decline of the western Pacific leatherback, Dermochelys coriacea: a globally important sea turtle population](https://esajournals.onlinelibrary.wiley.com/doi/full/10.1890/ES12-00348.1#i2150-8925-4-2-art25-Hitipeuw1) contains information about the estimated counts of nests and female leatherbacks in Jamursba Medi.\n",
    "Your job for this problem is to use this data to calculate a few things:\n",
    "- The female turtles lay eggs in multiple nests. What is the approximate number of nests in which a single female lays eggs? How did you estimate this? \n",
    "- What is the percentage by which the number of nests differs in each year from the previous year (assume that the previous year is 100%, calculate the percentage increase/decrease for the next year)? Write a program that shows the table.\n",
    "What is the average percentage change? Is it a decrease or increase on average? Explain how you calculated it. \n",
    "- Plot the number of nests and number of females as a function of years (years on the horizontal axis). Both should be included in a single plot. \n",
    "\n",
    "\n",
    "For each of the questions, provide the program that answers it, but also use a text cell (or comments in the program) to actually answer the question. \n",
    "\n",
    "\n",
    "\n",
    "Use the CODE cell below to continue with your program. "
   ]
  },
  {
   "cell_type": "code",
   "execution_count": 2,
   "metadata": {
    "colab": {
     "base_uri": "https://localhost:8080/",
     "height": 772
    },
    "colab_type": "code",
    "id": "NZtxkadU9va7",
    "outputId": "8b1bfc19-4a3d-4ce6-b3b4-710f40579eb2"
   },
   "outputs": [
    {
     "name": "stdout",
     "output_type": "stream",
     "text": [
      "approx. number of nests in which a single female lays eggs per year\n",
      "5.500003653961009\n",
      "==============\n",
      "average percent change per year\n",
      "-345.32 %\n",
      "26.69 %\n",
      "1.53 %\n",
      "2.50 %\n",
      "33.14 %\n",
      "-42.02 %\n",
      "-42.29 %\n",
      "-43.89 %\n",
      "28.24 %\n",
      "-54.97 %\n",
      "43.46 %\n",
      "-5.37 %\n",
      "-36.98 %\n",
      "1.80 %\n",
      "-26.91 %\n",
      "-1.44 %\n",
      "-1.07 %\n",
      "-19.48 %\n",
      "-7.77 %\n",
      "average: -25.80\n",
      "It is a decrease on average\n"
     ]
    },
    {
     "data": {
      "image/png": "[encoded data removed]",
      "text/plain": [
       "<Figure size 432x288 with 1 Axes>"
      ]
     },
     "metadata": {},
     "output_type": "display_data"
    }
   ],
   "source": [
    "number_of_nests = [14522, 3261, 4448, 4517, 4633, 6929, 4879, 3429,2383,3321,\\\n",
    "                   2143,3790,3597,2626,2674,2107,2077,2055,1720,1596]\n",
    "number_of_females = [2640,593,809,821,842,1260,887,623,433,604,390,689,654,477,\\\n",
    "                     486,383,378,374,313,290]\n",
    "years = list(range(1984,2004))\n",
    "nests_per_year = []\n",
    "percentage_diff = []\n",
    "differences = []\n",
    "ratio2_list = []\n",
    "\n",
    "countPosi = 0\n",
    "countNeg = 0\n",
    "\n",
    "average = 0\n",
    "ratio2 = 0\n",
    "for i in number_of_nests:\n",
    "  location = number_of_nests.index(i)\n",
    "  ratio = i / number_of_females[location]\n",
    "  nests_per_year = nests_per_year + [ratio]\n",
    "for num in nests_per_year:\n",
    "  num = sum(nests_per_year)\n",
    "  average = num / len(number_of_nests)\n",
    "print('approx. number of nests in which a single female lays eggs per year')\n",
    "print(average) #this is the approximate number of nests in which a single female lays eggs, I found this by finding the ratio of number of nests to number of females, summed it, then divided it by the amount of years\n",
    "print('==============')\n",
    "\n",
    "for i in range(len(number_of_nests)):\n",
    "  difference = number_of_nests[i] - number_of_nests[i-1]\n",
    "  differences = differences + [difference]\n",
    " \n",
    "print('average percent change per year')\n",
    "for i in range(1,len(differences)):\n",
    "   ratio2 = (differences[i] / number_of_nests[i])*100\n",
    "   ratio2_list = ratio2_list + [ratio2]\n",
    "   print(format(ratio2, '.2f'), '%')\n",
    "average = sum(ratio2_list)/len(ratio2_list)\n",
    "print('average:', format(average, '.2f'))\n",
    "\n",
    "for i in ratio2_list: #i figured it is mostly a decrease because in most instances, 12 vs. 7, it's decresaing. Also, the average overall is negative. \n",
    "  if i < 0:\n",
    "    countNeg +=1\n",
    "  elif i >= 1: \n",
    "    countPosi +=1\n",
    "if countNeg > countPosi:\n",
    "  print('It is a decrease on average')\n",
    "elif countPosi > countNeg:\n",
    "  print('It is an increase on average')\n",
    "  \n",
    "import numpy as np\n",
    "import matplotlib.pyplot as plt\n",
    "\n",
    "#plot graph\n",
    "plt.plot(years, number_of_females, label=\"number of females\")    \n",
    "plt.plot(years, number_of_nests, label=\"number of nests\")\n",
    "plt.xlabel('Years')        # add title to the x-axis\n",
    "plt.ylabel('nests and females')    # add title to the y-axis \n",
    "plt.legend(loc='upper left')   # create the legend with plot descriptions \n",
    "\n",
    "plt.show()"
   ]
  },
  {
   "cell_type": "markdown",
   "metadata": {
    "colab_type": "text",
    "id": "iO3jlgNu9va9",
    "slideshow": {
     "slide_type": "fragment"
    }
   },
   "source": [
    "\n",
    "## Problem 2: Fobonacci Numbers and the Golden Ratio (35 points) \n",
    "\n",
    "\n",
    "You just heard two different talks on the topic of Fibonacci numbers and the golden ratio. \n",
    "\n",
    "Write a program that creates a list of the first 50 Fibonacci numbers.\n",
    "\n",
    "Once the numbers are calculated the program should calculate the ratio of the two consecutive numbers for each pair of Fibonacci numbers:\n",
    "\n",
    "$$\\dfrac{\\text{Fibonacci number at position i}}{\\text{Fibonacci number at position i-1}}$$\n",
    "\n",
    "--\n",
    "\n",
    "The __golden ratio__ can be calculated using the following formula:\n",
    "\n",
    "$$\\dfrac{1 + \\sqrt{5}}{2} $$\n",
    "\n",
    "Compare the value of the golden ratio to the values obtained by calculating the ratios of consecutive Fibonacci numbers. \n",
    "\n",
    "\n",
    "\n",
    "Create a CODE cell below to write your program. Your answers should be in a TEXT cell or in the comments in the program. "
   ]
  },
  {
   "cell_type": "code",
   "execution_count": 3,
   "metadata": {
    "colab": {
     "base_uri": "https://localhost:8080/",
     "height": 887
    },
    "colab_type": "code",
    "id": "4c4sf3333ILx",
    "outputId": "79fe718a-f03d-42ed-eb1f-e02421fae3c4"
   },
   "outputs": [
    {
     "name": "stdout",
     "output_type": "stream",
     "text": [
      "golden ratio: 1.618033988749895\n",
      "[0, 1, 1, 2, 3, 5, 8, 13, 21, 34, 55, 89, 144, 233, 377, 610, 987, 1597, 2584, 4181, 6765, 10946, 17711, 28657, 46368, 75025, 121393, 196418, 317811, 514229, 832040, 1346269, 2178309, 3524578, 5702887, 9227465, 14930352, 24157817, 39088169, 63245986, 102334155, 165580141, 267914296, 433494437, 701408733, 1134903170, 1836311903, 2971215073, 4807526976, 7778742049]\n",
      "1.0\n",
      "2.0\n",
      "1.5\n",
      "1.6666666666666667\n",
      "1.6\n",
      "1.625\n",
      "1.6153846153846154\n",
      "1.619047619047619\n",
      "1.6176470588235294\n",
      "1.6181818181818182\n",
      "1.6179775280898876\n",
      "1.6180555555555556\n",
      "1.6180257510729614\n",
      "1.6180371352785146\n",
      "1.618032786885246\n",
      "1.618034447821682\n",
      "1.6180338134001253\n",
      "1.618034055727554\n",
      "1.6180339631667064\n",
      "1.6180339985218033\n",
      "1.618033985017358\n",
      "1.6180339901755971\n",
      "1.618033988205325\n",
      "1.618033988957902\n",
      "1.6180339886704431\n",
      "1.6180339887802426\n",
      "1.618033988738303\n",
      "1.6180339887543225\n",
      "1.6180339887482036\n",
      "1.6180339887505408\n",
      "1.6180339887496482\n",
      "1.618033988749989\n",
      "1.618033988749859\n",
      "1.6180339887499087\n",
      "1.6180339887498896\n",
      "1.618033988749897\n",
      "1.618033988749894\n",
      "1.6180339887498951\n",
      "1.6180339887498947\n",
      "1.618033988749895\n",
      "1.618033988749895\n",
      "1.618033988749895\n",
      "1.618033988749895\n",
      "1.618033988749895\n",
      "1.618033988749895\n",
      "1.618033988749895\n",
      "1.618033988749895\n",
      "1.618033988749895\n"
     ]
    }
   ],
   "source": [
    "golden_ratio = (1+(5**(1/2))) / 2\n",
    "print('golden ratio:', golden_ratio)\n",
    "\n",
    "fib = [0,1]\n",
    "fib_ratio = []\n",
    "for i in range(2,50):\n",
    "  fib.append(fib[i-1]+fib[i-2])\n",
    "print(fib)\n",
    "for i in range(2, 50):\n",
    "  i = fib[i]/fib[i-1]\n",
    "  print(i)\n",
    "\n",
    "\n",
    "#As the numerical values of the Fibonacci increase, the closer they become to the golden ratio, but they never can each other because the golden ratio is an irrational number and cannot be reduced to a fraction. "
   ]
  },
  {
   "cell_type": "markdown",
   "metadata": {
    "colab_type": "text",
    "id": "9-PV3yp89va_",
    "slideshow": {
     "slide_type": "slide"
    }
   },
   "source": [
    "## Problem 3: Subway Fares in NYC (35 points) \n",
    "\n",
    "\n",
    "The Wikipedia has an article that shows the history of the transit fares in NYC. The part of the article that talks about subway fares is titled [Subway and local buses](https://en.wikipedia.org/wiki/New_York_City_transit_fares#Subway_and_local_buses). You will need the data provided in that section to complete this problem. \n",
    "\n",
    "You will also need the [Inflation Calculator](https://www.bls.gov/data/inflation_calculator.htm) that we used at the beginning of the semester. \n",
    "\n",
    "Complete the following tasks in the CODE cells and TEXT cells below this problem description.\n",
    "\n",
    "- Plot the history of subway fares from 1905 to 2018. Make sure that your plot includes ALL the years, not just the years of the fare increase. For example, the fare was 5 cents from 1905 to 1948, this means that your plot should have a flat line for these years and then the increase in 1948 to 10 cents. \n",
    "\n",
    "- Use the inflation calculator to figure out what the price of a subway fare should be, if the only increases followed the inflation rate. (The calculator starts at 1913, not 1905, so use that year as a starting point.) \n",
    "\n",
    "- For each of the fare increases, calculate the percentage increase over the previous fare. Show a table containing the year of the increase and the percentage increase that was applied. (Read through your results to verify that they do make sense.) \n",
    "\n",
    "Note: for all the fares use the _base fare_. \n",
    "\n"
   ]
  },
  {
   "cell_type": "code",
   "execution_count": 4,
   "metadata": {
    "colab": {
     "base_uri": "https://localhost:8080/",
     "height": 1305
    },
    "colab_type": "code",
    "id": "_zeDM_f-9va_",
    "outputId": "3a8abb2b-f79d-44cb-8421-43cf6e19f452"
   },
   "outputs": [
    {
     "data": {
      "image/png": "[encoded data removed]",
      "text/plain": [
       "<Figure size 1500x750 with 1 Axes>"
      ]
     },
     "metadata": {},
     "output_type": "display_data"
    },
    {
     "name": "stdout",
     "output_type": "stream",
     "text": [
      "years when there are increases\n",
      "1948\n",
      "1953\n",
      "1966\n",
      "1970\n",
      "1972\n",
      "1975\n",
      "1980\n",
      "1981\n",
      "1984\n",
      "1986\n",
      "1990\n",
      "1992\n",
      "1995\n",
      "2003\n",
      "2010\n",
      "2013\n",
      "2015\n",
      "percentage increase\n",
      "2480.00 %\n",
      "2020.00 %\n",
      "2740.00 %\n",
      "3080.00 %\n",
      "3900.00 %\n",
      "4200.00 %\n",
      "4740.00 %\n",
      "3780.00 %\n",
      "4240.00 %\n",
      "4360.00 %\n",
      "4500.00 %\n",
      "4460.00 %\n",
      "4460.00 %\n",
      "4940.00 %\n",
      "5440.00 %\n",
      "5280.00 %\n",
      "5140.00 %\n",
      "5380.00 %\n",
      "5400.00 %\n"
     ]
    }
   ],
   "source": [
    "inflated_values = [1.29, 1.06, 1.42, 1.59, 2, 2.15, 2.42, 1.94, 2.17, 2.23, 2.3, 2.28, 2.28, 2.52, 2.77, 2.69, 2.62, 2.74, 2.75]\n",
    "years = []\n",
    "subway_fares = []\n",
    "years2 = []\n",
    "\n",
    "for i in range(1904, 1948):\n",
    "  subway_fares.append(0.05)\n",
    "  if i == 1947:\n",
    "    years2.append(1948)\n",
    "for i in range(1948, 1953):\n",
    "  if i == 1952:\n",
    "    years2.append(1953)\n",
    "  subway_fares.append(0.1)\n",
    "for i in range(1953, 1966):\n",
    "  subway_fares.append(0.15)\n",
    "  if i == 1965:\n",
    "    years2.append(1966)\n",
    "for i in range(1966, 1970):\n",
    "  subway_fares.append(0.2)\n",
    "  if i == 1969:\n",
    "    years2.append(1970)\n",
    "for i in range(1970, 1972):\n",
    "  subway_fares.append(0.3)\n",
    "  if i == 1971:\n",
    "    years2.append(1972)\n",
    "for i in range(1972, 1975):\n",
    "  subway_fares.append(0.35)\n",
    "  if i == 1974:\n",
    "    years2.append(1975)\n",
    "for i in range(1975, 1980):\n",
    "  subway_fares.append(0.5)\n",
    "  if i == 1979:\n",
    "    years2.append(1980)\n",
    "for i in range(1980, 1981):\n",
    "  subway_fares.append(0.6)\n",
    "  if i == 1980:\n",
    "    years2.append(1981)\n",
    "for i in range(1981, 1984):\n",
    "  subway_fares.append(0.75)\n",
    "  if i == 1983:\n",
    "    years2.append(1984)\n",
    "for i in range(1984, 1986):\n",
    "  subway_fares.append(0.9)\n",
    "  if i == 1985:\n",
    "    years2.append(1986)\n",
    "for i in range(1986, 1990):\n",
    "  subway_fares.append(1)\n",
    "  if i == 1989:\n",
    "    years2.append(1990)\n",
    "for i in range(1990, 1992):\n",
    "  subway_fares.append(1.15)\n",
    "  if i == 1991:\n",
    "    years2.append(1992)\n",
    "for i in range(1992, 1995):\n",
    "  subway_fares.append(1.25)\n",
    "  if i == 1994:\n",
    "    years2.append(1995)\n",
    "for i in range(1995, 2003):\n",
    "  subway_fares.append(1.5)\n",
    "  if i == 2002:\n",
    "    years2.append(2003)\n",
    "for i in range(2003, 2010):\n",
    "  subway_fares.append(2.0)\n",
    "  if i == 2009:\n",
    "    years2.append(2010)\n",
    "for i in range(2010, 2013):\n",
    "  subway_fares.append(2.5)\n",
    "  if i == 2012:\n",
    "    years2.append(2013)\n",
    "for i in range(2013, 2015):\n",
    "  subway_fares.append(2.5)\n",
    "  if i == 2014:\n",
    "    years2.append(2015)\n",
    "for i in range(2015, 2018):\n",
    "  subway_fares.append(2.75)\n",
    "  \n",
    "\n",
    "import numpy as np\n",
    "import matplotlib.pyplot as plt\n",
    "\n",
    "years = np.linspace(1905, 2018, 114)\n",
    "plt.figure(figsize=(10,5), dpi=150)\n",
    "plt.plot(years, subway_fares)\n",
    "plt.xlabel('years')\n",
    "plt.ylabel('subway fares')\n",
    "\n",
    "plt.show()\n",
    "\n",
    "ratio = []\n",
    "differences = []\n",
    "for i in range(len(inflated_values)):\n",
    "  difference = inflated_values[i] - subway_fares[i]\n",
    "  differences = differences + [difference]\n",
    "\n",
    "\n",
    "print('years when there are increases')  # i couldn't format them on the same line, sorry\n",
    "for i in range(len(years2)):\n",
    "    year2_list = years2[i]\n",
    "    print(year2_list)\n",
    "print('percentage increase') \n",
    "for i in range(len(differences)):\n",
    "   ratio2 = (differences[i] / subway_fares[i])*100\n",
    "   ratio = ratio+ [ratio2] \n",
    "   print(format(ratio2, '.2f'), '%')\n",
    "\n",
    "\n"
   ]
  },
  {
   "cell_type": "code",
   "execution_count": 0,
   "metadata": {
    "colab": {},
    "colab_type": "code",
    "id": "oFwTpl6uX9WI"
   },
   "outputs": [],
   "source": []
  }
 ],
 "metadata": {
  "colab": {
   "collapsed_sections": [],
   "name": "Estrada Isabella Lab11.ipynb",
   "provenance": [],
   "version": "0.3.2"
  },
  "kernelspec": {
   "display_name": "Python 3",
   "language": "python",
   "name": "python3"
  },
  "language_info": {
   "codemirror_mode": {
    "name": "ipython",
    "version": 3
   },
   "file_extension": ".py",
   "mimetype": "text/x-python",
   "name": "python",
   "nbconvert_exporter": "python",
   "pygments_lexer": "ipython3",
   "version": "3.6.5"
  }
 },
 "nbformat": 4,
 "nbformat_minor": 1
}
