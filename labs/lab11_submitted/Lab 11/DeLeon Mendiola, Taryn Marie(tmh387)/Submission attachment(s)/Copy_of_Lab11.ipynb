{
 "cells": [
  {
   "cell_type": "markdown",
   "metadata": {
    "colab_type": "text",
    "id": "64l90qJlp0j2"
   },
   "source": [
    "# Lab 11 (due Dec. 12)"
   ]
  },
  {
   "cell_type": "markdown",
   "metadata": {
    "colab_type": "text",
    "id": "_qhz2nF4oWN2"
   },
   "source": [
    "DeLeon Mendiola, Taryn\n",
    "\n",
    "tmh387\n",
    "\n",
    "Double click this text cell to edit it. Replace the lines above with your own name and netID.   \n",
    "\n",
    "Press `Shift` + `Enter` to exit editing mode. "
   ]
  },
  {
   "cell_type": "markdown",
   "metadata": {
    "colab_type": "text",
    "id": "A_knrGcWFlVf",
    "slideshow": {
     "slide_type": "slide"
    }
   },
   "source": [
    "## Problem 1: Leatherback Sea Turtles Population (30 points) \n",
    "\n",
    "\n",
    "Leatherback Sea Turtle population is declining due to many reasons. The paper published in 2013 [Long‐term decline of the western Pacific leatherback, Dermochelys coriacea: a globally important sea turtle population](https://esajournals.onlinelibrary.wiley.com/doi/full/10.1890/ES12-00348.1#i2150-8925-4-2-art25-Hitipeuw1) contains information about the estimated counts of nests and female leatherbacks in Jamursba Medi.\n",
    "Your job for this problem is to use this data to calculate a few things:\n",
    "- The female turtles lay eggs in multiple nests. What is the approximate number of nests in which a single female lays eggs? How did you estimate this? \n",
    "- What is the percentage by which the number of nests differs in each year from the previous year (assume that the previous year is 100%, calculate the percentage increase/decrease for the next year)? Write a program that shows the table.\n",
    "What is the average percentage change? Is it a decrease or increase on average? Explain how you calculated it. \n",
    "- Plot the number of nests and number of females as a function of years (years on the horizontal axis). Both should be included in a single plot. \n",
    "\n",
    "\n",
    "For each of the questions, provide the program that answers it, but also use a text cell (or comments in the program) to actually answer the question. \n",
    "\n",
    "\n",
    "\n",
    "Use the CODE cell below to continue with your program. "
   ]
  },
  {
   "cell_type": "markdown",
   "metadata": {
    "colab_type": "text",
    "id": "-B3ifIAQIUZ0"
   },
   "source": [
    "female turtles lay eggs in approximately 5-6 nests.  I estimated it by dividing the number of nests by the number of females.\n",
    "\n",
    "Average change is a 3.89% decrease per year.  I calculated this by adding the percent change and then dividing by the years, taking the result and subracting 100."
   ]
  },
  {
   "cell_type": "code",
   "execution_count": 1,
   "metadata": {
    "colab": {
     "base_uri": "https://localhost:8080/",
     "height": 1532
    },
    "colab_type": "code",
    "id": "pjrk-xBcLGTb",
    "outputId": "df860a60-0e2e-46c1-ce4e-a0cd9ed1973f"
   },
   "outputs": [
    {
     "name": "stdout",
     "output_type": "stream",
     "text": [
      "nests per female\n",
      "1984 : 5.500757575757576\n",
      "1985 : 5.499156829679595\n",
      "1986 : 5.49814585908529\n",
      "1987 : 5.501827040194884\n",
      "1988 : 5.502375296912114\n",
      "1989 : 5.499206349206349\n",
      "1990 : 5.500563697857948\n",
      "1991 : 5.504012841091493\n",
      "1992 : 5.503464203233256\n",
      "1993 : 5.498344370860927\n",
      "1994 : 5.494871794871795\n",
      "1995 : 5.500725689404935\n",
      "1996 : 5.5\n",
      "1997 : 5.50524109014675\n",
      "1998 : 5.502057613168724\n",
      "1999 : 5.5013054830287205\n",
      "2000 : 5.494708994708994\n",
      "2001 : 5.494652406417113\n",
      "2002 : 5.49520766773163\n",
      "2003 : 5.503448275862069\n",
      "in 1985 there were 22.455584630216222 % of the nests as 1984\n",
      "in 1986 there were 136.3998773382398 % of the nests as 1985\n",
      "in 1987 there were 101.55125899280576 % of the nests as 1986\n",
      "in 1988 there were 102.5680761567412 % of the nests as 1987\n",
      "in 1989 there were 149.55752212389382 % of the nests as 1988\n",
      "in 1990 there were 70.41420118343196 % of the nests as 1989\n",
      "in 1991 there were 70.28079524492723 % of the nests as 1990\n",
      "in 1992 there were 69.4954797317002 % of the nests as 1991\n",
      "in 1993 there were 139.36214855224506 % of the nests as 1992\n",
      "in 1994 there were 64.5287563986751 % of the nests as 1993\n",
      "in 1995 there were 176.85487634157724 % of the nests as 1994\n",
      "in 1996 there were 94.90765171503958 % of the nests as 1995\n",
      "in 1997 there were 73.0052821795941 % of the nests as 1996\n",
      "in 1998 there were 101.82787509520183 % of the nests as 1997\n",
      "in 1999 there were 78.79581151832461 % of the nests as 1998\n",
      "in 2000 there were 98.57617465590887 % of the nests as 1999\n",
      "in 2001 there were 98.94077997111218 % of the nests as 2000\n",
      "in 2002 there were 83.69829683698296 % of the nests as 2001\n",
      "in 2003 there were 92.79069767441861 % of the nests as 2002\n",
      "avg change: 96.10584980742297\n"
     ]
    },
    {
     "data": {
      "text/plain": [
       "<Figure size 1500x1000 with 1 Axes>"
      ]
     },
     "metadata": {},
     "output_type": "display_data"
    }
   ],
   "source": [
    "number_of_nests = [14522, 3261, 4448, 4517, 4633, 6929, 4879, 3429,2383,3321,\\\n",
    "                   2143,3790,3597,2626,2674,2107,2077,2055,1720,1596]\n",
    "number_of_females = [2640,593,809,821,842,1260,887,623,433,604,390,689,654,477,\\\n",
    "                     486,383,378,374,313,290]\n",
    "years = list(range(1984,2004))\n",
    "nests_per_female = []\n",
    "\n",
    "#how many nests does a female use : nests/females\n",
    "for index in range(len(number_of_nests)):\n",
    "  femalenests = number_of_nests[index]/number_of_females[index]\n",
    "  nests_per_female.append(femalenests)\n",
    "\n",
    "print(\"nests per female\")\n",
    "for index in range(len(years)):\n",
    "  print(years[index], \":\", nests_per_female[index])\n",
    "  \n",
    "\n",
    "#percent change in nests by year\n",
    "sum=0\n",
    "count=0\n",
    "for index in range(1,len(number_of_nests)):\n",
    "  percent = (100 * number_of_nests[index])/number_of_nests[index-1]\n",
    "  sum = sum + percent\n",
    "  count = count + 1\n",
    "  print(\"in\", years[index], \"there were\", percent, \"% of the nests as\", years[index-1])\n",
    "\n",
    "print(\"avg change:\", sum/count)\n",
    "\n",
    "#plot nests-horizontal, female- vertical\n",
    "import numpy as np\n",
    "import matplotlib.pyplot as plt\n",
    "\n",
    "plt.figure(figsize=(15,10), dpi=100)\n",
    "plt.plot(years, number_of_nests, 'g', label=\"number of nests\") \n",
    "plt.plot(years, number_of_females, 'b', label=\"number of females\")\n",
    "plt.xlabel('Years')        # add title to the x-axis\n",
    "plt.ylabel('number')    # add title to the y-axis \n",
    "plt.legend(loc='upper right')   # create the legend with plot descriptions \n",
    "\n",
    "plt.show()"
   ]
  },
  {
   "cell_type": "markdown",
   "metadata": {
    "colab_type": "text",
    "id": "jC6vsDyELGTf",
    "slideshow": {
     "slide_type": "fragment"
    }
   },
   "source": [
    "\n",
    "## Problem 2: Fibonacci Numbers and the Golden Ratio (35 points) \n",
    "\n",
    "\n",
    "You just heard two different talks on the topic of Fibonacci numbers and the golden ratio. \n",
    "\n",
    "Write a program that creates a list of the first 50 Fibonacci numbers.\n",
    "\n",
    "Once the numbers are calculated the program should calculate the ratio of the two consecutive numbers for each pair of Fibonacci numbers:\n",
    "\n",
    "$$\\dfrac{\\text{Fibonacci number at position i}}{\\text{Fibonacci number at position i-1}}$$\n",
    "\n",
    "--\n",
    "\n",
    "The __golden ratio__ can be calculated using the following formula:\n",
    "\n",
    "$$\\dfrac{1 + \\sqrt{5}}{2} $$\n",
    "\n",
    "Compare the value of the golden ratio to the values obtained by calculating the ratios of consecutive Fibonacci numbers. \n",
    "\n",
    "\n",
    "\n",
    "Create a CODE cell below to write your program. Your answers should be in a TEXT cell or in the comments in the program. "
   ]
  },
  {
   "cell_type": "code",
   "execution_count": 0,
   "metadata": {
    "colab": {
     "base_uri": "https://localhost:8080/",
     "height": 870
    },
    "colab_type": "code",
    "id": "HHEgT9lAInix",
    "outputId": "a4ba4c10-718b-4772-aa23-23f5a6c24ab2"
   },
   "outputs": [
    {
     "name": "stdout",
     "output_type": "stream",
     "text": [
      "[0, 1, 1, 2, 3, 5, 8, 13, 21, 34, 55, 89, 144, 233, 377, 610, 987, 1597, 2584, 4181, 6765, 10946, 17711, 28657, 46368, 75025, 121393, 196418, 317811, 514229, 832040, 1346269, 2178309, 3524578, 5702887, 9227465, 14930352, 24157817, 39088169, 63245986, 102334155, 165580141, 267914296, 433494437, 701408733, 1134903170, 1836311903, 2971215073, 4807526976, 7778742049]\n",
      "1.0\n",
      "2.0\n",
      "1.5\n",
      "1.6666666666666667\n",
      "1.6\n",
      "1.625\n",
      "1.6153846153846154\n",
      "1.619047619047619\n",
      "1.6176470588235294\n",
      "1.6181818181818182\n",
      "1.6179775280898876\n",
      "1.6180555555555556\n",
      "1.6180257510729614\n",
      "1.6180371352785146\n",
      "1.618032786885246\n",
      "1.618034447821682\n",
      "1.6180338134001253\n",
      "1.618034055727554\n",
      "1.6180339631667064\n",
      "1.6180339985218033\n",
      "1.618033985017358\n",
      "1.6180339901755971\n",
      "1.618033988205325\n",
      "1.618033988957902\n",
      "1.6180339886704431\n",
      "1.6180339887802426\n",
      "1.618033988738303\n",
      "1.6180339887543225\n",
      "1.6180339887482036\n",
      "1.6180339887505408\n",
      "1.6180339887496482\n",
      "1.618033988749989\n",
      "1.618033988749859\n",
      "1.6180339887499087\n",
      "1.6180339887498896\n",
      "1.618033988749897\n",
      "1.618033988749894\n",
      "1.6180339887498951\n",
      "1.6180339887498947\n",
      "1.618033988749895\n",
      "1.618033988749895\n",
      "1.618033988749895\n",
      "1.618033988749895\n",
      "1.618033988749895\n",
      "1.618033988749895\n",
      "1.618033988749895\n",
      "1.618033988749895\n",
      "1.618033988749895\n"
     ]
    }
   ],
   "source": [
    "fibonaccinums= [0,1]\n",
    "\n",
    "for i in range(2,50):\n",
    "  fibonaccinums.append(fibonaccinums[i-1]+fibonaccinums[i-2])\n",
    "  \n",
    "print(fibonaccinums)\n",
    "\n",
    "for i in range(2,len(fibonaccinums)):\n",
    "  ratio = fibonaccinums[i]/fibonaccinums[i-1]\n",
    "  print(ratio)"
   ]
  },
  {
   "cell_type": "markdown",
   "metadata": {
    "colab_type": "text",
    "id": "uppGA72CzQog"
   },
   "source": [
    "the ratio between two consecutive fibonacci numbers is the golden ratio and gets more exact as the sequence goes on."
   ]
  },
  {
   "cell_type": "markdown",
   "metadata": {
    "colab_type": "text",
    "id": "z1zUdHqULGTh",
    "slideshow": {
     "slide_type": "slide"
    }
   },
   "source": [
    "## Problem 3: Subway Fares in NYC (35 points) \n",
    "\n",
    "\n",
    "The Wikipedia has an article that shows the history of the transit fares in NYC. The part of the article that talks about subway fares is titled [Subway and local buses](https://en.wikipedia.org/wiki/New_York_City_transit_fares#Subway_and_local_buses). You will need the data provided in that section to complete this problem. \n",
    "\n",
    "You will also need the [Inflation Calculator](https://www.bls.gov/data/inflation_calculator.htm) that we used at the beginning of the semester. \n",
    "\n",
    "Complete the following tasks in the CODE cells and TEXT cells below this problem description.\n",
    "\n",
    "- Plot the history of subway fares from 1905 to 2018. Make sure that your plot includes ALL the years, not just the years of the fare increase. For example, the fare was 5 cents from 1905 to 1948, this means that your plot should have a flat line for these years and then the increase in 1948 to 10 cents. \n",
    "\n",
    "- Use the inflation calculator to figure out what the price of a subway fare should be, if the only increases followed the inflation rate. (The calculator starts at 1913, not 1905, so use that year as a starting point.) \n",
    "\n",
    "- For each of the fare increases, calculate the percentage increase over the previous fare. Show a table containing the year of the increase and the percentage increase that was applied. (Read through your results to verify that they do make sense.) \n",
    "\n",
    "Note: for all the fares use the _base fare_. \n",
    "\n"
   ]
  },
  {
   "cell_type": "code",
   "execution_count": 2,
   "metadata": {
    "colab": {
     "base_uri": "https://localhost:8080/",
     "height": 3059
    },
    "colab_type": "code",
    "id": "yxnh-aOILGTh",
    "outputId": "97530401-4e42-4644-bdcf-f0b712c5e0d2"
   },
   "outputs": [
    {
     "name": "stdout",
     "output_type": "stream",
     "text": [
      "[0.05 0.05 0.05 0.05 0.05 0.05 0.05 0.05 0.05 0.05 0.05 0.05 0.05 0.05\n",
      " 0.05 0.05 0.05 0.05 0.05 0.05 0.05 0.05 0.05 0.05 0.05 0.05 0.05 0.05\n",
      " 0.05 0.05 0.05 0.05 0.05 0.05 0.05 0.05 0.05 0.05 0.05 0.05 0.05 0.05\n",
      " 0.05 0.05 0.05 0.1  0.1  0.1  0.1  0.1  0.15 0.15 0.15 0.15 0.15 0.15\n",
      " 0.15 0.15 0.15 0.15 0.15 0.15 0.15 0.2  0.2  0.2  0.3  0.3  0.35 0.35\n",
      " 0.35 0.35 0.5  0.5  0.5  0.5  0.5  0.6  0.75 0.75 0.9  0.9  1.   1.\n",
      " 1.   1.   1.15 1.15 1.25 1.25 1.25 1.25 1.5  1.5  1.5  1.5  1.5  1.5\n",
      " 1.5  1.5  2.   2.   2.   2.   2.   2.   2.25 2.25 2.25 2.25 2.5  2.5\n",
      " 2.75 2.75 2.75]\n",
      "[1904 1905 1906 1907 1908 1909 1910 1911 1912 1913 1914 1915 1916 1917\n",
      " 1918 1919 1920 1921 1922 1923 1924 1925 1926 1927 1928 1929 1930 1931\n",
      " 1932 1933 1934 1935 1936 1937 1938 1939 1940 1941 1942 1943 1944 1945\n",
      " 1946 1947 1948 1949 1950 1951 1952 1953 1954 1955 1956 1957 1958 1959\n",
      " 1960 1961 1962 1963 1964 1965 1966 1967 1968 1969 1970 1971 1972 1973\n",
      " 1974 1975 1976 1977 1978 1979 1980 1981 1982 1983 1984 1985 1986 1987\n",
      " 1988 1989 1990 1991 1992 1993 1994 1995 1996 1997 1998 1999 2000 2001\n",
      " 2002 2003 2004 2005 2006 2007 2008 2009 2010 2011 2012 2013 2014 2015\n",
      " 2016 2017 2018]\n",
      "-YEAR--PERCENT INCREASE-\n",
      "1906     0.0\n",
      "1907     0.0\n",
      "1908     0.0\n",
      "1909     0.0\n",
      "1910     0.0\n",
      "1911     0.0\n",
      "1912     0.0\n",
      "1913     0.0\n",
      "1914     0.0\n",
      "1915     0.0\n",
      "1916     0.0\n",
      "1917     0.0\n",
      "1918     0.0\n",
      "1919     0.0\n",
      "1920     0.0\n",
      "1921     0.0\n",
      "1922     0.0\n",
      "1923     0.0\n",
      "1924     0.0\n",
      "1925     0.0\n",
      "1926     0.0\n",
      "1927     0.0\n",
      "1928     0.0\n",
      "1929     0.0\n",
      "1930     0.0\n",
      "1931     0.0\n",
      "1932     0.0\n",
      "1933     0.0\n",
      "1934     0.0\n",
      "1935     0.0\n",
      "1936     0.0\n",
      "1937     0.0\n",
      "1938     0.0\n",
      "1939     0.0\n",
      "1940     0.0\n",
      "1941     0.0\n",
      "1942     0.0\n",
      "1943     0.0\n",
      "1944     0.0\n",
      "1945     0.0\n",
      "1946     0.0\n",
      "1947     0.0\n",
      "1948     0.0\n",
      "1949     100.0\n",
      "1950     0.0\n",
      "1951     0.0\n",
      "1952     0.0\n",
      "1953     0.0\n",
      "1954     50.0\n",
      "1955     0.0\n",
      "1956     0.0\n",
      "1957     0.0\n",
      "1958     0.0\n",
      "1959     0.0\n",
      "1960     0.0\n",
      "1961     0.0\n",
      "1962     0.0\n",
      "1963     0.0\n",
      "1964     0.0\n",
      "1965     0.0\n",
      "1966     0.0\n",
      "1967     33.33333333333334\n",
      "1968     0.0\n",
      "1969     0.0\n",
      "1970     50.0\n",
      "1971     0.0\n",
      "1972     16.66666666666667\n",
      "1973     0.0\n",
      "1974     0.0\n",
      "1975     0.0\n",
      "1976     42.85714285714286\n",
      "1977     0.0\n",
      "1978     0.0\n",
      "1979     0.0\n",
      "1980     0.0\n",
      "1981     20.0\n",
      "1982     25.0\n",
      "1983     0.0\n",
      "1984     20.0\n",
      "1985     0.0\n",
      "1986     11.111111111111114\n",
      "1987     0.0\n",
      "1988     0.0\n",
      "1989     0.0\n",
      "1990     14.999999999999986\n",
      "1991     0.0\n",
      "1992     8.695652173913047\n",
      "1993     0.0\n",
      "1994     0.0\n",
      "1995     0.0\n",
      "1996     20.0\n",
      "1997     0.0\n",
      "1998     0.0\n",
      "1999     0.0\n",
      "2000     0.0\n",
      "2001     0.0\n",
      "2002     0.0\n",
      "2003     0.0\n",
      "2004     33.33333333333334\n",
      "2005     0.0\n",
      "2006     0.0\n",
      "2007     0.0\n",
      "2008     0.0\n",
      "2009     0.0\n",
      "2010     12.5\n",
      "2011     0.0\n",
      "2012     0.0\n",
      "2013     0.0\n",
      "2014     11.111111111111114\n",
      "2015     0.0\n",
      "2016     10.0\n",
      "2017     0.0\n",
      "2018     0.0\n"
     ]
    },
    {
     "data": {
      "image/png": "[encoded data removed]",
      "text/plain": [
       "<Figure size 1500x1000 with 1 Axes>"
      ]
     },
     "metadata": {},
     "output_type": "display_data"
    }
   ],
   "source": [
    "import numpy as np\n",
    "import matplotlib.pyplot as plt\n",
    "\n",
    "fares = np.array([0.05]*(45)+ [0.10]*(5) + [0.15]*(13) + [0.20]*(3) + [0.30]*(2) \n",
    "                 + [0.35]*(4) + [0.50]*(5) + [0.60] + [0.75]*(2) + [0.90]*(2) + \n",
    "                 [1.00]*(4) + [1.15]*(2) + [1.25]*(4) + [1.50]*(8) + [2.00]*(6) + \n",
    "                 [2.25]*(4) + [2.50]*(2) + [2.75]*(3))\n",
    "years = np.array(list(range(1904,2019)))\n",
    "print(fares)\n",
    "print(years)\n",
    "print(\"-YEAR--PERCENT INCREASE-\")\n",
    "for i in range(2,len(fares)):\n",
    "  percent = (100 * fares[i])/(fares[i-1])\n",
    "  result = percent-100\n",
    "  print(years[i], \"   \", result)\n",
    "\n",
    "\n",
    "\n",
    "\n",
    "plt.figure(figsize=(15,10), dpi=100, facecolor='gray')\n",
    "plt.plot(years, fares, 'r')\n",
    "plt.show()"
   ]
  },
  {
   "cell_type": "markdown",
   "metadata": {
    "colab_type": "text",
    "id": "zIAYWZ78JyJh"
   },
   "source": [
    "If fares only increased due to inflation, the base fare in 2018 would be $1.29"
   ]
  },
  {
   "cell_type": "code",
   "execution_count": 0,
   "metadata": {
    "colab": {},
    "colab_type": "code",
    "id": "LY4KGc_-KEJD"
   },
   "outputs": [],
   "source": []
  }
 ],
 "metadata": {
  "colab": {
   "collapsed_sections": [],
   "name": "Copy of Lab11.ipynb",
   "provenance": [],
   "version": "0.3.2"
  },
  "kernelspec": {
   "display_name": "Python 3",
   "language": "python",
   "name": "python3"
  },
  "language_info": {
   "codemirror_mode": {
    "name": "ipython",
    "version": 3
   },
   "file_extension": ".py",
   "mimetype": "text/x-python",
   "name": "python",
   "nbconvert_exporter": "python",
   "pygments_lexer": "ipython3",
   "version": "3.6.5"
  }
 },
 "nbformat": 4,
 "nbformat_minor": 1
}
