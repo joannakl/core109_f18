{
 "cells": [
  {
   "cell_type": "code",
   "execution_count": 0,
   "metadata": {
    "colab": {},
    "colab_type": "code",
    "id": "udxAlLVvvw_0"
   },
   "outputs": [],
   "source": []
  },
  {
   "cell_type": "markdown",
   "metadata": {
    "colab_type": "text",
    "id": "64l90qJlp0j2"
   },
   "source": [
    "# Lab 11 (due Dec. 12)"
   ]
  },
  {
   "cell_type": "markdown",
   "metadata": {
    "colab_type": "text",
    "id": "_qhz2nF4oWN2"
   },
   "source": [
    "Tocco, Annabelle\n",
    "\n",
    "ast448\n",
    "\n",
    "Double click this text cell to edit it. Replace the lines above with your own name and netID.   \n",
    "\n",
    "Press `Shift` + `Enter` to exit editing mode. "
   ]
  },
  {
   "cell_type": "markdown",
   "metadata": {
    "colab_type": "text",
    "id": "A_knrGcWFlVf",
    "slideshow": {
     "slide_type": "slide"
    }
   },
   "source": [
    "## Problem 1: Leatherback Sea Turtles Population (30 points) \n",
    "\n",
    "\n",
    "Leatherback Sea Turtle population is declining due to many reasons. The paper published in 2013 [Long‐term decline of the western Pacific leatherback, Dermochelys coriacea: a globally important sea turtle population](https://esajournals.onlinelibrary.wiley.com/doi/full/10.1890/ES12-00348.1#i2150-8925-4-2-art25-Hitipeuw1) contains information about the estimated counts of nests and female leatherbacks in Jamursba Medi.\n",
    "Your job for this problem is to use this data to calculate a few things:\n",
    "- The female turtles lay eggs in multiple nests. What is the approximate number of nests in which a single female lays eggs? How did you estimate this? \n",
    "- What is the percentage by which the number of nests differs in each year from the previous year (assume that the previous year is 100%, calculate the percentage increase/decrease for the next year)? Write a program that shows the table.\n",
    "What is the average percentage change? Is it a decrease or increase on average? Explain how you calculated it. \n",
    "- Plot the number of nests and number of females as a function of years (years on the horizontal axis). Both should be included in a single plot. \n",
    "\n",
    "\n",
    "For each of the questions, provide the program that answers it, but also use a text cell (or comments in the program) to actually answer the question. \n",
    "\n",
    "\n",
    "\n",
    "Use the CODE cell below to continue with your program. "
   ]
  },
  {
   "cell_type": "code",
   "execution_count": 2,
   "metadata": {
    "colab": {
     "base_uri": "https://localhost:8080/",
     "height": 727
    },
    "colab_type": "code",
    "id": "pjrk-xBcLGTb",
    "outputId": "0d6280af-e389-44b1-8806-25a710f964e8"
   },
   "outputs": [
    {
     "data": {
      "image/png": "[encoded data removed]",
      "text/plain": [
       "<Figure size 432x288 with 1 Axes>"
      ]
     },
     "metadata": {},
     "output_type": "display_data"
    },
    {
     "name": "stdout",
     "output_type": "stream",
     "text": [
      "year           number of nests percent increase/decrease\n",
      "--------------------------------------------------------\n",
      "1984-1985                                ~77.4% increase\n",
      "1985-1986                                ~36.4% decrease\n",
      "1986-1987                                 ~1.5% increase\n",
      "1987-1988                                 ~2.5% increase\n",
      "1988-1989                                ~49.5% increase\n",
      "1989-1990                                ~29.5% decrease\n",
      "1990-1991                                ~29.7% decrease\n",
      "1991-1992                                  ~30% decrease\n",
      "1992-1993                                ~39.3% increase\n",
      "1993-1994                                ~35.4% decrease\n",
      "1994-1995                                ~76.8% increase\n",
      "1995-1996                                   ~5% decrease\n",
      "1996-1997                                ~25.9% decrease\n",
      "1997-1998                                 ~1.8% increase\n",
      "1998-1999                                ~22.3% decrease\n",
      "1999-2000                                 ~1.4% decrease\n",
      "2000-2001                                ~1.05% decrease\n",
      "2001-2002                                ~16.3% decrease\n",
      "2002-2003                                 ~7.2% decrease\n"
     ]
    }
   ],
   "source": [
    "import matplotlib.pyplot as plt\n",
    "\n",
    "number_of_nests = [14522, 3261, 4448, 4517, 4633, 6929, 4879, 3429,2383,3321,\\\n",
    "                   2143,3790,3597,2626,2674,2107,2077,2055,1720,1596]\n",
    "number_of_females = [2640,593,809,821,842,1260,887,623,433,604,390,689,654,477,\\\n",
    "                     486,383,378,374,313,290]\n",
    "years = list(range(1984,2004))\n",
    "\n",
    "#3261/593 = ~5.4 nests per female\n",
    "\n",
    "plt.plot(years, number_of_nests, 'r') \n",
    "plt.plot(years, number_of_nests, 'ro') \n",
    "\n",
    "plt.plot(years, number_of_females, 'b')\n",
    "plt.plot(years, number_of_females, 'bo')\n",
    "\n",
    "plt.xlabel('Years')\n",
    "plt.ylabel('Number of Nests and Number of Females')\n",
    "\n",
    "plt.xticks(years)\n",
    "\n",
    "plt.title('Number of Females and Number of Nests of Leatherback Sea Turtles from 1984-2004')\n",
    "\n",
    "plt.grid(True)\n",
    "\n",
    "plt.show()\n",
    "\n",
    "print(\"year           number of nests percent increase/decrease\")\n",
    "print(\"--------------------------------------------------------\")\n",
    "print(\"1984-1985                                ~77.4% increase\")\n",
    "print(\"1985-1986                                ~36.4% decrease\")\n",
    "print(\"1986-1987                                 ~1.5% increase\")\n",
    "print(\"1987-1988                                 ~2.5% increase\")\n",
    "print(\"1988-1989                                ~49.5% increase\")\n",
    "print(\"1989-1990                                ~29.5% decrease\")\n",
    "print(\"1990-1991                                ~29.7% decrease\")\n",
    "print(\"1991-1992                                  ~30% decrease\")\n",
    "print(\"1992-1993                                ~39.3% increase\")\n",
    "print(\"1993-1994                                ~35.4% decrease\")\n",
    "print(\"1994-1995                                ~76.8% increase\")\n",
    "print(\"1995-1996                                   ~5% decrease\")\n",
    "print(\"1996-1997                                ~25.9% decrease\")\n",
    "print(\"1997-1998                                 ~1.8% increase\")\n",
    "print(\"1998-1999                                ~22.3% decrease\")\n",
    "print(\"1999-2000                                 ~1.4% decrease\")\n",
    "print(\"2000-2001                                ~1.05% decrease\")\n",
    "print(\"2001-2002                                ~16.3% decrease\")\n",
    "print(\"2002-2003                                 ~7.2% decrease\")\n",
    "\n"
   ]
  },
  {
   "cell_type": "markdown",
   "metadata": {
    "colab_type": "text",
    "id": "jC6vsDyELGTf",
    "slideshow": {
     "slide_type": "fragment"
    }
   },
   "source": [
    "\n",
    "## Problem 2: Fibonacci Numbers and the Golden Ratio (35 points) \n",
    "\n",
    "\n",
    "You just heard two different talks on the topic of Fibonacci numbers and the golden ratio. \n",
    "\n",
    "Write a program that creates a list of the first 50 Fibonacci numbers.\n",
    "\n",
    "Once the numbers are calculated the program should calculate the ratio of the two consecutive numbers for each pair of Fibonacci numbers:\n",
    "\n",
    "$$\\dfrac{\\text{Fibonacci number at position i}}{\\text{Fibonacci number at position i-1}}$$\n",
    "\n",
    "--\n",
    "\n",
    "The __golden ratio__ can be calculated using the following formula:\n",
    "\n",
    "$$\\dfrac{1 + \\sqrt{5}}{2} $$\n",
    "\n",
    "Compare the value of the golden ratio to the values obtained by calculating the ratios of consecutive Fibonacci numbers. \n",
    "\n",
    "\n",
    "\n",
    "Create a CODE cell below to write your program. Your answers should be in a TEXT cell or in the comments in the program. "
   ]
  },
  {
   "cell_type": "code",
   "execution_count": 3,
   "metadata": {
    "colab": {
     "base_uri": "https://localhost:8080/",
     "height": 33
    },
    "colab_type": "code",
    "id": "2wSAjnqUjGhn",
    "outputId": "4c0f8bf6-0d3d-44fc-d3a9-84b1d0a8e376"
   },
   "outputs": [
    {
     "name": "stdout",
     "output_type": "stream",
     "text": [
      "\n"
     ]
    }
   ],
   "source": [
    "num = 0\n",
    "\n",
    "while num > 1 :\n",
    "  fib(n) + fib(n-1) + fib(n-2)\n",
    "  fib.append (fib[i-1] + fib[i-2])\n",
    "\n",
    "print ()\n"
   ]
  },
  {
   "cell_type": "markdown",
   "metadata": {
    "colab_type": "text",
    "id": "z1zUdHqULGTh",
    "slideshow": {
     "slide_type": "slide"
    }
   },
   "source": [
    "## Problem 3: Subway Fares in NYC (35 points) \n",
    "\n",
    "\n",
    "The Wikipedia has an article that shows the history of the transit fares in NYC. The part of the article that talks about subway fares is titled [Subway and local buses](https://en.wikipedia.org/wiki/New_York_City_transit_fares#Subway_and_local_buses). You will need the data provided in that section to complete this problem. \n",
    "\n",
    "You will also need the [Inflation Calculator](https://www.bls.gov/data/inflation_calculator.htm) that we used at the beginning of the semester. \n",
    "\n",
    "Complete the following tasks in the CODE cells and TEXT cells below this problem description.\n",
    "\n",
    "- Plot the history of subway fares from 1905 to 2018. Make sure that your plot includes ALL the years, not just the years of the fare increase. For example, the fare was 5 cents from 1905 to 1948, this means that your plot should have a flat line for these years and then the increase in 1948 to 10 cents. \n",
    "\n",
    "- Use the inflation calculator to figure out what the price of a subway fare should be, if the only increases followed the inflation rate. (The calculator starts at 1913, not 1905, so use that year as a starting point.) \n",
    "\n",
    "- For each of the fare increases, calculate the percentage increase over the previous fare. Show a table containing the year of the increase and the percentage increase that was applied. (Read through your results to verify that they do make sense.) \n",
    "\n",
    "Note: for all the fares use the _base fare_. \n",
    "\n"
   ]
  },
  {
   "cell_type": "code",
   "execution_count": 4,
   "metadata": {
    "colab": {
     "base_uri": "https://localhost:8080/",
     "height": 1265
    },
    "colab_type": "code",
    "id": "yxnh-aOILGTh",
    "outputId": "73d42afb-4b9d-439d-8513-d8c1340d3759"
   },
   "outputs": [
    {
     "ename": "ValueError",
     "evalue": "x and y must have same first dimension, but have shapes (113,) and (18,)",
     "output_type": "error",
     "traceback": [
      "\u001b[0;31m---------------------------------------------------------------------------\u001b[0m",
      "\u001b[0;31mValueError\u001b[0m                                Traceback (most recent call last)",
      "\u001b[0;32m<ipython-input-4-f8b3a84d6624>\u001b[0m in \u001b[0;36m<module>\u001b[0;34m()\u001b[0m\n\u001b[1;32m      4\u001b[0m \u001b[0mmetro_price\u001b[0m \u001b[0;34m=\u001b[0m \u001b[0;34m[\u001b[0m\u001b[0;36m0.05\u001b[0m\u001b[0;34m,\u001b[0m\u001b[0;36m0.10\u001b[0m\u001b[0;34m,\u001b[0m\u001b[0;36m0.15\u001b[0m\u001b[0;34m,\u001b[0m\u001b[0;36m0.20\u001b[0m\u001b[0;34m,\u001b[0m\u001b[0;36m0.30\u001b[0m\u001b[0;34m,\u001b[0m\u001b[0;36m0.35\u001b[0m\u001b[0;34m,\u001b[0m\u001b[0;36m0.50\u001b[0m\u001b[0;34m,\u001b[0m\u001b[0;36m0.60\u001b[0m\u001b[0;34m,\u001b[0m\u001b[0;36m0.75\u001b[0m\u001b[0;34m,\u001b[0m\u001b[0;36m0.90\u001b[0m\u001b[0;34m,\u001b[0m\u001b[0;36m1.00\u001b[0m\u001b[0;34m,\u001b[0m\u001b[0;36m1.15\u001b[0m\u001b[0;34m,\u001b[0m\u001b[0;36m1.25\u001b[0m\u001b[0;34m,\u001b[0m\u001b[0;36m1.50\u001b[0m\u001b[0;34m,\u001b[0m\u001b[0;36m2.00\u001b[0m\u001b[0;34m,\u001b[0m\u001b[0;36m2.25\u001b[0m\u001b[0;34m,\u001b[0m\u001b[0;36m2.50\u001b[0m\u001b[0;34m,\u001b[0m\u001b[0;36m2.75\u001b[0m\u001b[0;34m]\u001b[0m\u001b[0;34m\u001b[0m\u001b[0m\n\u001b[1;32m      5\u001b[0m \u001b[0;34m\u001b[0m\u001b[0m\n\u001b[0;32m----> 6\u001b[0;31m \u001b[0mplt\u001b[0m\u001b[0;34m.\u001b[0m\u001b[0mplot\u001b[0m\u001b[0;34m(\u001b[0m\u001b[0myears\u001b[0m\u001b[0;34m,\u001b[0m \u001b[0mmetro_price\u001b[0m\u001b[0;34m,\u001b[0m \u001b[0;34m'r'\u001b[0m\u001b[0;34m)\u001b[0m\u001b[0;34m\u001b[0m\u001b[0m\n\u001b[0m\u001b[1;32m      7\u001b[0m \u001b[0mplt\u001b[0m\u001b[0;34m.\u001b[0m\u001b[0mplot\u001b[0m\u001b[0;34m(\u001b[0m\u001b[0myears\u001b[0m\u001b[0;34m,\u001b[0m \u001b[0mmetro_price\u001b[0m\u001b[0;34m,\u001b[0m \u001b[0;34m'ro'\u001b[0m\u001b[0;34m)\u001b[0m\u001b[0;34m\u001b[0m\u001b[0m\n\u001b[1;32m      8\u001b[0m \u001b[0;34m\u001b[0m\u001b[0m\n",
      "\u001b[0;32m/opt/anaconda3/lib/python3.6/site-packages/matplotlib/pyplot.py\u001b[0m in \u001b[0;36mplot\u001b[0;34m(*args, **kwargs)\u001b[0m\n\u001b[1;32m   3356\u001b[0m                       mplDeprecation)\n\u001b[1;32m   3357\u001b[0m     \u001b[0;32mtry\u001b[0m\u001b[0;34m:\u001b[0m\u001b[0;34m\u001b[0m\u001b[0m\n\u001b[0;32m-> 3358\u001b[0;31m         \u001b[0mret\u001b[0m \u001b[0;34m=\u001b[0m \u001b[0max\u001b[0m\u001b[0;34m.\u001b[0m\u001b[0mplot\u001b[0m\u001b[0;34m(\u001b[0m\u001b[0;34m*\u001b[0m\u001b[0margs\u001b[0m\u001b[0;34m,\u001b[0m \u001b[0;34m**\u001b[0m\u001b[0mkwargs\u001b[0m\u001b[0;34m)\u001b[0m\u001b[0;34m\u001b[0m\u001b[0m\n\u001b[0m\u001b[1;32m   3359\u001b[0m     \u001b[0;32mfinally\u001b[0m\u001b[0;34m:\u001b[0m\u001b[0;34m\u001b[0m\u001b[0m\n\u001b[1;32m   3360\u001b[0m         \u001b[0max\u001b[0m\u001b[0;34m.\u001b[0m\u001b[0m_hold\u001b[0m \u001b[0;34m=\u001b[0m \u001b[0mwashold\u001b[0m\u001b[0;34m\u001b[0m\u001b[0m\n",
      "\u001b[0;32m/opt/anaconda3/lib/python3.6/site-packages/matplotlib/__init__.py\u001b[0m in \u001b[0;36minner\u001b[0;34m(ax, *args, **kwargs)\u001b[0m\n\u001b[1;32m   1853\u001b[0m                         \u001b[0;34m\"the Matplotlib list!)\"\u001b[0m \u001b[0;34m%\u001b[0m \u001b[0;34m(\u001b[0m\u001b[0mlabel_namer\u001b[0m\u001b[0;34m,\u001b[0m \u001b[0mfunc\u001b[0m\u001b[0;34m.\u001b[0m\u001b[0m__name__\u001b[0m\u001b[0;34m)\u001b[0m\u001b[0;34m,\u001b[0m\u001b[0;34m\u001b[0m\u001b[0m\n\u001b[1;32m   1854\u001b[0m                         RuntimeWarning, stacklevel=2)\n\u001b[0;32m-> 1855\u001b[0;31m             \u001b[0;32mreturn\u001b[0m \u001b[0mfunc\u001b[0m\u001b[0;34m(\u001b[0m\u001b[0max\u001b[0m\u001b[0;34m,\u001b[0m \u001b[0;34m*\u001b[0m\u001b[0margs\u001b[0m\u001b[0;34m,\u001b[0m \u001b[0;34m**\u001b[0m\u001b[0mkwargs\u001b[0m\u001b[0;34m)\u001b[0m\u001b[0;34m\u001b[0m\u001b[0m\n\u001b[0m\u001b[1;32m   1856\u001b[0m \u001b[0;34m\u001b[0m\u001b[0m\n\u001b[1;32m   1857\u001b[0m         inner.__doc__ = _add_data_doc(inner.__doc__,\n",
      "\u001b[0;32m/opt/anaconda3/lib/python3.6/site-packages/matplotlib/axes/_axes.py\u001b[0m in \u001b[0;36mplot\u001b[0;34m(self, *args, **kwargs)\u001b[0m\n\u001b[1;32m   1525\u001b[0m         \u001b[0mkwargs\u001b[0m \u001b[0;34m=\u001b[0m \u001b[0mcbook\u001b[0m\u001b[0;34m.\u001b[0m\u001b[0mnormalize_kwargs\u001b[0m\u001b[0;34m(\u001b[0m\u001b[0mkwargs\u001b[0m\u001b[0;34m,\u001b[0m \u001b[0m_alias_map\u001b[0m\u001b[0;34m)\u001b[0m\u001b[0;34m\u001b[0m\u001b[0m\n\u001b[1;32m   1526\u001b[0m \u001b[0;34m\u001b[0m\u001b[0m\n\u001b[0;32m-> 1527\u001b[0;31m         \u001b[0;32mfor\u001b[0m \u001b[0mline\u001b[0m \u001b[0;32min\u001b[0m \u001b[0mself\u001b[0m\u001b[0;34m.\u001b[0m\u001b[0m_get_lines\u001b[0m\u001b[0;34m(\u001b[0m\u001b[0;34m*\u001b[0m\u001b[0margs\u001b[0m\u001b[0;34m,\u001b[0m \u001b[0;34m**\u001b[0m\u001b[0mkwargs\u001b[0m\u001b[0;34m)\u001b[0m\u001b[0;34m:\u001b[0m\u001b[0;34m\u001b[0m\u001b[0m\n\u001b[0m\u001b[1;32m   1528\u001b[0m             \u001b[0mself\u001b[0m\u001b[0;34m.\u001b[0m\u001b[0madd_line\u001b[0m\u001b[0;34m(\u001b[0m\u001b[0mline\u001b[0m\u001b[0;34m)\u001b[0m\u001b[0;34m\u001b[0m\u001b[0m\n\u001b[1;32m   1529\u001b[0m             \u001b[0mlines\u001b[0m\u001b[0;34m.\u001b[0m\u001b[0mappend\u001b[0m\u001b[0;34m(\u001b[0m\u001b[0mline\u001b[0m\u001b[0;34m)\u001b[0m\u001b[0;34m\u001b[0m\u001b[0m\n",
      "\u001b[0;32m/opt/anaconda3/lib/python3.6/site-packages/matplotlib/axes/_base.py\u001b[0m in \u001b[0;36m_grab_next_args\u001b[0;34m(self, *args, **kwargs)\u001b[0m\n\u001b[1;32m    404\u001b[0m                 \u001b[0mthis\u001b[0m \u001b[0;34m+=\u001b[0m \u001b[0margs\u001b[0m\u001b[0;34m[\u001b[0m\u001b[0;36m0\u001b[0m\u001b[0;34m]\u001b[0m\u001b[0;34m,\u001b[0m\u001b[0;34m\u001b[0m\u001b[0m\n\u001b[1;32m    405\u001b[0m                 \u001b[0margs\u001b[0m \u001b[0;34m=\u001b[0m \u001b[0margs\u001b[0m\u001b[0;34m[\u001b[0m\u001b[0;36m1\u001b[0m\u001b[0;34m:\u001b[0m\u001b[0;34m]\u001b[0m\u001b[0;34m\u001b[0m\u001b[0m\n\u001b[0;32m--> 406\u001b[0;31m             \u001b[0;32mfor\u001b[0m \u001b[0mseg\u001b[0m \u001b[0;32min\u001b[0m \u001b[0mself\u001b[0m\u001b[0;34m.\u001b[0m\u001b[0m_plot_args\u001b[0m\u001b[0;34m(\u001b[0m\u001b[0mthis\u001b[0m\u001b[0;34m,\u001b[0m \u001b[0mkwargs\u001b[0m\u001b[0;34m)\u001b[0m\u001b[0;34m:\u001b[0m\u001b[0;34m\u001b[0m\u001b[0m\n\u001b[0m\u001b[1;32m    407\u001b[0m                 \u001b[0;32myield\u001b[0m \u001b[0mseg\u001b[0m\u001b[0;34m\u001b[0m\u001b[0m\n\u001b[1;32m    408\u001b[0m \u001b[0;34m\u001b[0m\u001b[0m\n",
      "\u001b[0;32m/opt/anaconda3/lib/python3.6/site-packages/matplotlib/axes/_base.py\u001b[0m in \u001b[0;36m_plot_args\u001b[0;34m(self, tup, kwargs)\u001b[0m\n\u001b[1;32m    381\u001b[0m             \u001b[0mx\u001b[0m\u001b[0;34m,\u001b[0m \u001b[0my\u001b[0m \u001b[0;34m=\u001b[0m \u001b[0mindex_of\u001b[0m\u001b[0;34m(\u001b[0m\u001b[0mtup\u001b[0m\u001b[0;34m[\u001b[0m\u001b[0;34m-\u001b[0m\u001b[0;36m1\u001b[0m\u001b[0;34m]\u001b[0m\u001b[0;34m)\u001b[0m\u001b[0;34m\u001b[0m\u001b[0m\n\u001b[1;32m    382\u001b[0m \u001b[0;34m\u001b[0m\u001b[0m\n\u001b[0;32m--> 383\u001b[0;31m         \u001b[0mx\u001b[0m\u001b[0;34m,\u001b[0m \u001b[0my\u001b[0m \u001b[0;34m=\u001b[0m \u001b[0mself\u001b[0m\u001b[0;34m.\u001b[0m\u001b[0m_xy_from_xy\u001b[0m\u001b[0;34m(\u001b[0m\u001b[0mx\u001b[0m\u001b[0;34m,\u001b[0m \u001b[0my\u001b[0m\u001b[0;34m)\u001b[0m\u001b[0;34m\u001b[0m\u001b[0m\n\u001b[0m\u001b[1;32m    384\u001b[0m \u001b[0;34m\u001b[0m\u001b[0m\n\u001b[1;32m    385\u001b[0m         \u001b[0;32mif\u001b[0m \u001b[0mself\u001b[0m\u001b[0;34m.\u001b[0m\u001b[0mcommand\u001b[0m \u001b[0;34m==\u001b[0m \u001b[0;34m'plot'\u001b[0m\u001b[0;34m:\u001b[0m\u001b[0;34m\u001b[0m\u001b[0m\n",
      "\u001b[0;32m/opt/anaconda3/lib/python3.6/site-packages/matplotlib/axes/_base.py\u001b[0m in \u001b[0;36m_xy_from_xy\u001b[0;34m(self, x, y)\u001b[0m\n\u001b[1;32m    240\u001b[0m         \u001b[0;32mif\u001b[0m \u001b[0mx\u001b[0m\u001b[0;34m.\u001b[0m\u001b[0mshape\u001b[0m\u001b[0;34m[\u001b[0m\u001b[0;36m0\u001b[0m\u001b[0;34m]\u001b[0m \u001b[0;34m!=\u001b[0m \u001b[0my\u001b[0m\u001b[0;34m.\u001b[0m\u001b[0mshape\u001b[0m\u001b[0;34m[\u001b[0m\u001b[0;36m0\u001b[0m\u001b[0;34m]\u001b[0m\u001b[0;34m:\u001b[0m\u001b[0;34m\u001b[0m\u001b[0m\n\u001b[1;32m    241\u001b[0m             raise ValueError(\"x and y must have same first dimension, but \"\n\u001b[0;32m--> 242\u001b[0;31m                              \"have shapes {} and {}\".format(x.shape, y.shape))\n\u001b[0m\u001b[1;32m    243\u001b[0m         \u001b[0;32mif\u001b[0m \u001b[0mx\u001b[0m\u001b[0;34m.\u001b[0m\u001b[0mndim\u001b[0m \u001b[0;34m>\u001b[0m \u001b[0;36m2\u001b[0m \u001b[0;32mor\u001b[0m \u001b[0my\u001b[0m\u001b[0;34m.\u001b[0m\u001b[0mndim\u001b[0m \u001b[0;34m>\u001b[0m \u001b[0;36m2\u001b[0m\u001b[0;34m:\u001b[0m\u001b[0;34m\u001b[0m\u001b[0m\n\u001b[1;32m    244\u001b[0m             raise ValueError(\"x and y can be no greater than 2-D, but have \"\n",
      "\u001b[0;31mValueError\u001b[0m: x and y must have same first dimension, but have shapes (113,) and (18,)"
     ]
    },
    {
     "data": {
      "image/png": "[encoded data removed]",
      "text/plain": [
       "<Figure size 432x288 with 1 Axes>"
      ]
     },
     "metadata": {},
     "output_type": "display_data"
    }
   ],
   "source": [
    "import matplotlib.pyplot as plt\n",
    "\n",
    "years = range(1905,2018)\n",
    "metro_price = [0.05,0.10,0.15,0.20,0.30,0.35,0.50,0.60,0.75,0.90,1.00,1.15,1.25,1.50,2.00,2.25,2.50,2.75]\n",
    "\n",
    "plt.plot(years, metro_price, 'r') \n",
    "plt.plot(years, metro_price, 'ro') \n",
    "\n",
    "plt.xlabel('Year')\n",
    "plt.ylabel('Subway Fare')\n",
    "\n",
    "plt.xticks(months, ('1905', '1948', '1953', '1966', '1970', '1971', '1972', '1975', '1980', '1981', '1984', '1986', '1990', '1992', '1995', '2003', '2009', '2010', '2013', '2015', '2018',) )\n",
    "\n",
    "plt.title('Subway Fare Increase Over Time in New York City')\n",
    "\n",
    "plt.grid(True)\n",
    "\n",
    "plt.show()"
   ]
  },
  {
   "cell_type": "markdown",
   "metadata": {
    "colab_type": "text",
    "id": "wa6eutgnhDW0"
   },
   "source": [
    "SUBWAY FARE THEN VS VALUE IN 2018 DOLLARS\n",
    "\n",
    "*   $0.05 (1913 – July 1, 1948)- in 2018 dollars: ~$1.29\n",
    "$0.10 (July 1, 1948 – July 1, 1953)  in 2018 dollars: ~$1.03\n",
    "$0.15 (July 2, 1953 – July 5, 1966) in 2018 dollars: ~$1.41\n",
    "$0.20 (July 5, 1966 – January 3, 1970) in 2018 dollars: ~$1.55\n",
    "$0.30 (January 4, 1970 – December 31, 1971) in 2018 dollars: ~$1.94\n",
    "$0.35 (January 1, 1972 – August 31, 1975) in 2018 dollars: ~$2.15\n",
    "$0.50 (September 2, 1975 – June 27, 1980) in 2018 dollars: ~$2.42\n",
    "$0.60 (June 28, 1980 – July 2, 1981) in 2018 dollars: ~$1.83\n",
    "$0.75 (July 3, 1981– January 1, 1984) in 2018 dollars: ~$2.06\n",
    "$0.90 (January 2, 1984 – December 31, 1985) in 2018 dollars: ~$2.23\n",
    "$1.00 (January 1, 1986 – December 31, 1989) in 2018 dollars: ~$2.30\n",
    "$1.15 (January 1, 1990 – December 31, 1991) in 2018 dollars: ~$2.28\n",
    "$1.25 (January 1, 1992 – November 11, 1995) in 2018 dollars: ~$2.28\n",
    "$1.50 (November 12, 1995 – May 3, 2003) in 2018 dollars: ~$2.52\n",
    "$2.00 (May 4, 2003 – June 27, 2009) in 2018 dollars: ~$2.77\n",
    "$2.25 (June 28, 2009 – March 2, 2013) in 2018 dollars: ~$2.69\n",
    "$2.50 base fare (March 3, 2013 – March 21, 2015) in 2018 dollars: ~$2.71\n",
    "$2.75 base fare (March 22, 2015 – present) in 2018 dollars: ~$2.75\n",
    "\n",
    "\n",
    "1947-1948: FARE INCREASE: 100%\n",
    "1952-1953: FARE INCREASE: 50%\n",
    "1965-1966: FARE INCREASE: 33.3%\n",
    "1969-1970: FARE INCREASE: 50%\n",
    "1971-1972:  FARE INCREASE: 16.7% \n",
    "1974-1975: FARE INCREASE: 71.4%\n",
    "1979-1980: FARE INCREASE: 20%\n",
    "1980-1981: FARE INCREASE: 25%\n",
    "1983-1984: FARE INCREASE: 20%\n",
    "1985-1986: FARE INCREASE: 12.1%\n",
    "1989-1990: FARE INCREASE: 15% \n",
    "1991-1992: FARE INCREASE: 14.6%\n",
    "1994-1995: FARE INCREASE: 20%\n",
    "2002-2003: FARE INCREASE: 33.3%\n",
    "2008-2009: FARE INCREASE: 12.5%\n",
    "2012-2013: FARE INCREASE: 11.1%\n",
    "2015-now: FARE INCREASE: 10% "
   ]
  },
  {
   "cell_type": "code",
   "execution_count": 5,
   "metadata": {
    "colab": {
     "base_uri": "https://localhost:8080/",
     "height": 334
    },
    "colab_type": "code",
    "id": "XYvihn-NqK8O",
    "outputId": "c63d6013-ee50-4c1c-8c59-38d178c7a83f"
   },
   "outputs": [
    {
     "name": "stdout",
     "output_type": "stream",
     "text": [
      "year                  fare increase\n",
      "------------------------------------\n",
      "1947-1948                       100%\n",
      "1952-1953                        50%\n",
      "1965-1966                      33.3%\n",
      "1969-1970                        50%\n",
      "1971-1972                      16.7%\n",
      "1974-1975                      71.4%\n",
      "1979-1980                        20%\n",
      "1980-1981                        25%\n",
      "1983-1984                        20%\n",
      "1985-1986                      12.1%\n",
      "1989-1990                        15%\n",
      "1991-1992                      14.6%\n",
      "1994-1995                        20%\n",
      "2002-2003                      33.3%\n",
      "2008-2009                      12.5%\n",
      "2012-2013                      11.1%\n",
      "20015-now                        10%\n"
     ]
    }
   ],
   "source": [
    "print (\"year                  fare increase\")\n",
    "print(\"------------------------------------\")\n",
    "print(\"1947-1948                       100%\")\n",
    "print(\"1952-1953                        50%\")\n",
    "print(\"1965-1966                      33.3%\")\n",
    "print(\"1969-1970                        50%\")\n",
    "print(\"1971-1972                      16.7%\")\n",
    "print(\"1974-1975                      71.4%\")\n",
    "print(\"1979-1980                        20%\")\n",
    "print(\"1980-1981                        25%\")\n",
    "print(\"1983-1984                        20%\")\n",
    "print(\"1985-1986                      12.1%\")\n",
    "print(\"1989-1990                        15%\")\n",
    "print(\"1991-1992                      14.6%\")\n",
    "print(\"1994-1995                        20%\")\n",
    "print(\"2002-2003                      33.3%\")\n",
    "print(\"2008-2009                      12.5%\")\n",
    "print(\"2012-2013                      11.1%\")\n",
    "print(\"20015-now                        10%\")"
   ]
  },
  {
   "cell_type": "code",
   "execution_count": null,
   "metadata": {},
   "outputs": [],
   "source": []
  }
 ],
 "metadata": {
  "colab": {
   "collapsed_sections": [],
   "name": "Lab11 Annabelle Tocco.ipynb",
   "provenance": [],
   "version": "0.3.2"
  },
  "kernelspec": {
   "display_name": "Python 3",
   "language": "python",
   "name": "python3"
  },
  "language_info": {
   "codemirror_mode": {
    "name": "ipython",
    "version": 3
   },
   "file_extension": ".py",
   "mimetype": "text/x-python",
   "name": "python",
   "nbconvert_exporter": "python",
   "pygments_lexer": "ipython3",
   "version": "3.6.5"
  }
 },
 "nbformat": 4,
 "nbformat_minor": 1
}
