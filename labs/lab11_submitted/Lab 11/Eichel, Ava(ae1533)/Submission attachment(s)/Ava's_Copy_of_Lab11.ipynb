{
 "cells": [
  {
   "cell_type": "markdown",
   "metadata": {
    "colab_type": "text",
    "id": "64l90qJlp0j2"
   },
   "source": [
    "# Lab 11 (due Dec. 12)"
   ]
  },
  {
   "cell_type": "markdown",
   "metadata": {
    "colab_type": "text",
    "id": "_qhz2nF4oWN2"
   },
   "source": [
    "**Eichel, Ava**\n",
    "\n",
    "**ae1533**\n",
    "\n",
    "Double click this text cell to edit it. Replace the lines above with your own name and netID.   \n",
    "\n",
    "Press `Shift` + `Enter` to exit editing mode. "
   ]
  },
  {
   "cell_type": "markdown",
   "metadata": {
    "colab_type": "text",
    "id": "A_knrGcWFlVf",
    "slideshow": {
     "slide_type": "slide"
    }
   },
   "source": [
    "## Problem 1: Leatherback Sea Turtles Population (30 points) \n",
    "\n",
    "\n",
    "Leatherback Sea Turtle population is declining due to many reasons. The paper published in 2013 [Long‐term decline of the western Pacific leatherback, Dermochelys coriacea: a globally important sea turtle population](https://esajournals.onlinelibrary.wiley.com/doi/full/10.1890/ES12-00348.1#i2150-8925-4-2-art25-Hitipeuw1) contains information about the estimated counts of nests and female leatherbacks in Jamursba Medi.\n",
    "Your job for this problem is to use this data to calculate a few things:\n",
    "- The female turtles lay eggs in multiple nests. What is the approximate number of nests in which a single female lays eggs? How did you estimate this? \n",
    "- What is the percentage by which the number of nests differs in each year from the previous year (assume that the previous year is 100%, calculate the percentage increase/decrease for the next year)? Write a program that shows the table.\n",
    "What is the average percentage change? Is it a decrease or increase on average? Explain how you calculated it. \n",
    "- Plot the number of nests and number of females as a function of years (years on the horizontal axis). Both should be included in a single plot. \n",
    "\n",
    "\n",
    "For each of the questions, provide the program that answers it, but also use a text cell (or comments in the program) to actually answer the question. \n",
    "\n",
    "\n",
    "\n",
    "Use the CODE cell below to continue with your program. "
   ]
  },
  {
   "cell_type": "code",
   "execution_count": 5,
   "metadata": {
    "colab": {
     "base_uri": "https://localhost:8080/",
     "height": 435
    },
    "colab_type": "code",
    "id": "pjrk-xBcLGTb",
    "outputId": "f6d4959d-06d5-43d8-c0f3-f491c2e3be66"
   },
   "outputs": [
    {
     "name": "stdout",
     "output_type": "stream",
     "text": [
      "the approximate number of nests per female is 5.500286820593718\n",
      "average percent change: 96.10584980742297\n",
      "year                percent change from previous year\n",
      "[1984, 1985, 1986, 1987, 1988, 1989, 1990, 1991, 1992, 1993, 1994, 1995, 1996, 1997, 1998, 1999, 2000, 2001, 2002, 2003]               [22.455584630216226, 136.3998773382398, 101.55125899280574, 102.5680761567412, 149.55752212389382, 70.41420118343196, 70.28079524492725, 69.4954797317002, 139.36214855224506, 64.5287563986751, 176.85487634157724, 94.90765171503958, 73.0052821795941, 101.82787509520183, 78.79581151832461, 98.57617465590887, 98.94077997111218, 83.69829683698296, 92.79069767441861]\n"
     ]
    },
    {
     "data": {
      "image/png": "[encoded data removed]",
      "text/plain": [
       "<Figure size 432x288 with 1 Axes>"
      ]
     },
     "metadata": {},
     "output_type": "display_data"
    }
   ],
   "source": [
    "number_of_nests = [14522, 3261, 4448, 4517, 4633, 6929, 4879, 3429,2383,3321,\\\n",
    "                   2143,3790,3597,2626,2674,2107,2077,2055,1720,1596]\n",
    "number_of_females = [2640,593,809,821,842,1260,887,623,433,604,390,689,654,477,\\\n",
    "                     486,383,378,374,313,290]\n",
    "years = list(range(1984,2004))\n",
    "yearsforpercent= list(range(1985,2004))\n",
    "\n",
    "#problem 1\n",
    "nest_total=sum(number_of_nests)\n",
    "female_total=sum(number_of_females)\n",
    "print (\"the approximate number of nests per female is\", nest_total/female_total)\n",
    "\n",
    "#problem 2 100*current year/previous year\n",
    "year1= 100*(3261/14522)\n",
    "year2= 100*(4448/3261)\n",
    "year3= 100*(4517/4448)\n",
    "year4= 100*(4633/4517)\n",
    "year5= 100*(6929/4633)\n",
    "year6= 100*(4879/6929)\n",
    "year7= 100*(3429/4879)\n",
    "year8= 100*(2383/3429)\n",
    "year9= 100*(3321/2383)\n",
    "year10= 100*(2143/3321)\n",
    "year11= 100*(3790/2143)\n",
    "year12= 100*(3597/3790)\n",
    "year13= 100*(2626/3597)\n",
    "year14= 100*(2674/2626)\n",
    "year15= 100*(2107/2674)\n",
    "year16= 100*(2077/2107)\n",
    "year17= 100*(2055/2077)\n",
    "year18= 100*(1720/2055)\n",
    "year19= 100*(1596/1720)\n",
    "\n",
    "percent_change=[year1,year2,year3,year4,year5,year6,year7,year8,year9,year10,year11,year12,year13,year14,year15,year16,year17,year18,year19]\n",
    "percentsum= sum(percent_change)\n",
    "print (\"average percent change:\",percentsum/len(percent_change))\n",
    "#average calculated by taking total of percent changes and dividing it by number of years\n",
    "\n",
    "print(\"year                percent change from previous year\")\n",
    "print(years,\"             \",percent_change)\n",
    "\n",
    "\n",
    "#problem 3\n",
    "import numpy as np\n",
    "import matplotlib.pyplot as plt\n",
    "num_of_points=20\n",
    "plt.plot(years, number_of_nests)\n",
    "plt.plot(years, number_of_females)\n",
    "plt.show()\n"
   ]
  },
  {
   "cell_type": "markdown",
   "metadata": {
    "colab_type": "text",
    "id": "jC6vsDyELGTf",
    "slideshow": {
     "slide_type": "fragment"
    }
   },
   "source": [
    "\n",
    "## Problem 2: Fibonacci Numbers and the Golden Ratio (35 points) \n",
    "\n",
    "\n",
    "You just heard two different talks on the topic of Fibonacci numbers and the golden ratio. \n",
    "\n",
    "Write a program that creates a list of the first 50 Fibonacci numbers.\n",
    "\n",
    "Once the numbers are calculated the program should calculate the ratio of the two consecutive numbers for each pair of Fibonacci numbers:\n",
    "\n",
    "$$\\dfrac{\\text{Fibonacci number at position i}}{\\text{Fibonacci number at position i-1}}$$\n",
    "\n",
    "--\n",
    "\n",
    "The __golden ratio__ can be calculated using the following formula:\n",
    "\n",
    "$$\\dfrac{1 + \\sqrt{5}}{2} $$\n",
    "\n",
    "Compare the value of the golden ratio to the values obtained by calculating the ratios of consecutive Fibonacci numbers. \n",
    "\n",
    "\n",
    "\n",
    "Create a CODE cell below to write your program. Your answers should be in a TEXT cell or in the comments in the program. "
   ]
  },
  {
   "cell_type": "code",
   "execution_count": 6,
   "metadata": {
    "colab": {
     "base_uri": "https://localhost:8080/",
     "height": 269
    },
    "colab_type": "code",
    "id": "3mNGPJdRHQF5",
    "outputId": "a5d85d59-561f-4201-aa73-4ab23284121e"
   },
   "outputs": [
    {
     "name": "stdout",
     "output_type": "stream",
     "text": [
      "[0, 1, 1, 2, 3, 5, 8, 13, 21, 34, 55, 89, 144, 233, 377, 610, 987, 1597, 2584, 4181, 6765, 10946, 17711, 28657, 46368, 75025, 121393, 196418, 317811, 514229, 832040, 1346269, 2178309, 3524578, 5702887, 9227465, 14930352, 24157817, 39088169, 63245986, 102334155, 165580141, 267914296, 433494437, 701408733, 1134903170, 1836311903, 2971215073, 4807526976, 7778742049]\n"
     ]
    },
    {
     "ename": "TypeError",
     "evalue": "'float' object is not subscriptable",
     "output_type": "error",
     "traceback": [
      "\u001b[0;31m---------------------------------------------------------------------------\u001b[0m",
      "\u001b[0;31mTypeError\u001b[0m                                 Traceback (most recent call last)",
      "\u001b[0;32m<ipython-input-6-8dd14fa259d9>\u001b[0m in \u001b[0;36m<module>\u001b[0;34m()\u001b[0m\n\u001b[1;32m      7\u001b[0m \u001b[0;34m\u001b[0m\u001b[0m\n\u001b[1;32m      8\u001b[0m \u001b[0;32mfor\u001b[0m \u001b[0mc\u001b[0m \u001b[0;32min\u001b[0m \u001b[0mrange\u001b[0m \u001b[0;34m(\u001b[0m\u001b[0;36m2\u001b[0m\u001b[0;34m,\u001b[0m\u001b[0;36m50\u001b[0m\u001b[0;34m)\u001b[0m\u001b[0;34m:\u001b[0m\u001b[0;34m\u001b[0m\u001b[0m\n\u001b[0;32m----> 9\u001b[0;31m   \u001b[0mfib\u001b[0m\u001b[0;34m=\u001b[0m\u001b[0mfib\u001b[0m\u001b[0;34m[\u001b[0m\u001b[0mc\u001b[0m\u001b[0;34m+\u001b[0m\u001b[0;36m1\u001b[0m\u001b[0;34m]\u001b[0m\u001b[0;34m/\u001b[0m\u001b[0mfib\u001b[0m\u001b[0;34m[\u001b[0m\u001b[0mc\u001b[0m\u001b[0;34m]\u001b[0m\u001b[0;34m\u001b[0m\u001b[0m\n\u001b[0m\u001b[1;32m     10\u001b[0m \u001b[0mprint\u001b[0m\u001b[0;34m(\u001b[0m\u001b[0mfib\u001b[0m\u001b[0;34m)\u001b[0m\u001b[0;34m\u001b[0m\u001b[0m\n\u001b[1;32m     11\u001b[0m \u001b[0;34m\u001b[0m\u001b[0m\n",
      "\u001b[0;31mTypeError\u001b[0m: 'float' object is not subscriptable"
     ]
    }
   ],
   "source": [
    "fib=[0,1]\n",
    "\n",
    "for i in range (2,50):\n",
    " fib.append(fib[i-1]+fib[i-2])\n",
    "print (fib)\n",
    "\n",
    "\n",
    "for c in range (2,50):\n",
    "  fib=fib[c+1]/fib[c]\n",
    "print(fib)\n",
    "\n",
    "  \n",
    "#as the numbers get larger in the fibonacci sequence, the ratio of num/previous num gets closer to the golden ratio (1.618...)\n",
    "  "
   ]
  },
  {
   "cell_type": "markdown",
   "metadata": {
    "colab_type": "text",
    "id": "z1zUdHqULGTh",
    "slideshow": {
     "slide_type": "slide"
    }
   },
   "source": [
    "## Problem 3: Subway Fares in NYC (35 points) \n",
    "\n",
    "\n",
    "The Wikipedia has an article that shows the history of the transit fares in NYC. The part of the article that talks about subway fares is titled [Subway and local buses](https://en.wikipedia.org/wiki/New_York_City_transit_fares#Subway_and_local_buses). You will need the data provided in that section to complete this problem. \n",
    "\n",
    "You will also need the [Inflation Calculator](https://www.bls.gov/data/inflation_calculator.htm) that we used at the beginning of the semester. \n",
    "\n",
    "Complete the following tasks in the CODE cells and TEXT cells below this problem description.\n",
    "\n",
    "- Plot the history of subway fares from 1905 to 2018. Make sure that your plot includes ALL the years, not just the years of the fare increase. For example, the fare was 5 cents from 1905 to 1948, this means that your plot should have a flat line for these years and then the increase in 1948 to 10 cents. \n",
    "\n",
    "- Use the inflation calculator to figure out what the price of a subway fare should be, if the only increases followed the inflation rate. (The calculator starts at 1913, not 1905, so use that year as a starting point.) \n",
    "\n",
    "- For each of the fare increases, calculate the percentage increase over the previous fare. Show a table containing the year of the increase and the percentage increase that was applied. (Read through your results to verify that they do make sense.) \n",
    "\n",
    "Note: for all the fares use the _base fare_. \n",
    "\n"
   ]
  },
  {
   "cell_type": "code",
   "execution_count": 4,
   "metadata": {
    "colab": {
     "base_uri": "https://localhost:8080/",
     "height": 942
    },
    "colab_type": "code",
    "id": "yxnh-aOILGTh",
    "outputId": "0c783a19-57fa-406e-cd49-9e6e25b823b3"
   },
   "outputs": [
    {
     "data": {
      "image/png": "[encoded data removed]",
      "text/plain": [
       "<Figure size 432x288 with 1 Axes>"
      ]
     },
     "metadata": {},
     "output_type": "display_data"
    },
    {
     "name": "stdout",
     "output_type": "stream",
     "text": [
      "in 2018, the fare should be $1.29 according to the CPI inflation calculator.\n",
      "year        percent increase\n",
      "1948\n",
      "1953\n",
      "1966\n",
      "1970\n",
      "1972\n",
      "1975\n",
      "1980\n",
      "1981\n",
      "1984\n",
      "1986\n",
      "1990\n",
      "1992\n",
      "1995\n",
      "2003\n",
      "2009\n",
      "2013\n",
      "2015\n",
      "      50\n",
      "      33\n",
      "      50\n",
      "      17\n",
      "      43\n",
      "      20\n",
      "      25\n",
      "      20\n",
      "      11\n",
      "      0.15\n",
      "      9\n",
      "      20\n",
      "      33\n",
      "      12.5\n",
      "      11\n",
      "      10\n"
     ]
    }
   ],
   "source": [
    "#price*year changes-first year of new price\n",
    "years=list(range(1905,2018))\n",
    "price=[0.05]*43+[0.10]*5+[0.15]*13+[0.20]*4+[0.30]*2+[0.35]*3+[0.50]*5+[0.60]*2+[0.75]*3+[0.90]*2+[1.00]*3+[1.15]*2+[1.25]*3+[1.50]*8+[2.00]*6+[2.25]*4+[2.50]*2+[2.75]*3\n",
    "\n",
    "import numpy as np\n",
    "import matplotlib.pyplot as plt\n",
    "num_of_points=113\n",
    "plt.plot(years, price)                               \n",
    "plt.show()\n",
    "\n",
    "#what price should be\n",
    "print (\"in 2018, the fare should be $1.29 according to the CPI inflation calculator.\")\n",
    "\n",
    "\n",
    "#percent increase over previous fare\n",
    "years_of_increase=[1948,1953,1966,1970,1972,1975,1980,1981,1984,1986,1990,1992,1995,2003,2009,2013,2015]\n",
    "percent_increase=[50,33,50,17,43,20,25,20,11,0.15,9,20,33,12.5,11,10]\n",
    "\n",
    "\n",
    "print(\"year        percent increase\")\n",
    "for year in years_of_increase:\n",
    "  print(year)\n",
    "for increase in percent_increase:\n",
    "  print(\"     \", increase)"
   ]
  },
  {
   "cell_type": "code",
   "execution_count": null,
   "metadata": {},
   "outputs": [],
   "source": []
  }
 ],
 "metadata": {
  "colab": {
   "collapsed_sections": [],
   "name": "Ava's Copy of Lab11.ipynb",
   "provenance": [],
   "version": "0.3.2"
  },
  "kernelspec": {
   "display_name": "Python 3",
   "language": "python",
   "name": "python3"
  },
  "language_info": {
   "codemirror_mode": {
    "name": "ipython",
    "version": 3
   },
   "file_extension": ".py",
   "mimetype": "text/x-python",
   "name": "python",
   "nbconvert_exporter": "python",
   "pygments_lexer": "ipython3",
   "version": "3.6.5"
  }
 },
 "nbformat": 4,
 "nbformat_minor": 1
}
