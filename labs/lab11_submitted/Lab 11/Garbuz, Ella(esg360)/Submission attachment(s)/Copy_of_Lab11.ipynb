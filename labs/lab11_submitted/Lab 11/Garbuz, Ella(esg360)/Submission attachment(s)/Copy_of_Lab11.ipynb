{
 "cells": [
  {
   "cell_type": "markdown",
   "metadata": {
    "colab_type": "text",
    "id": "64l90qJlp0j2"
   },
   "source": [
    "# Lab 11 (due Dec. 12)"
   ]
  },
  {
   "cell_type": "markdown",
   "metadata": {
    "colab_type": "text",
    "id": "_qhz2nF4oWN2"
   },
   "source": [
    "**Garbuz, Ella**\n",
    "\n",
    "**esg360**\n",
    "\n",
    "Double click this text cell to edit it. Replace the lines above with your own name and netID.   \n",
    "\n",
    "Press `Shift` + `Enter` to exit editing mode. "
   ]
  },
  {
   "cell_type": "markdown",
   "metadata": {
    "colab_type": "text",
    "id": "A_knrGcWFlVf",
    "slideshow": {
     "slide_type": "slide"
    }
   },
   "source": [
    "## Problem 1: Leatherback Sea Turtles Population (30 points) \n",
    "\n",
    "\n",
    "Leatherback Sea Turtle population is declining due to many reasons. The paper published in 2013 [Long‐term decline of the western Pacific leatherback, Dermochelys coriacea: a globally important sea turtle population](https://esajournals.onlinelibrary.wiley.com/doi/full/10.1890/ES12-00348.1#i2150-8925-4-2-art25-Hitipeuw1) contains information about the estimated counts of nests and female leatherbacks in Jamursba Medi.\n",
    "Your job for this problem is to use this data to calculate a few things:\n",
    "- The female turtles lay eggs in multiple nests. What is the approximate number of nests in which a single female lays eggs? How did you estimate this? \n",
    "- What is the percentage by which the number of nests differs in each year from the previous year (assume that the previous year is 100%, calculate the percentage increase/decrease for the next year)? Write a program that shows the table.\n",
    "What is the average percentage change? Is it a decrease or increase on average? Explain how you calculated it. \n",
    "- Plot the number of nests and number of females as a function of years (years on the horizontal axis). Both should be included in a single plot. \n",
    "\n",
    "\n",
    "For each of the questions, provide the program that answers it, but also use a text cell (or comments in the program) to actually answer the question. \n",
    "\n",
    "\n",
    "\n",
    "Use the CODE cell below to continue with your program. "
   ]
  },
  {
   "cell_type": "code",
   "execution_count": 2,
   "metadata": {
    "colab": {},
    "colab_type": "code",
    "id": "pjrk-xBcLGTb"
   },
   "outputs": [
    {
     "name": "stdout",
     "output_type": "stream",
     "text": [
      "[5.500757575757576, 5.499156829679595, 5.49814585908529, 5.501827040194884, 5.502375296912114, 5.499206349206349, 5.500563697857948, 5.504012841091493, 5.503464203233256, 5.498344370860927, 5.494871794871795, 5.500725689404935, 5.5, 5.50524109014675, 5.502057613168724, 5.5013054830287205, 5.494708994708994, 5.494652406417113, 5.49520766773163, 5.503448275862069]\n",
      "[0, -345.32352039251765, 36.399877338239804, 1.5512589928057423, 2.568076156741199, 49.55752212389382, -42.01680672268907, -42.286380869058036, -43.894250944188, 39.36214855224506, -54.96966868875407, 76.85487634157724, -5.3655824298026005, -36.976389946686965, 1.8278750952018328, -26.910299003322265, -1.4443909484833881, -1.0705596107055868, -19.476744186046503, -7.769423558897245]\n",
      "  Years \t Number of Nests\t Percent Increase/Descrease \n",
      "---------------------------------------------------------------------\n",
      "1984 \t \t \t 14522 \t \t \t 0\n",
      "1985 \t \t \t 3261 \t \t \t -345.32352039251765\n",
      "1986 \t \t \t 4448 \t \t \t 36.399877338239804\n",
      "1987 \t \t \t 4517 \t \t \t 1.5512589928057423\n",
      "1988 \t \t \t 4633 \t \t \t 2.568076156741199\n",
      "1989 \t \t \t 6929 \t \t \t 49.55752212389382\n",
      "1990 \t \t \t 4879 \t \t \t -42.01680672268907\n",
      "1991 \t \t \t 3429 \t \t \t -42.286380869058036\n",
      "1992 \t \t \t 2383 \t \t \t -43.894250944188\n",
      "1993 \t \t \t 3321 \t \t \t 39.36214855224506\n",
      "1994 \t \t \t 2143 \t \t \t -54.96966868875407\n",
      "1995 \t \t \t 3790 \t \t \t 76.85487634157724\n",
      "1996 \t \t \t 3597 \t \t \t -5.3655824298026005\n",
      "1997 \t \t \t 2626 \t \t \t -36.976389946686965\n",
      "1998 \t \t \t 2674 \t \t \t 1.8278750952018328\n",
      "1999 \t \t \t 2107 \t \t \t -26.910299003322265\n",
      "2000 \t \t \t 2077 \t \t \t -1.4443909484833881\n",
      "2001 \t \t \t 2055 \t \t \t -1.0705596107055868\n",
      "2002 \t \t \t 1720 \t \t \t -19.476744186046503\n",
      "2003 \t \t \t 1596 \t \t \t -7.769423558897245\n"
     ]
    },
    {
     "data": {
      "image/png": "[encoded data removed]",
      "text/plain": [
       "<Figure size 432x288 with 1 Axes>"
      ]
     },
     "metadata": {},
     "output_type": "display_data"
    }
   ],
   "source": [
    "number_of_nests = [14522, 3261, 4448, 4517, 4633, 6929, 4879, 3429,2383,3321,\\\n",
    "                   2143,3790,3597,2626,2674,2107,2077,2055,1720,1596]\n",
    "number_of_females = [2640,593,809,821,842,1260,887,623,433,604,390,689,654,477,\\\n",
    "                     486,383,378,374,313,290]\n",
    "years = list(range(1984,2004))\n",
    "\n",
    "nests_per_year = []\n",
    "percentage_change = []\n",
    "\n",
    "for i in range(20):\n",
    "  nest_per_year = number_of_nests[i]/number_of_females[i]\n",
    "  nests_per_year += [nest_per_year]\n",
    "  \n",
    "for i in range(20):\n",
    "  if i == 0:\n",
    "    addition = 0\n",
    "  else:\n",
    "    if number_of_nests[i] > number_of_nests[i-1]:\n",
    "      addition = ((number_of_nests[i]/number_of_nests[i-1]) * 100) - 100\n",
    "    else:\n",
    "      addition = ((number_of_nests[i-1]/number_of_nests[i]) * -100) + 100\n",
    "  \n",
    "  percentage_change += [addition]\n",
    "  \n",
    " \n",
    "print(nests_per_year)\n",
    "print(percentage_change)\n",
    "\n",
    "print(\"  Years\", \"\\t\", \"Number of Nests\" \"\\t\", \"Percent Increase/Descrease\", \"\\n\" \"---------------------------------------------------------------------\")\n",
    "#print (years, \"\\t\",  nests_per_year, \"\\t\", percentage_change)\n",
    "\n",
    "for i in range(0, len(years)):\n",
    "  \n",
    "  print(years[i], \"\\t\", \"\\t\", \"\\t\", number_of_nests[i], \"\\t\", \"\\t\", \"\\t\", percentage_change[i] )\n",
    "\n",
    "  \n",
    "\n",
    "import matplotlib.pyplot as plt \n",
    "\n",
    "x = number_of_nests \n",
    "# corresponding y axis values \n",
    "y = number_of_females\n",
    "\n",
    "\n",
    "# plotting points as a scatter plot \n",
    "plt.scatter(x, y, label= \"stars\", color= \"green\",  \n",
    "            marker= \"*\", s=30) \n",
    "\n",
    "# naming the x axis \n",
    "plt.xlabel('Nests') \n",
    "# naming the y axis \n",
    "plt.ylabel('Females') \n",
    "  \n",
    "# giving a title to my graph \n",
    "plt.title('Turtle Females vs. Annual Nest Numbers') \n",
    "  \n",
    "# showing legend \n",
    "plt.legend() \n",
    "  \n",
    "# function to show the plot \n",
    "plt.show() "
   ]
  },
  {
   "cell_type": "markdown",
   "metadata": {
    "colab_type": "text",
    "id": "jC6vsDyELGTf",
    "slideshow": {
     "slide_type": "fragment"
    }
   },
   "source": [
    "\n",
    "## Problem 2: Fibonacci Numbers and the Golden Ratio (35 points) \n",
    "\n",
    "\n",
    "You just heard two different talks on the topic of Fibonacci numbers and the golden ratio. \n",
    "\n",
    "Write a program that creates a list of the first 50 Fibonacci numbers.\n",
    "\n",
    "Once the numbers are calculated the program should calculate the ratio of the two consecutive numbers for each pair of Fibonacci numbers:\n",
    "\n",
    "$$\\dfrac{\\text{Fibonacci number at position i}}{\\text{Fibonacci number at position i-1}}$$\n",
    "\n",
    "--\n",
    "\n",
    "The __golden ratio__ can be calculated using the following formula:\n",
    "\n",
    "$$\\dfrac{1 + \\sqrt{5}}{2} $$\n",
    "\n",
    "Compare the value of the golden ratio to the values obtained by calculating the ratios of consecutive Fibonacci numbers. \n",
    "\n",
    "\n",
    "\n",
    "Create a CODE cell below to write your program. Your answers should be in a TEXT cell or in the comments in the program. "
   ]
  },
  {
   "cell_type": "code",
   "execution_count": 3,
   "metadata": {
    "colab": {},
    "colab_type": "code",
    "id": "efF2cejg4uDm"
   },
   "outputs": [
    {
     "name": "stdout",
     "output_type": "stream",
     "text": [
      "[1, 1, 2, 3, 5, 8, 13, 21, 34, 55, 89, 144, 233, 377, 610, 987, 1597, 2584, 4181, 6765, 10946, 17711, 28657, 46368, 75025, 121393, 196418, 317811, 514229, 832040, 1346269, 2178309, 3524578, 5702887, 9227465, 14930352, 24157817, 39088169, 63245986, 102334155, 165580141, 267914296, 433494437, 701408733, 1134903170, 1836311903, 2971215073, 4807526976, 7778742049, 12586269025]\n",
      "1.0\n",
      "2.0\n",
      "1.5\n",
      "1.6666666666666667\n",
      "1.6\n",
      "1.625\n",
      "1.6153846153846154\n",
      "1.619047619047619\n",
      "1.6176470588235294\n",
      "1.6181818181818182\n",
      "1.6179775280898876\n",
      "1.6180555555555556\n",
      "1.6180257510729614\n",
      "1.6180371352785146\n",
      "1.618032786885246\n",
      "1.618034447821682\n",
      "1.6180338134001253\n",
      "1.618034055727554\n",
      "1.6180339631667064\n",
      "1.6180339985218033\n",
      "1.618033985017358\n",
      "1.6180339901755971\n",
      "1.618033988205325\n",
      "1.618033988957902\n",
      "1.6180339886704431\n",
      "1.6180339887802426\n",
      "1.618033988738303\n",
      "1.6180339887543225\n",
      "1.6180339887482036\n",
      "1.6180339887505408\n",
      "1.6180339887496482\n",
      "1.618033988749989\n",
      "1.618033988749859\n",
      "1.6180339887499087\n",
      "1.6180339887498896\n",
      "1.618033988749897\n",
      "1.618033988749894\n",
      "1.6180339887498951\n",
      "1.6180339887498947\n",
      "1.618033988749895\n",
      "1.618033988749895\n",
      "1.618033988749895\n",
      "1.618033988749895\n",
      "1.618033988749895\n",
      "1.618033988749895\n",
      "1.618033988749895\n",
      "1.618033988749895\n",
      "1.618033988749895\n",
      "1.618033988749895\n"
     ]
    }
   ],
   "source": [
    "fib = [1, 1]\n",
    "ratio= []\n",
    "\n",
    "for i in range (2, 50): \n",
    "  fib.append(fib[i-1] + fib[i-2])\n",
    "print(fib)   \n",
    "  \n",
    "for i in range(1,50):\n",
    "  ratio=(fib[i]/fib[i-1]) \n",
    "  print (ratio)\n",
    " \n",
    " "
   ]
  },
  {
   "cell_type": "markdown",
   "metadata": {
    "colab_type": "text",
    "id": "ynnYdwc1B0Zv"
   },
   "source": [
    "1+√5/ 2 will equal 1.168..... \n",
    "The beginning of the Fibonacci sequence is a ratio of 1, then 2, etc. and eventually stabilizes at the same ratio of the golden ratio. Show a more dramatci change in the beginning and then minimal shifts as it progresses, changing by only a few decimal places. \n"
   ]
  },
  {
   "cell_type": "markdown",
   "metadata": {
    "colab_type": "text",
    "id": "z1zUdHqULGTh",
    "slideshow": {
     "slide_type": "slide"
    }
   },
   "source": [
    "## Problem 3: Subway Fares in NYC (35 points) \n",
    "\n",
    "\n",
    "The Wikipedia has an article that shows the history of the transit fares in NYC. The part of the article that talks about subway fares is titled [Subway and local buses](https://en.wikipedia.org/wiki/New_York_City_transit_fares#Subway_and_local_buses). You will need the data provided in that section to complete this problem. \n",
    "\n",
    "You will also need the [Inflation Calculator](https://www.bls.gov/data/inflation_calculator.htm) that we used at the beginning of the semester. \n",
    "\n",
    "Complete the following tasks in the CODE cells and TEXT cells below this problem description.\n",
    "\n",
    "- Plot the history of subway fares from 1905 to 2018. Make sure that your plot includes ALL the years, not just the years of the fare increase. For example, the fare was 5 cents from 1905 to 1948, this means that your plot should have a flat line for these years and then the increase in 1948 to 10 cents. \n",
    "\n",
    "- Use the inflation calculator to figure out what the price of a subway fare should be, if the only increases followed the inflation rate. (The calculator starts at 1913, not 1905, so use that year as a starting point.) \n",
    "\n",
    "- For each of the fare increases, calculate the percentage increase over the previous fare. Show a table containing the year of the increase and the percentage increase that was applied. (Read through your results to verify that they do make sense.) \n",
    "\n",
    "Note: for all the fares use the _base fare_. \n",
    "\n"
   ]
  },
  {
   "cell_type": "code",
   "execution_count": 4,
   "metadata": {
    "colab": {},
    "colab_type": "code",
    "id": "yxnh-aOILGTh"
   },
   "outputs": [
    {
     "name": "stdout",
     "output_type": "stream",
     "text": [
      "[0, -16.666666666666657, 33.333333333333314, 11.42857142857143, 26.28205128205127, 7.10659898477158, 12.7962085308057, -19.74789915966386, 12.04188481675395, 2.336448598130829, 3.1963470319634553, -0.8849557522123632, 0.0, 10.267857142857139, 10.52631578947367, -5.860805860805868, 4.669260700389117, 8.55018587360594]\n",
      "111 111\n"
     ]
    },
    {
     "data": {
      "image/png": "[encoded data removed]",
      "text/plain": [
       "<Figure size 432x288 with 1 Axes>"
      ]
     },
     "metadata": {},
     "output_type": "display_data"
    }
   ],
   "source": [
    "inflation_rates= [1.26,1.05 , 1.40 ,1.56,1.97,2.11,2.38 ,1.91,2.14,2.19,2.26,2.24 ,2.24 ,2.47,2.73 ,2.57 ,  2.69 , 2.92] \n",
    "\n",
    "percentage_change = []\n",
    "plot_years=[]\n",
    "\n",
    "\n",
    "for i in range(len(inflation_rates)):\n",
    "  if i == 0:\n",
    "    addition = 0\n",
    "  else:\n",
    "    addition = ((inflation_rates[i]/inflation_rates[i-1]) * 100) - 100\n",
    "\n",
    "  \n",
    "  percentage_change += [addition]\n",
    "  \n",
    "  \n",
    "print(percentage_change)\n",
    "\n",
    "\n",
    "\n",
    "\n",
    "fare= [.05,.05,.05,.05,.05,.05,.05,.05,.05,.05,.05,.05,.05,.05,.05,.05,.05,.05,.05,.05,.05,.05,.05,.05,.05,.05,.05,.05,.05,.05,.05,.05,.05,.05,.05,.05,.05,.05,.05,.05,.05,.05,.05,.05,.05,.05, .10, .10, .10, .10,.10, .15, .15, .15, .15, .15, .15, .15, .15, .15, .15, .15, .15, .15, .15, .20, .20, .20,.20, .30,.30, .35, .35, .35, .35, .50, .50, .50, .50,  .60, .75,.75, .75, .90,  1.00,1.00, 1.00,   1.15,  1.25 , 1.25,  1.25, 1.50, 1.50, 1.50, 1.50, 1.50, 1.50, 1.50, 1.50, 2.00, 2.00, 2.00, 2.00, 2.00, 2.00, 2.25, 2.25, 2.25,   2.50,2.50, 2.75 ] \n",
    "year= [1905, 1906, 1907, 1908, 1909, 1910, 1911, 1912, 1913, 1914, 1915, 1916, 1917, 19181, 1919, 1920, 1921, 1922, 1923, 1924, 1925, 1926, 1927, 1928, 1929, 1930, 1931, 1932, 1933, 1934, 1935, 1936, 1937, 1938, 1939, 1940, 1941, 1942, 1943, 1944, 1945, 1946, 1947, 1948, 1949, 1950, 1951, 1952, 1953, 1954, 1955, 1956, 1957, 1958, 1959, 1960, 1961, 1962, 1963, 1964, 1965, 1966, 1967, 1968, 1969, 1970, 1971, 1972, 1973, 1974, 1975, 1976, 1977, 1978, 1979, 1980, 1981, 1982, 1983, 1984, 1985, 1986, 1987, 1988, 1989, 1990, 1991, 1992, 1993, 1994, 1995, 1996, 1997, 1998, 1999, 2000, 2001, 2002, 2003, 2004, 2005, 2006, 2007, 2008, 2009, 2010, 2011, 2012, 2013, 2014, 2015]\n",
    "\n",
    "print(len(fare), len(year))\n",
    "\n",
    "import matplotlib.pyplot as plt \n",
    "plt.xlim(year[0], year[len(year)-1])\n",
    "plt.ylim(0,3)\n",
    "\n",
    "for i in range(len(fare)):   \n",
    "  # x axis values \n",
    "  x = fare[i]\n",
    "  # corresponding y axis values \n",
    "  y = year[i]\n",
    "\n",
    "  # plotting the points  \n",
    "plt.plot(year, fare) \n",
    "\n",
    "\n",
    "# naming the x axis \n",
    "plt.xlabel(\"year\") \n",
    "# naming the y axis \n",
    "plt.ylabel(\"fare\") \n",
    "  \n",
    "# giving a title to my graph \n",
    "plt.title('subway prices over the last century') \n",
    " \n",
    "# function to show the plot \n",
    "plt.show()   \n",
    "   \n",
    "\n"
   ]
  },
  {
   "cell_type": "code",
   "execution_count": null,
   "metadata": {},
   "outputs": [],
   "source": []
  }
 ],
 "metadata": {
  "colab": {
   "collapsed_sections": [],
   "name": "Copy of Lab11.ipynb",
   "provenance": [],
   "version": "0.3.2"
  },
  "kernelspec": {
   "display_name": "Python 3",
   "language": "python",
   "name": "python3"
  },
  "language_info": {
   "codemirror_mode": {
    "name": "ipython",
    "version": 3
   },
   "file_extension": ".py",
   "mimetype": "text/x-python",
   "name": "python",
   "nbconvert_exporter": "python",
   "pygments_lexer": "ipython3",
   "version": "3.6.5"
  }
 },
 "nbformat": 4,
 "nbformat_minor": 1
}
